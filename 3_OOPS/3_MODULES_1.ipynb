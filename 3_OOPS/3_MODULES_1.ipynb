{
 "cells": [
  {
   "cell_type": "code",
   "execution_count": 1,
   "id": "322fdfb0",
   "metadata": {},
   "outputs": [
    {
     "name": "stdout",
     "output_type": "stream",
     "text": [
      "Hello World\n"
     ]
    }
   ],
   "source": [
    "print(\"Hello World\")"
   ]
  },
  {
   "cell_type": "code",
   "execution_count": 2,
   "id": "31ba46d3",
   "metadata": {},
   "outputs": [],
   "source": [
    "def funcn():\n",
    "    print(\"Hello\")"
   ]
  },
  {
   "cell_type": "code",
   "execution_count": 3,
   "id": "a399e12d",
   "metadata": {},
   "outputs": [
    {
     "name": "stdout",
     "output_type": "stream",
     "text": [
      "Hello\n"
     ]
    }
   ],
   "source": [
    "funcn()"
   ]
  },
  {
   "cell_type": "code",
   "execution_count": 4,
   "id": "754ad857",
   "metadata": {},
   "outputs": [],
   "source": [
    "# Modules are normal python file ---> Agela told you earlier"
   ]
  },
  {
   "cell_type": "code",
   "execution_count": 5,
   "id": "b495d5d0",
   "metadata": {},
   "outputs": [],
   "source": [
    "import Calculator"
   ]
  },
  {
   "cell_type": "code",
   "execution_count": 6,
   "id": "1ae05251",
   "metadata": {},
   "outputs": [
    {
     "data": {
      "text/plain": [
       "3"
      ]
     },
     "execution_count": 6,
     "metadata": {},
     "output_type": "execute_result"
    }
   ],
   "source": [
    "Calculator.add(1,2)"
   ]
  },
  {
   "cell_type": "code",
   "execution_count": 7,
   "id": "24f46927",
   "metadata": {},
   "outputs": [],
   "source": [
    "Calculator?"
   ]
  },
  {
   "cell_type": "code",
   "execution_count": 8,
   "id": "ebe2e863",
   "metadata": {},
   "outputs": [],
   "source": [
    "a = Calculator.A()"
   ]
  },
  {
   "cell_type": "code",
   "execution_count": 9,
   "id": "43835ce5",
   "metadata": {},
   "outputs": [
    {
     "data": {
      "text/plain": [
       "'SAKSHAM VERMA'"
      ]
     },
     "execution_count": 9,
     "metadata": {},
     "output_type": "execute_result"
    }
   ],
   "source": [
    "Calculator.CONSTANT"
   ]
  },
  {
   "cell_type": "code",
   "execution_count": null,
   "id": "11475c56",
   "metadata": {},
   "outputs": [],
   "source": []
  }
 ],
 "metadata": {
  "kernelspec": {
   "display_name": "Python 3 (ipykernel)",
   "language": "python",
   "name": "python3"
  },
  "language_info": {
   "codemirror_mode": {
    "name": "ipython",
    "version": 3
   },
   "file_extension": ".py",
   "mimetype": "text/x-python",
   "name": "python",
   "nbconvert_exporter": "python",
   "pygments_lexer": "ipython3",
   "version": "3.9.12"
  }
 },
 "nbformat": 4,
 "nbformat_minor": 5
}
