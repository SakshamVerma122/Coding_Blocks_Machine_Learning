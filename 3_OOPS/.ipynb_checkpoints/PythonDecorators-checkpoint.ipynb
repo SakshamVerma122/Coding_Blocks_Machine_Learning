{
 "cells": [
  {
   "cell_type": "markdown",
   "id": "1796df87",
   "metadata": {},
   "source": [
    "### Decorators\n",
    "* Allows programmers to modify the behaviour of a function or class.\n",
    "* Allow us to wrap another function in order to extend the behaviour of the wrapped function, without permanently modifying it. \n",
    "* In Decorators, functions are taken as the argument into another function and then called inside the wrapper function."
   ]
  },
  {
   "cell_type": "code",
   "execution_count": 1,
   "id": "f64e51de",
   "metadata": {},
   "outputs": [
    {
     "name": "stdout",
     "output_type": "stream",
     "text": [
      "hi\n",
      "Bye\n"
     ]
    }
   ],
   "source": [
    "def outer_function(msg):\n",
    "    message = msg\n",
    "    def inner_function():\n",
    "        print(message)\n",
    "    return inner_function\n",
    "\n",
    "\n",
    "hi_func = outer_function(\"hi\")\n",
    "Bye_func = outer_function(\"Bye\")\n",
    "\n",
    "hi_func()\n",
    "Bye_func()"
   ]
  },
  {
   "cell_type": "code",
   "execution_count": null,
   "id": "9563d3aa",
   "metadata": {},
   "outputs": [],
   "source": [
    "### Closure\n",
    "* Remembers the local variable of a "
   ]
  },
  {
   "cell_type": "code",
   "execution_count": null,
   "id": "2a71bcdf",
   "metadata": {},
   "outputs": [],
   "source": [
    "def decorator_function(message):\n",
    "    def wrapper_functin():\n",
    "        print(message)\n",
    "    return wrapper_function"
   ]
  }
 ],
 "metadata": {
  "kernelspec": {
   "display_name": "PracticeENV",
   "language": "python",
   "name": "practiceenv"
  },
  "language_info": {
   "codemirror_mode": {
    "name": "ipython",
    "version": 3
   },
   "file_extension": ".py",
   "mimetype": "text/x-python",
   "name": "python",
   "nbconvert_exporter": "python",
   "pygments_lexer": "ipython3",
   "version": "3.6.13"
  }
 },
 "nbformat": 4,
 "nbformat_minor": 5
}
