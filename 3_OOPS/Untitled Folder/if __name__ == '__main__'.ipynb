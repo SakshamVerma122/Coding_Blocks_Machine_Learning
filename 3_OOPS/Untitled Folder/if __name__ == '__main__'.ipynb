{
 "cells": [
  {
   "cell_type": "code",
   "execution_count": null,
   "id": "50d2f8ad",
   "metadata": {},
   "outputs": [],
   "source": [
    "# If python runs a python file directly it sets the __name__ variable equla to __main__"
   ]
  },
  {
   "cell_type": "code",
   "execution_count": 2,
   "id": "64030695",
   "metadata": {},
   "outputs": [
    {
     "name": "stdout",
     "output_type": "stream",
     "text": [
      "This is first module's name __main__\n"
     ]
    }
   ],
   "source": [
    "print(\"This is first module's name {}\".format(__name__))"
   ]
  },
  {
   "cell_type": "code",
   "execution_count": null,
   "id": "b906baa8",
   "metadata": {},
   "outputs": [],
   "source": [
    "# When ever we import a module it sets the __name__ module equal "
   ]
  }
 ],
 "metadata": {
  "kernelspec": {
   "display_name": "PracticeENV",
   "language": "python",
   "name": "practiceenv"
  },
  "language_info": {
   "codemirror_mode": {
    "name": "ipython",
    "version": 3
   },
   "file_extension": ".py",
   "mimetype": "text/x-python",
   "name": "python",
   "nbconvert_exporter": "python",
   "pygments_lexer": "ipython3",
   "version": "3.6.13"
  }
 },
 "nbformat": 4,
 "nbformat_minor": 5
}
