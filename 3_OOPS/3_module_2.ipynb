{
 "cells": [
  {
   "cell_type": "markdown",
   "id": "ca7fac34",
   "metadata": {},
   "source": [
    "### Filtered import"
   ]
  },
  {
   "cell_type": "code",
   "execution_count": 13,
   "id": "0b474c92",
   "metadata": {},
   "outputs": [],
   "source": [
    "from Calculator import add"
   ]
  },
  {
   "cell_type": "code",
   "execution_count": 14,
   "id": "858264ee",
   "metadata": {},
   "outputs": [
    {
     "name": "stdout",
     "output_type": "stream",
     "text": [
      "<function add at 0x000001AEC93E7790>\n"
     ]
    }
   ],
   "source": [
    "print(add)"
   ]
  },
  {
   "cell_type": "code",
   "execution_count": 15,
   "id": "f4326640",
   "metadata": {},
   "outputs": [
    {
     "data": {
      "text/plain": [
       "3"
      ]
     },
     "execution_count": 15,
     "metadata": {},
     "output_type": "execute_result"
    }
   ],
   "source": [
    "add(1,2)"
   ]
  },
  {
   "cell_type": "code",
   "execution_count": 16,
   "id": "6d7e1b79",
   "metadata": {},
   "outputs": [
    {
     "ename": "NameError",
     "evalue": "name 'Calculator' is not defined",
     "output_type": "error",
     "traceback": [
      "\u001b[1;31m---------------------------------------------------------------------------\u001b[0m",
      "\u001b[1;31mNameError\u001b[0m                                 Traceback (most recent call last)",
      "\u001b[1;32m<ipython-input-16-d02a6b2014ad>\u001b[0m in \u001b[0;36m<module>\u001b[1;34m\u001b[0m\n\u001b[1;32m----> 1\u001b[1;33m \u001b[0mprint\u001b[0m\u001b[1;33m(\u001b[0m\u001b[0mCalculator\u001b[0m\u001b[1;33m)\u001b[0m\u001b[1;33m\u001b[0m\u001b[1;33m\u001b[0m\u001b[0m\n\u001b[0m\u001b[0;32m      2\u001b[0m \u001b[1;31m# as Calcultor module is destructured and only add function is imported\u001b[0m\u001b[1;33m\u001b[0m\u001b[1;33m\u001b[0m\u001b[1;33m\u001b[0m\u001b[0m\n",
      "\u001b[1;31mNameError\u001b[0m: name 'Calculator' is not defined"
     ]
    }
   ],
   "source": [
    "print(Calculator)\n",
    "# as Calcultor module is destructured and only add function is imported"
   ]
  },
  {
   "cell_type": "code",
   "execution_count": null,
   "id": "643f5d06",
   "metadata": {},
   "outputs": [],
   "source": [
    "from Calculator import *"
   ]
  },
  {
   "cell_type": "markdown",
   "id": "3c900323",
   "metadata": {},
   "source": [
    "### globals() in python\n",
    "* globals() method returns the dictionary of the current global symbol table.\n",
    "\n",
    "### Symbol table\n",
    "* A symbol table is a **data structure maintained by a compiler** \n",
    "* **Contains** all **necessary information** about the program.\n",
    "* These \n",
    "    * include variable names\n",
    "    * methods\n",
    "    * classes, etc.\n",
    "\n",
    "**There are mainly two kinds of symbol table.** \n",
    "\n",
    "* Local symbol table : Local symbol table stores all information related to the local scope of the program and is accessed in Python using locals() method.The local scope could be within a function, within a class, etc\n",
    "* Global symbol table : Global symbol table stores all information related to the global scope of the program, and is accessed in Python using globals() method.The global scope contains all functions, variables that are not associated with any class or function."
   ]
  },
  {
   "cell_type": "code",
   "execution_count": 17,
   "id": "dd89a2ac",
   "metadata": {},
   "outputs": [
    {
     "name": "stdout",
     "output_type": "stream",
     "text": [
      "{'__name__': '__main__', '__doc__': 'Automatically created module for IPython interactive environment', '__package__': None, '__loader__': None, '__spec__': None, '__builtin__': <module 'builtins' (built-in)>, '__builtins__': <module 'builtins' (built-in)>, '_ih': ['', 'from Calculator import *', 'print(globals())', 'import maths\\n# Whenever we try to directly import the package all \\n# the definitions inside __init__.py runs', 'print(maths)', 'print(maths.a)', 'print(maths.a)\\n# Whenever we try to directly import the package all \\n# the definitions inside __init__.py runs', '# if the simple module also have a square funcn in these case to \\n# avoid clash python has a module system', 'from maths import simple', 'simple.add(1,2)', 'from maths import *\\nprint(simple.add(1,2))\\n# name \\'simple\\' is not defined --> ERROR\\n# We will continue on getting the same error till we declare __all__ = [\"simple\"]\\n\\nprint(complex.square(2))\\n# name \\'complex\\' is not defined --> ERROR\\n# We will continue on getting the same error till we declare __all__ = [\"complex\"]\\n\\n# To get rid of both the above we need to declare __all__ = [\"complex\",\"simple\"]', '# in the above the __init__ doesn\\'t contain __all__ =[\"simple\",\"complex\"]', '__name__', 'from Calculator import add', 'print(add)', 'add(1,2)', 'print(Calculator)\\n# as Calcultor module is destructured and only add function is imported', 'print(globals())'], '_oh': {9: 3, 12: '__main__', 15: 3}, '_dh': ['C:\\\\Users\\\\saksh\\\\OneDrive\\\\Desktop\\\\Coding_blocks_machine_learning\\\\3_OOPS'], 'In': ['', 'from Calculator import *', 'print(globals())', 'import maths\\n# Whenever we try to directly import the package all \\n# the definitions inside __init__.py runs', 'print(maths)', 'print(maths.a)', 'print(maths.a)\\n# Whenever we try to directly import the package all \\n# the definitions inside __init__.py runs', '# if the simple module also have a square funcn in these case to \\n# avoid clash python has a module system', 'from maths import simple', 'simple.add(1,2)', 'from maths import *\\nprint(simple.add(1,2))\\n# name \\'simple\\' is not defined --> ERROR\\n# We will continue on getting the same error till we declare __all__ = [\"simple\"]\\n\\nprint(complex.square(2))\\n# name \\'complex\\' is not defined --> ERROR\\n# We will continue on getting the same error till we declare __all__ = [\"complex\"]\\n\\n# To get rid of both the above we need to declare __all__ = [\"complex\",\"simple\"]', '# in the above the __init__ doesn\\'t contain __all__ =[\"simple\",\"complex\"]', '__name__', 'from Calculator import add', 'print(add)', 'add(1,2)', 'print(Calculator)\\n# as Calcultor module is destructured and only add function is imported', 'print(globals())'], 'Out': {9: 3, 12: '__main__', 15: 3}, 'get_ipython': <bound method InteractiveShell.get_ipython of <ipykernel.zmqshell.ZMQInteractiveShell object at 0x000001AEC9390FA0>>, 'exit': <IPython.core.autocall.ZMQExitAutocall object at 0x000001AEC944E7F0>, 'quit': <IPython.core.autocall.ZMQExitAutocall object at 0x000001AEC944E7F0>, '_': 3, '__': '__main__', '___': 3, '_i': 'print(Calculator)\\n# as Calcultor module is destructured and only add function is imported', '_ii': 'add(1,2)', '_iii': 'print(add)', '_i1': 'from Calculator import *', 'A': <class 'Calculator.A'>, 'CONSTANT': 'SAKSHAM VERMA', 'add': <function add at 0x000001AEC93E7790>, 'sub': <function sub at 0x000001AEC93E7550>, 'mult': <function mult at 0x000001AEC94A9280>, 'div': <function div at 0x000001AEC94A90D0>, '_i2': 'print(globals())', '_i3': 'import maths\\n# Whenever we try to directly import the package all \\n# the definitions inside __init__.py runs', 'maths': <module 'maths' from 'C:\\\\Users\\\\saksh\\\\OneDrive\\\\Desktop\\\\Coding_blocks_machine_learning\\\\3_OOPS\\\\maths\\\\__init__.py'>, '_i4': 'print(maths)', '_i5': 'print(maths.a)', '_i6': 'print(maths.a)\\n# Whenever we try to directly import the package all \\n# the definitions inside __init__.py runs', '_i7': '# if the simple module also have a square funcn in these case to \\n# avoid clash python has a module system', '_i8': 'from maths import simple', 'simple': <module 'maths.simple' from 'C:\\\\Users\\\\saksh\\\\OneDrive\\\\Desktop\\\\Coding_blocks_machine_learning\\\\3_OOPS\\\\maths\\\\simple.py'>, '_i9': 'simple.add(1,2)', '_9': 3, '_i10': 'from maths import *\\nprint(simple.add(1,2))\\n# name \\'simple\\' is not defined --> ERROR\\n# We will continue on getting the same error till we declare __all__ = [\"simple\"]\\n\\nprint(complex.square(2))\\n# name \\'complex\\' is not defined --> ERROR\\n# We will continue on getting the same error till we declare __all__ = [\"complex\"]\\n\\n# To get rid of both the above we need to declare __all__ = [\"complex\",\"simple\"]', 'complex': <module 'maths.complex' from 'C:\\\\Users\\\\saksh\\\\OneDrive\\\\Desktop\\\\Coding_blocks_machine_learning\\\\3_OOPS\\\\maths\\\\complex.py'>, '_i11': '# in the above the __init__ doesn\\'t contain __all__ =[\"simple\",\"complex\"]', '_i12': '__name__', '_12': '__main__', '_i13': 'from Calculator import add', '_i14': 'print(add)', '_i15': 'add(1,2)', '_15': 3, '_i16': 'print(Calculator)\\n# as Calcultor module is destructured and only add function is imported', '_i17': 'print(globals())'}\n"
     ]
    }
   ],
   "source": [
    "print(globals())"
   ]
  },
  {
   "cell_type": "code",
   "execution_count": 18,
   "id": "0762ead8",
   "metadata": {},
   "outputs": [],
   "source": [
    "import maths\n",
    "# Whenever we try to directly import the package all \n",
    "# the definitions inside __init__.py runs"
   ]
  },
  {
   "cell_type": "code",
   "execution_count": 19,
   "id": "d9641243",
   "metadata": {},
   "outputs": [
    {
     "name": "stdout",
     "output_type": "stream",
     "text": [
      "<module 'maths' from 'C:\\\\Users\\\\saksh\\\\OneDrive\\\\Desktop\\\\Coding_blocks_machine_learning\\\\3_OOPS\\\\maths\\\\__init__.py'>\n"
     ]
    }
   ],
   "source": [
    "print(maths)"
   ]
  },
  {
   "cell_type": "code",
   "execution_count": 20,
   "id": "7df0104d",
   "metadata": {},
   "outputs": [
    {
     "name": "stdout",
     "output_type": "stream",
     "text": [
      "11\n"
     ]
    }
   ],
   "source": [
    "print(maths.a)\n",
    "# Whenever we try to directly import the package all \n",
    "# the definitions inside __init__.py runs"
   ]
  },
  {
   "cell_type": "code",
   "execution_count": 21,
   "id": "604928b8",
   "metadata": {},
   "outputs": [],
   "source": [
    "# if the simple module also have a square funcn in these case to \n",
    "# avoid clash python has a module system"
   ]
  },
  {
   "cell_type": "code",
   "execution_count": 22,
   "id": "ad3c790e",
   "metadata": {},
   "outputs": [],
   "source": [
    "from maths import simple"
   ]
  },
  {
   "cell_type": "code",
   "execution_count": 23,
   "id": "45171aeb",
   "metadata": {},
   "outputs": [
    {
     "data": {
      "text/plain": [
       "3"
      ]
     },
     "execution_count": 23,
     "metadata": {},
     "output_type": "execute_result"
    }
   ],
   "source": [
    "simple.add(1,2)"
   ]
  },
  {
   "cell_type": "code",
   "execution_count": 24,
   "id": "2afed8c8",
   "metadata": {},
   "outputs": [
    {
     "name": "stdout",
     "output_type": "stream",
     "text": [
      "3\n",
      "4\n"
     ]
    }
   ],
   "source": [
    "from maths import *\n",
    "print(simple.add(1,2))\n",
    "# name 'simple' is not defined --> ERROR\n",
    "# We will continue on getting the same error till we declare __all__ = [\"simple\"]\n",
    "\n",
    "print(complex.square(2))\n",
    "# name 'complex' is not defined --> ERROR\n",
    "# We will continue on getting the same error till we declare __all__ = [\"complex\"]\n",
    "\n",
    "# To get rid of both the above we need to declare __all__ = [\"complex\",\"simple\"]"
   ]
  },
  {
   "cell_type": "code",
   "execution_count": 25,
   "id": "7a9ccade",
   "metadata": {},
   "outputs": [],
   "source": [
    "# in the above the __init__ doesn't contain __all__ =[\"simple\",\"complex\"]"
   ]
  },
  {
   "cell_type": "markdown",
   "id": "a9747179",
   "metadata": {},
   "source": [
    "* if we want to run a pyhthon file just like any simple python file even though it is a module inside the package you can run it only thing that changes is import name of the particular module\n",
    "* if we running it directly import name is **__main__**\n",
    "* else **__name__** is **math.simple(package_name.module_name)**"
   ]
  },
  {
   "cell_type": "code",
   "execution_count": 26,
   "id": "08337e54",
   "metadata": {},
   "outputs": [
    {
     "data": {
      "text/plain": [
       "'__main__'"
      ]
     },
     "execution_count": 26,
     "metadata": {},
     "output_type": "execute_result"
    }
   ],
   "source": [
    "__name__"
   ]
  },
  {
   "cell_type": "code",
   "execution_count": null,
   "id": "256cb1ee",
   "metadata": {},
   "outputs": [],
   "source": []
  }
 ],
 "metadata": {
  "kernelspec": {
   "display_name": "Python 3 (ipykernel)",
   "language": "python",
   "name": "python3"
  },
  "language_info": {
   "codemirror_mode": {
    "name": "ipython",
    "version": 3
   },
   "file_extension": ".py",
   "mimetype": "text/x-python",
   "name": "python",
   "nbconvert_exporter": "python",
   "pygments_lexer": "ipython3",
   "version": "3.9.12"
  }
 },
 "nbformat": 4,
 "nbformat_minor": 5
}
