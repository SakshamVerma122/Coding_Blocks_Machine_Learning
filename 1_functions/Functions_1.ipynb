{
 "cells": [
  {
   "cell_type": "markdown",
   "id": "f63425d5",
   "metadata": {},
   "source": [
    "# Functions\n",
    "* Functions are **reusable** pieces of programs. \n",
    "* They allow you to **give a name to a block of statements**, allowing you to **run** that **block** using the **specified name anywhere** in your program and **any number of times.** This is known as **calling the function**. \n",
    "* We have already used many **built-in functions** such as len and range.\n",
    "![](https://data-flair.training/blogs/wp-content/uploads/sites/2/2018/01/Python-Functions-1-1200x675.jpg)"
   ]
  },
  {
   "cell_type": "code",
   "execution_count": 3,
   "id": "eee46576",
   "metadata": {
    "collapsed": true
   },
   "outputs": [
    {
     "name": "stdout",
     "output_type": "stream",
     "text": [
      "knock knock Saksham\n",
      "knock knock Saksham\n",
      "knock knock Saksham\n",
      "30\n",
      "0\n",
      "1\n",
      "2\n",
      "3\n",
      "4\n",
      "5\n",
      "6\n",
      "7\n",
      "8\n",
      "9\n",
      "10\n",
      "11\n",
      "12\n",
      "13\n",
      "14\n",
      "15\n",
      "16\n",
      "17\n",
      "18\n",
      "19\n",
      "20\n",
      "21\n",
      "22\n",
      "23\n",
      "24\n",
      "25\n",
      "26\n",
      "27\n",
      "28\n",
      "29\n",
      "knock knock Saksham\n",
      "knock knock Saksham\n",
      "knock knock Saksham\n"
     ]
    }
   ],
   "source": [
    "# print sheldon knock\n",
    "print(\"knock knock Saksham\")\n",
    "print(\"knock knock Saksham\")\n",
    "print(\"knock knock Saksham\")\n",
    "\n",
    "print(10+20)\n",
    "\n",
    "for i in range(10+20):\n",
    "    print(i)\n",
    "\n",
    "# print sheldon knock\n",
    "print(\"knock knock Saksham\")\n",
    "print(\"knock knock Saksham\")\n",
    "print(\"knock knock Saksham\")"
   ]
  },
  {
   "cell_type": "code",
   "execution_count": 5,
   "id": "b8ca5901",
   "metadata": {},
   "outputs": [],
   "source": [
    "def sheldon_knock():\n",
    "    print(\"knock knock Saksham\")\n",
    "    print(\"knock knock Saksham\")    \n",
    "    print(\"knock knock Saksham\")    "
   ]
  },
  {
   "cell_type": "code",
   "execution_count": 6,
   "id": "00bec14e",
   "metadata": {},
   "outputs": [
    {
     "name": "stdout",
     "output_type": "stream",
     "text": [
      "knock knock Saksham\n",
      "knock knock Saksham\n",
      "knock knock Saksham\n",
      "30\n",
      "0\n",
      "1\n",
      "2\n",
      "3\n",
      "4\n",
      "5\n",
      "6\n",
      "7\n",
      "8\n",
      "9\n",
      "knock knock Saksham\n",
      "knock knock Saksham\n",
      "knock knock Saksham\n"
     ]
    }
   ],
   "source": [
    "sheldon_knock()\n",
    "print(10 + 20)\n",
    "for i in range(10):\n",
    "    print(i)\n",
    "sheldon_knock()"
   ]
  },
  {
   "cell_type": "markdown",
   "id": "7d20c2bf",
   "metadata": {},
   "source": [
    "### Functions can take parameter"
   ]
  },
  {
   "cell_type": "code",
   "execution_count": 7,
   "id": "f21f34a0",
   "metadata": {},
   "outputs": [],
   "source": [
    "# When we waana give a default value to the function we use default parameter\n",
    "def sheldon_knock(name,number_of_time=10):\n",
    "    for i in range(number_of_time):\n",
    "        print(f\"knock knock {name}\")\n",
    "        print(f\"knock knock {name}\")\n",
    "        print(f\"knock knock {name}\")"
   ]
  },
  {
   "cell_type": "code",
   "execution_count": 9,
   "id": "6304c260",
   "metadata": {},
   "outputs": [
    {
     "name": "stdout",
     "output_type": "stream",
     "text": [
      "knock knock penny\n",
      "knock knock penny\n",
      "knock knock penny\n"
     ]
    }
   ],
   "source": [
    "sheldon_knock(\"penny\")"
   ]
  },
  {
   "cell_type": "markdown",
   "id": "4e1dce64",
   "metadata": {},
   "source": [
    "### Return statement"
   ]
  },
  {
   "cell_type": "code",
   "execution_count": 10,
   "id": "d0b304ce",
   "metadata": {},
   "outputs": [],
   "source": [
    "def add(a,b):\n",
    "    return a+b"
   ]
  },
  {
   "cell_type": "code",
   "execution_count": 11,
   "id": "c7394a68",
   "metadata": {},
   "outputs": [],
   "source": [
    "x = add(10,12)"
   ]
  },
  {
   "cell_type": "code",
   "execution_count": 12,
   "id": "3c950e52",
   "metadata": {},
   "outputs": [
    {
     "name": "stdout",
     "output_type": "stream",
     "text": [
      "22\n"
     ]
    }
   ],
   "source": [
    "print(x)"
   ]
  },
  {
   "cell_type": "code",
   "execution_count": 20,
   "id": "e0eebcef",
   "metadata": {},
   "outputs": [],
   "source": [
    "def divide(a,b):\n",
    "    try:\n",
    "        return a/b\n",
    "    except:\n",
    "        print(\"Error\")\n",
    "    finally:\n",
    "        print(\"Wrapping up\")\n",
    "        return(90)\n",
    "        # Finally can be used to give a default value if an error is encounterd\n",
    "        # It will be executed in both the scenarios --> try or except"
   ]
  },
  {
   "cell_type": "code",
   "execution_count": 21,
   "id": "fe1226a3",
   "metadata": {},
   "outputs": [
    {
     "name": "stdout",
     "output_type": "stream",
     "text": [
      "Error\n",
      "Wrapping up\n"
     ]
    },
    {
     "data": {
      "text/plain": [
       "90"
      ]
     },
     "execution_count": 21,
     "metadata": {},
     "output_type": "execute_result"
    }
   ],
   "source": [
    "divide(5,0)"
   ]
  },
  {
   "cell_type": "code",
   "execution_count": 22,
   "id": "98e9592d",
   "metadata": {},
   "outputs": [
    {
     "name": "stdout",
     "output_type": "stream",
     "text": [
      "Wrapping up\n"
     ]
    },
    {
     "data": {
      "text/plain": [
       "90"
      ]
     },
     "execution_count": 22,
     "metadata": {},
     "output_type": "execute_result"
    }
   ],
   "source": [
    "divide(10,2)"
   ]
  },
  {
   "cell_type": "code",
   "execution_count": null,
   "id": "e61e36e8",
   "metadata": {},
   "outputs": [],
   "source": []
  },
  {
   "cell_type": "code",
   "execution_count": null,
   "id": "ebe2a2fb",
   "metadata": {},
   "outputs": [],
   "source": []
  },
  {
   "cell_type": "markdown",
   "id": "8e10c231",
   "metadata": {},
   "source": [
    "### Local and global variables"
   ]
  },
  {
   "cell_type": "code",
   "execution_count": 28,
   "id": "ffa048c6",
   "metadata": {},
   "outputs": [],
   "source": [
    "x = 10     # Global variable\n",
    "def show():\n",
    "    #x += 5 #Local variable --> limited to the scope of the function   \n",
    "    \n",
    "    global x\n",
    "    x += 5 # this will also change global x value\n",
    "    print(x)"
   ]
  },
  {
   "cell_type": "code",
   "execution_count": 29,
   "id": "0c13a8e6",
   "metadata": {},
   "outputs": [
    {
     "name": "stdout",
     "output_type": "stream",
     "text": [
      "15\n"
     ]
    }
   ],
   "source": [
    "show()"
   ]
  },
  {
   "cell_type": "code",
   "execution_count": 26,
   "id": "98f0c9aa",
   "metadata": {},
   "outputs": [],
   "source": [
    "# Just to show the difference between the 2\n",
    "\n",
    "x = 10     # Global variable\n",
    "def show():\n",
    "    x+=5 #Local variable --> limited to the scope of the function   \n",
    "    print(x)"
   ]
  },
  {
   "cell_type": "code",
   "execution_count": 27,
   "id": "daa869ca",
   "metadata": {},
   "outputs": [
    {
     "ename": "UnboundLocalError",
     "evalue": "local variable 'x' referenced before assignment",
     "output_type": "error",
     "traceback": [
      "\u001b[1;31m---------------------------------------------------------------------------\u001b[0m",
      "\u001b[1;31mUnboundLocalError\u001b[0m                         Traceback (most recent call last)",
      "\u001b[1;32m<ipython-input-27-9eb7fa60ac78>\u001b[0m in \u001b[0;36m<module>\u001b[1;34m\u001b[0m\n\u001b[1;32m----> 1\u001b[1;33m \u001b[0mshow\u001b[0m\u001b[1;33m(\u001b[0m\u001b[1;33m)\u001b[0m\u001b[1;33m\u001b[0m\u001b[1;33m\u001b[0m\u001b[0m\n\u001b[0m",
      "\u001b[1;32m<ipython-input-26-1326911d73b5>\u001b[0m in \u001b[0;36mshow\u001b[1;34m()\u001b[0m\n\u001b[0;32m      1\u001b[0m \u001b[0mx\u001b[0m \u001b[1;33m=\u001b[0m \u001b[1;36m10\u001b[0m     \u001b[1;31m# Global variable\u001b[0m\u001b[1;33m\u001b[0m\u001b[1;33m\u001b[0m\u001b[0m\n\u001b[0;32m      2\u001b[0m \u001b[1;32mdef\u001b[0m \u001b[0mshow\u001b[0m\u001b[1;33m(\u001b[0m\u001b[1;33m)\u001b[0m\u001b[1;33m:\u001b[0m\u001b[1;33m\u001b[0m\u001b[1;33m\u001b[0m\u001b[0m\n\u001b[1;32m----> 3\u001b[1;33m     \u001b[0mx\u001b[0m\u001b[1;33m+=\u001b[0m\u001b[1;36m5\u001b[0m \u001b[1;31m#Local variable --> limited to the scope of the function\u001b[0m\u001b[1;33m\u001b[0m\u001b[1;33m\u001b[0m\u001b[0m\n\u001b[0m\u001b[0;32m      4\u001b[0m     \u001b[0mprint\u001b[0m\u001b[1;33m(\u001b[0m\u001b[0mx\u001b[0m\u001b[1;33m)\u001b[0m\u001b[1;33m\u001b[0m\u001b[1;33m\u001b[0m\u001b[0m\n",
      "\u001b[1;31mUnboundLocalError\u001b[0m: local variable 'x' referenced before assignment"
     ]
    }
   ],
   "source": [
    "show()"
   ]
  },
  {
   "cell_type": "markdown",
   "id": "a9e12917",
   "metadata": {},
   "source": [
    "### Function inside a  function\n"
   ]
  },
  {
   "cell_type": "code",
   "execution_count": 56,
   "id": "537b2849",
   "metadata": {},
   "outputs": [],
   "source": [
    "del x"
   ]
  },
  {
   "cell_type": "code",
   "execution_count": 54,
   "id": "9d3d2282",
   "metadata": {},
   "outputs": [],
   "source": [
    "def outer():\n",
    "    x = 10\n",
    "    \n",
    "    def inner():\n",
    "        global x\n",
    "        # This will give an error as though \n",
    "        # x is out of scope of this function but still it's not global\n",
    "        x += 5\n",
    "        print(x)\n",
    "    inner()\n",
    "    print(x)"
   ]
  },
  {
   "cell_type": "code",
   "execution_count": 55,
   "id": "41b87161",
   "metadata": {},
   "outputs": [
    {
     "name": "stdout",
     "output_type": "stream",
     "text": [
      "20\n",
      "10\n"
     ]
    }
   ],
   "source": [
    "outer()"
   ]
  },
  {
   "cell_type": "code",
   "execution_count": 57,
   "id": "ae65d431",
   "metadata": {},
   "outputs": [],
   "source": [
    "def outer():\n",
    "    x = 10\n",
    "    \n",
    "    def inner():\n",
    "        nonlocal x\n",
    "        \n",
    "        # This will give an error as though \n",
    "        # x is out of scope of this function but still it's not global\n",
    "        # but x is also not local\n",
    "        \n",
    "        x += 5\n",
    "        print(x)\n",
    "    inner()\n",
    "    print(x)"
   ]
  },
  {
   "cell_type": "code",
   "execution_count": 58,
   "id": "85a3e167",
   "metadata": {},
   "outputs": [
    {
     "name": "stdout",
     "output_type": "stream",
     "text": [
      "15\n",
      "15\n"
     ]
    }
   ],
   "source": [
    "outer()"
   ]
  },
  {
   "cell_type": "markdown",
   "id": "768b5de4",
   "metadata": {},
   "source": [
    "### 5 Types of Arguments in Python Function Definition:\n",
    "* Default arguments\n",
    "* Keyword arguments\n",
    "* Positional arguments\n",
    "* Arbitrary positional arguments\n",
    "* Arbitrary keyword arguments"
   ]
  },
  {
   "cell_type": "markdown",
   "id": "acc71721",
   "metadata": {},
   "source": [
    "![](https://miro.medium.com/max/1392/1*DhAUznkbAFfBUvMqF8rFuw.png)\n",
    "* **Formal parameters** are mentioned in `function definition` .**Actual parameters(arguments)** are passed during `function call`.\n"
   ]
  },
  {
   "cell_type": "markdown",
   "id": "a5f9ecf0",
   "metadata": {},
   "source": [
    "### Default Arguments values"
   ]
  },
  {
   "cell_type": "markdown",
   "id": "d3d11cda",
   "metadata": {},
   "source": [
    "* **Default arguments** are values that are provided **while defining functions.**\n",
    "* The **assignment operator** = is used to assign a default value to the argument.\n",
    "* Default arguments become **optional during** the **function calls**.\n",
    "* **Value** to the **default arguments** **during function calls**, it **overrides** the default value.\n",
    "* The function can have **any number of default arguments**\n",
    "* **Default arguments should follow non-default arguments**\n",
    "\n",
    "**Note:** Default values are evaluated only once at the point of the function definition in the defining scope. So, it makes a difference when we pass mutable objects like list,dictionary as default values."
   ]
  },
  {
   "cell_type": "code",
   "execution_count": null,
   "id": "e28fffdd",
   "metadata": {},
   "outputs": [],
   "source": [
    "def abc(a,b,c,d = 10,e = 20) \n",
    "# we first give (positional arguement/required arguement) then we give \n",
    "# value to arguement with default value(default)\n",
    "\n",
    "# def abc(a,b,c,d = 10,e = 20,f) --> this is wrong"
   ]
  },
  {
   "cell_type": "code",
   "execution_count": 61,
   "id": "164b8398",
   "metadata": {},
   "outputs": [],
   "source": [
    "def show(a,b,c):# a,b,c---> are formal parameter\n",
    "    print(a)\n",
    "    print(b)\n",
    "    print(c)"
   ]
  },
  {
   "cell_type": "code",
   "execution_count": 76,
   "id": "412b0039",
   "metadata": {},
   "outputs": [
    {
     "name": "stdout",
     "output_type": "stream",
     "text": [
      "Hello\n",
      "world\n",
      "python\n"
     ]
    }
   ],
   "source": [
    "show(\"Hello\",\"world\",\"python\")"
   ]
  },
  {
   "cell_type": "markdown",
   "id": "ae777578",
   "metadata": {},
   "source": [
    "### Keyword Arguments:\n",
    "* Keyword Arguments is an argument passed to a function or method which is preceded by a keyword and an equal to sign.\n",
    "* The order of keyword argument with respect to another keyword argument does not matter because the values are being explicitly assigned."
   ]
  },
  {
   "cell_type": "code",
   "execution_count": 66,
   "id": "68494fca",
   "metadata": {},
   "outputs": [
    {
     "name": "stdout",
     "output_type": "stream",
     "text": [
      "RamBabu\n"
     ]
    }
   ],
   "source": [
    "def person_name(first_name,second_name):\n",
    "  print(first_name+second_name)\n",
    "  \n",
    "# Here we are explicitly assigning the values \n",
    "person_name(second_name=\"Babu\",first_name=\"Ram\")"
   ]
  },
  {
   "cell_type": "markdown",
   "id": "86700002",
   "metadata": {},
   "source": [
    "### Positional Arguments:\n",
    "* Positional Arguments are needed to be included in proper order i.e the first argument is always listed first when the function is called, second argument needs to be called second and so on."
   ]
  },
  {
   "cell_type": "code",
   "execution_count": 68,
   "id": "4f5b7a29",
   "metadata": {},
   "outputs": [
    {
     "name": "stdout",
     "output_type": "stream",
     "text": [
      "Ram Babu\n"
     ]
    }
   ],
   "source": [
    "def person_name(first_name,second_name):\n",
    "  print(first_name+\" \"+second_name)\n",
    "    \n",
    "# First name is Ram placed first\n",
    "# Second name is Babu place second\n",
    "person_name(\"Ram\",\"Babu\")"
   ]
  },
  {
   "cell_type": "markdown",
   "id": "b3c844e8",
   "metadata": {},
   "source": [
    "### Default vs positional vs keyword arguments:\n",
    "![](https://miro.medium.com/max/1336/1*fobgfbPcgmE29Oviud5vWw.png)"
   ]
  },
  {
   "cell_type": "markdown",
   "id": "037ff806",
   "metadata": {},
   "source": [
    "### Variable-length arguments\n",
    "* **Variable-length arguments** are also known as **arbitary arguments**. \n",
    "* If we don’t know the number of arguments needed for the function in advance, we can use arbitary arguments\n",
    "\n",
    "#### Two types of arbitrary arguments\n",
    "* Arbitary positional arguments\n",
    "* Arbitrary keyword arguments\n",
    "\n",
    "#### Arbitrary positional arguments:\n",
    "* For arbitrary positional argument, an asterisk (*) is placed before a parameter in function definition which can hold non-keyword variable-length arguments. These arguments will be wrapped up in a tuple. Before the variable number of arguments, zero or more normal arguments may occur.\n"
   ]
  },
  {
   "cell_type": "code",
   "execution_count": 69,
   "id": "5ceb335d",
   "metadata": {},
   "outputs": [
    {
     "name": "stdout",
     "output_type": "stream",
     "text": [
      "15\n"
     ]
    }
   ],
   "source": [
    "def add(a,b,c,*b):\n",
    "    # This function now accepts atleast 3 args if a,b,c are removed \n",
    "    # then the min number of arguements = 0\n",
    "    result=0\n",
    "    # b is an tuple\n",
    "    for i in b:\n",
    "         result=result+i\n",
    "    return result\n",
    "\n",
    "print (add(1,2,3,4,5))"
   ]
  },
  {
   "cell_type": "code",
   "execution_count": 78,
   "id": "bf70c1f2",
   "metadata": {},
   "outputs": [
    {
     "name": "stdout",
     "output_type": "stream",
     "text": [
      "1\n",
      "2\n",
      "3\n",
      "(4, 5, 6)\n",
      "10\n",
      "20\n"
     ]
    }
   ],
   "source": [
    "def print_val(a,b,c,*args,d=100,e=20):\n",
    "    print(a)\n",
    "    print(b)\n",
    "    print(c)\n",
    "    print(args)\n",
    "    print(d)\n",
    "    print(e)\n",
    "print_val(1,2,3,4,5,6,d=10)"
   ]
  },
  {
   "cell_type": "markdown",
   "id": "60b2cef1",
   "metadata": {},
   "source": [
    "### Arbitrary keyword arguments:\n",
    "For arbitrary positional argument, a double asterisk (**) is placed before a parameter in function which can hold keyword variable-length arguments.\n",
    "Example:"
   ]
  },
  {
   "cell_type": "code",
   "execution_count": 75,
   "id": "0409c229",
   "metadata": {},
   "outputs": [
    {
     "name": "stdout",
     "output_type": "stream",
     "text": [
      "('numbers', 5)\n",
      "('colors', 'blue')\n",
      "('fruits', 'apple')\n",
      "<class 'dict'>\n"
     ]
    }
   ],
   "source": [
    "def fn(**a):\n",
    "    for i in a.items():\n",
    "        print (i)\n",
    "    print(type(a))\n",
    "    # a is a dictionary\n",
    "fn(numbers=5,colors=\"blue\",fruits=\"apple\")"
   ]
  },
  {
   "cell_type": "markdown",
   "id": "337ecd06",
   "metadata": {},
   "source": [
    "### Convention one should follow to pass arguements"
   ]
  },
  {
   "cell_type": "code",
   "execution_count": 82,
   "id": "31c0b73a",
   "metadata": {},
   "outputs": [
    {
     "name": "stdout",
     "output_type": "stream",
     "text": [
      "1\n",
      "2\n",
      "3\n",
      "(4, 5, 6, 7)\n",
      "10\n",
      "11\n",
      "{'sheeps': 2, 'bufflow': 3, 'cows': 4}\n"
     ]
    }
   ],
   "source": [
    "\n",
    "def function_final(a,b,c,*args,default_arg=10,key_word_arg,**kwargs):\n",
    "    print(a)\n",
    "    print(b)\n",
    "    print(c)\n",
    "    print(args)\n",
    "    print(default_arg)\n",
    "    print(key_word_arg)\n",
    "    print(kwargs)\n",
    "\n",
    "function_final(1,2,3,4,5,6,7,key_word_arg = 11,sheeps=2,bufflow=3,cows=4)"
   ]
  },
  {
   "cell_type": "markdown",
   "id": "b7661720",
   "metadata": {},
   "source": [
    "### Lambda Functions\n",
    "* Syntactical Sugar\n",
    "* 1 liner functions"
   ]
  },
  {
   "cell_type": "code",
   "execution_count": 2,
   "id": "d2c0339f",
   "metadata": {},
   "outputs": [],
   "source": [
    "def add():\n",
    "    return 10+10"
   ]
  },
  {
   "cell_type": "code",
   "execution_count": 3,
   "id": "cf1ba482",
   "metadata": {},
   "outputs": [
    {
     "name": "stdout",
     "output_type": "stream",
     "text": [
      "<function add at 0x000001E677EE9280>\n"
     ]
    }
   ],
   "source": [
    "# in python everything is a object\n",
    "print(add)"
   ]
  },
  {
   "cell_type": "code",
   "execution_count": 4,
   "id": "b2ff502b",
   "metadata": {},
   "outputs": [],
   "source": [
    "#add1 = lambda(a,b):return a+b\n",
    "#no need of paranthesis and return()\n",
    "add1 = lambda a,b:a+b"
   ]
  },
  {
   "cell_type": "code",
   "execution_count": 5,
   "id": "51fd585a",
   "metadata": {},
   "outputs": [
    {
     "data": {
      "text/plain": [
       "25"
      ]
     },
     "execution_count": 5,
     "metadata": {},
     "output_type": "execute_result"
    }
   ],
   "source": [
    "add1(10,15)"
   ]
  },
  {
   "cell_type": "code",
   "execution_count": 6,
   "id": "33377a16",
   "metadata": {},
   "outputs": [
    {
     "data": {
      "text/plain": [
       "[2, 3, 3, 4, 6, 10, 56]"
      ]
     },
     "execution_count": 6,
     "metadata": {},
     "output_type": "execute_result"
    }
   ],
   "source": [
    "a = [2,3,6,3,4,56,10]\n",
    "\n",
    "sorted(a)\n",
    "# this thing sorts and return value\n",
    "# Need of doing b = sorted(b) is necessary as it doesn't perform operation automatically"
   ]
  },
  {
   "cell_type": "code",
   "execution_count": 8,
   "id": "46399673",
   "metadata": {},
   "outputs": [
    {
     "name": "stdout",
     "output_type": "stream",
     "text": [
      "[2, 3, 3, 3, 4, 5, 45]\n"
     ]
    }
   ],
   "source": [
    "b = [2,3,45,5,4,3,3]\n",
    "\n",
    "b.sort()\n",
    "# this thing sorts and change value\n",
    "# no need of doing b = b.sort as it performs this operation automatically\n",
    "print(b)"
   ]
  },
  {
   "cell_type": "code",
   "execution_count": null,
   "id": "1d6a480a",
   "metadata": {},
   "outputs": [],
   "source": [
    "a = [(\"jatin\",5),(\"prateek\",10),(\"ram\",1),(\"arnav\",20)]"
   ]
  },
  {
   "cell_type": "code",
   "execution_count": 24,
   "id": "c1e1f0f2",
   "metadata": {},
   "outputs": [
    {
     "data": {
      "text/plain": [
       "[('dave', 'B', 10), ('jane', 'B', 12), ('john', 'A', 15)]"
      ]
     },
     "execution_count": 24,
     "metadata": {},
     "output_type": "execute_result"
    }
   ],
   "source": [
    "def student(val):\n",
    "    return(val[2])\n",
    "\n",
    "student_tuples = [\n",
    "    ('john', 'A', 15),\n",
    "    ('jane', 'B', 12),\n",
    "    ('dave', 'B', 10),\n",
    "]\n",
    "sorted(student_tuples, key=lambda student: student[2])\n",
    "# sorted(student_tuples, key = student(val)) --> this will not work"
   ]
  },
  {
   "cell_type": "code",
   "execution_count": 28,
   "id": "b8af503c",
   "metadata": {},
   "outputs": [
    {
     "data": {
      "text/plain": [
       "<method 'lower' of 'str' objects>"
      ]
     },
     "execution_count": 28,
     "metadata": {},
     "output_type": "execute_result"
    }
   ],
   "source": [
    "str.lower"
   ]
  },
  {
   "cell_type": "code",
   "execution_count": 25,
   "id": "28da555b",
   "metadata": {},
   "outputs": [
    {
     "data": {
      "text/plain": [
       "['a', 'Andrew', 'from', 'is', 'string', 'test', 'This']"
      ]
     },
     "execution_count": 25,
     "metadata": {},
     "output_type": "execute_result"
    }
   ],
   "source": [
    "sorted(\"This is a test string from Andrew\".split(), key = str.lower)"
   ]
  },
  {
   "cell_type": "code",
   "execution_count": 20,
   "id": "cd46f180",
   "metadata": {},
   "outputs": [
    {
     "name": "stdout",
     "output_type": "stream",
     "text": [
      "<class '__main__.Student'>\n"
     ]
    },
    {
     "data": {
      "text/plain": [
       "[('dave', 'B', 10), ('jane', 'B', 12), ('john', 'A', 15)]"
      ]
     },
     "execution_count": 20,
     "metadata": {},
     "output_type": "execute_result"
    }
   ],
   "source": [
    "class Student:\n",
    "    def __init__(self, name, grade, age):\n",
    "        self.name = name\n",
    "        self.grade = grade\n",
    "        self.age = age\n",
    "    def __repr__(self):\n",
    "        return repr((self.name, self.grade, self.age))\n",
    "student_objects = [\n",
    "    Student('john', 'A', 15),\n",
    "    Student('jane', 'B', 12),\n",
    "    Student('dave', 'B', 10),\n",
    "]\n",
    "\n",
    "print(type(student_objects[0]))\n",
    "sorted(student_objects, key=lambda student: student.age) "
   ]
  },
  {
   "cell_type": "code",
   "execution_count": null,
   "id": "ef299e2f",
   "metadata": {},
   "outputs": [],
   "source": []
  },
  {
   "cell_type": "code",
   "execution_count": null,
   "id": "7589d44b",
   "metadata": {},
   "outputs": [],
   "source": []
  },
  {
   "cell_type": "code",
   "execution_count": null,
   "id": "e08410c4",
   "metadata": {},
   "outputs": [],
   "source": []
  },
  {
   "cell_type": "markdown",
   "id": "ba645427",
   "metadata": {},
   "source": [
    "## Decorators in python"
   ]
  },
  {
   "cell_type": "code",
   "execution_count": 31,
   "id": "5fd86db6",
   "metadata": {},
   "outputs": [],
   "source": [
    "##############Authentication###############\n",
    "users = {\n",
    "    \"jatin\":\"password\",\n",
    "    \"Saksham\":\"Papa2972\",\n",
    "    \"Sanjay\":\"Hi\",\n",
    "        }"
   ]
  },
  {
   "cell_type": "code",
   "execution_count": 36,
   "id": "b9166f44",
   "metadata": {},
   "outputs": [],
   "source": [
    "def show(user_name,password):\n",
    "    if user_name in users and users[user_name] == password:\n",
    "        print(\"Hello World\")\n",
    "    else:\n",
    "        print(\"Not Authenticated\")"
   ]
  },
  {
   "cell_type": "code",
   "execution_count": 37,
   "id": "e667b05c",
   "metadata": {},
   "outputs": [
    {
     "name": "stdout",
     "output_type": "stream",
     "text": [
      "Hello World\n"
     ]
    }
   ],
   "source": [
    "show(\"Saksham\",\"Papa2972\")\n",
    "##############Authentication###############"
   ]
  },
  {
   "cell_type": "code",
   "execution_count": null,
   "id": "7dcd30f5",
   "metadata": {},
   "outputs": [],
   "source": []
  },
  {
   "cell_type": "code",
   "execution_count": null,
   "id": "6b2173fc",
   "metadata": {},
   "outputs": [],
   "source": [
    "##############Authentication###############\n",
    "def add(a,b,user_name,password):\n",
    "    if user_name in users and users[user_name] == password:\n",
    "        print(a+b)\n",
    "    else:\n",
    "        print(\"Not Authenticated\")\n",
    "##############Authentication###############"
   ]
  },
  {
   "cell_type": "code",
   "execution_count": null,
   "id": "3390a730",
   "metadata": {},
   "outputs": [],
   "source": []
  },
  {
   "cell_type": "markdown",
   "id": "28bf529d",
   "metadata": {},
   "source": [
    "### Use of *args and **kwargs"
   ]
  },
  {
   "cell_type": "code",
   "execution_count": 38,
   "id": "0e90a646",
   "metadata": {},
   "outputs": [],
   "source": [
    "def temp(*args,**kwargs):\n",
    "    print(args)\n",
    "    print(kwargs)\n",
    "a=(1,2,3,4,5)\n",
    "print(temp(*a))\n",
    "print(temp(a))"
   ]
  },
  {
   "cell_type": "code",
   "execution_count": null,
   "id": "8ec48a79",
   "metadata": {},
   "outputs": [],
   "source": []
  },
  {
   "cell_type": "markdown",
   "id": "5faad64e",
   "metadata": {},
   "source": [
    "### Creating a function that takes function as input and give                                function as an output"
   ]
  },
  {
   "cell_type": "code",
   "execution_count": 47,
   "id": "5210bec9",
   "metadata": {},
   "outputs": [],
   "source": [
    "def login_required(funcn):\n",
    "    def wrapper(user_name,password,*args,**kwargs):\n",
    "        if user_name in users and users[user_name] == password:\n",
    "            # User is authenticated\n",
    "            funcn(*args,**kwargs)\n",
    "        else:\n",
    "            print(\"Not Authenticated\")\n",
    "    \n",
    "    return wrapper"
   ]
  },
  {
   "cell_type": "code",
   "execution_count": null,
   "id": "5b3e567d",
   "metadata": {},
   "outputs": [],
   "source": []
  },
  {
   "cell_type": "code",
   "execution_count": 70,
   "id": "264e89af",
   "metadata": {},
   "outputs": [
    {
     "name": "stdout",
     "output_type": "stream",
     "text": [
      "3\n",
      "<function login_required.<locals>.wrapper at 0x000001E679AD84C0>\n"
     ]
    }
   ],
   "source": [
    "def add(a,b):\n",
    "    print(a+b)\n",
    "protected_add = login_required(add)\n",
    "print(protected_add)"
   ]
  },
  {
   "cell_type": "code",
   "execution_count": null,
   "id": "ded84202",
   "metadata": {},
   "outputs": [],
   "source": []
  },
  {
   "cell_type": "code",
   "execution_count": 56,
   "id": "7754d88e",
   "metadata": {},
   "outputs": [
    {
     "name": "stdout",
     "output_type": "stream",
     "text": [
      "3\n"
     ]
    }
   ],
   "source": [
    "protected_add(\"Saksham\",\"Papa2972\",1,2)"
   ]
  },
  {
   "cell_type": "code",
   "execution_count": null,
   "id": "60334a7f",
   "metadata": {},
   "outputs": [],
   "source": []
  },
  {
   "cell_type": "markdown",
   "id": "19eafcbe",
   "metadata": {},
   "source": [
    "### Using decorators"
   ]
  },
  {
   "cell_type": "code",
   "execution_count": null,
   "id": "b218e70d",
   "metadata": {},
   "outputs": [],
   "source": [
    "def add(a,b):\n",
    "    print(a+b)\n",
    "add = login_required(add)"
   ]
  },
  {
   "cell_type": "code",
   "execution_count": 52,
   "id": "28c61a50",
   "metadata": {},
   "outputs": [],
   "source": [
    "@login_required\n",
    "def add(a,b):\n",
    "    print(a+b)\n",
    "# thing does the same thing as above -->\n",
    "# First declare the add() and then pass it to \n",
    "# login_required and change the add function\n",
    "# now add becomes wrapper()"
   ]
  },
  {
   "cell_type": "code",
   "execution_count": null,
   "id": "04a6911e",
   "metadata": {},
   "outputs": [],
   "source": [
    "add(\"Saksham\",\"Papa2972\",a,b)"
   ]
  },
  {
   "cell_type": "code",
   "execution_count": null,
   "id": "20ebcb89",
   "metadata": {},
   "outputs": [],
   "source": []
  },
  {
   "cell_type": "code",
   "execution_count": 71,
   "id": "88c17f47",
   "metadata": {},
   "outputs": [],
   "source": [
    "# Decorator directy assigns the return value of @--- \n",
    "# to the funcn above whom decorator is used"
   ]
  },
  {
   "cell_type": "code",
   "execution_count": 72,
   "id": "14e38fb4",
   "metadata": {},
   "outputs": [],
   "source": [
    "def adding_using_decorator(funcn):\n",
    "    return 10+12\n",
    "\n",
    "def add(a,b):\n",
    "    return a+b\n",
    "\n",
    "add = adding_using_decorator(add)"
   ]
  },
  {
   "cell_type": "code",
   "execution_count": 73,
   "id": "c5881b8e",
   "metadata": {},
   "outputs": [
    {
     "name": "stdout",
     "output_type": "stream",
     "text": [
      "22\n"
     ]
    }
   ],
   "source": [
    "@adding_using_decorator\n",
    "def add(a,b):\n",
    "    return a+b\n",
    "\n",
    "print(add)"
   ]
  },
  {
   "cell_type": "code",
   "execution_count": null,
   "id": "fa638366",
   "metadata": {},
   "outputs": [],
   "source": []
  },
  {
   "cell_type": "markdown",
   "id": "3ccff1de",
   "metadata": {},
   "source": [
    "### You can also assign a value to function name"
   ]
  },
  {
   "cell_type": "code",
   "execution_count": 67,
   "id": "a51ecb8a",
   "metadata": {},
   "outputs": [
    {
     "name": "stdout",
     "output_type": "stream",
     "text": [
      "Hello\n"
     ]
    }
   ],
   "source": [
    "def hi():\n",
    "    print(\"hi\")\n",
    "hi = \"Hello\"\n",
    "print(hi)"
   ]
  },
  {
   "cell_type": "code",
   "execution_count": null,
   "id": "e715d78d",
   "metadata": {},
   "outputs": [],
   "source": []
  },
  {
   "cell_type": "code",
   "execution_count": null,
   "id": "3c25fd99",
   "metadata": {},
   "outputs": [],
   "source": []
  }
 ],
 "metadata": {
  "kernelspec": {
   "display_name": "Python 3",
   "language": "python",
   "name": "python3"
  },
  "language_info": {
   "codemirror_mode": {
    "name": "ipython",
    "version": 3
   },
   "file_extension": ".py",
   "mimetype": "text/x-python",
   "name": "python",
   "nbconvert_exporter": "python",
   "pygments_lexer": "ipython3",
   "version": "3.8.8"
  }
 },
 "nbformat": 4,
 "nbformat_minor": 5
}
