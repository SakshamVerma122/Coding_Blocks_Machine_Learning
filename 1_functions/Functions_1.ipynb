{
 "cells": [
  {
   "cell_type": "markdown",
   "id": "f63425d5",
   "metadata": {},
   "source": [
    "# Functions\n",
    "* Functions are **reusable** pieces of programs. \n",
    "* They allow you to **give a name to a block of statements**, allowing you to **run** that **block** using the **specified name anywhere** in your program and **any number of times.** This is known as **calling the function**. \n",
    "* We have already used many **built-in functions** such as len and range.\n",
    "![](https://data-flair.training/blogs/wp-content/uploads/sites/2/2018/01/Python-Functions-1-1200x675.jpg)"
   ]
  },
  {
   "cell_type": "code",
   "execution_count": 1,
   "id": "eee46576",
   "metadata": {},
   "outputs": [
    {
     "name": "stdout",
     "output_type": "stream",
     "text": [
      "knock knock Saksham\n",
      "knock knock Saksham\n",
      "knock knock Saksham\n",
      "30\n",
      "0\n",
      "1\n",
      "2\n",
      "3\n",
      "4\n",
      "5\n",
      "6\n",
      "7\n",
      "8\n",
      "9\n",
      "10\n",
      "11\n",
      "12\n",
      "13\n",
      "14\n",
      "15\n",
      "16\n",
      "17\n",
      "18\n",
      "19\n",
      "20\n",
      "21\n",
      "22\n",
      "23\n",
      "24\n",
      "25\n",
      "26\n",
      "27\n",
      "28\n",
      "29\n",
      "knock knock Saksham\n",
      "knock knock Saksham\n",
      "knock knock Saksham\n"
     ]
    }
   ],
   "source": [
    "# print sheldon knock\n",
    "print(\"knock knock Saksham\")\n",
    "print(\"knock knock Saksham\")\n",
    "print(\"knock knock Saksham\")\n",
    "\n",
    "print(10+20)\n",
    "\n",
    "for i in range(10+20):\n",
    "    print(i)\n",
    "\n",
    "# print sheldon knock\n",
    "print(\"knock knock Saksham\")\n",
    "print(\"knock knock Saksham\")\n",
    "print(\"knock knock Saksham\")"
   ]
  },
  {
   "cell_type": "code",
   "execution_count": 2,
   "id": "b8ca5901",
   "metadata": {},
   "outputs": [],
   "source": [
    "def sheldon_knock():\n",
    "    print(\"knock knock Saksham\")\n",
    "    print(\"knock knock Saksham\")    \n",
    "    print(\"knock knock Saksham\")    "
   ]
  },
  {
   "cell_type": "code",
   "execution_count": 3,
   "id": "00bec14e",
   "metadata": {},
   "outputs": [
    {
     "name": "stdout",
     "output_type": "stream",
     "text": [
      "knock knock Saksham\n",
      "knock knock Saksham\n",
      "knock knock Saksham\n",
      "30\n",
      "0\n",
      "1\n",
      "2\n",
      "3\n",
      "4\n",
      "5\n",
      "6\n",
      "7\n",
      "8\n",
      "9\n",
      "knock knock Saksham\n",
      "knock knock Saksham\n",
      "knock knock Saksham\n"
     ]
    }
   ],
   "source": [
    "sheldon_knock()\n",
    "print(10 + 20)\n",
    "for i in range(10):\n",
    "    print(i)\n",
    "sheldon_knock()"
   ]
  },
  {
   "attachments": {
    "image-2.png": {
     "image/png": "[encoded data removed]"
    },
    "image-3.png": {
     "image/png": "[encoded data removed]"
    },
    "image.png": {
     "image/png": "[encoded data removed]"
    }
   },
   "cell_type": "markdown",
   "id": "7d20c2bf",
   "metadata": {},
   "source": [
    "### Functions can take parameter\n",
    "#### Parameters:\n",
    "A parameter is the variable defined within the parentheses during function definition.\n",
    "![image.png](attachment:image.png)\n",
    "#### Arguments:\n",
    "An argument is a value that is passed to a function when it is called. It might be a variable, value or object passed to a function or method as input. \n",
    "![image-2.png](attachment:image-2.png)\n",
    "\n",
    "### Functions can contain two types of arguments:\n",
    "* Positional Arguments\n",
    "* Keyword Arguments\n",
    "\n",
    "#### Positional Arguments:\n",
    "Positional Arguments are needed to be included in proper order i.e the first argument is always listed first when the function is called second argument needs to be called second and so on.\n",
    "![image-3.png](attachment:image-3.png)\n",
    "\n",
    "#### Keyword Arguments:\n",
    "Keyword Arguments is an argument passed to a function or method which is preceded by a keyword and an equal to sign. The order of keyword argument with respect to another keyword argument does not matter because the values are being explicitly assigned."
   ]
  },
  {
   "cell_type": "code",
   "execution_count": 4,
   "id": "f21f34a0",
   "metadata": {},
   "outputs": [],
   "source": [
    "# When we waana give a default value to the function we use default parameter\n",
    "def sheldon_knock(name,number_of_time=10):\n",
    "    for i in range(number_of_time):\n",
    "        print(f\"knock knock {name}\")\n",
    "        print(f\"knock knock {name}\")\n",
    "        print(f\"knock knock {name}\")"
   ]
  },
  {
   "cell_type": "code",
   "execution_count": 5,
   "id": "6304c260",
   "metadata": {},
   "outputs": [
    {
     "name": "stdout",
     "output_type": "stream",
     "text": [
      "knock knock penny\n",
      "knock knock penny\n",
      "knock knock penny\n",
      "knock knock penny\n",
      "knock knock penny\n",
      "knock knock penny\n",
      "knock knock penny\n",
      "knock knock penny\n",
      "knock knock penny\n",
      "knock knock penny\n",
      "knock knock penny\n",
      "knock knock penny\n",
      "knock knock penny\n",
      "knock knock penny\n",
      "knock knock penny\n",
      "knock knock penny\n",
      "knock knock penny\n",
      "knock knock penny\n",
      "knock knock penny\n",
      "knock knock penny\n",
      "knock knock penny\n",
      "knock knock penny\n",
      "knock knock penny\n",
      "knock knock penny\n",
      "knock knock penny\n",
      "knock knock penny\n",
      "knock knock penny\n",
      "knock knock penny\n",
      "knock knock penny\n",
      "knock knock penny\n"
     ]
    }
   ],
   "source": [
    "sheldon_knock(\"penny\")"
   ]
  },
  {
   "cell_type": "code",
   "execution_count": 6,
   "id": "6f90f508",
   "metadata": {},
   "outputs": [
    {
     "name": "stdout",
     "output_type": "stream",
     "text": [
      "knock knock penny\n",
      "knock knock penny\n",
      "knock knock penny\n",
      "knock knock penny\n",
      "knock knock penny\n",
      "knock knock penny\n",
      "knock knock penny\n",
      "knock knock penny\n",
      "knock knock penny\n",
      "knock knock penny\n",
      "knock knock penny\n",
      "knock knock penny\n",
      "knock knock penny\n",
      "knock knock penny\n",
      "knock knock penny\n"
     ]
    }
   ],
   "source": [
    "# Default parameter is weeker than the arguement being passed\n",
    "sheldon_knock(\"penny\",5)"
   ]
  },
  {
   "cell_type": "markdown",
   "id": "4e1dce64",
   "metadata": {},
   "source": [
    "### Return statement"
   ]
  },
  {
   "cell_type": "code",
   "execution_count": 7,
   "id": "d0b304ce",
   "metadata": {},
   "outputs": [],
   "source": [
    "def add(a,b):\n",
    "    return a+b"
   ]
  },
  {
   "cell_type": "code",
   "execution_count": 8,
   "id": "c7394a68",
   "metadata": {},
   "outputs": [],
   "source": [
    "x = add(10,12)"
   ]
  },
  {
   "cell_type": "code",
   "execution_count": 9,
   "id": "3c950e52",
   "metadata": {},
   "outputs": [
    {
     "name": "stdout",
     "output_type": "stream",
     "text": [
      "22\n"
     ]
    }
   ],
   "source": [
    "print(x)"
   ]
  },
  {
   "cell_type": "markdown",
   "id": "94dea444",
   "metadata": {},
   "source": [
    "### Exception handling\n",
    "[USE OF FINALLY](https://www.geeksforgeeks.org/finally-keyword-in-python/)\n",
    "\n",
    "Inside a function finally will always be executed no matter the return statement has been encountered(earlier/after the finally) or not\n",
    "but if the return statement is even before the try then no matter whether finally is present or "
   ]
  },
  {
   "cell_type": "code",
   "execution_count": 5,
   "id": "e0eebcef",
   "metadata": {},
   "outputs": [],
   "source": [
    "def divide(a,b):\n",
    "    \n",
    "    try:\n",
    "        return a/b\n",
    "    except:\n",
    "        print(\"Error\")\n",
    "    finally:\n",
    "        print(\"Wrapping up\")\n",
    "        return(90)\n",
    "        return(9)\n",
    "        # Finally can be used to give a default value if an error is encounterd\n",
    "        # It will be executed in both the scenarios --> try or except"
   ]
  },
  {
   "cell_type": "code",
   "execution_count": 6,
   "id": "fe1226a3",
   "metadata": {},
   "outputs": [
    {
     "name": "stdout",
     "output_type": "stream",
     "text": [
      "Error\n",
      "Wrapping up\n"
     ]
    },
    {
     "data": {
      "text/plain": [
       "90"
      ]
     },
     "execution_count": 6,
     "metadata": {},
     "output_type": "execute_result"
    }
   ],
   "source": [
    "divide(5,0)"
   ]
  },
  {
   "cell_type": "code",
   "execution_count": 11,
   "id": "98e9592d",
   "metadata": {},
   "outputs": [
    {
     "name": "stdout",
     "output_type": "stream",
     "text": [
      "Wrapping up\n"
     ]
    },
    {
     "data": {
      "text/plain": [
       "90"
      ]
     },
     "execution_count": 11,
     "metadata": {},
     "output_type": "execute_result"
    }
   ],
   "source": [
    "# Important finally's return is more powerful than try's \n",
    "divide(10,2)"
   ]
  },
  {
   "cell_type": "code",
   "execution_count": 12,
   "id": "26d71f1f",
   "metadata": {},
   "outputs": [
    {
     "ename": "ZeroDivisionError",
     "evalue": "division by zero",
     "output_type": "error",
     "traceback": [
      "\u001b[1;31m---------------------------------------------------------------------------\u001b[0m",
      "\u001b[1;31mZeroDivisionError\u001b[0m                         Traceback (most recent call last)",
      "\u001b[1;32m<ipython-input-12-b4b107bb14a6>\u001b[0m in \u001b[0;36m<module>\u001b[1;34m\u001b[0m\n\u001b[0;32m      3\u001b[0m \u001b[1;33m\u001b[0m\u001b[0m\n\u001b[0;32m      4\u001b[0m \u001b[1;31m# perform division with 0\u001b[0m\u001b[1;33m\u001b[0m\u001b[1;33m\u001b[0m\u001b[1;33m\u001b[0m\u001b[0m\n\u001b[1;32m----> 5\u001b[1;33m \u001b[0ma\u001b[0m \u001b[1;33m=\u001b[0m \u001b[0mmarks\u001b[0m \u001b[1;33m/\u001b[0m \u001b[1;36m0\u001b[0m\u001b[1;33m\u001b[0m\u001b[1;33m\u001b[0m\u001b[0m\n\u001b[0m\u001b[0;32m      6\u001b[0m \u001b[0mprint\u001b[0m\u001b[1;33m(\u001b[0m\u001b[0ma\u001b[0m\u001b[1;33m)\u001b[0m\u001b[1;33m\u001b[0m\u001b[1;33m\u001b[0m\u001b[0m\n\u001b[0;32m      7\u001b[0m \u001b[1;33m\u001b[0m\u001b[0m\n",
      "\u001b[1;31mZeroDivisionError\u001b[0m: division by zero"
     ]
    }
   ],
   "source": [
    "\n",
    "# initialize the amount variable\n",
    "marks = 10000\n",
    " \n",
    "# perform division with 0\n",
    "a = marks / 0\n",
    "print(a)\n",
    "\n",
    "print(\"Hello\")"
   ]
  },
  {
   "attachments": {
    "image-2.png": {
     "image/png": "[encoded data removed]"
    },
    "image-3.png": {
     "image/png": "[encoded data removed]"
    },
    "image-4.png": {
     "image/png": "[encoded data removed]"
    },
    "image-5.png": {
     "image/png": "[encoded data removed]"
    },
    "image-6.png": {
     "image/png": "[encoded data removed]"
    },
    "image.png": {
     "image/png": "[encoded data removed]"
    }
   },
   "cell_type": "markdown",
   "id": "8e10c231",
   "metadata": {},
   "source": [
    "### Local and global variables\n",
    "![image.png](attachment:image.png)\n",
    "**In the image below**\n",
    "![image-2.png](attachment:image-2.png)\n",
    "![image-3.png](attachment:image-3.png)\n",
    "![image-4.png](attachment:image-4.png)\n",
    "![image-5.png](attachment:image-5.png)\n",
    "![image-6.png](attachment:image-6.png)"
   ]
  },
  {
   "cell_type": "code",
   "execution_count": 14,
   "id": "f007804a",
   "metadata": {},
   "outputs": [
    {
     "name": "stdout",
     "output_type": "stream",
     "text": [
      "10\n"
     ]
    }
   ],
   "source": [
    "x = 10\n",
    "    \n",
    "def inner():\n",
    "    # If you want to run a expression(only assignment to itself) it fails else it runs\n",
    "    # fine(every statement and expression leaving assignment)\n",
    "    print(x)\n",
    "inner()"
   ]
  },
  {
   "cell_type": "code",
   "execution_count": 14,
   "id": "ffa048c6",
   "metadata": {},
   "outputs": [
    {
     "name": "stdout",
     "output_type": "stream",
     "text": [
      "15\n"
     ]
    }
   ],
   "source": [
    "x = 10     # Global variable\n",
    "\n",
    "def show():\n",
    "#   x += 5 #Local variable --> limited to the scope of the function   \n",
    "    \n",
    "    \n",
    "    global x\n",
    "    x += 5 # this will also change global x value\n",
    "    print(x)\n",
    "show()"
   ]
  },
  {
   "cell_type": "code",
   "execution_count": 16,
   "id": "203554af",
   "metadata": {},
   "outputs": [
    {
     "name": "stdout",
     "output_type": "stream",
     "text": [
      "16\n"
     ]
    }
   ],
   "source": [
    "del x\n",
    "def show():\n",
    "#   x += 5 #Local variable --> limited to the scope of the function   \n",
    "    \n",
    "    # No need of declaring/initialise variable out you an also declare global variable inside a function\n",
    "    global x\n",
    "    x=11\n",
    "    \n",
    "    x += 5 # this will also change global x value\n",
    "\n",
    "show()\n",
    "print(x)"
   ]
  },
  {
   "cell_type": "code",
   "execution_count": 16,
   "id": "0c13a8e6",
   "metadata": {},
   "outputs": [],
   "source": [
    "show()"
   ]
  },
  {
   "cell_type": "code",
   "execution_count": 17,
   "id": "98f0c9aa",
   "metadata": {},
   "outputs": [],
   "source": [
    "# Just to show the difference between the 2\n",
    "\n",
    "x = 10     # Global variable\n",
    "\n",
    "def show():\n",
    "    x = 1\n",
    "    x += 5 #Local variable --> limited to the scope of the function   \n",
    "    print(x)"
   ]
  },
  {
   "cell_type": "code",
   "execution_count": 18,
   "id": "daa869ca",
   "metadata": {},
   "outputs": [
    {
     "name": "stdout",
     "output_type": "stream",
     "text": [
      "6\n"
     ]
    }
   ],
   "source": [
    "show()"
   ]
  },
  {
   "cell_type": "markdown",
   "id": "a9e12917",
   "metadata": {},
   "source": [
    "### Function inside a  function"
   ]
  },
  {
   "cell_type": "code",
   "execution_count": 15,
   "id": "caae7a12",
   "metadata": {},
   "outputs": [
    {
     "name": "stdout",
     "output_type": "stream",
     "text": [
      "10\n"
     ]
    }
   ],
   "source": [
    "def outer():\n",
    "    x = 10\n",
    "    \n",
    "    def inner():\n",
    "        # If you want to run a expression(only assignment to itself) it fails else it runs\n",
    "        # fine(every statement and expression leaving assignment)\n",
    "        \n",
    "        if(x>0):\n",
    "            print(x)\n",
    "            x+10\n",
    "\n",
    "    \n",
    "    inner()\n",
    "\n",
    "outer()"
   ]
  },
  {
   "cell_type": "code",
   "execution_count": 19,
   "id": "537b2849",
   "metadata": {},
   "outputs": [],
   "source": [
    "del x"
   ]
  },
  {
   "cell_type": "code",
   "execution_count": 24,
   "id": "9d3d2282",
   "metadata": {},
   "outputs": [],
   "source": [
    "def outer():\n",
    "    x = 10\n",
    "    \n",
    "    def inner():\n",
    "        global x\n",
    "        # This will give an error as though \n",
    "        # x is out of scope of this function but still it's not global it's scope is enclosed\n",
    "        x += 5\n",
    "        print(x)\n",
    "    # Calling inside function inside the outside function     \n",
    "    inner()\n",
    "    print(x)"
   ]
  },
  {
   "cell_type": "code",
   "execution_count": 25,
   "id": "41b87161",
   "metadata": {},
   "outputs": [
    {
     "ename": "NameError",
     "evalue": "name 'x' is not defined",
     "output_type": "error",
     "traceback": [
      "\u001b[1;31m---------------------------------------------------------------------------\u001b[0m",
      "\u001b[1;31mNameError\u001b[0m                                 Traceback (most recent call last)",
      "\u001b[1;32m<ipython-input-25-0811df1b6f71>\u001b[0m in \u001b[0;36m<module>\u001b[1;34m\u001b[0m\n\u001b[1;32m----> 1\u001b[1;33m \u001b[0mouter\u001b[0m\u001b[1;33m(\u001b[0m\u001b[1;33m)\u001b[0m\u001b[1;33m\u001b[0m\u001b[1;33m\u001b[0m\u001b[0m\n\u001b[0m",
      "\u001b[1;32m<ipython-input-24-242458760294>\u001b[0m in \u001b[0;36mouter\u001b[1;34m()\u001b[0m\n\u001b[0;32m      9\u001b[0m         \u001b[0mprint\u001b[0m\u001b[1;33m(\u001b[0m\u001b[0mx\u001b[0m\u001b[1;33m)\u001b[0m\u001b[1;33m\u001b[0m\u001b[1;33m\u001b[0m\u001b[0m\n\u001b[0;32m     10\u001b[0m     \u001b[1;31m# Calling inside function inside the outside function\u001b[0m\u001b[1;33m\u001b[0m\u001b[1;33m\u001b[0m\u001b[1;33m\u001b[0m\u001b[0m\n\u001b[1;32m---> 11\u001b[1;33m     \u001b[0minner\u001b[0m\u001b[1;33m(\u001b[0m\u001b[1;33m)\u001b[0m\u001b[1;33m\u001b[0m\u001b[1;33m\u001b[0m\u001b[0m\n\u001b[0m\u001b[0;32m     12\u001b[0m     \u001b[0mprint\u001b[0m\u001b[1;33m(\u001b[0m\u001b[0mx\u001b[0m\u001b[1;33m)\u001b[0m\u001b[1;33m\u001b[0m\u001b[1;33m\u001b[0m\u001b[0m\n",
      "\u001b[1;32m<ipython-input-24-242458760294>\u001b[0m in \u001b[0;36minner\u001b[1;34m()\u001b[0m\n\u001b[0;32m      6\u001b[0m         \u001b[1;31m# This will give an error as though\u001b[0m\u001b[1;33m\u001b[0m\u001b[1;33m\u001b[0m\u001b[1;33m\u001b[0m\u001b[0m\n\u001b[0;32m      7\u001b[0m         \u001b[1;31m# x is out of scope of this function but still it's not global it's scope is enclosed\u001b[0m\u001b[1;33m\u001b[0m\u001b[1;33m\u001b[0m\u001b[1;33m\u001b[0m\u001b[0m\n\u001b[1;32m----> 8\u001b[1;33m         \u001b[0mx\u001b[0m \u001b[1;33m+=\u001b[0m \u001b[1;36m5\u001b[0m\u001b[1;33m\u001b[0m\u001b[1;33m\u001b[0m\u001b[0m\n\u001b[0m\u001b[0;32m      9\u001b[0m         \u001b[0mprint\u001b[0m\u001b[1;33m(\u001b[0m\u001b[0mx\u001b[0m\u001b[1;33m)\u001b[0m\u001b[1;33m\u001b[0m\u001b[1;33m\u001b[0m\u001b[0m\n\u001b[0;32m     10\u001b[0m     \u001b[1;31m# Calling inside function inside the outside function\u001b[0m\u001b[1;33m\u001b[0m\u001b[1;33m\u001b[0m\u001b[1;33m\u001b[0m\u001b[0m\n",
      "\u001b[1;31mNameError\u001b[0m: name 'x' is not defined"
     ]
    }
   ],
   "source": [
    "outer()"
   ]
  },
  {
   "cell_type": "code",
   "execution_count": 27,
   "id": "ae65d431",
   "metadata": {},
   "outputs": [],
   "source": [
    "def outer():\n",
    "    x = 10\n",
    "    \n",
    "    def inner():\n",
    "        nonlocal x\n",
    "    \n",
    "        x += 5\n",
    "        print(x)\n",
    "    inner()\n",
    "    print(x)"
   ]
  },
  {
   "cell_type": "code",
   "execution_count": 28,
   "id": "85a3e167",
   "metadata": {},
   "outputs": [
    {
     "name": "stdout",
     "output_type": "stream",
     "text": [
      "15\n",
      "15\n"
     ]
    }
   ],
   "source": [
    "outer()"
   ]
  },
  {
   "cell_type": "markdown",
   "id": "694b0cb5",
   "metadata": {},
   "source": [
    "### Builtin vars and functions"
   ]
  },
  {
   "cell_type": "markdown",
   "id": "9ec6b96a",
   "metadata": {},
   "source": [
    "* Important python finds out functions/vars in global scope before finding that out in local scope"
   ]
  },
  {
   "cell_type": "code",
   "execution_count": 25,
   "id": "a3484d46",
   "metadata": {
    "collapsed": true
   },
   "outputs": [
    {
     "name": "stdout",
     "output_type": "stream",
     "text": [
      "['ArithmeticError', 'AssertionError', 'AttributeError', 'BaseException', 'BlockingIOError', 'BrokenPipeError', 'BufferError', 'BytesWarning', 'ChildProcessError', 'ConnectionAbortedError', 'ConnectionError', 'ConnectionRefusedError', 'ConnectionResetError', 'DeprecationWarning', 'EOFError', 'Ellipsis', 'EnvironmentError', 'Exception', 'False', 'FileExistsError', 'FileNotFoundError', 'FloatingPointError', 'FutureWarning', 'GeneratorExit', 'IOError', 'ImportError', 'ImportWarning', 'IndentationError', 'IndexError', 'InterruptedError', 'IsADirectoryError', 'KeyError', 'KeyboardInterrupt', 'LookupError', 'MemoryError', 'ModuleNotFoundError', 'NameError', 'None', 'NotADirectoryError', 'NotImplemented', 'NotImplementedError', 'OSError', 'OverflowError', 'PendingDeprecationWarning', 'PermissionError', 'ProcessLookupError', 'RecursionError', 'ReferenceError', 'ResourceWarning', 'RuntimeError', 'RuntimeWarning', 'StopAsyncIteration', 'StopIteration', 'SyntaxError', 'SyntaxWarning', 'SystemError', 'SystemExit', 'TabError', 'TimeoutError', 'True', 'TypeError', 'UnboundLocalError', 'UnicodeDecodeError', 'UnicodeEncodeError', 'UnicodeError', 'UnicodeTranslateError', 'UnicodeWarning', 'UserWarning', 'ValueError', 'Warning', 'WindowsError', 'ZeroDivisionError', '__IPYTHON__', '__build_class__', '__debug__', '__doc__', '__import__', '__loader__', '__name__', '__package__', '__spec__', 'abs', 'all', 'any', 'ascii', 'bin', 'bool', 'bytearray', 'bytes', 'callable', 'chr', 'classmethod', 'compile', 'complex', 'copyright', 'credits', 'delattr', 'dict', 'dir', 'display', 'divmod', 'enumerate', 'eval', 'exec', 'filter', 'float', 'format', 'frozenset', 'get_ipython', 'getattr', 'globals', 'hasattr', 'hash', 'help', 'hex', 'id', 'input', 'int', 'isinstance', 'issubclass', 'iter', 'len', 'license', 'list', 'locals', 'map', 'max', 'memoryview', 'min', 'next', 'object', 'oct', 'open', 'ord', 'pow', 'print', 'property', 'range', 'repr', 'reversed', 'round', 'set', 'setattr', 'slice', 'sorted', 'staticmethod', 'str', 'sum', 'super', 'tuple', 'type', 'vars', 'zip']\n"
     ]
    }
   ],
   "source": [
    "import builtins\n",
    "\n",
    "print(dir(builtins))"
   ]
  },
  {
   "cell_type": "markdown",
   "id": "00bc2125",
   "metadata": {},
   "source": [
    "### Knowing functions and vars inside a variable"
   ]
  },
  {
   "cell_type": "code",
   "execution_count": 29,
   "id": "74dde7c1",
   "metadata": {
    "collapsed": true
   },
   "outputs": [
    {
     "name": "stdout",
     "output_type": "stream",
     "text": [
      "['Categorical', 'CategoricalIndex', 'DataFrame', 'DateOffset', 'DatetimeIndex', 'ExcelFile', 'ExcelWriter', 'Expr', 'Float64Index', 'Grouper', 'HDFStore', 'Index', 'IndexSlice', 'Int64Index', 'Interval', 'IntervalIndex', 'MultiIndex', 'NaT', 'Panel', 'Panel4D', 'Period', 'PeriodIndex', 'RangeIndex', 'Series', 'SparseArray', 'SparseDataFrame', 'SparseList', 'SparseSeries', 'Term', 'TimeGrouper', 'Timedelta', 'TimedeltaIndex', 'Timestamp', 'UInt64Index', 'WidePanel', '_DeprecatedModule', '__builtins__', '__cached__', '__doc__', '__docformat__', '__file__', '__loader__', '__name__', '__package__', '__path__', '__spec__', '__version__', '_hashtable', '_lib', '_libs', '_np_version_under1p10', '_np_version_under1p11', '_np_version_under1p12', '_np_version_under1p13', '_np_version_under1p14', '_np_version_under1p15', '_tslib', '_version', 'api', 'bdate_range', 'compat', 'concat', 'core', 'crosstab', 'cut', 'date_range', 'datetime', 'datetools', 'describe_option', 'errors', 'eval', 'ewma', 'ewmcorr', 'ewmcov', 'ewmstd', 'ewmvar', 'ewmvol', 'expanding_apply', 'expanding_corr', 'expanding_count', 'expanding_cov', 'expanding_kurt', 'expanding_max', 'expanding_mean', 'expanding_median', 'expanding_min', 'expanding_quantile', 'expanding_skew', 'expanding_std', 'expanding_sum', 'expanding_var', 'factorize', 'get_dummies', 'get_option', 'get_store', 'groupby', 'infer_freq', 'interval_range', 'io', 'isna', 'isnull', 'json', 'lib', 'lreshape', 'match', 'melt', 'merge', 'merge_asof', 'merge_ordered', 'notna', 'notnull', 'np', 'offsets', 'option_context', 'options', 'ordered_merge', 'pandas', 'parser', 'period_range', 'pivot', 'pivot_table', 'plot_params', 'plotting', 'pnow', 'qcut', 'read_clipboard', 'read_csv', 'read_excel', 'read_feather', 'read_fwf', 'read_gbq', 'read_hdf', 'read_html', 'read_json', 'read_msgpack', 'read_parquet', 'read_pickle', 'read_sas', 'read_sql', 'read_sql_query', 'read_sql_table', 'read_stata', 'read_table', 'reset_option', 'rolling_apply', 'rolling_corr', 'rolling_count', 'rolling_cov', 'rolling_kurt', 'rolling_max', 'rolling_mean', 'rolling_median', 'rolling_min', 'rolling_quantile', 'rolling_skew', 'rolling_std', 'rolling_sum', 'rolling_var', 'rolling_window', 'scatter_matrix', 'set_eng_float_format', 'set_option', 'show_versions', 'stats', 'test', 'testing', 'timedelta_range', 'to_datetime', 'to_msgpack', 'to_numeric', 'to_pickle', 'to_timedelta', 'tools', 'tseries', 'tslib', 'unique', 'util', 'value_counts', 'wide_to_long']\n"
     ]
    }
   ],
   "source": [
    "import pandas\n",
    "print(dir(pandas))"
   ]
  },
  {
   "cell_type": "markdown",
   "id": "768b5de4",
   "metadata": {},
   "source": [
    "### 5 Types of Arguments in Python Function Definition:\n",
    "* Default arguments\n",
    "* Keyword arguments\n",
    "* Positional arguments\n",
    "* Arbitrary positional arguments\n",
    "* Arbitrary keyword arguments"
   ]
  },
  {
   "cell_type": "markdown",
   "id": "acc71721",
   "metadata": {},
   "source": [
    "![](https://miro.medium.com/max/1392/1*DhAUznkbAFfBUvMqF8rFuw.png)\n",
    "* **Formal parameters** are mentioned in `function definition` .**Actual parameters(arguments)** are passed during `function call`.\n"
   ]
  },
  {
   "cell_type": "markdown",
   "id": "a5f9ecf0",
   "metadata": {},
   "source": [
    "### Default Arguments values"
   ]
  },
  {
   "cell_type": "markdown",
   "id": "d3d11cda",
   "metadata": {},
   "source": [
    "* **Default arguments** are values that are provided **while defining functions.**\n",
    "* The **assignment operator** = is used to assign a default value to the argument.\n",
    "* Default arguments become **optional during** the **function calls**.\n",
    "* **Value** to the **default arguments** **during function calls**, it **overrides** the default value.\n",
    "* The function can have **any number of default arguments**\n",
    "\n",
    "<br>\n",
    "\n",
    "**Default arguments should follow non-default arguments**\n",
    "\n",
    "<br>\n",
    "\n",
    "**Note:** Default values are evaluated only once at the point of the function definition in the defining scope. So, it makes a difference when we pass mutable objects like list,dictionary as default values."
   ]
  },
  {
   "cell_type": "code",
   "execution_count": 30,
   "id": "10646dc2",
   "metadata": {},
   "outputs": [
    {
     "ename": "SyntaxError",
     "evalue": "positional argument follows keyword argument (<ipython-input-30-5b56a7f5713f>, line 3)",
     "output_type": "error",
     "traceback": [
      "\u001b[1;36m  File \u001b[1;32m\"<ipython-input-30-5b56a7f5713f>\"\u001b[1;36m, line \u001b[1;32m3\u001b[0m\n\u001b[1;33m    abc(10,d=10,20,b=1)\u001b[0m\n\u001b[1;37m               ^\u001b[0m\n\u001b[1;31mSyntaxError\u001b[0m\u001b[1;31m:\u001b[0m positional argument follows keyword argument\n"
     ]
    }
   ],
   "source": [
    "def abc(a,b,c,d,e = 20):\n",
    "    print(\"HI\")\n",
    "abc(10,d=10,20,b=1)"
   ]
  },
  {
   "cell_type": "markdown",
   "id": "2e4c15aa",
   "metadata": {},
   "source": [
    "**Required positional arguements should come before keyword arguement**"
   ]
  },
  {
   "cell_type": "code",
   "execution_count": 56,
   "id": "e28fffdd",
   "metadata": {},
   "outputs": [
    {
     "ename": "SyntaxError",
     "evalue": "non-default argument follows default argument (<ipython-input-56-0e0025e7e266>, line 9)",
     "output_type": "error",
     "traceback": [
      "\u001b[1;36m  File \u001b[1;32m\"<ipython-input-56-0e0025e7e266>\"\u001b[1;36m, line \u001b[1;32m9\u001b[0m\n\u001b[1;33m    def abc(a,b,c,d = 10,e = 20,f):\u001b[0m\n\u001b[1;37m           ^\u001b[0m\n\u001b[1;31mSyntaxError\u001b[0m\u001b[1;31m:\u001b[0m non-default argument follows default argument\n"
     ]
    }
   ],
   "source": [
    "def abc(a,b,c,d = 10,e = 20):\n",
    "# we first give (positional arguement/required arguement) then we give \n",
    "# value to arguement with default value(default)\n",
    "\n",
    "# def abc(a,b,c,d = 10,e = 20,f) --> this is wrong\n",
    "    print(\"Hi\")\n",
    "\n",
    "############# This is wrong ################\n",
    "# Here d and e can't be treated as default argument.\n",
    "# It will be important to explicitly give values to d and e as f being a positional argument and not a \n",
    "# keyword(keyword arguement can be defined only at the time of function call) / default argument \n",
    "# hence interpreter throws an error\n",
    "# As interpreter don't know that whether you will treat them(d,e) as default or positional and hence as to \n",
    "# prevent you from any runtime error it gives an error here\n",
    "def abc(a,b,c,d = 10,e = 20,f):\n",
    "    print(a,b,c,d,e,f)\n",
    "abc(1,2,3,4,5,6)    "
   ]
  },
  {
   "cell_type": "markdown",
   "id": "ae777578",
   "metadata": {},
   "source": [
    "### Keyword Arguments:\n",
    "* Keyword Arguments is an argument passed to a function or method which is preceded by a keyword and an equal to sign.\n",
    "* The order of keyword argument with respect to another keyword argument does not matter because the values are being explicitly assigned."
   ]
  },
  {
   "cell_type": "code",
   "execution_count": 30,
   "id": "68494fca",
   "metadata": {},
   "outputs": [
    {
     "name": "stdout",
     "output_type": "stream",
     "text": [
      "RamBabu\n"
     ]
    }
   ],
   "source": [
    "def person_name(first_name,second_name):\n",
    "  print(first_name+second_name)\n",
    "  \n",
    "# Here we are explicitly assigning the values \n",
    "person_name(second_name=\"Babu\",first_name=\"Ram\")"
   ]
  },
  {
   "cell_type": "markdown",
   "id": "86700002",
   "metadata": {},
   "source": [
    "### Positional Arguments:\n",
    "* Positional Arguments are needed to be included in proper order i.e the first argument is always listed first when the function is called, second argument needs to be called second and so on."
   ]
  },
  {
   "cell_type": "code",
   "execution_count": 31,
   "id": "4f5b7a29",
   "metadata": {},
   "outputs": [
    {
     "name": "stdout",
     "output_type": "stream",
     "text": [
      "Ram Babu\n"
     ]
    }
   ],
   "source": [
    "def person_name(first_name,second_name):\n",
    "  print(first_name+\" \"+second_name)\n",
    "    \n",
    "# First name is Ram placed first\n",
    "# Second name is Babu place second\n",
    "person_name(\"Ram\",\"Babu\")"
   ]
  },
  {
   "cell_type": "markdown",
   "id": "b3c844e8",
   "metadata": {},
   "source": [
    "### Default vs positional vs keyword arguments:\n",
    "![](https://miro.medium.com/max/1336/1*fobgfbPcgmE29Oviud5vWw.png)"
   ]
  },
  {
   "cell_type": "markdown",
   "id": "037ff806",
   "metadata": {},
   "source": [
    "### Variable-length arguments\n",
    "* **Variable-length arguments** are also known as **arbitary arguments**. \n",
    "* If we don’t know the number of arguments needed for the function in advance, we can use arbitary arguments\n",
    "\n",
    "#### Two types of arbitrary arguments\n",
    "* Arbitary positional arguments\n",
    "* Arbitrary keyword arguments\n",
    "\n",
    "#### Arbitrary positional arguments:\n",
    "* For arbitrary positional argument, an asterisk (*) is placed before a parameter in function definition which can hold non-keyword variable-length arguments. These arguments will be wrapped up in a tuple. Before the variable number of arguments, zero or more normal arguments may occur.\n"
   ]
  },
  {
   "attachments": {
    "image.png": {
     "image/png": "[encoded data removed]"
    }
   },
   "cell_type": "markdown",
   "id": "799054bc",
   "metadata": {},
   "source": [
    "![image.png](attachment:image.png)"
   ]
  },
  {
   "cell_type": "markdown",
   "id": "3c7a7305",
   "metadata": {},
   "source": [
    "In case of args --> Pyton packs those positional arguements in a form of **tuple** and then pass it to the functiona as args\n",
    "\n",
    "### *(asteric) to function call\n",
    "* **Method : Using * ( asteric ) operator**\n",
    "<br>\n",
    "This operator is used to unpack a tuple"
   ]
  },
  {
   "cell_type": "code",
   "execution_count": 37,
   "id": "73263d78",
   "metadata": {
    "scrolled": true
   },
   "outputs": [
    {
     "name": "stdout",
     "output_type": "stream",
     "text": [
      "This shows that args is stored in the form of a tuple (1, 2, 3, 4, 5, 6, 7, 8)\n",
      "{}\n",
      "This shows that args is stored in the form of a tuple (1, 2, 3, 4, 5)\n",
      "{}\n",
      "This shows that args is stored in the form of a tuple ((1, 2, 3, 4, 5),)\n",
      "{}\n"
     ]
    }
   ],
   "source": [
    "def temp(*args,**kwargs):\n",
    "    print(\"This shows that args is stored in the form of a tuple\",args)\n",
    "    print(kwargs)\n",
    "\n",
    "\n",
    "temp(1,2,3,4,5,6,7,8)\n",
    "\n",
    "a = (1,2,3,4,5)\n",
    "\n",
    "# When we add * in front of tuple it's passed how normally positional arguements are passed\n",
    "# This operator is used to unpack a tuple\n",
    "temp(*a)\n",
    "temp(a)"
   ]
  },
  {
   "cell_type": "code",
   "execution_count": 33,
   "id": "5ceb335d",
   "metadata": {},
   "outputs": [
    {
     "name": "stdout",
     "output_type": "stream",
     "text": [
      "15\n"
     ]
    }
   ],
   "source": [
    "def add(a,b,c,*d):\n",
    "    # This function now accepts atleast 3 args if a,b,c are removed \n",
    "    # then the min number of arguements = 0\n",
    "    result = 0\n",
    "    # d is an tuple\n",
    "    for i in d:\n",
    "         result=result+i\n",
    "    result+=(a+b+c)\n",
    "    return result\n",
    "\n",
    "print (add(1,2,3,4,5))"
   ]
  },
  {
   "cell_type": "code",
   "execution_count": 61,
   "id": "bf70c1f2",
   "metadata": {},
   "outputs": [
    {
     "name": "stdout",
     "output_type": "stream",
     "text": [
      "1\n",
      "2\n",
      "3\n",
      "(4, 5, 6)\n",
      "0\n",
      "20\n"
     ]
    }
   ],
   "source": [
    "def print_val(a,b,c,*args,d=100,e=20):\n",
    "    print(a)\n",
    "    print(b)\n",
    "    print(c)\n",
    "    print(args)\n",
    "    print(d)\n",
    "    print(e)\n",
    "print_val(1,2,3,4,5,6,d=0)\n",
    "# Here e's default value will be 20\n",
    "# keyword arguement follows positional arguement"
   ]
  },
  {
   "cell_type": "markdown",
   "id": "60b2cef1",
   "metadata": {},
   "source": [
    "### Arbitrary keyword arguments:\n",
    "For arbitrary keyword argument, a double asterisk (**) is placed before a parameter in function which can hold keyword variable-length arguments.\n",
    "Example:"
   ]
  },
  {
   "cell_type": "code",
   "execution_count": 62,
   "id": "0409c229",
   "metadata": {},
   "outputs": [
    {
     "name": "stdout",
     "output_type": "stream",
     "text": [
      "('numbers', 5)\n",
      "('colors', 'blue')\n",
      "('fruits', 'apple')\n",
      "{'numbers': 5, 'colors': 'blue', 'fruits': 'apple'}\n",
      "<class 'dict'>\n"
     ]
    }
   ],
   "source": [
    "def fn(**a):\n",
    "    for i in a.items():\n",
    "        print (i)\n",
    "    \n",
    "    print(a)\n",
    "    print(type(a))\n",
    "    # a is a dictionary\n",
    "fn(numbers=5,colors=\"blue\",fruits=\"apple\")"
   ]
  },
  {
   "cell_type": "markdown",
   "id": "2e62fee6",
   "metadata": {},
   "source": [
    "### Splat\n",
    "* **Method : Using ** ( splat ) operator**\n",
    "<br>\n",
    "This operator is used to unpack a dictionary, and while passing in a function this can possibly unpack a dictionary and achieve the required task of mapping the keys to arguments and it’s values to argument values."
   ]
  },
  {
   "cell_type": "code",
   "execution_count": 63,
   "id": "a78b72af",
   "metadata": {},
   "outputs": [
    {
     "name": "stdout",
     "output_type": "stream",
     "text": [
      "The original dictionary is : {'a': 1, 'b': 2}\n",
      "The default function call yields : \n",
      "The value of a is : 4\n",
      "The value of b is : 5\n",
      "\r\n",
      "The function values with splat operator unpacking : \n",
      "The value of a is : 1\n",
      "The value of b is : 2\n"
     ]
    }
   ],
   "source": [
    "# Passing dictionary as keyword arguments\n",
    "# Using ** ( splat ) operator\n",
    "  \n",
    "# Helper function to demo this task\n",
    "def test_func(a = 4, b = 5):\n",
    "    print(\"The value of a is : \" + str(a))\n",
    "    print(\"The value of b is : \" + str(b))\n",
    "  \n",
    "# initializing dictionary\n",
    "test_dict = {'a' : 1, 'b' : 2}\n",
    "  \n",
    "# printing original dictionary\n",
    "print(\"The original dictionary is : \" + str(test_dict))\n",
    "  \n",
    "# Testing with default values \n",
    "print(\"The default function call yields : \")\n",
    "test_func()\n",
    "  \n",
    "print(\"\\r\")\n",
    "  \n",
    "# Passing dictionary as keyword arguments\n",
    "# Using ** ( splat ) operator\n",
    "print(\"The function values with splat operator unpacking : \")\n",
    "test_func(**test_dict)"
   ]
  },
  {
   "cell_type": "markdown",
   "id": "b1a36fe4",
   "metadata": {},
   "source": [
    "### Important\n",
    "\n",
    "* Every argument after *arg is a keyword argument also if in the function definition it's mentioned that it's a default argument too then That's an addon\n",
    "\n",
    "* if you give positional argument after default argument then interpreter gives an error message as interpreter goes by the definition of default argument which is there is no need to give value for that argument hence interpreter doesn't know whether user will explicitly give values for default argument and hence give error to prevent user from getting runtime errors afterwards\n",
    "\n",
    "No error occurs for the second as in the Second one interpreter know that third will be keyword arguement"
   ]
  },
  {
   "cell_type": "code",
   "execution_count": 65,
   "id": "47a6ee67",
   "metadata": {},
   "outputs": [
    {
     "ename": "SyntaxError",
     "evalue": "non-default argument follows default argument (<ipython-input-65-73c910bfcb69>, line 1)",
     "output_type": "error",
     "traceback": [
      "\u001b[1;36m  File \u001b[1;32m\"<ipython-input-65-73c910bfcb69>\"\u001b[1;36m, line \u001b[1;32m1\u001b[0m\n\u001b[1;33m    def Hi(first ,second=\"hello\",third):\u001b[0m\n\u001b[1;37m          ^\u001b[0m\n\u001b[1;31mSyntaxError\u001b[0m\u001b[1;31m:\u001b[0m non-default argument follows default argument\n"
     ]
    }
   ],
   "source": [
    "def Hi(first ,second=\"hello\",third):\n",
    "    print(first,second,third)\n",
    "Hi(\"hi\",third= \"Bonjour\")"
   ]
  },
  {
   "cell_type": "code",
   "execution_count": 66,
   "id": "95a28237",
   "metadata": {},
   "outputs": [
    {
     "name": "stdout",
     "output_type": "stream",
     "text": [
      "()\n",
      "hi Hello Bonjour\n"
     ]
    }
   ],
   "source": [
    "def Hi(first ,*args,second =\"Hello\",third):\n",
    "    print(args)\n",
    "    print(first,second,third)\n",
    "Hi(\"hi\",third= \"Bonjour\")"
   ]
  },
  {
   "cell_type": "markdown",
   "id": "337ecd06",
   "metadata": {},
   "source": [
    "### Convention one should follow to pass arguements"
   ]
  },
  {
   "cell_type": "code",
   "execution_count": 64,
   "id": "31c0b73a",
   "metadata": {},
   "outputs": [
    {
     "name": "stdout",
     "output_type": "stream",
     "text": [
      "1\n",
      "2\n",
      "3\n",
      "(4, 5, 6, 7)\n",
      "defailt_arg 10\n",
      "11\n",
      "{'sheeps': 2, 'bufflow': 3, 'cows': 4}\n"
     ]
    }
   ],
   "source": [
    "# position,args,default,keyword,kwargs(Here default comes first as to give a stop to args from getting more values)\n",
    "# position,keyword,default\n",
    "\n",
    "def function_final(a,b,c,*args,default_arg,key_word_arg=10,**kwargs):\n",
    "    print(a)\n",
    "    print(b)\n",
    "    print(c)\n",
    "    print(args)\n",
    "    print(\"defailt_arg\",default_arg)\n",
    "    print(key_word_arg)\n",
    "    print(kwargs)\n",
    "\n",
    "function_final(1,2,3,4,5,6,7,key_word_arg = 11,sheeps=2,bufflow=3,cows=4)"
   ]
  },
  {
   "cell_type": "code",
   "execution_count": 68,
   "id": "8e25c254",
   "metadata": {},
   "outputs": [
    {
     "name": "stdout",
     "output_type": "stream",
     "text": [
      "1\n",
      "2\n",
      "3\n",
      "(4, 5, 6, 7)\n",
      "default_arg 10\n",
      "11\n",
      "{'sheeps': 2, 'bufflow': 3, 'cows': 4}\n"
     ]
    }
   ],
   "source": [
    "def function_final(a,b,c,*args,default_arg=10,key_word_arg,**kwargs):\n",
    "    print(a)\n",
    "    print(b)\n",
    "    print(c)\n",
    "    print(args)\n",
    "    print(\"default_arg\",default_arg)\n",
    "    print(key_word_arg)\n",
    "    print(kwargs)\n",
    "\n",
    "# Here we need to mention default_arg = 11 if we want to change the value of default_arg as we are passing variable number of \n",
    "# values(might be none to many) to args hence can't send value to default_arg simply like we do for positional args\n",
    "function_final(1,2,3,4,5,6,7,key_word_arg = 11,sheeps=2,bufflow=3,cows=4)"
   ]
  },
  {
   "cell_type": "code",
   "execution_count": 67,
   "id": "7782eb63",
   "metadata": {},
   "outputs": [
    {
     "name": "stdout",
     "output_type": "stream",
     "text": [
      "1\n",
      "2\n",
      "3\n",
      "(4, 5, 6, 7)\n",
      "default_arg 10\n",
      "11\n"
     ]
    }
   ],
   "source": [
    "# Here we are able to keep keyword argument after default argument because of *args\n",
    "def function_final1(a,b,c,*args,default_arg=10,key_word_arg):\n",
    "    print(a)\n",
    "    print(b)\n",
    "    print(c)\n",
    "    print(args)\n",
    "    print(\"default_arg\",default_arg)\n",
    "    print(key_word_arg)\n",
    "\n",
    "function_final1(1,2,3,4,5,6,7,key_word_arg = 11)"
   ]
  },
  {
   "cell_type": "code",
   "execution_count": 45,
   "id": "f589be83",
   "metadata": {},
   "outputs": [
    {
     "name": "stdout",
     "output_type": "stream",
     "text": [
      "Shubham Passed Exam with flying colours (NEET)\n"
     ]
    }
   ],
   "source": [
    "def student(firstname, standard,lastname = \"Passed Exam with flying colours\"):\n",
    "    print(firstname, lastname, standard)\n",
    "student(\"Shubham\",standard=\"(NEET)\")"
   ]
  },
  {
   "cell_type": "markdown",
   "id": "b7661720",
   "metadata": {},
   "source": [
    "### Lambda Functions\n",
    "* Syntactical Sugar\n",
    "* 1 liner functions"
   ]
  },
  {
   "cell_type": "code",
   "execution_count": 69,
   "id": "d2c0339f",
   "metadata": {},
   "outputs": [],
   "source": [
    "def add():\n",
    "    return 10+10"
   ]
  },
  {
   "cell_type": "code",
   "execution_count": 70,
   "id": "cf1ba482",
   "metadata": {},
   "outputs": [
    {
     "name": "stdout",
     "output_type": "stream",
     "text": [
      "<function add at 0x000001F6371D39D8>\n"
     ]
    }
   ],
   "source": [
    "# in python everything is a object\n",
    "print(add)"
   ]
  },
  {
   "cell_type": "code",
   "execution_count": 71,
   "id": "b2ff502b",
   "metadata": {},
   "outputs": [],
   "source": [
    "#add1 = lambda(a,b):return a+b\n",
    "#no need of paranthesis and return()\n",
    "add1 = lambda a,b:a+b"
   ]
  },
  {
   "cell_type": "code",
   "execution_count": 39,
   "id": "51fd585a",
   "metadata": {},
   "outputs": [
    {
     "data": {
      "text/plain": [
       "25"
      ]
     },
     "execution_count": 39,
     "metadata": {},
     "output_type": "execute_result"
    }
   ],
   "source": [
    "add1(10,15)"
   ]
  },
  {
   "cell_type": "markdown",
   "id": "f317218e",
   "metadata": {},
   "source": [
    "#### generating lambda functions and assigning them with arguement at the same time"
   ]
  },
  {
   "cell_type": "code",
   "execution_count": 72,
   "id": "598b8112",
   "metadata": {},
   "outputs": [
    {
     "data": {
      "text/plain": [
       "5"
      ]
     },
     "execution_count": 72,
     "metadata": {},
     "output_type": "execute_result"
    }
   ],
   "source": [
    "(lambda a,b:a+b)(2,3)"
   ]
  },
  {
   "cell_type": "code",
   "execution_count": 73,
   "id": "33377a16",
   "metadata": {},
   "outputs": [
    {
     "data": {
      "text/plain": [
       "[2, 3, 3, 4, 6, 10, 56]"
      ]
     },
     "execution_count": 73,
     "metadata": {},
     "output_type": "execute_result"
    }
   ],
   "source": [
    "a = [2,3,6,3,4,56,10]\n",
    "\n",
    "sorted(a)\n",
    "# this thing sorts and return value\n",
    "# Need of doing b = sorted(b) is necessary as it doesn't perform operation automatically"
   ]
  },
  {
   "cell_type": "code",
   "execution_count": 74,
   "id": "46399673",
   "metadata": {},
   "outputs": [
    {
     "name": "stdout",
     "output_type": "stream",
     "text": [
      "[2, 3, 3, 3, 4, 5, 45]\n"
     ]
    }
   ],
   "source": [
    "b = [2,3,45,5,4,3,3]\n",
    "\n",
    "b.sort()\n",
    "# this thing sorts and change value\n",
    "# no need of doing b = b.sort as it performs this operation automatically\n",
    "print(b)"
   ]
  },
  {
   "cell_type": "markdown",
   "id": "dda94819",
   "metadata": {},
   "source": [
    "### Sorted with lambda"
   ]
  },
  {
   "cell_type": "code",
   "execution_count": 78,
   "id": "1d6a480a",
   "metadata": {},
   "outputs": [],
   "source": [
    "a = [(\"jatin\",5),(\"prateek\",10),(\"ram\",1),(\"arnav\",20)]"
   ]
  },
  {
   "cell_type": "code",
   "execution_count": 79,
   "id": "9c3610d9",
   "metadata": {},
   "outputs": [
    {
     "data": {
      "text/plain": [
       "[('ram', 1), ('jatin', 5), ('prateek', 10), ('arnav', 20)]"
      ]
     },
     "execution_count": 79,
     "metadata": {},
     "output_type": "execute_result"
    }
   ],
   "source": [
    "sorted(a,key = lambda x:x[1])"
   ]
  },
  {
   "cell_type": "code",
   "execution_count": 84,
   "id": "c1e1f0f2",
   "metadata": {},
   "outputs": [
    {
     "data": {
      "text/plain": [
       "[('dave', 'B', 10), ('jane', 'B', 12), ('john', 'A', 15)]"
      ]
     },
     "execution_count": 84,
     "metadata": {},
     "output_type": "execute_result"
    }
   ],
   "source": [
    "def student(val):\n",
    "    return(val[2])\n",
    "\n",
    "student_tuples = [\n",
    "    ('john', 'A', 15),\n",
    "    ('jane', 'B', 12),\n",
    "    ('dave', 'B', 10),\n",
    "]\n",
    "sorted(student_tuples, key=lambda student: student[2])\n",
    "sorted(student_tuples, key = student) #--> this will not work"
   ]
  },
  {
   "cell_type": "code",
   "execution_count": 44,
   "id": "b8af503c",
   "metadata": {},
   "outputs": [
    {
     "data": {
      "text/plain": [
       "<method 'lower' of 'str' objects>"
      ]
     },
     "execution_count": 44,
     "metadata": {},
     "output_type": "execute_result"
    }
   ],
   "source": [
    "str.lower"
   ]
  },
  {
   "cell_type": "code",
   "execution_count": 45,
   "id": "28da555b",
   "metadata": {},
   "outputs": [
    {
     "data": {
      "text/plain": [
       "['a', 'Andrew', 'from', 'is', 'string', 'test', 'This']"
      ]
     },
     "execution_count": 45,
     "metadata": {},
     "output_type": "execute_result"
    }
   ],
   "source": [
    "sorted(\"This is a test string from Andrew\".split(), key = str.lower)"
   ]
  },
  {
   "cell_type": "code",
   "execution_count": 46,
   "id": "cd46f180",
   "metadata": {},
   "outputs": [
    {
     "name": "stdout",
     "output_type": "stream",
     "text": [
      "<class '__main__.Student'>\n"
     ]
    },
    {
     "data": {
      "text/plain": [
       "[('dave', 'B', 10), ('jane', 'B', 12), ('john', 'A', 15)]"
      ]
     },
     "execution_count": 46,
     "metadata": {},
     "output_type": "execute_result"
    }
   ],
   "source": [
    "class Student:\n",
    "    def __init__(self, name, grade, age):\n",
    "        self.name = name\n",
    "        self.grade = grade\n",
    "        self.age = age\n",
    "    def __repr__(self):\n",
    "        return repr((self.name, self.grade, self.age))\n",
    "student_objects = [\n",
    "    Student('john', 'A', 15),\n",
    "    Student('jane', 'B', 12),\n",
    "    Student('dave', 'B', 10),\n",
    "]\n",
    "\n",
    "print(type(student_objects[0]))\n",
    "sorted(student_objects, key=lambda student: student.age) "
   ]
  },
  {
   "cell_type": "markdown",
   "id": "ba645427",
   "metadata": {},
   "source": [
    "## Decorators in python"
   ]
  },
  {
   "cell_type": "code",
   "execution_count": 89,
   "id": "5fd86db6",
   "metadata": {},
   "outputs": [],
   "source": [
    "##############Authentication###############\n",
    "users = {\n",
    "    \"jatin\":\"password\",\n",
    "    \"Saksham\":\"Papa2972\",\n",
    "    \"Sanjay\":\"Hi\",\n",
    "        }"
   ]
  },
  {
   "cell_type": "code",
   "execution_count": 179,
   "id": "b9166f44",
   "metadata": {},
   "outputs": [
    {
     "data": {
      "text/plain": [
       "'0x1f6381b9510'"
      ]
     },
     "execution_count": 179,
     "metadata": {},
     "output_type": "execute_result"
    }
   ],
   "source": [
    "def show(user_name,password):\n",
    "    if user_name in users and users[user_name] == password:\n",
    "        print(\"Hello World\")\n",
    "    else:\n",
    "        print(\"Not Authenticated\")\n",
    "hex(id(show))"
   ]
  },
  {
   "cell_type": "code",
   "execution_count": 168,
   "id": "e667b05c",
   "metadata": {},
   "outputs": [
    {
     "name": "stdout",
     "output_type": "stream",
     "text": [
      "Hello World\n"
     ]
    }
   ],
   "source": [
    "show(\"Saksham\",\"Papa2972\")"
   ]
  },
  {
   "cell_type": "code",
   "execution_count": 92,
   "id": "6b2173fc",
   "metadata": {},
   "outputs": [],
   "source": [
    "def add(user_name,password,a,b):\n",
    "    if user_name in users and users[user_name] == password:\n",
    "        print(a+b)\n",
    "    else:\n",
    "        print(\"Not Authenticated\")"
   ]
  },
  {
   "cell_type": "code",
   "execution_count": 93,
   "id": "3390a730",
   "metadata": {},
   "outputs": [
    {
     "name": "stdout",
     "output_type": "stream",
     "text": [
      "3\n"
     ]
    }
   ],
   "source": [
    "add(\"Saksham\",\"Papa2972\",1,2)"
   ]
  },
  {
   "cell_type": "markdown",
   "id": "5faad64e",
   "metadata": {},
   "source": [
    "### Creating a function that takes function as input and give                                function as an output"
   ]
  },
  {
   "cell_type": "code",
   "execution_count": 185,
   "id": "5210bec9",
   "metadata": {},
   "outputs": [],
   "source": [
    "def login_required(funcn):\n",
    "    def wrapper(user_name,password,*args,**kwargs):\n",
    "        print(*args)\n",
    "        if user_name in users and users[user_name] == password:\n",
    "            print(\"authenticated\")\n",
    "            funcn(*args,**kwargs)\n",
    "        else:\n",
    "            print(\"Not Authenticated\")\n",
    "    \n",
    "    return wrapper"
   ]
  },
  {
   "cell_type": "markdown",
   "id": "352f20f8",
   "metadata": {},
   "source": [
    "**login_required contains a wapper function which is working as a funcn which performs certain amount of common functionalities between various functions not depending upon the number of arguments**"
   ]
  },
  {
   "cell_type": "code",
   "execution_count": 188,
   "id": "264e89af",
   "metadata": {},
   "outputs": [
    {
     "name": "stdout",
     "output_type": "stream",
     "text": [
      "0x1f6386070d0\n",
      "<function login_required.<locals>.wrapper at 0x000001F6386072F0>\n"
     ]
    }
   ],
   "source": [
    "def add(a,b):\n",
    "    print(a+b)\n",
    "print(hex(id(add)))\n",
    "\n",
    "add = login_required(add)\n",
    "print(add)"
   ]
  },
  {
   "cell_type": "code",
   "execution_count": 189,
   "id": "7754d88e",
   "metadata": {},
   "outputs": [
    {
     "name": "stdout",
     "output_type": "stream",
     "text": [
      "1 2\n",
      "authenticated\n",
      "3\n"
     ]
    }
   ],
   "source": [
    "add(\"Saksham\",\"Papa2972\",1,2)"
   ]
  },
  {
   "cell_type": "code",
   "execution_count": 190,
   "id": "b615ca02",
   "metadata": {},
   "outputs": [
    {
     "name": "stdout",
     "output_type": "stream",
     "text": [
      "<function login_required.<locals>.wrapper at 0x000001F638C87D90>\n",
      "Saksham Papa2972\n",
      "authenticated\n",
      "\n",
      "authenticated\n"
     ]
    },
    {
     "ename": "TypeError",
     "evalue": "wrapper() missing 2 required positional arguments: 'user_name' and 'password'",
     "output_type": "error",
     "traceback": [
      "\u001b[1;31m---------------------------------------------------------------------------\u001b[0m",
      "\u001b[1;31mTypeError\u001b[0m                                 Traceback (most recent call last)",
      "\u001b[1;32m<ipython-input-190-cb2aed9a4860>\u001b[0m in \u001b[0;36m<module>\u001b[1;34m\u001b[0m\n\u001b[0;32m      3\u001b[0m \u001b[0mprint\u001b[0m\u001b[1;33m(\u001b[0m\u001b[0mshow\u001b[0m\u001b[1;33m)\u001b[0m\u001b[1;33m\u001b[0m\u001b[1;33m\u001b[0m\u001b[0m\n\u001b[0;32m      4\u001b[0m \u001b[1;33m\u001b[0m\u001b[0m\n\u001b[1;32m----> 5\u001b[1;33m \u001b[0mshow\u001b[0m\u001b[1;33m(\u001b[0m\u001b[1;34m\"Saksham\"\u001b[0m\u001b[1;33m,\u001b[0m\u001b[1;34m\"Papa2972\"\u001b[0m\u001b[1;33m,\u001b[0m\u001b[1;34m\"Saksham\"\u001b[0m\u001b[1;33m,\u001b[0m\u001b[1;34m\"Papa2972\"\u001b[0m\u001b[1;33m)\u001b[0m\u001b[1;33m\u001b[0m\u001b[1;33m\u001b[0m\u001b[0m\n\u001b[0m\u001b[0;32m      6\u001b[0m \u001b[1;31m# The second \"Saksham\",\"Papa2972\" is for args which must be passed to user_name and password of the show()\u001b[0m\u001b[1;33m\u001b[0m\u001b[1;33m\u001b[0m\u001b[1;33m\u001b[0m\u001b[0m\n",
      "\u001b[1;32m<ipython-input-185-69cb3f25792e>\u001b[0m in \u001b[0;36mwrapper\u001b[1;34m(user_name, password, *args, **kwargs)\u001b[0m\n\u001b[0;32m      4\u001b[0m         \u001b[1;32mif\u001b[0m \u001b[0muser_name\u001b[0m \u001b[1;32min\u001b[0m \u001b[0musers\u001b[0m \u001b[1;32mand\u001b[0m \u001b[0musers\u001b[0m\u001b[1;33m[\u001b[0m\u001b[0muser_name\u001b[0m\u001b[1;33m]\u001b[0m \u001b[1;33m==\u001b[0m \u001b[0mpassword\u001b[0m\u001b[1;33m:\u001b[0m\u001b[1;33m\u001b[0m\u001b[1;33m\u001b[0m\u001b[0m\n\u001b[0;32m      5\u001b[0m             \u001b[0mprint\u001b[0m\u001b[1;33m(\u001b[0m\u001b[1;34m\"authenticated\"\u001b[0m\u001b[1;33m)\u001b[0m\u001b[1;33m\u001b[0m\u001b[1;33m\u001b[0m\u001b[0m\n\u001b[1;32m----> 6\u001b[1;33m             \u001b[0mfuncn\u001b[0m\u001b[1;33m(\u001b[0m\u001b[1;33m*\u001b[0m\u001b[0margs\u001b[0m\u001b[1;33m,\u001b[0m\u001b[1;33m**\u001b[0m\u001b[0mkwargs\u001b[0m\u001b[1;33m)\u001b[0m\u001b[1;33m\u001b[0m\u001b[1;33m\u001b[0m\u001b[0m\n\u001b[0m\u001b[0;32m      7\u001b[0m         \u001b[1;32melse\u001b[0m\u001b[1;33m:\u001b[0m\u001b[1;33m\u001b[0m\u001b[1;33m\u001b[0m\u001b[0m\n\u001b[0;32m      8\u001b[0m             \u001b[0mprint\u001b[0m\u001b[1;33m(\u001b[0m\u001b[1;34m\"Not Authenticated\"\u001b[0m\u001b[1;33m)\u001b[0m\u001b[1;33m\u001b[0m\u001b[1;33m\u001b[0m\u001b[0m\n",
      "\u001b[1;32m<ipython-input-185-69cb3f25792e>\u001b[0m in \u001b[0;36mwrapper\u001b[1;34m(user_name, password, *args, **kwargs)\u001b[0m\n\u001b[0;32m      4\u001b[0m         \u001b[1;32mif\u001b[0m \u001b[0muser_name\u001b[0m \u001b[1;32min\u001b[0m \u001b[0musers\u001b[0m \u001b[1;32mand\u001b[0m \u001b[0musers\u001b[0m\u001b[1;33m[\u001b[0m\u001b[0muser_name\u001b[0m\u001b[1;33m]\u001b[0m \u001b[1;33m==\u001b[0m \u001b[0mpassword\u001b[0m\u001b[1;33m:\u001b[0m\u001b[1;33m\u001b[0m\u001b[1;33m\u001b[0m\u001b[0m\n\u001b[0;32m      5\u001b[0m             \u001b[0mprint\u001b[0m\u001b[1;33m(\u001b[0m\u001b[1;34m\"authenticated\"\u001b[0m\u001b[1;33m)\u001b[0m\u001b[1;33m\u001b[0m\u001b[1;33m\u001b[0m\u001b[0m\n\u001b[1;32m----> 6\u001b[1;33m             \u001b[0mfuncn\u001b[0m\u001b[1;33m(\u001b[0m\u001b[1;33m*\u001b[0m\u001b[0margs\u001b[0m\u001b[1;33m,\u001b[0m\u001b[1;33m**\u001b[0m\u001b[0mkwargs\u001b[0m\u001b[1;33m)\u001b[0m\u001b[1;33m\u001b[0m\u001b[1;33m\u001b[0m\u001b[0m\n\u001b[0m\u001b[0;32m      7\u001b[0m         \u001b[1;32melse\u001b[0m\u001b[1;33m:\u001b[0m\u001b[1;33m\u001b[0m\u001b[1;33m\u001b[0m\u001b[0m\n\u001b[0;32m      8\u001b[0m             \u001b[0mprint\u001b[0m\u001b[1;33m(\u001b[0m\u001b[1;34m\"Not Authenticated\"\u001b[0m\u001b[1;33m)\u001b[0m\u001b[1;33m\u001b[0m\u001b[1;33m\u001b[0m\u001b[0m\n",
      "\u001b[1;31mTypeError\u001b[0m: wrapper() missing 2 required positional arguments: 'user_name' and 'password'"
     ]
    }
   ],
   "source": [
    "# It's giving errors as we don\n",
    "show = login_required(show)\n",
    "print(show)\n",
    "\n",
    "show(\"Saksham\",\"Papa2972\",\"Saksham\",\"Papa2972\")\n",
    "# The second \"Saksham\",\"Papa2972\" is for args which must be passed to user_name and password of the show()"
   ]
  },
  {
   "cell_type": "markdown",
   "id": "19eafcbe",
   "metadata": {},
   "source": [
    "### Using decorators"
   ]
  },
  {
   "cell_type": "code",
   "execution_count": 139,
   "id": "67a6e220",
   "metadata": {},
   "outputs": [],
   "source": [
    "@login_required\n",
    "def show(user_name,password):\n",
    "    if user_name in users and users[user_name] == password:\n",
    "        print(\"Hello World\")\n",
    "    else:\n",
    "        print(\"Not Authenticated\")"
   ]
  },
  {
   "cell_type": "code",
   "execution_count": 166,
   "id": "147712b7",
   "metadata": {},
   "outputs": [
    {
     "name": "stdout",
     "output_type": "stream",
     "text": [
      "2157019428656\n",
      "2157019428656\n",
      "2157019428656\n",
      "1866903744\n"
     ]
    }
   ],
   "source": [
    "def Hello():\n",
    "    print(\"Hello\")\n",
    "k = Hello\n",
    "print(id(k))\n",
    "print(id(Hello))\n",
    "\n",
    "Hello = 1\n",
    "print(id(k))\n",
    "\n",
    "print(id(Hello))"
   ]
  },
  {
   "cell_type": "code",
   "execution_count": 155,
   "id": "9a23a891",
   "metadata": {},
   "outputs": [
    {
     "name": "stdout",
     "output_type": "stream",
     "text": [
      "Saksham Papa2972\n",
      "authenticated\n",
      "\n",
      "authenticated\n"
     ]
    },
    {
     "ename": "TypeError",
     "evalue": "show() missing 2 required positional arguments: 'user_name' and 'password'",
     "output_type": "error",
     "traceback": [
      "\u001b[1;31m---------------------------------------------------------------------------\u001b[0m",
      "\u001b[1;31mTypeError\u001b[0m                                 Traceback (most recent call last)",
      "\u001b[1;32m<ipython-input-155-0c9ee96a4aaa>\u001b[0m in \u001b[0;36m<module>\u001b[1;34m\u001b[0m\n\u001b[1;32m----> 1\u001b[1;33m \u001b[0mshow\u001b[0m\u001b[1;33m(\u001b[0m\u001b[1;34m\"Saksham\"\u001b[0m\u001b[1;33m,\u001b[0m\u001b[1;34m\"Papa2972\"\u001b[0m\u001b[1;33m,\u001b[0m\u001b[1;34m\"Saksham\"\u001b[0m\u001b[1;33m,\u001b[0m\u001b[1;34m\"Papa2972\"\u001b[0m\u001b[1;33m)\u001b[0m\u001b[1;33m\u001b[0m\u001b[1;33m\u001b[0m\u001b[0m\n\u001b[0m",
      "\u001b[1;32m<ipython-input-129-69cb3f25792e>\u001b[0m in \u001b[0;36mwrapper\u001b[1;34m(user_name, password, *args, **kwargs)\u001b[0m\n\u001b[0;32m      4\u001b[0m         \u001b[1;32mif\u001b[0m \u001b[0muser_name\u001b[0m \u001b[1;32min\u001b[0m \u001b[0musers\u001b[0m \u001b[1;32mand\u001b[0m \u001b[0musers\u001b[0m\u001b[1;33m[\u001b[0m\u001b[0muser_name\u001b[0m\u001b[1;33m]\u001b[0m \u001b[1;33m==\u001b[0m \u001b[0mpassword\u001b[0m\u001b[1;33m:\u001b[0m\u001b[1;33m\u001b[0m\u001b[1;33m\u001b[0m\u001b[0m\n\u001b[0;32m      5\u001b[0m             \u001b[0mprint\u001b[0m\u001b[1;33m(\u001b[0m\u001b[1;34m\"authenticated\"\u001b[0m\u001b[1;33m)\u001b[0m\u001b[1;33m\u001b[0m\u001b[1;33m\u001b[0m\u001b[0m\n\u001b[1;32m----> 6\u001b[1;33m             \u001b[0mfuncn\u001b[0m\u001b[1;33m(\u001b[0m\u001b[1;33m*\u001b[0m\u001b[0margs\u001b[0m\u001b[1;33m,\u001b[0m\u001b[1;33m**\u001b[0m\u001b[0mkwargs\u001b[0m\u001b[1;33m)\u001b[0m\u001b[1;33m\u001b[0m\u001b[1;33m\u001b[0m\u001b[0m\n\u001b[0m\u001b[0;32m      7\u001b[0m         \u001b[1;32melse\u001b[0m\u001b[1;33m:\u001b[0m\u001b[1;33m\u001b[0m\u001b[1;33m\u001b[0m\u001b[0m\n\u001b[0;32m      8\u001b[0m             \u001b[0mprint\u001b[0m\u001b[1;33m(\u001b[0m\u001b[1;34m\"Not Authenticated\"\u001b[0m\u001b[1;33m)\u001b[0m\u001b[1;33m\u001b[0m\u001b[1;33m\u001b[0m\u001b[0m\n",
      "\u001b[1;32m<ipython-input-129-69cb3f25792e>\u001b[0m in \u001b[0;36mwrapper\u001b[1;34m(user_name, password, *args, **kwargs)\u001b[0m\n\u001b[0;32m      4\u001b[0m         \u001b[1;32mif\u001b[0m \u001b[0muser_name\u001b[0m \u001b[1;32min\u001b[0m \u001b[0musers\u001b[0m \u001b[1;32mand\u001b[0m \u001b[0musers\u001b[0m\u001b[1;33m[\u001b[0m\u001b[0muser_name\u001b[0m\u001b[1;33m]\u001b[0m \u001b[1;33m==\u001b[0m \u001b[0mpassword\u001b[0m\u001b[1;33m:\u001b[0m\u001b[1;33m\u001b[0m\u001b[1;33m\u001b[0m\u001b[0m\n\u001b[0;32m      5\u001b[0m             \u001b[0mprint\u001b[0m\u001b[1;33m(\u001b[0m\u001b[1;34m\"authenticated\"\u001b[0m\u001b[1;33m)\u001b[0m\u001b[1;33m\u001b[0m\u001b[1;33m\u001b[0m\u001b[0m\n\u001b[1;32m----> 6\u001b[1;33m             \u001b[0mfuncn\u001b[0m\u001b[1;33m(\u001b[0m\u001b[1;33m*\u001b[0m\u001b[0margs\u001b[0m\u001b[1;33m,\u001b[0m\u001b[1;33m**\u001b[0m\u001b[0mkwargs\u001b[0m\u001b[1;33m)\u001b[0m\u001b[1;33m\u001b[0m\u001b[1;33m\u001b[0m\u001b[0m\n\u001b[0m\u001b[0;32m      7\u001b[0m         \u001b[1;32melse\u001b[0m\u001b[1;33m:\u001b[0m\u001b[1;33m\u001b[0m\u001b[1;33m\u001b[0m\u001b[0m\n\u001b[0;32m      8\u001b[0m             \u001b[0mprint\u001b[0m\u001b[1;33m(\u001b[0m\u001b[1;34m\"Not Authenticated\"\u001b[0m\u001b[1;33m)\u001b[0m\u001b[1;33m\u001b[0m\u001b[1;33m\u001b[0m\u001b[0m\n",
      "\u001b[1;31mTypeError\u001b[0m: show() missing 2 required positional arguments: 'user_name' and 'password'"
     ]
    }
   ],
   "source": [
    "show(\"Saksham\",\"Papa2972\",\"Saksham\",\"Papa2972\")"
   ]
  },
  {
   "cell_type": "code",
   "execution_count": 156,
   "id": "b218e70d",
   "metadata": {},
   "outputs": [
    {
     "name": "stdout",
     "output_type": "stream",
     "text": [
      "1 2\n",
      "authenticated\n",
      "3\n"
     ]
    }
   ],
   "source": [
    "def add(a,b):\n",
    "    print(a+b)\n",
    "add = login_required(add)\n",
    "add(\"Saksham\",\"Papa2972\",1,2)"
   ]
  },
  {
   "cell_type": "code",
   "execution_count": 136,
   "id": "28c61a50",
   "metadata": {},
   "outputs": [],
   "source": [
    "@login_required\n",
    "def add(a,b):\n",
    "    print(a+b)\n",
    "# thing does the same thing as above -->\n",
    "# First declare the add() and then pass it to \n",
    "# login_required and change the add function\n",
    "# now add becomes wrapper()"
   ]
  },
  {
   "cell_type": "code",
   "execution_count": 138,
   "id": "04a6911e",
   "metadata": {},
   "outputs": [
    {
     "name": "stdout",
     "output_type": "stream",
     "text": [
      "1 2\n",
      "authenticated\n",
      "3\n"
     ]
    }
   ],
   "source": [
    "add(\"Saksham\",\"Papa2972\",1,2)"
   ]
  },
  {
   "cell_type": "code",
   "execution_count": null,
   "id": "20ebcb89",
   "metadata": {},
   "outputs": [],
   "source": []
  },
  {
   "cell_type": "code",
   "execution_count": 58,
   "id": "88c17f47",
   "metadata": {},
   "outputs": [],
   "source": [
    "# Decorator directy assigns the return value of @--- \n",
    "# to the funcn above whom decorator is used"
   ]
  },
  {
   "cell_type": "code",
   "execution_count": 59,
   "id": "14e38fb4",
   "metadata": {},
   "outputs": [],
   "source": [
    "def adding_using_decorator(funcn):\n",
    "    return 10+12\n",
    "\n",
    "def add(a,b):\n",
    "    return a+b\n",
    "\n",
    "add = adding_using_decorator(add)"
   ]
  },
  {
   "cell_type": "code",
   "execution_count": 60,
   "id": "c5881b8e",
   "metadata": {},
   "outputs": [
    {
     "name": "stdout",
     "output_type": "stream",
     "text": [
      "22\n"
     ]
    }
   ],
   "source": [
    "@adding_using_decorator\n",
    "def add(a,b):\n",
    "    return a+b\n",
    "\n",
    "print(add)"
   ]
  },
  {
   "cell_type": "code",
   "execution_count": null,
   "id": "fa638366",
   "metadata": {},
   "outputs": [],
   "source": []
  },
  {
   "cell_type": "markdown",
   "id": "3ccff1de",
   "metadata": {},
   "source": [
    "### You can also assign a value to function name"
   ]
  },
  {
   "cell_type": "code",
   "execution_count": 61,
   "id": "a51ecb8a",
   "metadata": {},
   "outputs": [
    {
     "name": "stdout",
     "output_type": "stream",
     "text": [
      "Hello\n"
     ]
    }
   ],
   "source": [
    "def hi():\n",
    "    print(\"hi\")\n",
    "hi = \"Hello\"\n",
    "print(hi)"
   ]
  },
  {
   "cell_type": "code",
   "execution_count": null,
   "id": "e715d78d",
   "metadata": {},
   "outputs": [],
   "source": []
  },
  {
   "cell_type": "code",
   "execution_count": null,
   "id": "3c25fd99",
   "metadata": {},
   "outputs": [],
   "source": []
  }
 ],
 "metadata": {
  "kernelspec": {
   "display_name": "PracticeENV",
   "language": "python",
   "name": "practiceenv"
  },
  "language_info": {
   "codemirror_mode": {
    "name": "ipython",
    "version": 3
   },
   "file_extension": ".py",
   "mimetype": "text/x-python",
   "name": "python",
   "nbconvert_exporter": "python",
   "pygments_lexer": "ipython3",
   "version": "3.6.13"
  }
 },
 "nbformat": 4,
 "nbformat_minor": 5
}
