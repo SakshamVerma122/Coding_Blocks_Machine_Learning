{
 "cells": [
  {
   "cell_type": "markdown",
   "id": "bfc83f18",
   "metadata": {},
   "source": [
    "### Iterables\n",
    "* Iterable is an object, that one can iterate over.\n",
    "* Generates an Iterator when passed to iter() method.\n",
    "\n",
    "### Iterator\n",
    "* An iterator is an object, which is used to iterate over an iterable object using the __next__() method.\n",
    "*  __next__() method, which returns the next item of the object. \n",
    "\n",
    "**Note :** Every iterator is also an iterable, but not every iterable is an iterator.\n",
    "\n",
    "**Example :** A list is iterable but a list is not an iterator. \n",
    "\n",
    "* An iterator can be created from an iterable by using the function iter(). \n",
    "* To make this possible, the class of an object needs either a method __iter__, which returns an iterator, or a __getitem__ method with sequential indexes starting with 0. "
   ]
  },
  {
   "cell_type": "code",
   "execution_count": 3,
   "id": "886bcf4d",
   "metadata": {},
   "outputs": [
    {
     "ename": "TypeError",
     "evalue": "'str' object is not an iterator",
     "output_type": "error",
     "traceback": [
      "\u001b[1;31m---------------------------------------------------------------------------\u001b[0m",
      "\u001b[1;31mTypeError\u001b[0m                                 Traceback (most recent call last)",
      "\u001b[1;32m<ipython-input-3-5dc4ca612fed>\u001b[0m in \u001b[0;36m<module>\u001b[1;34m\u001b[0m\n\u001b[0;32m      1\u001b[0m \u001b[1;31m# code\u001b[0m\u001b[1;33m\u001b[0m\u001b[1;33m\u001b[0m\u001b[1;33m\u001b[0m\u001b[0m\n\u001b[1;32m----> 2\u001b[1;33m \u001b[0mnext\u001b[0m\u001b[1;33m(\u001b[0m\u001b[1;34m\"GFG\"\u001b[0m\u001b[1;33m)\u001b[0m\u001b[1;33m\u001b[0m\u001b[1;33m\u001b[0m\u001b[0m\n\u001b[0m",
      "\u001b[1;31mTypeError\u001b[0m: 'str' object is not an iterator"
     ]
    }
   ],
   "source": [
    "# str is iterable but it is not an iterator.\n",
    "#  if we run this in for loop to print string then it is possible because when for loop executes it converts into an iterator to execute the code. \n",
    "next(\"GFG\")"
   ]
  },
  {
   "cell_type": "code",
   "execution_count": null,
   "id": "c88ef84a",
   "metadata": {},
   "outputs": [],
   "source": [
    "# code\n",
    "s=\"GFG\"\n",
    "s=iter(s)\n",
    "next(s)"
   ]
  },
  {
   "cell_type": "code",
   "execution_count": 2,
   "id": "f132974a",
   "metadata": {},
   "outputs": [
    {
     "name": "stdout",
     "output_type": "stream",
     "text": [
      "1\n",
      "2\n",
      "3\n"
     ]
    }
   ],
   "source": [
    "nums = [1,2,3]\n",
    "\n",
    "for num in nums:\n",
    "    print(num)"
   ]
  },
  {
   "cell_type": "code",
   "execution_count": 4,
   "id": "66240760",
   "metadata": {},
   "outputs": [],
   "source": [
    "# if somethings are itterable then they have __iter__()"
   ]
  },
  {
   "cell_type": "code",
   "execution_count": 8,
   "id": "cdbe056c",
   "metadata": {},
   "outputs": [
    {
     "name": "stdout",
     "output_type": "stream",
     "text": [
      "1\n",
      "2\n",
      "3\n"
     ]
    }
   ],
   "source": [
    "nums = [1,2,3]\n",
    "# What the for loop is doing in the background is calling __iter__ in the\n",
    "# background and returning iterator that we can loop over so that is why \n",
    "# we call the list itterable\n",
    "\n",
    "# but when we run the dunder itter method on the list it makes it itterable\n",
    "# An itterator is an object with a state that remembers where it is during \n",
    "# itteration itterator gets the next value using dunder itter method\n",
    "for num in nums:\n",
    "    print(num)"
   ]
  },
  {
   "cell_type": "code",
   "execution_count": 9,
   "id": "7ad02e6a",
   "metadata": {},
   "outputs": [
    {
     "name": "stdout",
     "output_type": "stream",
     "text": [
      "['__add__', '__class__', '__contains__', '__delattr__', '__delitem__', '__dir__', '__doc__', '__eq__', '__format__', '__ge__', '__getattribute__', '__getitem__', '__gt__', '__hash__', '__iadd__', '__imul__', '__init__', '__init_subclass__', '__iter__', '__le__', '__len__', '__lt__', '__mul__', '__ne__', '__new__', '__reduce__', '__reduce_ex__', '__repr__', '__reversed__', '__rmul__', '__setattr__', '__setitem__', '__sizeof__', '__str__', '__subclasshook__', 'append', 'clear', 'copy', 'count', 'extend', 'index', 'insert', 'pop', 'remove', 'reverse', 'sort']\n"
     ]
    }
   ],
   "source": [
    "# dir tells regarding the methods and attribute available in that particular object\n",
    "print(dir(nums))"
   ]
  },
  {
   "cell_type": "code",
   "execution_count": 3,
   "id": "900bfe2f",
   "metadata": {},
   "outputs": [
    {
     "data": {
      "text/plain": [
       "True"
      ]
     },
     "execution_count": 3,
     "metadata": {},
     "output_type": "execute_result"
    }
   ],
   "source": [
    "\"__iter__\" in dir(nums)"
   ]
  },
  {
   "cell_type": "code",
   "execution_count": 10,
   "id": "a5c89192",
   "metadata": {},
   "outputs": [
    {
     "name": "stdout",
     "output_type": "stream",
     "text": [
      "['__class__', '__delattr__', '__dir__', '__doc__', '__eq__', '__format__', '__ge__', '__getattribute__', '__gt__', '__hash__', '__init__', '__init_subclass__', '__iter__', '__le__', '__length_hint__', '__lt__', '__ne__', '__new__', '__next__', '__reduce__', '__reduce_ex__', '__repr__', '__setattr__', '__setstate__', '__sizeof__', '__str__', '__subclasshook__']\n"
     ]
    }
   ],
   "source": [
    "i_nums = nums.__iter__()\n",
    "\n",
    "print(dir(i_nums))"
   ]
  },
  {
   "cell_type": "code",
   "execution_count": 10,
   "id": "025ef943",
   "metadata": {},
   "outputs": [
    {
     "data": {
      "text/plain": [
       "0"
      ]
     },
     "execution_count": 10,
     "metadata": {},
     "output_type": "execute_result"
    }
   ],
   "source": [
    "import os\n",
    "CWD = os.getcwd()\n",
    "cmd = CWD+\"\\jupyter-nbconvert --to html {}\".format(\"Functions_1.ipynb\")\n",
    "os.system('cmd /c \"{}\"'.format('jupyter-nbconvert --to html \"{}\"'.format(\"Iterators and Iterables.ipynb\")))"
   ]
  },
  {
   "cell_type": "code",
   "execution_count": 8,
   "id": "cdbf994f",
   "metadata": {},
   "outputs": [
    {
     "data": {
      "text/plain": [
       "'C:\\\\Users\\\\saksh\\\\OneDrive\\\\Desktop\\\\github\\\\Coding_Blocks_Machine_Learning\\\\1_functions\\\\jupyter-nbconvert --to html Functions_1.ipynb'"
      ]
     },
     "execution_count": 8,
     "metadata": {},
     "output_type": "execute_result"
    }
   ],
   "source": [
    "'{}'.format(cmd)"
   ]
  },
  {
   "cell_type": "code",
   "execution_count": 12,
   "id": "0257da32",
   "metadata": {},
   "outputs": [
    {
     "data": {
      "text/plain": [
       "'Saksham.pdf'"
      ]
     },
     "execution_count": 12,
     "metadata": {},
     "output_type": "execute_result"
    }
   ],
   "source": [
    "s = \"Saksham.html\"\n",
    "s[:-4]+\"pdf\""
   ]
  },
  {
   "cell_type": "code",
   "execution_count": null,
   "id": "34682643",
   "metadata": {},
   "outputs": [],
   "source": []
  }
 ],
 "metadata": {
  "kernelspec": {
   "display_name": "PracticeENV",
   "language": "python",
   "name": "practiceenv"
  },
  "language_info": {
   "codemirror_mode": {
    "name": "ipython",
    "version": 3
   },
   "file_extension": ".py",
   "mimetype": "text/x-python",
   "name": "python",
   "nbconvert_exporter": "python",
   "pygments_lexer": "ipython3",
   "version": "3.6.13"
  }
 },
 "nbformat": 4,
 "nbformat_minor": 5
}
