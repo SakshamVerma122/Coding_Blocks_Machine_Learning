{
 "cells": [
  {
   "cell_type": "code",
   "execution_count": 1,
   "id": "1a109f1b",
   "metadata": {},
   "outputs": [],
   "source": [
    "import numpy as np"
   ]
  },
  {
   "cell_type": "markdown",
   "id": "9994bbe7",
   "metadata": {},
   "source": [
    "### Some More Numpy Functions - Statistics\n",
    "* min, max\n",
    "* mean\n",
    "* median\n",
    "* average\n",
    "* variance\n",
    "* standard deviation"
   ]
  },
  {
   "cell_type": "code",
   "execution_count": 3,
   "id": "4f8fbb5f",
   "metadata": {},
   "outputs": [
    {
     "name": "stdout",
     "output_type": "stream",
     "text": [
      "[[1 2 3 4]\n",
      " [7 6 2 0]]\n",
      "0\n",
      "[1 2 2 0]\n",
      "[1 2 2 0]\n"
     ]
    }
   ],
   "source": [
    "a = np.array([[1,2,3,4],[7,6,2,0]])\n",
    "print(a)\n",
    "print(np.min(a))\n",
    "\n",
    "# Min along col\n",
    "print(np.min(a,axis=0))\n",
    "\n",
    "# Min along row\n",
    "print(np.min(a,axis=1))\n",
    "\n"
   ]
  },
  {
   "cell_type": "markdown",
   "id": "79f4b318",
   "metadata": {},
   "source": [
    "### Mean"
   ]
  },
  {
   "cell_type": "code",
   "execution_count": 4,
   "id": "c7292cc9",
   "metadata": {},
   "outputs": [
    {
     "data": {
      "text/plain": [
       "5.5"
      ]
     },
     "execution_count": 4,
     "metadata": {},
     "output_type": "execute_result"
    }
   ],
   "source": [
    "a = np.array([[1,2,3,4,5],[6,7,8,9,10]])\n",
    "np.mean(a)"
   ]
  },
  {
   "cell_type": "code",
   "execution_count": 5,
   "id": "3eade1db",
   "metadata": {},
   "outputs": [
    {
     "data": {
      "text/plain": [
       "array([3.5, 4.5, 5.5, 6.5, 7.5])"
      ]
     },
     "execution_count": 5,
     "metadata": {},
     "output_type": "execute_result"
    }
   ],
   "source": [
    "a = np.array([[1,2,3,4,5],[6,7,8,9,10]])\n",
    "\n",
    "# It's calculating mean accross various columns/traversing rows\n",
    "np.mean(a,axis=0)"
   ]
  },
  {
   "cell_type": "markdown",
   "id": "cd8e41b2",
   "metadata": {},
   "source": [
    "### Median"
   ]
  },
  {
   "cell_type": "code",
   "execution_count": 7,
   "id": "5465fb00",
   "metadata": {},
   "outputs": [
    {
     "data": {
      "text/plain": [
       "5.5"
      ]
     },
     "execution_count": 7,
     "metadata": {},
     "output_type": "execute_result"
    }
   ],
   "source": [
    "np.median(a)"
   ]
  },
  {
   "cell_type": "code",
   "execution_count": 8,
   "id": "fc17df1d",
   "metadata": {},
   "outputs": [
    {
     "data": {
      "text/plain": [
       "array([3.5, 4.5, 5.5, 6.5, 7.5])"
      ]
     },
     "execution_count": 8,
     "metadata": {},
     "output_type": "execute_result"
    }
   ],
   "source": [
    "np.median(a,axis=0)"
   ]
  },
  {
   "cell_type": "markdown",
   "id": "307617be",
   "metadata": {},
   "source": [
    "### Weighted average"
   ]
  },
  {
   "cell_type": "code",
   "execution_count": 10,
   "id": "a3592fc3",
   "metadata": {},
   "outputs": [],
   "source": [
    "np.average?"
   ]
  },
  {
   "cell_type": "code",
   "execution_count": 11,
   "id": "71e824d5",
   "metadata": {},
   "outputs": [
    {
     "data": {
      "text/plain": [
       "4.333333333333333"
      ]
     },
     "execution_count": 11,
     "metadata": {},
     "output_type": "execute_result"
    }
   ],
   "source": [
    "number_array = np.array([1,2,3,4,5,6])\n",
    "weighted_array = np.array([1,2,3,4,5,6])\n",
    "\n",
    "np.average(number_array,weights = weighted_array)"
   ]
  },
  {
   "attachments": {
    "image.png": {
     "image/png": "[encoded data removed]"
    }
   },
   "cell_type": "markdown",
   "id": "30ee6a85",
   "metadata": {},
   "source": [
    "### Standard deviation and variance\n",
    "![image.png](attachment:image.png)\n",
    "**Variance = Standard deviation ^ 2 **"
   ]
  },
  {
   "cell_type": "code",
   "execution_count": 33,
   "id": "6a0d17dc",
   "metadata": {},
   "outputs": [
    {
     "name": "stdout",
     "output_type": "stream",
     "text": [
      "1.854723699099141\n"
     ]
    }
   ],
   "source": [
    "numbers  = np.array([1,5,4,2,0],dtype = np.float64)\n",
    "numbers -= np.mean(numbers)\n",
    "numbers **= 2\n",
    "length = len(numbers)\n",
    "numbers = np.sum(numbers)\n",
    "numbers /= length\n",
    "import math\n",
    "numbers = math.sqrt(numbers)\n",
    "print(numbers)"
   ]
  },
  {
   "cell_type": "code",
   "execution_count": 34,
   "id": "c0744fc3",
   "metadata": {},
   "outputs": [
    {
     "name": "stdout",
     "output_type": "stream",
     "text": [
      "1.854723699099141\n"
     ]
    }
   ],
   "source": [
    "numbers  = np.array([1,5,4,2,0],dtype = np.float64)\n",
    "u = np.mean(numbers)\n",
    "myStd = np.sqrt(np.mean(abs(numbers-u)**2))\n",
    "print(myStd)"
   ]
  },
  {
   "cell_type": "code",
   "execution_count": 35,
   "id": "77ecaf4b",
   "metadata": {},
   "outputs": [
    {
     "data": {
      "text/plain": [
       "2.0"
      ]
     },
     "execution_count": 35,
     "metadata": {},
     "output_type": "execute_result"
    }
   ],
   "source": [
    "### Very important\n",
    "np.sqrt(4)"
   ]
  },
  {
   "cell_type": "code",
   "execution_count": 36,
   "id": "d158dd13",
   "metadata": {},
   "outputs": [
    {
     "name": "stdout",
     "output_type": "stream",
     "text": [
      "[1]\n"
     ]
    },
    {
     "data": {
      "text/plain": [
       "numpy.float64"
      ]
     },
     "execution_count": 36,
     "metadata": {},
     "output_type": "execute_result"
    }
   ],
   "source": [
    "a_single_ele = np.array([1])\n",
    "print(a_single_ele)\n",
    "\n",
    "type(np.sqrt(4))"
   ]
  },
  {
   "cell_type": "code",
   "execution_count": 32,
   "id": "edd9ec29",
   "metadata": {},
   "outputs": [
    {
     "name": "stdout",
     "output_type": "stream",
     "text": [
      "Standard deviation 1.854723699099141\n",
      "Variance 3.4400000000000004\n"
     ]
    }
   ],
   "source": [
    "print(\"Standard deviation\",np.std(numbers))\n",
    "print(\"Variance\",np.var(numbers))"
   ]
  },
  {
   "cell_type": "code",
   "execution_count": null,
   "id": "4b76cebe",
   "metadata": {},
   "outputs": [],
   "source": []
  }
 ],
 "metadata": {
  "kernelspec": {
   "display_name": "Python 3",
   "language": "python",
   "name": "python3"
  },
  "language_info": {
   "codemirror_mode": {
    "name": "ipython",
    "version": 3
   },
   "file_extension": ".py",
   "mimetype": "text/x-python",
   "name": "python",
   "nbconvert_exporter": "python",
   "pygments_lexer": "ipython3",
   "version": "3.8.8"
  }
 },
 "nbformat": 4,
 "nbformat_minor": 5
}
