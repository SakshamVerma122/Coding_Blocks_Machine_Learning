{
 "cells": [
  {
   "cell_type": "markdown",
   "id": "795089fd",
   "metadata": {},
   "source": [
    "## Numpy Random Module\n",
    "* rand : Random values in a given shape.\n",
    "* randn : Return a sample(or samples) from the \"standard normal\" distribution.\n",
    "* randint : Return random integers from low (inclusive) to high(exclusive).\n",
    "* random : Return random floats in the half-open interval[0.0,1.0)\n",
    "* choice : Generates a random sample from a given 1-D array.\n",
    "* shuffle : Shuffles the contents of a sequence"
   ]
  },
  {
   "cell_type": "code",
   "execution_count": 3,
   "id": "6f34d19a",
   "metadata": {},
   "outputs": [
    {
     "name": "stdout",
     "output_type": "stream",
     "text": [
      "[0 1 2 3 4 5 6 7 8 9]\n",
      "<class 'numpy.ndarray'>\n"
     ]
    }
   ],
   "source": [
    "import numpy as np\n",
    "a = np.arange(10)\n",
    "print(a)\n",
    "print(type(a))"
   ]
  },
  {
   "cell_type": "code",
   "execution_count": 5,
   "id": "ec7941e9",
   "metadata": {},
   "outputs": [
    {
     "name": "stdout",
     "output_type": "stream",
     "text": [
      "[ 5  6  7  8  9 10 11 12 13 14]\n",
      "<class 'numpy.ndarray'>\n"
     ]
    }
   ],
   "source": [
    "a_plus_5 = np.arange(10)+5\n",
    "print(a_plus_5)\n",
    "print(type(a_plus_5))"
   ]
  },
  {
   "cell_type": "code",
   "execution_count": 6,
   "id": "0efbb93e",
   "metadata": {},
   "outputs": [],
   "source": [
    "np.random?"
   ]
  },
  {
   "cell_type": "markdown",
   "id": "419c7c18",
   "metadata": {},
   "source": [
    "### random shuffling of array"
   ]
  },
  {
   "cell_type": "code",
   "execution_count": 8,
   "id": "f25a32a1",
   "metadata": {},
   "outputs": [
    {
     "name": "stdout",
     "output_type": "stream",
     "text": [
      "[6 3 0 8 9 2 5 4 7 1]\n"
     ]
    }
   ],
   "source": [
    "np.random.shuffle(a)\n",
    "print(a)"
   ]
  },
  {
   "cell_type": "markdown",
   "id": "985a9716",
   "metadata": {},
   "source": [
    "### Generating array of numbers"
   ]
  },
  {
   "cell_type": "code",
   "execution_count": 9,
   "id": "6cf8c691",
   "metadata": {},
   "outputs": [
    {
     "name": "stdout",
     "output_type": "stream",
     "text": [
      "[[0.35333891 0.27141806 0.83473871]\n",
      " [0.02333899 0.76302931 0.71096348]]\n"
     ]
    }
   ],
   "source": [
    "a = np.random.rand(2,3)\n",
    "print(a)"
   ]
  },
  {
   "cell_type": "markdown",
   "id": "686130b9",
   "metadata": {},
   "source": [
    "### Generating array from nirmal ditribution"
   ]
  },
  {
   "cell_type": "code",
   "execution_count": 11,
   "id": "7969fdd5",
   "metadata": {},
   "outputs": [
    {
     "name": "stdout",
     "output_type": "stream",
     "text": [
      "[[-0.48747821  1.12789699 -1.37872116]\n",
      " [ 0.22505685  2.05561012  0.81242886]]\n"
     ]
    }
   ],
   "source": [
    "a = np.random.randn(2,3)\n",
    "print(a)"
   ]
  },
  {
   "cell_type": "code",
   "execution_count": 16,
   "id": "8495625f",
   "metadata": {},
   "outputs": [],
   "source": [
    "np.random.randn?"
   ]
  },
  {
   "cell_type": "markdown",
   "id": "72f2d0a8",
   "metadata": {},
   "source": [
    "### getting particular amount of numbers in a particular range"
   ]
  },
  {
   "cell_type": "code",
   "execution_count": 21,
   "id": "13901a72",
   "metadata": {},
   "outputs": [
    {
     "data": {
      "text/plain": [
       "array([7, 6, 6])"
      ]
     },
     "execution_count": 21,
     "metadata": {},
     "output_type": "execute_result"
    }
   ],
   "source": [
    "a = np.random.randint(5,10,3)\n",
    "a"
   ]
  },
  {
   "cell_type": "markdown",
   "id": "88a5b84c",
   "metadata": {},
   "source": [
    "### Randomly picking an element"
   ]
  },
  {
   "cell_type": "code",
   "execution_count": 22,
   "id": "1300844f",
   "metadata": {},
   "outputs": [
    {
     "name": "stdout",
     "output_type": "stream",
     "text": [
      "1\n"
     ]
    }
   ],
   "source": [
    "element = np.random.choice([1,4,3,2,11,27])\n",
    "print(element)"
   ]
  },
  {
   "cell_type": "code",
   "execution_count": 25,
   "id": "e4590464",
   "metadata": {},
   "outputs": [
    {
     "data": {
      "text/plain": [
       "0.5759499616636331"
      ]
     },
     "execution_count": 25,
     "metadata": {},
     "output_type": "execute_result"
    }
   ],
   "source": [
    "np.random.random()"
   ]
  },
  {
   "cell_type": "markdown",
   "id": "3124e3f7",
   "metadata": {},
   "source": [
    "### Seed in random\n",
    "* If you want your radom number must be generated in same order every time you use seed(decides the starting number).\n",
    "* These random numbers are **pseudo random generator**"
   ]
  },
  {
   "cell_type": "code",
   "execution_count": 26,
   "id": "0f822385",
   "metadata": {},
   "outputs": [],
   "source": [
    "np.random.seed(1)"
   ]
  },
  {
   "cell_type": "code",
   "execution_count": null,
   "id": "ef09e73c",
   "metadata": {},
   "outputs": [],
   "source": []
  }
 ],
 "metadata": {
  "kernelspec": {
   "display_name": "Python 3",
   "language": "python",
   "name": "python3"
  },
  "language_info": {
   "codemirror_mode": {
    "name": "ipython",
    "version": 3
   },
   "file_extension": ".py",
   "mimetype": "text/x-python",
   "name": "python",
   "nbconvert_exporter": "python",
   "pygments_lexer": "ipython3",
   "version": "3.8.8"
  }
 },
 "nbformat": 4,
 "nbformat_minor": 5
}
