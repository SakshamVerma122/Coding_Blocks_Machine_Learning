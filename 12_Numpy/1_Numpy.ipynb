{
 "cells": [
  {
   "cell_type": "markdown",
   "id": "bb41d114",
   "metadata": {},
   "source": [
    "### Working with Numpy - for mathematical operations"
   ]
  },
  {
   "cell_type": "code",
   "execution_count": 3,
   "id": "aa757089",
   "metadata": {},
   "outputs": [],
   "source": [
    "import numpy as np"
   ]
  },
  {
   "cell_type": "markdown",
   "id": "30272b73",
   "metadata": {},
   "source": [
    "### Creating an array"
   ]
  },
  {
   "cell_type": "code",
   "execution_count": 4,
   "id": "1c697ece",
   "metadata": {},
   "outputs": [
    {
     "name": "stdout",
     "output_type": "stream",
     "text": [
      "[1 2 3 4 5]\n",
      "<class 'numpy.ndarray'>\n"
     ]
    }
   ],
   "source": [
    "a = np.array([1,2,3,4,5])\n",
    "print(a)\n",
    "print(type(a))"
   ]
  },
  {
   "cell_type": "markdown",
   "id": "f1fcb198",
   "metadata": {},
   "source": [
    "### Dimensions of array"
   ]
  },
  {
   "cell_type": "code",
   "execution_count": 5,
   "id": "ba29e332",
   "metadata": {},
   "outputs": [
    {
     "name": "stdout",
     "output_type": "stream",
     "text": [
      "(5,)\n"
     ]
    }
   ],
   "source": [
    "print(a.shape)"
   ]
  },
  {
   "cell_type": "code",
   "execution_count": 6,
   "id": "d4c9dc45",
   "metadata": {},
   "outputs": [
    {
     "name": "stdout",
     "output_type": "stream",
     "text": [
      "[[1]\n",
      " [2]\n",
      " [3]\n",
      " [4]\n",
      " [5]]\n",
      "(5, 1)\n"
     ]
    }
   ],
   "source": [
    "            # 2D array\n",
    "    \n",
    "b = np.array([[1],[2],[3],[4],[5]])\n",
    "print(b)\n",
    "print(b.shape)"
   ]
  },
  {
   "cell_type": "code",
   "execution_count": 7,
   "id": "24ec78cc",
   "metadata": {},
   "outputs": [
    {
     "name": "stdout",
     "output_type": "stream",
     "text": [
      "[[1 2 3]\n",
      " [4 5 6]]\n",
      "(2, 3)\n"
     ]
    }
   ],
   "source": [
    "c = np.array([[1,2,3],[4,5,6]])\n",
    "print(c)\n",
    "print(c.shape)"
   ]
  },
  {
   "cell_type": "markdown",
   "id": "216bd1d9",
   "metadata": {},
   "source": [
    "### Accessing elements of an array"
   ]
  },
  {
   "cell_type": "code",
   "execution_count": 8,
   "id": "574c1999",
   "metadata": {},
   "outputs": [
    {
     "data": {
      "text/plain": [
       "5"
      ]
     },
     "execution_count": 8,
     "metadata": {},
     "output_type": "execute_result"
    }
   ],
   "source": [
    "# 2D array\n",
    "c[1][1]"
   ]
  },
  {
   "cell_type": "code",
   "execution_count": 9,
   "id": "79296713",
   "metadata": {},
   "outputs": [
    {
     "data": {
      "text/plain": [
       "1"
      ]
     },
     "execution_count": 9,
     "metadata": {},
     "output_type": "execute_result"
    }
   ],
   "source": [
    "# 1D array\n",
    "a[0]"
   ]
  },
  {
   "cell_type": "markdown",
   "id": "924a8f63",
   "metadata": {},
   "source": [
    "### Create Zeroes ,Ones ,Custom array"
   ]
  },
  {
   "cell_type": "code",
   "execution_count": 10,
   "id": "d6736945",
   "metadata": {},
   "outputs": [
    {
     "name": "stdout",
     "output_type": "stream",
     "text": [
      "[[0. 0. 0.]\n",
      " [0. 0. 0.]\n",
      " [0. 0. 0.]]\n",
      "<class 'numpy.ndarray'>\n"
     ]
    }
   ],
   "source": [
    "### ZEROS ###\n",
    "a= np.zeros((3,3))\n",
    "print(a)\n",
    "print(type(a))"
   ]
  },
  {
   "cell_type": "code",
   "execution_count": 11,
   "id": "3db7e8cc",
   "metadata": {},
   "outputs": [
    {
     "name": "stdout",
     "output_type": "stream",
     "text": [
      "[[1. 1. 1.]\n",
      " [1. 1. 1.]\n",
      " [1. 1. 1.]]\n",
      "<class 'numpy.ndarray'>\n"
     ]
    }
   ],
   "source": [
    "### ONES ###\n",
    "o = np.ones((3,3))\n",
    "print(o)\n",
    "print(type(o))"
   ]
  },
  {
   "cell_type": "code",
   "execution_count": 12,
   "id": "78d5bb4a",
   "metadata": {},
   "outputs": [
    {
     "name": "stdout",
     "output_type": "stream",
     "text": [
      "[[5. 5. 5.]\n",
      " [5. 5. 5.]\n",
      " [5. 5. 5.]]\n",
      "<class 'numpy.ndarray'>\n"
     ]
    }
   ],
   "source": [
    "### Constant array ###\n",
    "\n",
    "c = np.full((3,3),5,dtype = np.float64)\n",
    "#np.full((dimensions),value of const)\n",
    "\n",
    "print(c)\n",
    "print(type(c))"
   ]
  },
  {
   "cell_type": "code",
   "execution_count": 13,
   "id": "3f4d36e0",
   "metadata": {},
   "outputs": [
    {
     "name": "stdout",
     "output_type": "stream",
     "text": [
      "[[1. 0. 0.]\n",
      " [0. 1. 0.]\n",
      " [0. 0. 1.]\n",
      " [0. 0. 0.]]\n",
      "\n",
      "[[0. 1. 0. 0.]\n",
      " [0. 0. 1. 0.]\n",
      " [0. 0. 0. 1.]\n",
      " [0. 0. 0. 0.]]\n",
      "\n",
      "[[0. 0. 0. 0.]\n",
      " [1. 0. 0. 0.]\n",
      " [0. 1. 0. 0.]\n",
      " [0. 0. 1. 0.]]\n"
     ]
    }
   ],
   "source": [
    "identity_matrix = np.eye(4,3)\n",
    "print(identity_matrix)\n",
    "print()\n",
    "#  a positive value refers to an upper diagonal, and a negative value\n",
    "#  to a lower diagonal.\n",
    "\n",
    "identity_matrix_upperdiag = np.eye(4, k = 1)\n",
    "print(identity_matrix_upperdiag)\n",
    "print()\n",
    "\n",
    "identity_matrix_lowerdiag = np.eye(4, k = -1)\n",
    "print(identity_matrix_lowerdiag)\n"
   ]
  },
  {
   "cell_type": "code",
   "execution_count": 14,
   "id": "d3719f89",
   "metadata": {},
   "outputs": [],
   "source": [
    "np.eye?"
   ]
  },
  {
   "cell_type": "code",
   "execution_count": 15,
   "id": "8dfe83ea",
   "metadata": {},
   "outputs": [
    {
     "name": "stdout",
     "output_type": "stream",
     "text": [
      "[[0.6022028  0.20628054 0.4465402 ]\n",
      " [0.00169956 0.74390506 0.66464102]]\n",
      "<class 'numpy.ndarray'>\n"
     ]
    }
   ],
   "source": [
    "### Random Matrix ###\n",
    "Random_Matrix = np.random.random((2,3))\n",
    "print(Random_Matrix)\n",
    "print(type(Random_Matrix))"
   ]
  },
  {
   "cell_type": "markdown",
   "id": "28b76b78",
   "metadata": {},
   "source": [
    "### Accessing values of random matrix "
   ]
  },
  {
   "cell_type": "code",
   "execution_count": 16,
   "id": "4f587021",
   "metadata": {},
   "outputs": [
    {
     "name": "stdout",
     "output_type": "stream",
     "text": [
      "[0.4465402  0.66464102]\n"
     ]
    }
   ],
   "source": [
    "print(Random_Matrix[ : ,2])"
   ]
  },
  {
   "cell_type": "code",
   "execution_count": 17,
   "id": "ae6b3974",
   "metadata": {},
   "outputs": [
    {
     "name": "stdout",
     "output_type": "stream",
     "text": [
      "[0.6022028  0.20628054 0.4465402 ]\n"
     ]
    }
   ],
   "source": [
    "print(Random_Matrix[0][:])"
   ]
  },
  {
   "cell_type": "markdown",
   "id": "734b8f45",
   "metadata": {},
   "source": [
    "### Assigning values to arrays element using slicing"
   ]
  },
  {
   "cell_type": "code",
   "execution_count": 18,
   "id": "34d2e8ba",
   "metadata": {},
   "outputs": [
    {
     "name": "stdout",
     "output_type": "stream",
     "text": [
      "[[1.         1.         1.        ]\n",
      " [0.00169956 0.74390506 0.66464102]]\n"
     ]
    }
   ],
   "source": [
    "Random_Matrix[0][:] = 1\n",
    "print(Random_Matrix)"
   ]
  },
  {
   "cell_type": "markdown",
   "id": "e5c234b5",
   "metadata": {},
   "source": [
    "### Datatypes"
   ]
  },
  {
   "cell_type": "code",
   "execution_count": 19,
   "id": "a0d00caa",
   "metadata": {},
   "outputs": [
    {
     "name": "stdout",
     "output_type": "stream",
     "text": [
      "[[5. 5. 5.]\n",
      " [5. 5. 5.]\n",
      " [5. 5. 5.]]\n",
      "c :  float64\n",
      "datatype_array :  float64\n"
     ]
    }
   ],
   "source": [
    "print(c)\n",
    "print('c : ',c.dtype)\n",
    "\n",
    "## You can change the datatype by\n",
    "\n",
    "datatype_array = np.array([1,2,3,4],dtype = np.float64)\n",
    "# by default its datatype ust have been int64\n",
    "\n",
    "print('datatype_array : ',datatype_array.dtype)"
   ]
  },
  {
   "cell_type": "markdown",
   "id": "1868101c",
   "metadata": {},
   "source": [
    "### Mathematical Operations"
   ]
  },
  {
   "cell_type": "code",
   "execution_count": 20,
   "id": "c69277c2",
   "metadata": {},
   "outputs": [
    {
     "name": "stdout",
     "output_type": "stream",
     "text": [
      "[[2 4]\n",
      " [6 8]]\n",
      "[[2 4]\n",
      " [6 8]]\n",
      "[[0 0]\n",
      " [0 0]]\n",
      "[[0 0]\n",
      " [0 0]]\n",
      "[[ 1  4]\n",
      " [ 9 16]]\n",
      "[[ 1  4]\n",
      " [ 9 16]]\n",
      "[[1. 1.]\n",
      " [1. 1.]]\n",
      "[[1. 1.]\n",
      " [1. 1.]]\n",
      "[[1.         1.41421356]\n",
      " [1.73205081 2.        ]]\n"
     ]
    }
   ],
   "source": [
    "x = np.array([[1,2],[3,4]])\n",
    "y = np.array([[1,2],[3,4]])\n",
    "\n",
    "#Element Wise Addition\n",
    "print(x+y)\n",
    "print(np.add(x,y))\n",
    "\n",
    "#Element Wise Subtraction\n",
    "print(x-y)\n",
    "print(np.subtract(x,y))\n",
    "\n",
    "#Element Wise Multiplication\n",
    "print(x*y)\n",
    "print(np.multiply(x,y))\n",
    "\n",
    "#Element Wise Division\n",
    "print(x/y)\n",
    "print(np.divide(x,y))\n",
    "\n",
    "#Element Wise Squareroot\n",
    "print(np.sqrt(x))"
   ]
  },
  {
   "cell_type": "code",
   "execution_count": 54,
   "id": "d3ccf899",
   "metadata": {},
   "outputs": [
    {
     "name": "stdout",
     "output_type": "stream",
     "text": [
      "x after subtraction [[0 1]\n",
      " [2 3]]\n",
      "x after addition [[1 2]\n",
      " [3 4]]\n",
      "x after multiplication [[2 4]\n",
      " [6 8]]\n"
     ]
    },
    {
     "ename": "TypeError",
     "evalue": "No loop matching the specified signature and casting was found for ufunc true_divide",
     "output_type": "error",
     "traceback": [
      "\u001b[1;31m---------------------------------------------------------------------------\u001b[0m",
      "\u001b[1;31mTypeError\u001b[0m                                 Traceback (most recent call last)",
      "\u001b[1;32m<ipython-input-54-21ff75a8f187>\u001b[0m in \u001b[0;36m<module>\u001b[1;34m\u001b[0m\n\u001b[0;32m      6\u001b[0m \u001b[0mx\u001b[0m\u001b[1;33m*=\u001b[0m\u001b[1;36m2\u001b[0m\u001b[1;33m\u001b[0m\u001b[1;33m\u001b[0m\u001b[0m\n\u001b[0;32m      7\u001b[0m \u001b[0mprint\u001b[0m\u001b[1;33m(\u001b[0m\u001b[1;34m\"x after multiplication\"\u001b[0m\u001b[1;33m,\u001b[0m\u001b[0mx\u001b[0m\u001b[1;33m)\u001b[0m\u001b[1;33m\u001b[0m\u001b[1;33m\u001b[0m\u001b[0m\n\u001b[1;32m----> 8\u001b[1;33m \u001b[0mx\u001b[0m\u001b[1;33m/=\u001b[0m\u001b[1;36m2\u001b[0m\u001b[1;33m\u001b[0m\u001b[1;33m\u001b[0m\u001b[0m\n\u001b[0m\u001b[0;32m      9\u001b[0m \u001b[0mprint\u001b[0m\u001b[1;33m(\u001b[0m\u001b[1;34m\"x after division\"\u001b[0m\u001b[1;33m,\u001b[0m\u001b[0mx\u001b[0m\u001b[1;33m)\u001b[0m\u001b[1;33m\u001b[0m\u001b[1;33m\u001b[0m\u001b[0m\n",
      "\u001b[1;31mTypeError\u001b[0m: No loop matching the specified signature and casting was found for ufunc true_divide"
     ]
    }
   ],
   "source": [
    "x = np.array([[1,2],[3,4]])\n",
    "x-=1\n",
    "print(\"x after subtraction\",x)\n",
    "x+=1\n",
    "print(\"x after addition\",x)\n",
    "x*=2\n",
    "print(\"x after multiplication\",x)\n",
    "x/=2\n",
    "print(\"x after division\",x)"
   ]
  },
  {
   "cell_type": "code",
   "execution_count": 56,
   "id": "68b63890",
   "metadata": {},
   "outputs": [],
   "source": [
    "np.sqrt?"
   ]
  },
  {
   "cell_type": "code",
   "execution_count": 57,
   "id": "1fa75c5a",
   "metadata": {},
   "outputs": [
    {
     "data": {
      "text/plain": [
       "2.0"
      ]
     },
     "execution_count": 57,
     "metadata": {},
     "output_type": "execute_result"
    }
   ],
   "source": [
    "np.sqrt(4)"
   ]
  },
  {
   "cell_type": "code",
   "execution_count": 60,
   "id": "7b2287ee",
   "metadata": {},
   "outputs": [
    {
     "name": "stdout",
     "output_type": "stream",
     "text": [
      "[[2 4]\n",
      " [6 8]]\n",
      "After squaring [[ 4 16]\n",
      " [36 64]]\n"
     ]
    }
   ],
   "source": [
    "print(x)\n",
    "print(\"After squaring\",x**2)"
   ]
  },
  {
   "cell_type": "markdown",
   "id": "8bb495d6",
   "metadata": {},
   "source": [
    "### Matrix Multiplication / Dot Products"
   ]
  },
  {
   "cell_type": "code",
   "execution_count": 23,
   "id": "cbe1af50",
   "metadata": {},
   "outputs": [
    {
     "name": "stdout",
     "output_type": "stream",
     "text": [
      "x :  [[1 2]\n",
      " [3 4]]\n",
      "y :  [[1 2]\n",
      " [3 4]]\n",
      "Dot product/Matrix Multiplication\n",
      "\n",
      "[[ 7 10]\n",
      " [15 22]]\n",
      "Dot product/Matrix Multiplication\n",
      "\n",
      "[[ 7 10]\n",
      " [15 22]]\n"
     ]
    }
   ],
   "source": [
    "print(\"x : \",x)\n",
    "print(\"y : \",y)\n",
    "\n",
    "print(\"Dot product/Matrix Multiplication\\n\")\n",
    "print(x.dot(y))\n",
    "print(\"Dot product/Matrix Multiplication\\n\")\n",
    "print(np.dot(x,y))"
   ]
  },
  {
   "cell_type": "markdown",
   "id": "a5bb5e04",
   "metadata": {},
   "source": [
    "### Multiplication of 2 vectors"
   ]
  },
  {
   "cell_type": "code",
   "execution_count": 24,
   "id": "e588ce6b",
   "metadata": {},
   "outputs": [
    {
     "name": "stdout",
     "output_type": "stream",
     "text": [
      "Dimensions of a is:  (4,)\n",
      "Dimensions of a is:  (4,)\n",
      "30\n"
     ]
    }
   ],
   "source": [
    "## Remind this as an exception ##\n",
    "\n",
    "a = np.array([1,2,3,4])\n",
    "b = np.array([1,2,3,4])\n",
    "\n",
    "print(\"Dimensions of a is: \",a.shape)\n",
    "print(\"Dimensions of a is: \",b.shape)\n",
    "\n",
    "print(a.dot(b))"
   ]
  },
  {
   "cell_type": "code",
   "execution_count": 27,
   "id": "0ab26bc2",
   "metadata": {},
   "outputs": [
    {
     "name": "stdout",
     "output_type": "stream",
     "text": [
      "Dimensions of a is:  (4,)\n",
      "Dimensions of a is:  (4, 1)\n",
      "[30]\n",
      "<class 'numpy.ndarray'>\n"
     ]
    }
   ],
   "source": [
    "a = np.array([1,2,3,4])\n",
    "b = np.array([[1],[2],[3],[4]])\n",
    "\n",
    "print(\"Dimensions of a is: \",a.shape)\n",
    "print(\"Dimensions of a is: \",b.shape)\n",
    "\n",
    "print(a.dot(b))\n",
    "print(type(a.dot(b)))"
   ]
  },
  {
   "cell_type": "markdown",
   "id": "49d9fd6e",
   "metadata": {},
   "source": [
    "### Sum of whole array/array along some axis"
   ]
  },
  {
   "cell_type": "code",
   "execution_count": 40,
   "id": "4953de31",
   "metadata": {},
   "outputs": [
    {
     "name": "stdout",
     "output_type": "stream",
     "text": [
      "10\n",
      "10\n",
      "10\n",
      "x :  [[1 2]\n",
      " [3 4]]\n",
      "axis = 1 :  [3 7]\n",
      "axis = 0 :  [4 6]\n",
      "axis = -1 :  [3 7]\n"
     ]
    }
   ],
   "source": [
    "print(sum(a))\n",
    "\n",
    "# as you can see vector can allign themselves both column-wise and row-wise\n",
    "print(np.sum(a,axis = 0))\n",
    "print(np.sum(a,axis = -1))\n",
    "\n",
    "# AxisError: axis 1 is out of bounds for array of dimension 1\n",
    "# print(np.sum(a,axis = 1))\n",
    "\n",
    "# With 2 D array\n",
    "print(\"x : \",x)\n",
    "print(\"axis = 1 : \",np.sum(x,axis = 1))\n",
    "print(\"axis = 0 : \",np.sum(x,axis = 0))\n",
    "\n",
    "# axis = -1 : basically takes (x.shape)[len(x.shape)-1]\n",
    "print(\"axis = -1 : \",np.sum(x,axis = -1))"
   ]
  },
  {
   "cell_type": "markdown",
   "id": "705c26b6",
   "metadata": {},
   "source": [
    "* What axis:__ it must search along x.shape acording to the number given in the axis and thus they must traverse the array according to the meaning to which it stands for in x.shape \n",
    "Example:(row,column)"
   ]
  },
  {
   "attachments": {
    "image.png": {
     "image/png": "[encoded data removed]"
    }
   },
   "cell_type": "markdown",
   "id": "9d918b71",
   "metadata": {},
   "source": [
    "![image.png](attachment:image.png)"
   ]
  },
  {
   "cell_type": "markdown",
   "id": "3186e32a",
   "metadata": {},
   "source": [
    "### Stacking of arrays"
   ]
  },
  {
   "cell_type": "code",
   "execution_count": 43,
   "id": "c32522eb",
   "metadata": {},
   "outputs": [
    {
     "name": "stdout",
     "output_type": "stream",
     "text": [
      "[1 2 3 4]\n",
      "[ 1  4  9 16]\n"
     ]
    }
   ],
   "source": [
    "print(a)\n",
    "b = np.array([1,2,3,4])\n",
    "b **=2\n",
    "print(b)"
   ]
  },
  {
   "cell_type": "code",
   "execution_count": 44,
   "id": "f780f3b7",
   "metadata": {},
   "outputs": [
    {
     "data": {
      "text/plain": [
       "array([[ 1,  1],\n",
       "       [ 2,  4],\n",
       "       [ 3,  9],\n",
       "       [ 4, 16]])"
      ]
     },
     "execution_count": 44,
     "metadata": {},
     "output_type": "execute_result"
    }
   ],
   "source": [
    "np.stack((a,b),axis=1)"
   ]
  },
  {
   "cell_type": "code",
   "execution_count": 49,
   "id": "d9358f5e",
   "metadata": {},
   "outputs": [
    {
     "data": {
      "text/plain": [
       "array([[ 1,  1],\n",
       "       [ 2,  4],\n",
       "       [ 3,  9],\n",
       "       [ 4, 16]])"
      ]
     },
     "execution_count": 49,
     "metadata": {},
     "output_type": "execute_result"
    }
   ],
   "source": [
    "stacked_array = np.stack((a,b),axis=1)\n",
    "stacked_array"
   ]
  },
  {
   "cell_type": "code",
   "execution_count": 51,
   "id": "615d343b",
   "metadata": {},
   "outputs": [
    {
     "name": "stdout",
     "output_type": "stream",
     "text": [
      "[[ 1  2  3  4]\n",
      " [ 1  4  9 16]]\n"
     ]
    }
   ],
   "source": [
    "stacked_array_axis_0 = np.stack((a,b),axis=0)\n",
    "print(stacked_array_axis_0)"
   ]
  },
  {
   "cell_type": "markdown",
   "id": "e745ede4",
   "metadata": {},
   "source": [
    "### Reshape a Numpy Array"
   ]
  },
  {
   "cell_type": "code",
   "execution_count": 48,
   "id": "ae5fdfbb",
   "metadata": {},
   "outputs": [
    {
     "data": {
      "text/plain": [
       "array([[ 1,  1,  2,  4],\n",
       "       [ 3,  9,  4, 16]])"
      ]
     },
     "execution_count": 48,
     "metadata": {},
     "output_type": "execute_result"
    }
   ],
   "source": [
    "stacked_array.reshape(2,4)"
   ]
  },
  {
   "cell_type": "code",
   "execution_count": 53,
   "id": "64fbe652",
   "metadata": {},
   "outputs": [],
   "source": [
    "# DO read this\n",
    "np.reshape?"
   ]
  },
  {
   "cell_type": "code",
   "execution_count": null,
   "id": "2af32744",
   "metadata": {},
   "outputs": [],
   "source": []
  }
 ],
 "metadata": {
  "kernelspec": {
   "display_name": "Python 3",
   "language": "python",
   "name": "python3"
  },
  "language_info": {
   "codemirror_mode": {
    "name": "ipython",
    "version": 3
   },
   "file_extension": ".py",
   "mimetype": "text/x-python",
   "name": "python",
   "nbconvert_exporter": "python",
   "pygments_lexer": "ipython3",
   "version": "3.8.8"
  }
 },
 "nbformat": 4,
 "nbformat_minor": 5
}
