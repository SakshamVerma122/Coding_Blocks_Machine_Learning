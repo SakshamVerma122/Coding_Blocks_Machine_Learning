{
 "cells": [
  {
   "cell_type": "markdown",
   "id": "6f3eb080",
   "metadata": {},
   "source": [
    "\n",
    "## Data strucure\n",
    "* Need --> Strore data efficiently and perform operations on it\n",
    "* **CRUD** -->(Create,Read,Update,Delete/remove)\n",
    "\n",
    "* int\n",
    "* float \n",
    "* bool \n",
    "* strings \n",
    "* complex numbers \n",
    "* derived data structs(list,tuple,dict,set) "
   ]
  },
  {
   "cell_type": "code",
   "execution_count": 1,
   "id": "f78209c8",
   "metadata": {},
   "outputs": [
    {
     "name": "stdout",
     "output_type": "stream",
     "text": [
      "Memory address of a:1866904032\n",
      "Memory address of b:1866904032\n",
      "\n",
      "Memory address of vars a and b having same value but this time greater than 256\n",
      "Memory address of a:1799688479696\n",
      "Memory address of b:1799688479568\n"
     ]
    }
   ],
   "source": [
    "a = 10\n",
    "# What happens is 10 is stored in a memory address and 'a' points to it \n",
    "\n",
    "b = 10\n",
    "# As b is also storing '10' hence b will also point to the same memory \n",
    "# address to which 'a' is pointing\n",
    "\n",
    "print(\"Memory address of a:{}\".format(id(a)))\n",
    "print(\"Memory address of b:{}\".format(id(b)))\n",
    "\n",
    "\"This optimisation takes place only for range -5 to 256\"\n",
    "\n",
    "# Hence if we will do \n",
    "a = 257\n",
    "b = 257\n",
    "print(\"\\nMemory address of vars a and b having same value but this time greater than 256\")\n",
    "print(\"Memory address of a:{}\".format(id(a)))\n",
    "print(\"Memory address of b:{}\".format(id(b)))\n",
    "\n",
    "# both will be pointing to different memory addresses\n",
    "\n",
    "# because of the above reason most of the data structures are immutable For Example in case of int it will only be able to give \n",
    "# same addresses till a range of -5 to 256 after which for each different(i.e 257,258) object different addresses will be \n",
    "# assigned and hence if we want to change that object we will not be able to access that as multiple instances of such will \n",
    "# be there"
   ]
  },
  {
   "cell_type": "markdown",
   "id": "a86d6a16",
   "metadata": {},
   "source": [
    "#### The tuple itself isn’t mutable but can contain items that are mutable.\n",
    "Exception : However, there is an exception in immutability as well. We know that tuple in python is immutable. But the tuple consists of a sequence of names with unchangeable bindings to objects.\n",
    "Consider a tuple\n",
    " tup = ([3, 4, 5], 'myname') "
   ]
  },
  {
   "cell_type": "code",
   "execution_count": 8,
   "id": "e6f79914",
   "metadata": {},
   "outputs": [
    {
     "name": "stdout",
     "output_type": "stream",
     "text": [
      "10\n"
     ]
    },
    {
     "data": {
      "text/plain": [
       "c_char(b'\\xa4')"
      ]
     },
     "execution_count": 8,
     "metadata": {},
     "output_type": "execute_result"
    }
   ],
   "source": [
    "import ctypes\n",
    "x = 10\n",
    "a = ctypes.cast(id(x), ctypes.py_object).value\n",
    "print(a)\n",
    "\n",
    "\n",
    "memfield = (ctypes.c_char).from_address(id(x))\n",
    "memfield"
   ]
  },
  {
   "cell_type": "markdown",
   "id": "1b040622",
   "metadata": {},
   "source": [
    "[How to get value from address in Python ?](https://www.geeksforgeeks.org/how-to-get-value-from-address-in-python/#:~:text=Now%20that%20we%20have%20addresses,memory%20address%20using%20ctypes%20module.&text=.py_object.value-,where%2C,used%20to%20extract%20a%20value)"
   ]
  },
  {
   "cell_type": "code",
   "execution_count": 3,
   "id": "47c82e2c",
   "metadata": {},
   "outputs": [
    {
     "name": "stdout",
     "output_type": "stream",
     "text": [
      "a$bHello"
     ]
    }
   ],
   "source": [
    "# sep:   string inserted between values, default a space.\n",
    "# end:   string appended after the last value, default a newline.\n",
    "print(\"a\",\"b\",end=\"Hello\",sep=\"$\")"
   ]
  },
  {
   "cell_type": "code",
   "execution_count": 2,
   "id": "7f3ea958",
   "metadata": {},
   "outputs": [
    {
     "name": "stdout",
     "output_type": "stream",
     "text": [
      "corey\n",
      "Address of a is: 1799688426752\n",
      "Address of corey is: 1799688426752\n",
      "John\n",
      "Address of a is: 1799688428040\n",
      "Address of John is: 1799688428040\n"
     ]
    }
   ],
   "source": [
    "a = \"corey\"\n",
    "print(a)\n",
    "print(\"Address of a is: {}\".format(id(a)))\n",
    "print(\"Address of {} is: {}\".format(a,id(a)))\n",
    "\n",
    "a = \"John\"\n",
    "print(a)\n",
    "print(\"Address of a is: {}\".format(id(a)))\n",
    "print(\"Address of {} is: {}\".format(a,id(a)))"
   ]
  },
  {
   "cell_type": "code",
   "execution_count": 3,
   "id": "edb0d806",
   "metadata": {},
   "outputs": [
    {
     "name": "stdout",
     "output_type": "stream",
     "text": [
      "y:  11\n",
      "y:  [1, 2, 3, 4, 5, 6]\n",
      "<class 'str'>\n",
      "y:  Saksham\n",
      "x:  10\n",
      "<class 'list'>\n",
      "[10]\n",
      "[10]\n",
      "6\n",
      "5\n"
     ]
    }
   ],
   "source": [
    "# The `type of the object` is defined at the `runtime` and it `can’t be changed afterwards`. However, it’s `state` can be `changed` if it is a `mutable object`.\n",
    "x = 10\n",
    "# Here 10 is an object of type int and 10's datatype can't be changed afterwards\n",
    "\n",
    "y = x\n",
    "y += 1\n",
    "print(\"y: \",y)\n",
    "\n",
    "y = [1,2,3,4,5,6]\n",
    "# Here [1,2,3,4,5,6] is an object of type list and [1,2,3,4,5,6]'s datatype can't be changed further\n",
    "\n",
    "print(\"y: \",y)\n",
    "\n",
    "y = \"Saksham\"\n",
    "print(type(y))\n",
    "\n",
    "print(\"y: \",y)\n",
    "print(\"x: \",x)\n",
    "\n",
    "print(type([1,2,3,4,5,6]))\n",
    "\n",
    "############\n",
    "x = []\n",
    "y = x\n",
    "y.append(10)\n",
    "\n",
    "print(y)\n",
    "print(x)\n",
    "\"\"\"There are two factors that produce this result:\n",
    "\n",
    "Variables are simply names that refer to objects. Doing y = x doesn’t create a copy of the list – it creates a new variable y \n",
    "that refers to the same object x refers to. \n",
    "\n",
    "This means that there is only one object (the list), and both x and y refer to it.\n",
    "\n",
    "Lists are mutable, which means that you can change their content.\n",
    "\n",
    "After the call to append(), the content of the mutable object has changed from [] to [10]. Since both the variables refer to the same object, using either name accesses the modified value [10].\"\"\"\n",
    "\n",
    "x = 5  # ints are immutable\n",
    "y = x\n",
    "x = x + 1  # 5 can't be mutated, we are creating a new object here\n",
    "print(x)\n",
    "print(y)"
   ]
  },
  {
   "cell_type": "markdown",
   "id": "276fa00f",
   "metadata": {},
   "source": [
    "**Mutable** ->[Link](https://www.geeksforgeeks.org/mutable-vs-immutable-objects-in-python/)\n",
    "* List\n",
    "* dict\n",
    "* set"
   ]
  },
  {
   "cell_type": "code",
   "execution_count": 4,
   "id": "1a066953",
   "metadata": {},
   "outputs": [],
   "source": [
    "tuple1 = (0, 1, 2, 3)\n",
    "tuple1 = tuple1 + (4,)\n",
    "# tuple1 = tuple1 + (4)--> error as (4)-> is considered as int"
   ]
  },
  {
   "cell_type": "code",
   "execution_count": 5,
   "id": "2aa9c1d7",
   "metadata": {},
   "outputs": [
    {
     "data": {
      "text/plain": [
       "(0, 1, 2, 3, 4)"
      ]
     },
     "execution_count": 5,
     "metadata": {},
     "output_type": "execute_result"
    }
   ],
   "source": [
    "tuple1"
   ]
  },
  {
   "cell_type": "markdown",
   "id": "b2171dce",
   "metadata": {},
   "source": [
    "### Strings\n",
    "* Collection of chars [a -  z, A - Z , 0 - 9]\n",
    "* UTF-8 but we assume ASCII\n",
    "* ASCII --> 0 -256"
   ]
  },
  {
   "cell_type": "code",
   "execution_count": 4,
   "id": "9be1f199",
   "metadata": {},
   "outputs": [
    {
     "name": "stdout",
     "output_type": "stream",
     "text": [
      "Saksham\n"
     ]
    }
   ],
   "source": [
    "S = \"Saksham\"\n",
    "print(S)"
   ]
  },
  {
   "cell_type": "code",
   "execution_count": 5,
   "id": "9226fe75",
   "metadata": {},
   "outputs": [
    {
     "name": "stdout",
     "output_type": "stream",
     "text": [
      "Saksham\n"
     ]
    }
   ],
   "source": [
    "a = 'Saksham'\n",
    "print(a)"
   ]
  },
  {
   "cell_type": "code",
   "execution_count": 6,
   "id": "71bce983",
   "metadata": {},
   "outputs": [],
   "source": [
    "a = \"\"\"\n",
    "    This is a multiline string\n",
    "\"\"\""
   ]
  },
  {
   "cell_type": "code",
   "execution_count": 10,
   "id": "5be9bcf1",
   "metadata": {},
   "outputs": [],
   "source": [
    "A_single = '''\n",
    "This is a multiline string\n",
    "'''"
   ]
  },
  {
   "cell_type": "code",
   "execution_count": 11,
   "id": "32a40e7b",
   "metadata": {},
   "outputs": [
    {
     "name": "stdout",
     "output_type": "stream",
     "text": [
      "a\n"
     ]
    }
   ],
   "source": [
    "print(a)"
   ]
  },
  {
   "cell_type": "code",
   "execution_count": 12,
   "id": "3ff9900f",
   "metadata": {},
   "outputs": [
    {
     "name": "stdout",
     "output_type": "stream",
     "text": [
      "a\n"
     ]
    }
   ],
   "source": [
    "a = 'a'\n",
    "print(a)"
   ]
  },
  {
   "cell_type": "code",
   "execution_count": 15,
   "id": "d39b3b14",
   "metadata": {},
   "outputs": [
    {
     "name": "stdout",
     "output_type": "stream",
     "text": [
      "65\n",
      "a\n"
     ]
    }
   ],
   "source": [
    "# ord -->returns ASCII equivalent index \n",
    "# chr -->returns ASCII equivalent char \n",
    "\n",
    "print(ord('A'))\n",
    "print(chr(97))"
   ]
  },
  {
   "cell_type": "markdown",
   "id": "cbf326ce",
   "metadata": {},
   "source": [
    "### Some string operations"
   ]
  },
  {
   "cell_type": "code",
   "execution_count": 16,
   "id": "f676e2b4",
   "metadata": {},
   "outputs": [],
   "source": [
    "a = 1\n",
    "b = 2\n",
    "c = 3"
   ]
  },
  {
   "cell_type": "code",
   "execution_count": 18,
   "id": "2f37b1ad",
   "metadata": {},
   "outputs": [
    {
     "name": "stdout",
     "output_type": "stream",
     "text": [
      "1-2-3\n"
     ]
    }
   ],
   "source": [
    "print(\"{}-{}-{}\".format(a,b,c))"
   ]
  },
  {
   "cell_type": "code",
   "execution_count": 19,
   "id": "ff3ff730",
   "metadata": {},
   "outputs": [
    {
     "name": "stdout",
     "output_type": "stream",
     "text": [
      "1-3-2\n"
     ]
    }
   ],
   "source": [
    "print(\"{0}-{2}-{1}\".format(a,b,c))"
   ]
  },
  {
   "cell_type": "code",
   "execution_count": 27,
   "id": "83a549b6",
   "metadata": {},
   "outputs": [
    {
     "name": "stdout",
     "output_type": "stream",
     "text": [
      "1,2\n",
      "3,6\n"
     ]
    }
   ],
   "source": [
    "dict1 = {\"b\":2,\"a\":1}\n",
    "print(\"{a},{b}\".format(**dict1))\n",
    "\n",
    "print(\"{a},{b}\".format(a=3,b=6))"
   ]
  },
  {
   "cell_type": "code",
   "execution_count": 28,
   "id": "6dd1e3ec",
   "metadata": {},
   "outputs": [
    {
     "name": "stdout",
     "output_type": "stream",
     "text": [
      "1 2\n"
     ]
    }
   ],
   "source": [
    "print(f\"{a} {b}\")"
   ]
  },
  {
   "cell_type": "markdown",
   "id": "bb9ee307",
   "metadata": {},
   "source": [
    "### a.strip()\n",
    "* When users adds extra spaces in the end and start of the string"
   ]
  },
  {
   "cell_type": "code",
   "execution_count": 29,
   "id": "d88b7096",
   "metadata": {},
   "outputs": [],
   "source": [
    "a = \"        Saksham      \""
   ]
  },
  {
   "cell_type": "code",
   "execution_count": 30,
   "id": "58b53f1e",
   "metadata": {},
   "outputs": [
    {
     "name": "stdout",
     "output_type": "stream",
     "text": [
      "Saksham\n"
     ]
    }
   ],
   "source": [
    "print(a.strip())"
   ]
  },
  {
   "cell_type": "code",
   "execution_count": 32,
   "id": "aed1829e",
   "metadata": {},
   "outputs": [
    {
     "name": "stdout",
     "output_type": "stream",
     "text": [
      "a \n"
     ]
    }
   ],
   "source": [
    "a = input()"
   ]
  },
  {
   "cell_type": "code",
   "execution_count": 33,
   "id": "b9a0e8fd",
   "metadata": {},
   "outputs": [
    {
     "data": {
      "text/plain": [
       "False"
      ]
     },
     "execution_count": 33,
     "metadata": {},
     "output_type": "execute_result"
    }
   ],
   "source": [
    "a ==\"yes\""
   ]
  },
  {
   "cell_type": "markdown",
   "id": "10f59588",
   "metadata": {},
   "source": [
    "### a.split(\" \") Splitting on the basis of a particular character"
   ]
  },
  {
   "cell_type": "code",
   "execution_count": 35,
   "id": "e85d4cdd",
   "metadata": {},
   "outputs": [
    {
     "name": "stdout",
     "output_type": "stream",
     "text": [
      "Saksham Verma is a Good boy\n"
     ]
    }
   ],
   "source": [
    "listInput = list(input().split(\" \"))"
   ]
  },
  {
   "cell_type": "code",
   "execution_count": 36,
   "id": "6c5c832c",
   "metadata": {},
   "outputs": [
    {
     "data": {
      "text/plain": [
       "['Saksham', 'Verma', 'is', 'a', 'Good', 'boy']"
      ]
     },
     "execution_count": 36,
     "metadata": {},
     "output_type": "execute_result"
    }
   ],
   "source": [
    "listInput"
   ]
  },
  {
   "cell_type": "markdown",
   "id": "8be35414",
   "metadata": {},
   "source": [
    "### str.replace(\"\",\"\")"
   ]
  },
  {
   "cell_type": "code",
   "execution_count": 40,
   "id": "0a0c83a2",
   "metadata": {},
   "outputs": [
    {
     "name": "stdout",
     "output_type": "stream",
     "text": [
      "Sad ke shadi\n"
     ]
    },
    {
     "data": {
      "text/plain": [
       "'HaSSy ke shadi'"
      ]
     },
     "execution_count": 40,
     "metadata": {},
     "output_type": "execute_result"
    }
   ],
   "source": [
    "a = \"Happy ke shadi\"\n",
    "print(a.replace(\"Happy\",\"Sad\"))\n",
    "\n",
    "a.replace(\"p\",\"S\")"
   ]
  },
  {
   "cell_type": "code",
   "execution_count": 42,
   "id": "589a136d",
   "metadata": {},
   "outputs": [
    {
     "name": "stdout",
     "output_type": "stream",
     "text": [
      "2\n",
      "1\n"
     ]
    }
   ],
   "source": [
    "print(a.count(\"a\"))\n",
    "print(a.count(\"pp\"))"
   ]
  },
  {
   "cell_type": "markdown",
   "id": "3421d626",
   "metadata": {},
   "source": [
    "### Lists\n",
    "\n",
    "* Ordered\n",
    "* Mutable\n",
    "* Accessed using index\n",
    "* Hetro-genious"
   ]
  },
  {
   "cell_type": "markdown",
   "id": "e667e381",
   "metadata": {},
   "source": [
    "### Creating a list"
   ]
  },
  {
   "cell_type": "code",
   "execution_count": 58,
   "id": "80b22bbb",
   "metadata": {},
   "outputs": [],
   "source": [
    "a =[]"
   ]
  },
  {
   "cell_type": "code",
   "execution_count": 59,
   "id": "eccf38bb",
   "metadata": {},
   "outputs": [],
   "source": [
    "a= list()"
   ]
  },
  {
   "cell_type": "markdown",
   "id": "3f948a0a",
   "metadata": {},
   "source": [
    "### List is hetrogenious"
   ]
  },
  {
   "cell_type": "code",
   "execution_count": 60,
   "id": "eaa16fd1",
   "metadata": {},
   "outputs": [],
   "source": [
    "a= [1,2,3,4,5,print]"
   ]
  },
  {
   "cell_type": "code",
   "execution_count": 53,
   "id": "424321dc",
   "metadata": {},
   "outputs": [
    {
     "data": {
      "text/plain": [
       "6"
      ]
     },
     "execution_count": 53,
     "metadata": {},
     "output_type": "execute_result"
    }
   ],
   "source": [
    "# Length\n",
    "len(a)"
   ]
  },
  {
   "cell_type": "code",
   "execution_count": 47,
   "id": "b7599f6d",
   "metadata": {},
   "outputs": [
    {
     "data": {
      "text/plain": [
       "1"
      ]
     },
     "execution_count": 47,
     "metadata": {},
     "output_type": "execute_result"
    }
   ],
   "source": [
    "a[0]"
   ]
  },
  {
   "cell_type": "code",
   "execution_count": 48,
   "id": "1a7b4b03",
   "metadata": {},
   "outputs": [
    {
     "data": {
      "text/plain": [
       "<function print>"
      ]
     },
     "execution_count": 48,
     "metadata": {},
     "output_type": "execute_result"
    }
   ],
   "source": [
    "a[5]"
   ]
  },
  {
   "cell_type": "code",
   "execution_count": 49,
   "id": "37475672",
   "metadata": {},
   "outputs": [
    {
     "name": "stdout",
     "output_type": "stream",
     "text": [
      "Hello World\n"
     ]
    }
   ],
   "source": [
    "a[5](\"Hello World\")"
   ]
  },
  {
   "cell_type": "code",
   "execution_count": 51,
   "id": "21fb1118",
   "metadata": {},
   "outputs": [
    {
     "data": {
      "text/plain": [
       "[1, 2, 3, 4, 5, <function print>, 1, 2, 3, 4, 5, <function print>]"
      ]
     },
     "execution_count": 51,
     "metadata": {},
     "output_type": "execute_result"
    }
   ],
   "source": [
    "########Concatenating#########\n",
    "a+a"
   ]
  },
  {
   "cell_type": "code",
   "execution_count": 52,
   "id": "086ae060",
   "metadata": {
    "collapsed": true
   },
   "outputs": [
    {
     "data": {
      "text/plain": [
       "[1,\n",
       " 2,\n",
       " 3,\n",
       " 4,\n",
       " 5,\n",
       " <function print>,\n",
       " 1,\n",
       " 2,\n",
       " 3,\n",
       " 4,\n",
       " 5,\n",
       " <function print>,\n",
       " 1,\n",
       " 2,\n",
       " 3,\n",
       " 4,\n",
       " 5,\n",
       " <function print>,\n",
       " 1,\n",
       " 2,\n",
       " 3,\n",
       " 4,\n",
       " 5,\n",
       " <function print>,\n",
       " 1,\n",
       " 2,\n",
       " 3,\n",
       " 4,\n",
       " 5,\n",
       " <function print>]"
      ]
     },
     "execution_count": 52,
     "metadata": {},
     "output_type": "execute_result"
    }
   ],
   "source": [
    "a*5"
   ]
  },
  {
   "cell_type": "code",
   "execution_count": 27,
   "id": "d96a622a",
   "metadata": {},
   "outputs": [
    {
     "data": {
      "text/plain": [
       "True"
      ]
     },
     "execution_count": 27,
     "metadata": {},
     "output_type": "execute_result"
    }
   ],
   "source": [
    "###### Membership#####\n",
    "1 in a"
   ]
  },
  {
   "cell_type": "code",
   "execution_count": 54,
   "id": "8ab85098",
   "metadata": {},
   "outputs": [
    {
     "name": "stdout",
     "output_type": "stream",
     "text": [
      "[1, 2, 3, 4, 5, <built-in function print>]\n",
      "[1, 2, 3, 4, 5, <built-in function print>]\n",
      "[1, 2, 3, 4, 5, <built-in function print>]\n",
      "[1, 2, 3, 4, 5, <built-in function print>]\n",
      "[1, 2, 3, 4, 5, <built-in function print>]\n",
      "[1, 2, 3, 4, 5, <built-in function print>]\n"
     ]
    }
   ],
   "source": [
    "##### Iterating a list ######\n",
    "for i in a:\n",
    "    print(a)"
   ]
  },
  {
   "cell_type": "code",
   "execution_count": 55,
   "id": "56c40b4a",
   "metadata": {},
   "outputs": [],
   "source": [
    "string = \"Saksham\""
   ]
  },
  {
   "cell_type": "code",
   "execution_count": 66,
   "id": "de11bff5",
   "metadata": {},
   "outputs": [
    {
     "data": {
      "text/plain": [
       "'Skh'"
      ]
     },
     "execution_count": 66,
     "metadata": {},
     "output_type": "execute_result"
    }
   ],
   "source": [
    "##### Slicing ####\n",
    "string[:7:2]"
   ]
  },
  {
   "cell_type": "code",
   "execution_count": 62,
   "id": "f9477268",
   "metadata": {},
   "outputs": [
    {
     "data": {
      "text/plain": [
       "'mahskaS'"
      ]
     },
     "execution_count": 62,
     "metadata": {},
     "output_type": "execute_result"
    }
   ],
   "source": [
    "######### Reversing ########\n",
    "string[::-1]"
   ]
  },
  {
   "cell_type": "code",
   "execution_count": 71,
   "id": "ff7a3504",
   "metadata": {},
   "outputs": [
    {
     "data": {
      "text/plain": [
       "False"
      ]
     },
     "execution_count": 71,
     "metadata": {},
     "output_type": "execute_result"
    }
   ],
   "source": [
    "### Checking whether the string is a palindrome or not ####\n",
    "string[::-1] == string"
   ]
  },
  {
   "cell_type": "code",
   "execution_count": null,
   "id": "d9648e6f",
   "metadata": {},
   "outputs": [],
   "source": []
  },
  {
   "cell_type": "markdown",
   "id": "45ab8f13",
   "metadata": {},
   "source": [
    "### Updating list\n",
    "* insert\n",
    "* append"
   ]
  },
  {
   "cell_type": "code",
   "execution_count": 72,
   "id": "9b426925",
   "metadata": {},
   "outputs": [
    {
     "data": {
      "text/plain": [
       "[1, 2, 3, 4, 5, <function print>]"
      ]
     },
     "execution_count": 72,
     "metadata": {},
     "output_type": "execute_result"
    }
   ],
   "source": [
    "a"
   ]
  },
  {
   "cell_type": "code",
   "execution_count": 73,
   "id": "f6064d51",
   "metadata": {},
   "outputs": [],
   "source": [
    "a.insert(1,\"Saksham\")"
   ]
  },
  {
   "cell_type": "code",
   "execution_count": 74,
   "id": "c2b05379",
   "metadata": {},
   "outputs": [
    {
     "data": {
      "text/plain": [
       "[1, 'Saksham', 2, 3, 4, 5, <function print>]"
      ]
     },
     "execution_count": 74,
     "metadata": {},
     "output_type": "execute_result"
    }
   ],
   "source": [
    "a"
   ]
  },
  {
   "cell_type": "code",
   "execution_count": 75,
   "id": "22b0261a",
   "metadata": {},
   "outputs": [],
   "source": [
    "a.append(6)"
   ]
  },
  {
   "cell_type": "code",
   "execution_count": 76,
   "id": "098e1ac4",
   "metadata": {},
   "outputs": [
    {
     "data": {
      "text/plain": [
       "[1, 'Saksham', 2, 3, 4, 5, <function print>, 6]"
      ]
     },
     "execution_count": 76,
     "metadata": {},
     "output_type": "execute_result"
    }
   ],
   "source": [
    "a"
   ]
  },
  {
   "cell_type": "markdown",
   "id": "7f1f510c",
   "metadata": {},
   "source": [
    "### Deleting list element \n",
    "* del\n",
    "* pop\n",
    "* remove"
   ]
  },
  {
   "cell_type": "code",
   "execution_count": 90,
   "id": "30b778de",
   "metadata": {},
   "outputs": [],
   "source": [
    "a = [1,2,3,4,5]"
   ]
  },
  {
   "cell_type": "code",
   "execution_count": 91,
   "id": "05cda6eb",
   "metadata": {},
   "outputs": [
    {
     "data": {
      "text/plain": [
       "5"
      ]
     },
     "execution_count": 91,
     "metadata": {},
     "output_type": "execute_result"
    }
   ],
   "source": [
    "# By default takes out the last element  \n",
    "# But if passed with index will take out the index element\n",
    "\n",
    "a.pop()"
   ]
  },
  {
   "cell_type": "code",
   "execution_count": 92,
   "id": "7df44835",
   "metadata": {},
   "outputs": [
    {
     "data": {
      "text/plain": [
       "[1, 2, 3, 4]"
      ]
     },
     "execution_count": 92,
     "metadata": {},
     "output_type": "execute_result"
    }
   ],
   "source": [
    "a"
   ]
  },
  {
   "cell_type": "code",
   "execution_count": 93,
   "id": "8c0a27a8",
   "metadata": {},
   "outputs": [
    {
     "data": {
      "text/plain": [
       "3"
      ]
     },
     "execution_count": 93,
     "metadata": {},
     "output_type": "execute_result"
    }
   ],
   "source": [
    "a.pop(2)"
   ]
  },
  {
   "cell_type": "code",
   "execution_count": 94,
   "id": "68c3851b",
   "metadata": {},
   "outputs": [
    {
     "data": {
      "text/plain": [
       "[1, 2, 4]"
      ]
     },
     "execution_count": 94,
     "metadata": {},
     "output_type": "execute_result"
    }
   ],
   "source": [
    "a"
   ]
  },
  {
   "cell_type": "code",
   "execution_count": 95,
   "id": "1f0d4f0b",
   "metadata": {},
   "outputs": [],
   "source": [
    "a.append(1)"
   ]
  },
  {
   "cell_type": "code",
   "execution_count": 96,
   "id": "c6bf780d",
   "metadata": {},
   "outputs": [
    {
     "data": {
      "text/plain": [
       "[1, 2, 4, 1]"
      ]
     },
     "execution_count": 96,
     "metadata": {},
     "output_type": "execute_result"
    }
   ],
   "source": [
    "a"
   ]
  },
  {
   "cell_type": "code",
   "execution_count": 97,
   "id": "0b82db26",
   "metadata": {},
   "outputs": [],
   "source": [
    "a.remove(1)"
   ]
  },
  {
   "cell_type": "code",
   "execution_count": 98,
   "id": "6e620af9",
   "metadata": {},
   "outputs": [
    {
     "data": {
      "text/plain": [
       "[2, 4, 1]"
      ]
     },
     "execution_count": 98,
     "metadata": {},
     "output_type": "execute_result"
    }
   ],
   "source": [
    "a"
   ]
  },
  {
   "cell_type": "code",
   "execution_count": 99,
   "id": "11d68db6",
   "metadata": {},
   "outputs": [],
   "source": [
    "del a[0]"
   ]
  },
  {
   "cell_type": "code",
   "execution_count": 100,
   "id": "7c89f6a0",
   "metadata": {},
   "outputs": [
    {
     "data": {
      "text/plain": [
       "[4, 1]"
      ]
     },
     "execution_count": 100,
     "metadata": {},
     "output_type": "execute_result"
    }
   ],
   "source": [
    "a"
   ]
  },
  {
   "cell_type": "code",
   "execution_count": 101,
   "id": "75527cb4",
   "metadata": {},
   "outputs": [],
   "source": [
    "del a"
   ]
  },
  {
   "cell_type": "code",
   "execution_count": 102,
   "id": "68333dbf",
   "metadata": {},
   "outputs": [
    {
     "ename": "NameError",
     "evalue": "name 'a' is not defined",
     "output_type": "error",
     "traceback": [
      "\u001b[1;31m---------------------------------------------------------------------------\u001b[0m",
      "\u001b[1;31mNameError\u001b[0m                                 Traceback (most recent call last)",
      "\u001b[1;32m<ipython-input-102-3f786850e387>\u001b[0m in \u001b[0;36m<module>\u001b[1;34m\u001b[0m\n\u001b[1;32m----> 1\u001b[1;33m \u001b[0ma\u001b[0m\u001b[1;33m\u001b[0m\u001b[1;33m\u001b[0m\u001b[0m\n\u001b[0m",
      "\u001b[1;31mNameError\u001b[0m: name 'a' is not defined"
     ]
    }
   ],
   "source": [
    "a"
   ]
  },
  {
   "cell_type": "markdown",
   "id": "b5eeb8b4",
   "metadata": {},
   "source": [
    "### SORTING AND REVERSING\n",
    "* sort and sorted\n",
    "* reverse and reversed"
   ]
  },
  {
   "cell_type": "code",
   "execution_count": 55,
   "id": "f5e59e32",
   "metadata": {},
   "outputs": [],
   "source": [
    "a=[4,3,1,5,2,6]"
   ]
  },
  {
   "cell_type": "code",
   "execution_count": 56,
   "id": "74652bf0",
   "metadata": {},
   "outputs": [
    {
     "data": {
      "text/plain": [
       "[1, 2, 3, 4, 5, 6]"
      ]
     },
     "execution_count": 56,
     "metadata": {},
     "output_type": "execute_result"
    }
   ],
   "source": [
    "sorted(a)"
   ]
  },
  {
   "cell_type": "code",
   "execution_count": 57,
   "id": "0b7332de",
   "metadata": {},
   "outputs": [],
   "source": [
    "a.sort()"
   ]
  },
  {
   "cell_type": "code",
   "execution_count": 58,
   "id": "dd0da78f",
   "metadata": {},
   "outputs": [
    {
     "data": {
      "text/plain": [
       "[1, 2, 3, 4, 5, 6]"
      ]
     },
     "execution_count": 58,
     "metadata": {},
     "output_type": "execute_result"
    }
   ],
   "source": [
    "a"
   ]
  },
  {
   "cell_type": "code",
   "execution_count": 59,
   "id": "ddaecb98",
   "metadata": {},
   "outputs": [
    {
     "name": "stdout",
     "output_type": "stream",
     "text": [
      "6\n",
      "5\n",
      "4\n",
      "3\n",
      "2\n",
      "1\n"
     ]
    }
   ],
   "source": [
    "for i in reversed(a):\n",
    "    print(i)"
   ]
  },
  {
   "cell_type": "code",
   "execution_count": 60,
   "id": "2a8f51ee",
   "metadata": {},
   "outputs": [
    {
     "data": {
      "text/plain": [
       "[1, 2, 3, 4, 5, 6]"
      ]
     },
     "execution_count": 60,
     "metadata": {},
     "output_type": "execute_result"
    }
   ],
   "source": [
    "a"
   ]
  },
  {
   "cell_type": "code",
   "execution_count": 114,
   "id": "3faf092b",
   "metadata": {},
   "outputs": [],
   "source": [
    "a.reverse()"
   ]
  },
  {
   "cell_type": "code",
   "execution_count": 62,
   "id": "ab9f24b4",
   "metadata": {},
   "outputs": [
    {
     "data": {
      "text/plain": [
       "[6, 5, 4, 3, 2, 1]"
      ]
     },
     "execution_count": 62,
     "metadata": {},
     "output_type": "execute_result"
    }
   ],
   "source": [
    "a"
   ]
  },
  {
   "cell_type": "markdown",
   "id": "27eed940",
   "metadata": {},
   "source": [
    "### Tuples\n",
    "* Tuple are immutable\n",
    "* id()-> gives memory adddress\n",
    "* itterable\n",
    "* much more performant than list\n",
    "* consumes lesser memory and are faster"
   ]
  },
  {
   "cell_type": "code",
   "execution_count": 1,
   "id": "c0c1de18",
   "metadata": {},
   "outputs": [],
   "source": [
    "q = [1,2,3,4,5,6,7] "
   ]
  },
  {
   "cell_type": "code",
   "execution_count": 2,
   "id": "56bf021b",
   "metadata": {},
   "outputs": [],
   "source": [
    "q[0] = 5"
   ]
  },
  {
   "cell_type": "code",
   "execution_count": 3,
   "id": "0b106143",
   "metadata": {},
   "outputs": [
    {
     "data": {
      "text/plain": [
       "1880495671048"
      ]
     },
     "execution_count": 3,
     "metadata": {},
     "output_type": "execute_result"
    }
   ],
   "source": [
    "id(q)"
   ]
  },
  {
   "cell_type": "code",
   "execution_count": null,
   "id": "08473753",
   "metadata": {},
   "outputs": [],
   "source": []
  },
  {
   "cell_type": "code",
   "execution_count": 4,
   "id": "b55e57fb",
   "metadata": {},
   "outputs": [],
   "source": [
    "tuple_1 =(1,2,3,4,5,6,7)"
   ]
  },
  {
   "cell_type": "code",
   "execution_count": 5,
   "id": "38ebcaa7",
   "metadata": {},
   "outputs": [
    {
     "data": {
      "text/plain": [
       "1880495270200"
      ]
     },
     "execution_count": 5,
     "metadata": {},
     "output_type": "execute_result"
    }
   ],
   "source": [
    "id(tuple_1) \n",
    "# id() function gives the memory addresss of the variable used inside"
   ]
  },
  {
   "cell_type": "code",
   "execution_count": 11,
   "id": "66e3e2b9",
   "metadata": {},
   "outputs": [],
   "source": [
    "RealAddress = hex(id(tuple_1) )"
   ]
  },
  {
   "cell_type": "code",
   "execution_count": 12,
   "id": "1ddc1a33",
   "metadata": {},
   "outputs": [
    {
     "data": {
      "text/plain": [
       "1880495270200"
      ]
     },
     "execution_count": 12,
     "metadata": {},
     "output_type": "execute_result"
    }
   ],
   "source": [
    "int(RealAddress,16)"
   ]
  },
  {
   "cell_type": "markdown",
   "id": "ae7cd5d4",
   "metadata": {},
   "source": [
    "### Tupples are im-mutable"
   ]
  },
  {
   "cell_type": "code",
   "execution_count": 13,
   "id": "a477e3cf",
   "metadata": {},
   "outputs": [
    {
     "ename": "TypeError",
     "evalue": "'tuple' object does not support item assignment",
     "output_type": "error",
     "traceback": [
      "\u001b[1;31m---------------------------------------------------------------------------\u001b[0m",
      "\u001b[1;31mTypeError\u001b[0m                                 Traceback (most recent call last)",
      "\u001b[1;32m<ipython-input-13-a49ff300da69>\u001b[0m in \u001b[0;36m<module>\u001b[1;34m\u001b[0m\n\u001b[1;32m----> 1\u001b[1;33m \u001b[0mtuple_1\u001b[0m\u001b[1;33m[\u001b[0m\u001b[1;36m0\u001b[0m\u001b[1;33m]\u001b[0m \u001b[1;33m=\u001b[0m \u001b[1;36m2\u001b[0m\u001b[1;33m\u001b[0m\u001b[1;33m\u001b[0m\u001b[0m\n\u001b[0m",
      "\u001b[1;31mTypeError\u001b[0m: 'tuple' object does not support item assignment"
     ]
    }
   ],
   "source": [
    "tuple_1[0] = 2"
   ]
  },
  {
   "cell_type": "code",
   "execution_count": null,
   "id": "bc242c94",
   "metadata": {},
   "outputs": [],
   "source": []
  },
  {
   "cell_type": "markdown",
   "id": "009888b2",
   "metadata": {},
   "source": [
    "**These are one of the reason why args have datatype tupple and not list**\n",
    "* much more performant than list\n",
    "* consumes lesser memory and are faster"
   ]
  },
  {
   "cell_type": "code",
   "execution_count": 14,
   "id": "2e0064e1",
   "metadata": {},
   "outputs": [],
   "source": [
    "def funcn(*args):\n",
    "    print(args)"
   ]
  },
  {
   "cell_type": "code",
   "execution_count": 15,
   "id": "c6eb840e",
   "metadata": {},
   "outputs": [
    {
     "name": "stdout",
     "output_type": "stream",
     "text": [
      "(1, 2, 2, 3, 445, 5)\n"
     ]
    }
   ],
   "source": [
    "funcn(1,2,2,3,445,5)"
   ]
  },
  {
   "cell_type": "code",
   "execution_count": 16,
   "id": "0ccd63f3",
   "metadata": {},
   "outputs": [
    {
     "name": "stdout",
     "output_type": "stream",
     "text": [
      "('Saksham', 1, 2, 3)\n"
     ]
    }
   ],
   "source": [
    "funcn(\"Saksham\",1,2,3)"
   ]
  },
  {
   "cell_type": "code",
   "execution_count": null,
   "id": "123561a2",
   "metadata": {},
   "outputs": [],
   "source": []
  },
  {
   "cell_type": "markdown",
   "id": "48196c2f",
   "metadata": {},
   "source": [
    "### Swapping using 2 variable(-,^)"
   ]
  },
  {
   "cell_type": "code",
   "execution_count": 17,
   "id": "0ac20e28",
   "metadata": {},
   "outputs": [],
   "source": [
    "a = 5\n",
    "b = 9"
   ]
  },
  {
   "cell_type": "code",
   "execution_count": 18,
   "id": "b41bffd4",
   "metadata": {},
   "outputs": [],
   "source": [
    "a = a + b\n",
    "b = a - b\n",
    "a = a-b"
   ]
  },
  {
   "cell_type": "code",
   "execution_count": 19,
   "id": "12a0744d",
   "metadata": {},
   "outputs": [
    {
     "name": "stdout",
     "output_type": "stream",
     "text": [
      "a:  9 b:  5\n"
     ]
    }
   ],
   "source": [
    "print('a: ',a,'b: ',b)"
   ]
  },
  {
   "cell_type": "code",
   "execution_count": 20,
   "id": "4f97f68d",
   "metadata": {},
   "outputs": [],
   "source": [
    "a = a ^ b\n",
    "b = a ^ b\n",
    "a = a ^ b"
   ]
  },
  {
   "cell_type": "code",
   "execution_count": 21,
   "id": "175c2816",
   "metadata": {},
   "outputs": [
    {
     "name": "stdout",
     "output_type": "stream",
     "text": [
      "a:  5 b:  9\n"
     ]
    }
   ],
   "source": [
    "print('a: ',a,'b: ',b)"
   ]
  },
  {
   "cell_type": "markdown",
   "id": "801ee018",
   "metadata": {},
   "source": [
    "### Assigning tupple to a a variable"
   ]
  },
  {
   "cell_type": "code",
   "execution_count": 85,
   "id": "edaf6c21",
   "metadata": {},
   "outputs": [
    {
     "name": "stdout",
     "output_type": "stream",
     "text": [
      "(1, 2, 3, 4, 5, 6)\n"
     ]
    }
   ],
   "source": [
    "a = (1,2)\n",
    "b = 1,2,3,4,5,6\n",
    "print(b)"
   ]
  },
  {
   "cell_type": "markdown",
   "id": "4b2d21a1",
   "metadata": {},
   "source": [
    "### Unpacking of tupple"
   ]
  },
  {
   "cell_type": "code",
   "execution_count": 82,
   "id": "45ccbac6",
   "metadata": {},
   "outputs": [],
   "source": [
    "C,D = a"
   ]
  },
  {
   "cell_type": "code",
   "execution_count": 83,
   "id": "ce06fda2",
   "metadata": {},
   "outputs": [
    {
     "data": {
      "text/plain": [
       "1"
      ]
     },
     "execution_count": 83,
     "metadata": {},
     "output_type": "execute_result"
    }
   ],
   "source": [
    "C"
   ]
  },
  {
   "cell_type": "code",
   "execution_count": 84,
   "id": "4b9d9c00",
   "metadata": {},
   "outputs": [
    {
     "data": {
      "text/plain": [
       "2"
      ]
     },
     "execution_count": 84,
     "metadata": {},
     "output_type": "execute_result"
    }
   ],
   "source": [
    "D"
   ]
  },
  {
   "cell_type": "markdown",
   "id": "199b557a",
   "metadata": {},
   "source": [
    "### Counts of value on either side of equal sign"
   ]
  },
  {
   "cell_type": "code",
   "execution_count": 25,
   "id": "c8338cac",
   "metadata": {
    "collapsed": true
   },
   "outputs": [
    {
     "ename": "ValueError",
     "evalue": "too many values to unpack (expected 2)",
     "output_type": "error",
     "traceback": [
      "\u001b[1;31m---------------------------------------------------------------------------\u001b[0m",
      "\u001b[1;31mValueError\u001b[0m                                Traceback (most recent call last)",
      "\u001b[1;32m<ipython-input-25-e44d630aec59>\u001b[0m in \u001b[0;36m<module>\u001b[1;34m\u001b[0m\n\u001b[1;32m----> 1\u001b[1;33m \u001b[0mC\u001b[0m\u001b[1;33m,\u001b[0m\u001b[0mD\u001b[0m \u001b[1;33m=\u001b[0m \u001b[1;33m(\u001b[0m\u001b[1;36m1\u001b[0m\u001b[1;33m,\u001b[0m\u001b[1;36m2\u001b[0m\u001b[1;33m,\u001b[0m\u001b[1;36m3\u001b[0m\u001b[1;33m,\u001b[0m\u001b[1;36m4\u001b[0m\u001b[1;33m)\u001b[0m\u001b[1;33m\u001b[0m\u001b[1;33m\u001b[0m\u001b[0m\n\u001b[0m",
      "\u001b[1;31mValueError\u001b[0m: too many values to unpack (expected 2)"
     ]
    }
   ],
   "source": [
    "C,D = (1,2,3,4)"
   ]
  },
  {
   "cell_type": "code",
   "execution_count": 26,
   "id": "561e2d58",
   "metadata": {
    "collapsed": true
   },
   "outputs": [
    {
     "ename": "ValueError",
     "evalue": "not enough values to unpack (expected 3, got 2)",
     "output_type": "error",
     "traceback": [
      "\u001b[1;31m---------------------------------------------------------------------------\u001b[0m",
      "\u001b[1;31mValueError\u001b[0m                                Traceback (most recent call last)",
      "\u001b[1;32m<ipython-input-26-b62ace71fdc5>\u001b[0m in \u001b[0;36m<module>\u001b[1;34m\u001b[0m\n\u001b[1;32m----> 1\u001b[1;33m \u001b[0mC\u001b[0m\u001b[1;33m,\u001b[0m\u001b[0mD\u001b[0m\u001b[1;33m,\u001b[0m\u001b[0mE\u001b[0m \u001b[1;33m=\u001b[0m \u001b[1;33m(\u001b[0m\u001b[1;36m1\u001b[0m\u001b[1;33m,\u001b[0m\u001b[1;36m2\u001b[0m\u001b[1;33m)\u001b[0m\u001b[1;33m\u001b[0m\u001b[1;33m\u001b[0m\u001b[0m\n\u001b[0m",
      "\u001b[1;31mValueError\u001b[0m: not enough values to unpack (expected 3, got 2)"
     ]
    }
   ],
   "source": [
    "C,D,E = (1,2)"
   ]
  },
  {
   "cell_type": "markdown",
   "id": "60bb2eab",
   "metadata": {},
   "source": [
    "### Swapping using tupples property\n",
    "Properties used are\n",
    "* Unpacking of tupple\n",
    "* b = 1,2,3,4,5,6 --> assigning a tupple to b"
   ]
  },
  {
   "cell_type": "code",
   "execution_count": 90,
   "id": "5bd1c3bc",
   "metadata": {},
   "outputs": [],
   "source": [
    "a=10\n",
    "b=11\n",
    "a ,b =b,a"
   ]
  },
  {
   "cell_type": "code",
   "execution_count": 91,
   "id": "3734d356",
   "metadata": {},
   "outputs": [
    {
     "data": {
      "text/plain": [
       "11"
      ]
     },
     "execution_count": 91,
     "metadata": {},
     "output_type": "execute_result"
    }
   ],
   "source": [
    "a"
   ]
  },
  {
   "cell_type": "code",
   "execution_count": 92,
   "id": "f80ecd94",
   "metadata": {},
   "outputs": [
    {
     "data": {
      "text/plain": [
       "10"
      ]
     },
     "execution_count": 92,
     "metadata": {},
     "output_type": "execute_result"
    }
   ],
   "source": [
    "b"
   ]
  },
  {
   "cell_type": "code",
   "execution_count": null,
   "id": "0a7960ca",
   "metadata": {},
   "outputs": [],
   "source": []
  },
  {
   "cell_type": "markdown",
   "id": "39b1c3be",
   "metadata": {},
   "source": [
    "### List to a tupple using list(itterable)"
   ]
  },
  {
   "cell_type": "code",
   "execution_count": 27,
   "id": "5cea09ec",
   "metadata": {},
   "outputs": [],
   "source": [
    "a = (1,2,3)"
   ]
  },
  {
   "cell_type": "code",
   "execution_count": 28,
   "id": "d018e9d2",
   "metadata": {},
   "outputs": [
    {
     "name": "stdout",
     "output_type": "stream",
     "text": [
      "[1, 2, 3]\n"
     ]
    }
   ],
   "source": [
    "a = list(a)\n",
    "print(a)"
   ]
  },
  {
   "cell_type": "code",
   "execution_count": 29,
   "id": "3b175443",
   "metadata": {},
   "outputs": [],
   "source": [
    "a = list(\"Saksham\")"
   ]
  },
  {
   "cell_type": "code",
   "execution_count": 30,
   "id": "802888ce",
   "metadata": {},
   "outputs": [
    {
     "data": {
      "text/plain": [
       "['S', 'a', 'k', 's', 'h', 'a', 'm']"
      ]
     },
     "execution_count": 30,
     "metadata": {},
     "output_type": "execute_result"
    }
   ],
   "source": [
    "a"
   ]
  },
  {
   "cell_type": "code",
   "execution_count": 31,
   "id": "06973492",
   "metadata": {},
   "outputs": [],
   "source": [
    "a = list(range(1,20))"
   ]
  },
  {
   "cell_type": "code",
   "execution_count": 32,
   "id": "bbefc4a9",
   "metadata": {},
   "outputs": [
    {
     "data": {
      "text/plain": [
       "[1, 2, 3, 4, 5, 6, 7, 8, 9, 10, 11, 12, 13, 14, 15, 16, 17, 18, 19]"
      ]
     },
     "execution_count": 32,
     "metadata": {},
     "output_type": "execute_result"
    }
   ],
   "source": [
    "a"
   ]
  },
  {
   "cell_type": "code",
   "execution_count": null,
   "id": "9664e0b7",
   "metadata": {},
   "outputs": [],
   "source": []
  },
  {
   "cell_type": "markdown",
   "id": "a33fbe0a",
   "metadata": {},
   "source": [
    "### tupple(itterable)"
   ]
  },
  {
   "cell_type": "code",
   "execution_count": 33,
   "id": "62493732",
   "metadata": {},
   "outputs": [],
   "source": [
    "tuple_1 =tuple(a)"
   ]
  },
  {
   "cell_type": "code",
   "execution_count": 34,
   "id": "65d2ea2e",
   "metadata": {},
   "outputs": [
    {
     "data": {
      "text/plain": [
       "(1, 2, 3, 4, 5, 6, 7, 8, 9, 10, 11, 12, 13, 14, 15, 16, 17, 18, 19)"
      ]
     },
     "execution_count": 34,
     "metadata": {},
     "output_type": "execute_result"
    }
   ],
   "source": [
    "tuple_1"
   ]
  },
  {
   "cell_type": "code",
   "execution_count": null,
   "id": "73bf1703",
   "metadata": {},
   "outputs": [],
   "source": []
  },
  {
   "cell_type": "markdown",
   "id": "7662bfc3",
   "metadata": {},
   "source": [
    "### Returning multiple values from a function(The returned thing is a tuple)"
   ]
  },
  {
   "cell_type": "code",
   "execution_count": 38,
   "id": "de59f7aa",
   "metadata": {},
   "outputs": [],
   "source": [
    "# def addSubtract(a,b):\n",
    "#     return(a+b)\n",
    "#     return(a-b)\n",
    "\n",
    "def addSubtract(a,b):\n",
    "    return a + b , a - b \n",
    "\n",
    "# Assigning Values using tuple destructuring\n",
    "add_val , sub_val = addSubtract(10,11)"
   ]
  },
  {
   "cell_type": "code",
   "execution_count": 39,
   "id": "6fabff26",
   "metadata": {},
   "outputs": [
    {
     "data": {
      "text/plain": [
       "21"
      ]
     },
     "execution_count": 39,
     "metadata": {},
     "output_type": "execute_result"
    }
   ],
   "source": [
    "add_val"
   ]
  },
  {
   "cell_type": "code",
   "execution_count": 37,
   "id": "804a9340",
   "metadata": {},
   "outputs": [
    {
     "data": {
      "text/plain": [
       "-1"
      ]
     },
     "execution_count": 37,
     "metadata": {},
     "output_type": "execute_result"
    }
   ],
   "source": [
    "sub_val"
   ]
  },
  {
   "cell_type": "code",
   "execution_count": null,
   "id": "9dcab639",
   "metadata": {},
   "outputs": [],
   "source": []
  }
 ],
 "metadata": {
  "kernelspec": {
   "display_name": "PracticeENV",
   "language": "python",
   "name": "practiceenv"
  },
  "language_info": {
   "codemirror_mode": {
    "name": "ipython",
    "version": 3
   },
   "file_extension": ".py",
   "mimetype": "text/x-python",
   "name": "python",
   "nbconvert_exporter": "python",
   "pygments_lexer": "ipython3",
   "version": "3.6.13"
  }
 },
 "nbformat": 4,
 "nbformat_minor": 5
}
