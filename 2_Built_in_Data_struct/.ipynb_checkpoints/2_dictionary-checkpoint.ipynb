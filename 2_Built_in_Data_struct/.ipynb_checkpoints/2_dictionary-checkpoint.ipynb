{
 "cells": [
  {
   "cell_type": "markdown",
   "id": "e1d77856",
   "metadata": {},
   "source": [
    "### Dictionary\n",
    "* A dictionary is like an address-book where you can find the address or contact details of a person by knowing only his/her name i.e. we associate keys(name) with values(details). \n",
    "* **Note** that the **key must be unique** just like you can't find out the correct information .if you have two persons with the exact same name.\n",
    "* Remember the key-value pairs in a dictionary are **not ordered** in any manner."
   ]
  },
  {
   "cell_type": "code",
   "execution_count": 6,
   "id": "fa94fbdc",
   "metadata": {},
   "outputs": [],
   "source": [
    "a = {\n",
    "    \"name\" : \"Jatin\",\n",
    "    \"marks\": 90,\n",
    "    \"subjects\":[\"Eng\",\"maths\"],\n",
    "    \"friends\" :{\n",
    "        \"Phone\":\"android\"\n",
    "    }\n",
    "}"
   ]
  },
  {
   "cell_type": "code",
   "execution_count": 7,
   "id": "929cd97a",
   "metadata": {},
   "outputs": [
    {
     "data": {
      "text/plain": [
       "{'name': 'Jatin',\n",
       " 'marks': 90,\n",
       " 'subjects': ['Eng', 'maths'],\n",
       " 'friends': {'Phone': 'android'}}"
      ]
     },
     "execution_count": 7,
     "metadata": {},
     "output_type": "execute_result"
    }
   ],
   "source": [
    "a"
   ]
  },
  {
   "cell_type": "code",
   "execution_count": null,
   "id": "25de1320",
   "metadata": {},
   "outputs": [],
   "source": []
  },
  {
   "cell_type": "markdown",
   "id": "5f232999",
   "metadata": {},
   "source": [
    "### Itterate over a dictionary"
   ]
  },
  {
   "cell_type": "code",
   "execution_count": 8,
   "id": "6d0132f0",
   "metadata": {},
   "outputs": [
    {
     "name": "stdout",
     "output_type": "stream",
     "text": [
      "name\n",
      "marks\n",
      "subjects\n",
      "friends\n"
     ]
    }
   ],
   "source": [
    "for key in a:\n",
    "    print(key)"
   ]
  },
  {
   "cell_type": "code",
   "execution_count": null,
   "id": "71c95d74",
   "metadata": {},
   "outputs": [],
   "source": []
  },
  {
   "cell_type": "code",
   "execution_count": null,
   "id": "a272f9cc",
   "metadata": {},
   "outputs": [],
   "source": []
  },
  {
   "cell_type": "markdown",
   "id": "a02c5674",
   "metadata": {},
   "source": [
    "### Some importanat dict methods\n",
    "* get()\n",
    "* items()\n",
    "* keys()\n",
    "* values()\n",
    "* clear()"
   ]
  },
  {
   "cell_type": "code",
   "execution_count": 16,
   "id": "4c54e2d6",
   "metadata": {},
   "outputs": [
    {
     "data": {
      "text/plain": [
       "dict_items"
      ]
     },
     "execution_count": 16,
     "metadata": {},
     "output_type": "execute_result"
    }
   ],
   "source": [
    "type(a.items())"
   ]
  },
  {
   "cell_type": "code",
   "execution_count": null,
   "id": "663509ab",
   "metadata": {},
   "outputs": [],
   "source": [
    "# here each element is stored as a tuple\n",
    "for item in a.items():\n",
    "    print(\"item :\",item)"
   ]
  },
  {
   "cell_type": "code",
   "execution_count": 11,
   "id": "671ffc6b",
   "metadata": {},
   "outputs": [
    {
     "name": "stdout",
     "output_type": "stream",
     "text": [
      "Key : name\n",
      "value : Jatin\n",
      "Key : marks\n",
      "value : 90\n",
      "Key : subjects\n",
      "value : ['Eng', 'maths']\n",
      "Key : friends\n",
      "value : {'Phone': 'android'}\n"
     ]
    }
   ],
   "source": [
    "for key,value in a.items():\n",
    "    print(\"Key :\",key)\n",
    "    print(\"value :\",value)"
   ]
  },
  {
   "cell_type": "code",
   "execution_count": 17,
   "id": "ad1f5522",
   "metadata": {},
   "outputs": [
    {
     "name": "stdout",
     "output_type": "stream",
     "text": [
      "Jatin\n",
      "90\n",
      "['Eng', 'maths']\n",
      "{'Phone': 'android'}\n"
     ]
    }
   ],
   "source": [
    "for value in a.values():\n",
    "    print(value)"
   ]
  },
  {
   "cell_type": "code",
   "execution_count": 18,
   "id": "c0c5d4bc",
   "metadata": {},
   "outputs": [
    {
     "name": "stdout",
     "output_type": "stream",
     "text": [
      "name\n",
      "marks\n",
      "subjects\n",
      "friends\n"
     ]
    }
   ],
   "source": [
    "for key in a.keys():\n",
    "    print(key)"
   ]
  },
  {
   "cell_type": "code",
   "execution_count": 19,
   "id": "824031da",
   "metadata": {},
   "outputs": [
    {
     "data": {
      "text/plain": [
       "dict_keys(['name', 'marks', 'subjects', 'friends'])"
      ]
     },
     "execution_count": 19,
     "metadata": {},
     "output_type": "execute_result"
    }
   ],
   "source": [
    "a.keys()"
   ]
  },
  {
   "cell_type": "code",
   "execution_count": 20,
   "id": "00d1288c",
   "metadata": {},
   "outputs": [
    {
     "data": {
      "text/plain": [
       "dict_values(['Jatin', 90, ['Eng', 'maths'], {'Phone': 'android'}])"
      ]
     },
     "execution_count": 20,
     "metadata": {},
     "output_type": "execute_result"
    }
   ],
   "source": [
    "a.values()"
   ]
  },
  {
   "cell_type": "code",
   "execution_count": null,
   "id": "ee0de102",
   "metadata": {},
   "outputs": [],
   "source": []
  },
  {
   "cell_type": "code",
   "execution_count": 22,
   "id": "3e6bce58",
   "metadata": {},
   "outputs": [],
   "source": [
    "Keys = a.get(\"Key\")\n",
    "print(Keys)"
   ]
  },
  {
   "cell_type": "code",
   "execution_count": 25,
   "id": "6dae2a53",
   "metadata": {},
   "outputs": [
    {
     "name": "stdout",
     "output_type": "stream",
     "text": [
      "Jatin\n"
     ]
    }
   ],
   "source": [
    "Keys = a.get(\"name\")\n",
    "print(Keys)"
   ]
  },
  {
   "cell_type": "code",
   "execution_count": 3,
   "id": "5da853b2",
   "metadata": {},
   "outputs": [
    {
     "name": "stdout",
     "output_type": "stream",
     "text": [
      "Do you want to enter more records :yes\n",
      "122\n",
      "Saksham\n",
      "CSE\n",
      "Do you want to enter more records :yes\n",
      "121\n",
      "Prashant\n",
      "CSE\n",
      "Do you want to enter more records :no\n"
     ]
    }
   ],
   "source": [
    "StudentRecord = []\n",
    "\n",
    "def addVal(**kwargs):\n",
    "    StudentRecord.append(kwargs)\n",
    "\n",
    "def main():\n",
    "    while(input(\"Do you want to enter more records :\").lower() == \"yes\"):\n",
    "        addVal(rollno = int(input()),name = input(),branch = input())\n",
    "\n",
    "if(__name__ == \"__main__\"):\n",
    "    main()\n"
   ]
  },
  {
   "cell_type": "code",
   "execution_count": 4,
   "id": "a54748d9",
   "metadata": {},
   "outputs": [
    {
     "data": {
      "text/plain": [
       "[{'rollno': 122, 'name': 'Saksham', 'branch': 'CSE'},\n",
       " {'rollno': 121, 'name': 'Prashant', 'branch': 'CSE'}]"
      ]
     },
     "execution_count": 4,
     "metadata": {},
     "output_type": "execute_result"
    }
   ],
   "source": [
    "StudentRecord"
   ]
  },
  {
   "cell_type": "code",
   "execution_count": null,
   "id": "3f1a5110",
   "metadata": {},
   "outputs": [],
   "source": []
  },
  {
   "cell_type": "code",
   "execution_count": 8,
   "id": "befe7d12",
   "metadata": {},
   "outputs": [
    {
     "name": "stdout",
     "output_type": "stream",
     "text": [
      "If you want to give input type Yesyes\n",
      "Enter namesdfgjhk\n",
      "Enter roll_no3456\n",
      "Enter branchsdfghj\n",
      "If you want to give input type Yesyes\n",
      "Enter namedfgj\n",
      "Enter roll_no3456\n",
      "Enter branchdfgjhk\n",
      "If you want to give input type Yessdfg\n"
     ]
    }
   ],
   "source": [
    "student_record = []\n",
    "while (input(\"If you want to give input type Yes\").lower() == 'yes'):\n",
    "    name = input(\"Enter name\")\n",
    "    roll_no = input(\"Enter roll_no\")\n",
    "    branch =  input(\"Enter branch\")\n",
    "    student_record.append(\n",
    "        {\n",
    "            \"name\" : name,\n",
    "            \"roll_no\" : roll_no,\n",
    "            \"branch\" : branch,\n",
    "        }\n",
    "    )"
   ]
  },
  {
   "cell_type": "markdown",
   "id": "3d7a9ada",
   "metadata": {},
   "source": [
    "### KEYS MUST ALWAYS BE IMMUTABLE"
   ]
  },
  {
   "cell_type": "code",
   "execution_count": 11,
   "id": "806ba778",
   "metadata": {},
   "outputs": [
    {
     "name": "stdout",
     "output_type": "stream",
     "text": [
      "{'name': 'sdfgjhk', 'roll_no': '3456', 'branch': 'sdfghj'}\n"
     ]
    }
   ],
   "source": [
    "for i in student_record:\n",
    "    if(i['name'] == 'sdfgjhk'):\n",
    "        print(i)"
   ]
  },
  {
   "cell_type": "code",
   "execution_count": 16,
   "id": "a02296bb",
   "metadata": {
    "scrolled": true
   },
   "outputs": [
    {
     "data": {
      "text/plain": [
       "[{'name': 'sdfgjhk', 'roll_no': '3456', 'branch': 'sdfghj'}]"
      ]
     },
     "execution_count": 16,
     "metadata": {},
     "output_type": "execute_result"
    }
   ],
   "source": [
    "[i for i in student_record if(i['name'] == 'sdfgjhk')]"
   ]
  },
  {
   "cell_type": "markdown",
   "id": "1cac8b05",
   "metadata": {},
   "source": [
    "### Datastructure to access details using string only"
   ]
  },
  {
   "cell_type": "code",
   "execution_count": 33,
   "id": "b9143d4e",
   "metadata": {},
   "outputs": [],
   "source": [
    "bhaiya = {\n",
    "    \"India\":{\"hello\":\"Namaste\"},\"France\":{\"Hello\":\"Hola\"},\n",
    "}"
   ]
  },
  {
   "cell_type": "code",
   "execution_count": 34,
   "id": "f64189cd",
   "metadata": {},
   "outputs": [
    {
     "data": {
      "text/plain": [
       "'Namaste'"
      ]
     },
     "execution_count": 34,
     "metadata": {},
     "output_type": "execute_result"
    }
   ],
   "source": [
    "bhaiya[\"India\"][\"hello\"]"
   ]
  },
  {
   "cell_type": "code",
   "execution_count": null,
   "id": "f3dc4b67",
   "metadata": {},
   "outputs": [],
   "source": [
    "state = ['Gujarat', 'Maharashtra', 'Rajasthan']\n",
    "capital = ['Gandhinagar', 'Mumbai', 'Jaipur']\n",
    "  \n",
    "output_dict = {}\n",
    "  \n",
    "# Using loop for constructing output dictionary\n",
    "for (key, value) in zip(state, capital):\n",
    "    output_dict[key] = value\n",
    "  \n",
    "print(\"Output Dictionary using for loop:\",\n",
    "                              output_dict)"
   ]
  }
 ],
 "metadata": {
  "kernelspec": {
   "display_name": "Python 3 (ipykernel)",
   "language": "python",
   "name": "python3"
  },
  "language_info": {
   "codemirror_mode": {
    "name": "ipython",
    "version": 3
   },
   "file_extension": ".py",
   "mimetype": "text/x-python",
   "name": "python",
   "nbconvert_exporter": "python",
   "pygments_lexer": "ipython3",
   "version": "3.9.12"
  }
 },
 "nbformat": 4,
 "nbformat_minor": 5
}
