{
 "cells": [
  {
   "cell_type": "markdown",
   "id": "e6b34ad3",
   "metadata": {},
   "source": [
    "### SETS\n",
    "* Sets are **Un-ordered** collection of simple objects,\n",
    "* These are used when the **existence of an object is more important than the order or how many times it occurs.**\n",
    "* Using sets , you can **test for membership**,whether  it is a **subset of another set**,find the **intersection between two sets** and so on."
   ]
  },
  {
   "cell_type": "code",
   "execution_count": 2,
   "id": "e65ed38e",
   "metadata": {},
   "outputs": [],
   "source": [
    "a = {1,2,3,4}"
   ]
  },
  {
   "cell_type": "code",
   "execution_count": 3,
   "id": "2e055c03",
   "metadata": {},
   "outputs": [
    {
     "data": {
      "text/plain": [
       "set"
      ]
     },
     "execution_count": 3,
     "metadata": {},
     "output_type": "execute_result"
    }
   ],
   "source": [
    "type(a)"
   ]
  },
  {
   "cell_type": "code",
   "execution_count": null,
   "id": "a8292108",
   "metadata": {},
   "outputs": [],
   "source": []
  },
  {
   "cell_type": "code",
   "execution_count": 4,
   "id": "dc07d2b9",
   "metadata": {},
   "outputs": [],
   "source": [
    "b = {3,4,5,6,7} "
   ]
  },
  {
   "cell_type": "raw",
   "id": "9d5525e3",
   "metadata": {},
   "source": []
  },
  {
   "cell_type": "code",
   "execution_count": null,
   "id": "127c1778",
   "metadata": {},
   "outputs": [],
   "source": []
  }
 ],
 "metadata": {
  "kernelspec": {
   "display_name": "Python 3",
   "language": "python",
   "name": "python3"
  },
  "language_info": {
   "codemirror_mode": {
    "name": "ipython",
    "version": 3
   },
   "file_extension": ".py",
   "mimetype": "text/x-python",
   "name": "python",
   "nbconvert_exporter": "python",
   "pygments_lexer": "ipython3",
   "version": "3.8.8"
  }
 },
 "nbformat": 4,
 "nbformat_minor": 5
}
