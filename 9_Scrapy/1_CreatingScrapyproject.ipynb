{
 "cells": [
  {
   "cell_type": "markdown",
   "id": "4389c6a9",
   "metadata": {},
   "source": [
    "### [Scrapy](https://docs.scrapy.org/en/latest/intro/tutorial.html)\n",
    "High-level web crawling and web scraping framework, used to crawl websites and extract structured data from their pages.\n",
    "\n",
    "##### Steps to be followed while using Scrapy while creating a new Scrapy project\n",
    "* Writing a spider to crawl a site and extract data\n",
    "* Exporting the scraped data using the command line\n",
    "* Changing spider to recursively follow links\n",
    "* Using spider arguments\n",
    "\n",
    "##### Purposes:\n",
    "* Data mining\n",
    "* monitoring\n",
    "* automated testing."
   ]
  },
  {
   "cell_type": "code",
   "execution_count": 1,
   "id": "0d6fa546",
   "metadata": {},
   "outputs": [
    {
     "name": "stdout",
     "output_type": "stream",
     "text": [
      "New Scrapy project 'myProject', using template directory 'C:\\Users\\saksh\\anaconda3\\envs\\PracticeENV\\lib\\site-packages\\scrapy\\templates\\project', created in:\n",
      "    C:\\Users\\saksh\\OneDrive\\Desktop\\github\\Coding_Blocks_Machine_Learning\\9_Scrapy\\myProject\n",
      "\n",
      "You can start your first spider with:\n",
      "    cd myProject\n",
      "    scrapy genspider example example.com\n"
     ]
    }
   ],
   "source": [
    "!scrapy startproject myProject"
   ]
  },
  {
   "cell_type": "markdown",
   "id": "241446a9",
   "metadata": {},
   "source": [
    "##### Our first Spider\n",
    "Spiders are classes that you define and that Scrapy uses to scrape information from a website (or a group of websites). They must subclass Spider and define the initial requests to make, optionally how to follow links in the pages, and how to parse the downloaded page content to extract data\n",
    "\n",
    "##### Files in Scrapy project with there respective functionings....\n",
    "\n",
    "tutorial/\n",
    "    scrapy.cfg            # deploy configuration file\n",
    "\n",
    "    tutorial/             # project's Python module, you'll import your code from here\n",
    "        __init__.py\n",
    "\n",
    "        items.py          # project items definition file\n",
    "\n",
    "        middlewares.py    # project middlewares file\n",
    "\n",
    "        pipelines.py      # project pipelines file\n",
    "\n",
    "        settings.py       # project settings file\n",
    "\n",
    "        spiders/          # a directory where you'll later put your spiders\n",
    "            __init__.py"
   ]
  },
  {
   "cell_type": "code",
   "execution_count": null,
   "id": "2a6a22b1",
   "metadata": {},
   "outputs": [],
   "source": []
  }
 ],
 "metadata": {
  "kernelspec": {
   "display_name": "PracticeENV",
   "language": "python",
   "name": "practiceenv"
  },
  "language_info": {
   "codemirror_mode": {
    "name": "ipython",
    "version": 3
   },
   "file_extension": ".py",
   "mimetype": "text/x-python",
   "name": "python",
   "nbconvert_exporter": "python",
   "pygments_lexer": "ipython3",
   "version": "3.6.13"
  }
 },
 "nbformat": 4,
 "nbformat_minor": 5
}
