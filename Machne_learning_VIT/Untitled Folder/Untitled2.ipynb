{
 "cells": [
  {
   "cell_type": "markdown",
   "id": "5542142f",
   "metadata": {},
   "source": [
    "### Load Libraries"
   ]
  },
  {
   "cell_type": "code",
   "execution_count": 3,
   "id": "e4a2a563",
   "metadata": {},
   "outputs": [
    {
     "ename": "ModuleNotFoundError",
     "evalue": "No module named 'sklearn.cross_validation'",
     "output_type": "error",
     "traceback": [
      "\u001b[1;31m---------------------------------------------------------------------------\u001b[0m",
      "\u001b[1;31mModuleNotFoundError\u001b[0m                       Traceback (most recent call last)",
      "\u001b[1;32m~\\AppData\\Local\\Temp/ipykernel_10412/3098561767.py\u001b[0m in \u001b[0;36m<module>\u001b[1;34m\u001b[0m\n\u001b[0;32m      5\u001b[0m \u001b[1;32mfrom\u001b[0m \u001b[0msklearn\u001b[0m\u001b[1;33m.\u001b[0m\u001b[0mmodel_selection\u001b[0m \u001b[1;32mimport\u001b[0m \u001b[0mtrain_test_split\u001b[0m\u001b[1;33m\u001b[0m\u001b[1;33m\u001b[0m\u001b[0m\n\u001b[0;32m      6\u001b[0m \u001b[1;32mfrom\u001b[0m \u001b[0msklearn\u001b[0m\u001b[1;33m.\u001b[0m\u001b[0mlinear_model\u001b[0m \u001b[1;32mimport\u001b[0m \u001b[0mLogisticRegression\u001b[0m\u001b[1;33m\u001b[0m\u001b[1;33m\u001b[0m\u001b[0m\n\u001b[1;32m----> 7\u001b[1;33m \u001b[1;32mfrom\u001b[0m \u001b[0msklearn\u001b[0m\u001b[1;33m.\u001b[0m\u001b[0mcross_validation\u001b[0m \u001b[1;32mimport\u001b[0m \u001b[0mKFold\u001b[0m\u001b[1;33m\u001b[0m\u001b[1;33m\u001b[0m\u001b[0m\n\u001b[0m\u001b[0;32m      8\u001b[0m \u001b[1;32mfrom\u001b[0m \u001b[0msklearn\u001b[0m\u001b[1;33m.\u001b[0m\u001b[0mensemble\u001b[0m \u001b[1;32mimport\u001b[0m \u001b[0mRandomForestClassifier\u001b[0m\u001b[1;33m\u001b[0m\u001b[1;33m\u001b[0m\u001b[0m\n\u001b[0;32m      9\u001b[0m \u001b[1;32mfrom\u001b[0m \u001b[0msklearn\u001b[0m\u001b[1;33m.\u001b[0m\u001b[0mtree\u001b[0m \u001b[1;32mimport\u001b[0m \u001b[0mDecisionTreeClassifier\u001b[0m\u001b[1;33m,\u001b[0m \u001b[0mexport_graphviz\u001b[0m\u001b[1;33m\u001b[0m\u001b[1;33m\u001b[0m\u001b[0m\n",
      "\u001b[1;31mModuleNotFoundError\u001b[0m: No module named 'sklearn.cross_validation'"
     ]
    }
   ],
   "source": [
    "import numpy as np\n",
    "import pandas as pd\n",
    "\n",
    "import matplotlib.pyplot as plt\n",
    "import seaborn as sns"
   ]
  },
  {
   "cell_type": "code",
   "execution_count": null,
   "id": "c7db78e3",
   "metadata": {},
   "outputs": [],
   "source": [
    "Load the data"
   ]
  },
  {
   "cell_type": "code",
   "execution_count": null,
   "id": "64c0d05d",
   "metadata": {},
   "outputs": [],
   "source": [
    "data = pd.read_csv('../input/car_evaluation.csv', header = None)\n",
    "\n",
    "print(\"Shape of the Data: \", data.shape )"
   ]
  },
  {
   "cell_type": "code",
   "execution_count": null,
   "id": "5b9605b6",
   "metadata": {},
   "outputs": [],
   "source": [
    "# Assigning names to the columns in the dataset\n",
    "\n",
    "data.columns = ['Price', 'Maintenance Cost', 'Number of Doors', 'Capacity', 'Size of Luggage Boot', 'safety', 'Decision']"
   ]
  },
  {
   "cell_type": "code",
   "execution_count": null,
   "id": "8dc15f48",
   "metadata": {},
   "outputs": [],
   "source": [
    "Data Insights\n",
    "\n",
    "data.head()"
   ]
  },
  {
   "cell_type": "code",
   "execution_count": null,
   "id": "cd6a994e",
   "metadata": {},
   "outputs": [],
   "source": [
    "data.sample(5)"
   ]
  },
  {
   "cell_type": "code",
   "execution_count": null,
   "id": "20593c97",
   "metadata": {},
   "outputs": [],
   "source": [
    "data.tail()"
   ]
  },
  {
   "cell_type": "code",
   "execution_count": null,
   "id": "0396eb8f",
   "metadata": {},
   "outputs": [],
   "source": [
    "data.info()"
   ]
  },
  {
   "cell_type": "code",
   "execution_count": null,
   "id": "75ba5e19",
   "metadata": {},
   "outputs": [],
   "source": [
    "data.describe()"
   ]
  },
  {
   "cell_type": "code",
   "execution_count": null,
   "id": "fed47b82",
   "metadata": {},
   "outputs": [],
   "source": [
    "data.isnull().any()"
   ]
  },
  {
   "cell_type": "code",
   "execution_count": null,
   "id": "9cf6ce20",
   "metadata": {},
   "outputs": [],
   "source": [
    "data.columns"
   ]
  },
  {
   "cell_type": "code",
   "execution_count": null,
   "id": "798ad410",
   "metadata": {},
   "outputs": [],
   "source": [
    "price = pd.crosstab(data['Price'], data['Decision'])\n",
    "price.div(price.sum(1).astype(float), axis = 0).plot(kind = 'bar', stacked = True, figsize = (10, 7))\n",
    "\n",
    "plt.title('Stacked Bar Graph to Depict portions of Decisions taken on each Price Category', fontsize = 20)\n",
    "plt.xlabel('Price Range in Increasing Order', fontsize = 15)\n",
    "plt.ylabel('Count', fontsize = 15)\n",
    "plt.legend()\n",
    "plt.show()"
   ]
  },
  {
   "cell_type": "code",
   "execution_count": null,
   "id": "655efefa",
   "metadata": {},
   "outputs": [],
   "source": [
    "mc = pd.crosstab(data['Maintenance Cost'], data['Decision'])\n",
    "mc.div(mc.sum(1).astype(float), axis = 0).plot(kind = 'bar', stacked = True, figsize = (10, 7))\n",
    "\n",
    "plt.title('Stacked Bar Graph to Depict portions of Decisions taken on each Maintenance Cost Category', fontsize = 20)\n",
    "plt.xlabel('Maintenance Cost in Increasing Order', fontsize = 15)\n",
    "plt.ylabel('Count', fontsize = 15)\n",
    "plt.legend()\n",
    "plt.show()"
   ]
  },
  {
   "cell_type": "code",
   "execution_count": null,
   "id": "6e4ec09e",
   "metadata": {},
   "outputs": [],
   "source": [
    "safety = pd.crosstab(data['safety'], data['Decision'])\n",
    "safety.div(safety.sum(1).astype(float), axis = 0).plot(kind = 'bar', stacked = True, figsize = (10, 7))\n",
    "\n",
    "plt.title('Stacked Bar Graph to Depict portions of Decisions taken on each Safety Category', fontsize = 20)\n",
    "plt.xlabel('Safety Increasing Order', fontsize = 15)\n",
    "plt.ylabel('Count', fontsize = 15)\n",
    "plt.legend()\n",
    "plt.show()"
   ]
  },
  {
   "cell_type": "code",
   "execution_count": null,
   "id": "1cbf4db9",
   "metadata": {},
   "outputs": [],
   "source": [
    "doors = pd.crosstab(data['Number of Doors'], data['Decision'])\n",
    "doors.div(doors.sum(1).astype(float), axis = 0).plot(kind = 'bar', stacked = True, figsize = (10, 7))\n",
    "\n",
    "plt.title('Stacked Bar Graph to Depict portions of Decisions taken on each doors Category', fontsize = 20)\n",
    "plt.xlabel('No. of Doors in Increasing Order', fontsize = 15)\n",
    "plt.ylabel('Count', fontsize = 15)\n",
    "plt.legend()\n",
    "plt.show()\n"
   ]
  },
  {
   "cell_type": "code",
   "execution_count": null,
   "id": "a7a14ace",
   "metadata": {},
   "outputs": [],
   "source": [
    "capacity = pd.crosstab(data['Capacity'], data['Decision'])\n",
    "capacity.div(capacity.sum(1).astype(float), axis = 0).plot(kind = 'bar', stacked = True, figsize = (10, 7))\n",
    "\n",
    "plt.title('Stacked Bar Graph to Depict portions of Decisions taken on each capacity Category', fontsize = 20)\n",
    "plt.xlabel('Capacity in Increasing Order', fontsize = 15)\n",
    "plt.ylabel('Count', fontsize = 15)\n",
    "plt.legend()\n",
    "plt.show()"
   ]
  },
  {
   "cell_type": "code",
   "execution_count": null,
   "id": "df7d7745",
   "metadata": {},
   "outputs": [],
   "source": [
    "luggage = pd.crosstab(data['Size of Luggage Boot'], data['Decision'])\n",
    "luggage.div(safety.sum(1).astype(float), axis = 0).plot(kind = 'bar', stacked = True, figsize = (10, 7))\n",
    "\n",
    "plt.title('Stacked Bar Graph to Depict portions of Decisions taken on each luggage size Category', fontsize = 20)\n",
    "plt.xlabel('Luggage Size in Increasing Order', fontsize = 15)\n",
    "plt.ylabel('Count', fontsize = 15)\n",
    "plt.legend()\n",
    "plt.show()"
   ]
  },
  {
   "cell_type": "markdown",
   "id": "6a199f86",
   "metadata": {},
   "source": [
    "### Uni-Variate Data Analysis"
   ]
  },
  {
   "cell_type": "code",
   "execution_count": null,
   "id": "5711200e",
   "metadata": {},
   "outputs": [],
   "source": [
    "data['Decision'].value_counts().sort_index()"
   ]
  },
  {
   "cell_type": "code",
   "execution_count": null,
   "id": "92710d91",
   "metadata": {},
   "outputs": [],
   "source": [
    "labels = ['acc', 'good', 'unacc', 'vgood']\n",
    "colors = ['pink', 'lightblue', 'lightgreen', 'magenta']\n",
    "size = [384, 69, 1210, 65]\n",
    "explode = [0.1, 0.1, 0.1, 0.1]\n",
    "\n",
    "plt.rcParams['figure.figsize'] = (10, 10)\n",
    "plt.pie(size, labels = labels, colors = colors, explode = explode, shadow = True, autopct = \"%.2f%%\")\n",
    "plt.title('A Pie Chart Representing Different Decisions', fontsize = 20)\n",
    "plt.axis('off')\n",
    "plt.legend()\n",
    "plt.show()"
   ]
  },
  {
   "cell_type": "code",
   "execution_count": null,
   "id": "b9bea17c",
   "metadata": {},
   "outputs": [],
   "source": [
    "# Label Encoding\n",
    "\n",
    "data.Decision.replace(('unacc', 'acc', 'good', 'vgood'), (0, 1, 2, 3), inplace = True)\n",
    "\n",
    "data['Decision'].value_counts()"
   ]
  },
  {
   "cell_type": "code",
   "execution_count": null,
   "id": "7247e397",
   "metadata": {},
   "outputs": [],
   "source": [
    "data['Size of Luggage Boot'].value_counts().sort_index()"
   ]
  },
  {
   "cell_type": "code",
   "execution_count": null,
   "id": "f36a9186",
   "metadata": {},
   "outputs": [],
   "source": [
    "labels = ['big', 'medium', 'small',]\n",
    "colors = ['red', 'cyan', 'orange']\n",
    "size = [576, 576, 576]\n",
    "explode = [0.1, 0.1, 0.1]\n",
    "\n",
    "plt.rcParams['figure.figsize'] = (10, 10)\n",
    "plt.pie(size, labels = labels, colors = colors, explode = explode, shadow = True, autopct = '%.2f%%')\n",
    "plt.title('A Pie Chart Representing Different Luggage boot Sizes', fontsize = 20)\n",
    "plt.axis('off')\n",
    "plt.legend()\n",
    "plt.show()"
   ]
  },
  {
   "cell_type": "code",
   "execution_count": null,
   "id": "4a07a94c",
   "metadata": {},
   "outputs": [],
   "source": [
    "# label Encoding\n",
    "\n",
    "data['Size of Luggage Boot'].replace(('small', 'med', 'big'), (0, 1, 2), inplace = True)\n",
    "\n",
    "data['Size of Luggage Boot'].value_counts()"
   ]
  },
  {
   "cell_type": "code",
   "execution_count": null,
   "id": "6aab3573",
   "metadata": {},
   "outputs": [],
   "source": [
    "data['safety'].value_counts().sort_index()"
   ]
  },
  {
   "cell_type": "code",
   "execution_count": null,
   "id": "5b706874",
   "metadata": {},
   "outputs": [],
   "source": [
    "labels = ['high', 'low', 'med']\n",
    "colors = ['purple', 'cyan', 'lightblue']\n",
    "size = [576, 576, 576]\n",
    "explode = [0.1, 0.1, 0.1]\n",
    "\n",
    "plt.rcParams['figure.figsize'] = (10, 10)\n",
    "plt.pie(size, labels = labels, colors = colors, explode = explode, shadow = True, autopct = '%.2f%%')\n",
    "plt.title('A Pie Chart Representing Different Safety Levels', fontsize = 20)\n",
    "plt.axis('off')\n",
    "plt.legend()\n",
    "plt.show()"
   ]
  },
  {
   "cell_type": "code",
   "execution_count": null,
   "id": "0258d970",
   "metadata": {},
   "outputs": [],
   "source": [
    "data['safety'].replace(('low', 'med', 'high'), (0, 1, 2), inplace = True)\n",
    "\n",
    "data['safety'].value_counts()"
   ]
  },
  {
   "cell_type": "code",
   "execution_count": null,
   "id": "cc5e9446",
   "metadata": {},
   "outputs": [],
   "source": [
    "data['Price'].value_counts().sort_index()"
   ]
  },
  {
   "cell_type": "code",
   "execution_count": null,
   "id": "fedc6d09",
   "metadata": {},
   "outputs": [],
   "source": [
    "labels = ['high', 'low', 'med', 'vhigh']\n",
    "colors = ['crimson', 'blue', 'lightpink', 'maroon']\n",
    "size = [432, 432, 432, 432]\n",
    "explode = [0.1, 0.1, 0.1, 0.1]\n",
    "\n",
    "plt.rcParams['figure.figsize'] = (8, 8)\n",
    "plt.pie(size, labels = labels, colors = colors, explode = explode, shadow = True, startangle = 120, autopct = '%1.1f%%')\n",
    "plt.title('A Pie Chart Representing Different Price Ranges', fontsize = 20)\n",
    "plt.axis('off')\n",
    "plt.legend()\n",
    "plt.show()"
   ]
  },
  {
   "cell_type": "code",
   "execution_count": null,
   "id": "af6122d9",
   "metadata": {},
   "outputs": [],
   "source": [
    "# label Encoding\n",
    "\n",
    "data['Price'].replace(('low', 'med', 'high', 'vhigh'), (0, 1, 2, 3), inplace = True)\n",
    "\n",
    "data['Price'].value_counts()"
   ]
  },
  {
   "cell_type": "code",
   "execution_count": null,
   "id": "ddba714b",
   "metadata": {},
   "outputs": [],
   "source": [
    "data['Maintenance Cost'].value_counts().sort_index()"
   ]
  },
  {
   "cell_type": "code",
   "execution_count": null,
   "id": "90d6da1c",
   "metadata": {},
   "outputs": [],
   "source": [
    "labels = ['high', 'low', 'med', 'vhigh']\n",
    "colors = ['crimson', 'orange', 'red', 'pink']\n",
    "size = [432, 432, 432, 432]\n",
    "explode = [0.1, 0.1, 0.1, 0.1]\n",
    "\n",
    "plt.rcParams['figure.figsize'] = (8, 8)\n",
    "plt.pie(size, labels = labels, colors = colors, explode = explode, autopct='%1.1f%%', shadow = True, startangle = 120)\n",
    "plt.title('A Pie Chart Representing Different Maintenance Cost Ranges', fontsize = 20)\n",
    "plt.axis('off')\n",
    "plt.legend()\n",
    "plt.show()"
   ]
  },
  {
   "cell_type": "code",
   "execution_count": null,
   "id": "5679ffa5",
   "metadata": {},
   "outputs": [],
   "source": [
    "# label Encoding\n",
    "\n",
    "data['Maintenance Cost'].replace(('low', 'med', 'high', 'vhigh'), (0, 1, 2, 3), inplace = True)\n",
    "\n",
    "data['Maintenance Cost'].value_counts()"
   ]
  }
 ],
 "metadata": {
  "kernelspec": {
   "display_name": "Python 3",
   "language": "python",
   "name": "python3"
  },
  "language_info": {
   "codemirror_mode": {
    "name": "ipython",
    "version": 3
   },
   "file_extension": ".py",
   "mimetype": "text/x-python",
   "name": "python",
   "nbconvert_exporter": "python",
   "pygments_lexer": "ipython3",
   "version": "3.8.8"
  }
 },
 "nbformat": 4,
 "nbformat_minor": 5
}
