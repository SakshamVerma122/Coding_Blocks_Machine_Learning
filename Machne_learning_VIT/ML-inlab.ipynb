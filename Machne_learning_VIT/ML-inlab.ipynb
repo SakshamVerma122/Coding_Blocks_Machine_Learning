{
 "cells": [
  {
   "cell_type": "markdown",
   "id": "b1b13712",
   "metadata": {},
   "source": [
    "#### REGNO: 19MID0023  NAME : Saksham Verma\n",
    "### Question:\n",
    "Implement Multilayer perceptron and analyse the classification result for lower back pain symptoms using Dataset_spine dataset"
   ]
  },
  {
   "cell_type": "code",
   "execution_count": 1,
   "id": "0e9dfd62",
   "metadata": {},
   "outputs": [],
   "source": [
    "import numpy as np\n",
    "import pandas as pd\n",
    "from sklearn.neural_network import MLPClassifier\n",
    "from sklearn.model_selection import train_test_split\n",
    "from sklearn.metrics import classification_report, plot_confusion_matrix, confusion_matrix"
   ]
  },
  {
   "cell_type": "markdown",
   "id": "e5b67bfe",
   "metadata": {},
   "source": [
    "### Importing data"
   ]
  },
  {
   "cell_type": "code",
   "execution_count": 2,
   "id": "26284a6f",
   "metadata": {},
   "outputs": [],
   "source": [
    "dataset_spine = pd.read_csv('Dataset_spine.csv')"
   ]
  },
  {
   "cell_type": "markdown",
   "id": "18331d68",
   "metadata": {},
   "source": [
    "### Evaluating dataset"
   ]
  },
  {
   "cell_type": "code",
   "execution_count": 3,
   "id": "2cc74683",
   "metadata": {},
   "outputs": [
    {
     "data": {
      "text/html": [
       "<div>\n",
       "<style scoped>\n",
       "    .dataframe tbody tr th:only-of-type {\n",
       "        vertical-align: middle;\n",
       "    }\n",
       "\n",
       "    .dataframe tbody tr th {\n",
       "        vertical-align: top;\n",
       "    }\n",
       "\n",
       "    .dataframe thead th {\n",
       "        text-align: right;\n",
       "    }\n",
       "</style>\n",
       "<table border=\"1\" class=\"dataframe\">\n",
       "  <thead>\n",
       "    <tr style=\"text-align: right;\">\n",
       "      <th></th>\n",
       "      <th>Col1</th>\n",
       "      <th>Col2</th>\n",
       "      <th>Col3</th>\n",
       "      <th>Col4</th>\n",
       "      <th>Col5</th>\n",
       "      <th>Col6</th>\n",
       "      <th>Col7</th>\n",
       "      <th>Col8</th>\n",
       "      <th>Col9</th>\n",
       "      <th>Col10</th>\n",
       "      <th>Col11</th>\n",
       "      <th>Col12</th>\n",
       "      <th>Class_att</th>\n",
       "    </tr>\n",
       "  </thead>\n",
       "  <tbody>\n",
       "    <tr>\n",
       "      <th>0</th>\n",
       "      <td>63.027817</td>\n",
       "      <td>22.552586</td>\n",
       "      <td>39.609117</td>\n",
       "      <td>40.475232</td>\n",
       "      <td>98.672917</td>\n",
       "      <td>-0.254400</td>\n",
       "      <td>0.744503</td>\n",
       "      <td>12.5661</td>\n",
       "      <td>14.5386</td>\n",
       "      <td>15.30468</td>\n",
       "      <td>-28.658501</td>\n",
       "      <td>43.5123</td>\n",
       "      <td>Abnormal</td>\n",
       "    </tr>\n",
       "    <tr>\n",
       "      <th>1</th>\n",
       "      <td>39.056951</td>\n",
       "      <td>10.060991</td>\n",
       "      <td>25.015378</td>\n",
       "      <td>28.995960</td>\n",
       "      <td>114.405425</td>\n",
       "      <td>4.564259</td>\n",
       "      <td>0.415186</td>\n",
       "      <td>12.8874</td>\n",
       "      <td>17.5323</td>\n",
       "      <td>16.78486</td>\n",
       "      <td>-25.530607</td>\n",
       "      <td>16.1102</td>\n",
       "      <td>Abnormal</td>\n",
       "    </tr>\n",
       "    <tr>\n",
       "      <th>2</th>\n",
       "      <td>68.832021</td>\n",
       "      <td>22.218482</td>\n",
       "      <td>50.092194</td>\n",
       "      <td>46.613539</td>\n",
       "      <td>105.985135</td>\n",
       "      <td>-3.530317</td>\n",
       "      <td>0.474889</td>\n",
       "      <td>26.8343</td>\n",
       "      <td>17.4861</td>\n",
       "      <td>16.65897</td>\n",
       "      <td>-29.031888</td>\n",
       "      <td>19.2221</td>\n",
       "      <td>Abnormal</td>\n",
       "    </tr>\n",
       "    <tr>\n",
       "      <th>3</th>\n",
       "      <td>69.297008</td>\n",
       "      <td>24.652878</td>\n",
       "      <td>44.311238</td>\n",
       "      <td>44.644130</td>\n",
       "      <td>101.868495</td>\n",
       "      <td>11.211523</td>\n",
       "      <td>0.369345</td>\n",
       "      <td>23.5603</td>\n",
       "      <td>12.7074</td>\n",
       "      <td>11.42447</td>\n",
       "      <td>-30.470246</td>\n",
       "      <td>18.8329</td>\n",
       "      <td>Abnormal</td>\n",
       "    </tr>\n",
       "    <tr>\n",
       "      <th>4</th>\n",
       "      <td>49.712859</td>\n",
       "      <td>9.652075</td>\n",
       "      <td>28.317406</td>\n",
       "      <td>40.060784</td>\n",
       "      <td>108.168725</td>\n",
       "      <td>7.918501</td>\n",
       "      <td>0.543360</td>\n",
       "      <td>35.4940</td>\n",
       "      <td>15.9546</td>\n",
       "      <td>8.87237</td>\n",
       "      <td>-16.378376</td>\n",
       "      <td>24.9171</td>\n",
       "      <td>Abnormal</td>\n",
       "    </tr>\n",
       "  </tbody>\n",
       "</table>\n",
       "</div>"
      ],
      "text/plain": [
       "        Col1       Col2       Col3       Col4        Col5       Col6  \\\n",
       "0  63.027817  22.552586  39.609117  40.475232   98.672917  -0.254400   \n",
       "1  39.056951  10.060991  25.015378  28.995960  114.405425   4.564259   \n",
       "2  68.832021  22.218482  50.092194  46.613539  105.985135  -3.530317   \n",
       "3  69.297008  24.652878  44.311238  44.644130  101.868495  11.211523   \n",
       "4  49.712859   9.652075  28.317406  40.060784  108.168725   7.918501   \n",
       "\n",
       "       Col7     Col8     Col9     Col10      Col11    Col12 Class_att  \n",
       "0  0.744503  12.5661  14.5386  15.30468 -28.658501  43.5123  Abnormal  \n",
       "1  0.415186  12.8874  17.5323  16.78486 -25.530607  16.1102  Abnormal  \n",
       "2  0.474889  26.8343  17.4861  16.65897 -29.031888  19.2221  Abnormal  \n",
       "3  0.369345  23.5603  12.7074  11.42447 -30.470246  18.8329  Abnormal  \n",
       "4  0.543360  35.4940  15.9546   8.87237 -16.378376  24.9171  Abnormal  "
      ]
     },
     "execution_count": 3,
     "metadata": {},
     "output_type": "execute_result"
    }
   ],
   "source": [
    "dataset_spine.head()"
   ]
  },
  {
   "cell_type": "code",
   "execution_count": 4,
   "id": "7daa6ec4",
   "metadata": {},
   "outputs": [
    {
     "name": "stdout",
     "output_type": "stream",
     "text": [
      "<class 'pandas.core.frame.DataFrame'>\n",
      "RangeIndex: 310 entries, 0 to 309\n",
      "Data columns (total 13 columns):\n",
      " #   Column     Non-Null Count  Dtype  \n",
      "---  ------     --------------  -----  \n",
      " 0   Col1       310 non-null    float64\n",
      " 1   Col2       310 non-null    float64\n",
      " 2   Col3       310 non-null    float64\n",
      " 3   Col4       310 non-null    float64\n",
      " 4   Col5       310 non-null    float64\n",
      " 5   Col6       310 non-null    float64\n",
      " 6   Col7       310 non-null    float64\n",
      " 7   Col8       310 non-null    float64\n",
      " 8   Col9       310 non-null    float64\n",
      " 9   Col10      310 non-null    float64\n",
      " 10  Col11      310 non-null    float64\n",
      " 11  Col12      310 non-null    float64\n",
      " 12  Class_att  310 non-null    object \n",
      "dtypes: float64(12), object(1)\n",
      "memory usage: 31.6+ KB\n"
     ]
    }
   ],
   "source": [
    "dataset_spine.info()"
   ]
  },
  {
   "cell_type": "markdown",
   "id": "269c5222",
   "metadata": {},
   "source": [
    "### Finding unique values and there respective counts"
   ]
  },
  {
   "cell_type": "code",
   "execution_count": 5,
   "id": "883114e4",
   "metadata": {},
   "outputs": [
    {
     "data": {
      "text/plain": [
       "array(['Abnormal', 'Normal'], dtype=object)"
      ]
     },
     "execution_count": 5,
     "metadata": {},
     "output_type": "execute_result"
    }
   ],
   "source": [
    "dataset_spine.Class_att.unique()"
   ]
  },
  {
   "cell_type": "markdown",
   "id": "425cbaea",
   "metadata": {},
   "source": [
    "### Preprocessing the datasets"
   ]
  },
  {
   "cell_type": "code",
   "execution_count": 6,
   "id": "6b673073",
   "metadata": {},
   "outputs": [
    {
     "data": {
      "text/plain": [
       "Col1         0\n",
       "Col2         0\n",
       "Col3         0\n",
       "Col4         0\n",
       "Col5         0\n",
       "Col6         0\n",
       "Col7         0\n",
       "Col8         0\n",
       "Col9         0\n",
       "Col10        0\n",
       "Col11        0\n",
       "Col12        0\n",
       "Class_att    0\n",
       "dtype: int64"
      ]
     },
     "execution_count": 6,
     "metadata": {},
     "output_type": "execute_result"
    }
   ],
   "source": [
    "# check for null values\n",
    "dataset_spine.isnull().sum()"
   ]
  },
  {
   "cell_type": "code",
   "execution_count": 30,
   "id": "d4f563f1",
   "metadata": {},
   "outputs": [
    {
     "data": {
      "text/html": [
       "<div>\n",
       "<style scoped>\n",
       "    .dataframe tbody tr th:only-of-type {\n",
       "        vertical-align: middle;\n",
       "    }\n",
       "\n",
       "    .dataframe tbody tr th {\n",
       "        vertical-align: top;\n",
       "    }\n",
       "\n",
       "    .dataframe thead th {\n",
       "        text-align: right;\n",
       "    }\n",
       "</style>\n",
       "<table border=\"1\" class=\"dataframe\">\n",
       "  <thead>\n",
       "    <tr style=\"text-align: right;\">\n",
       "      <th></th>\n",
       "      <th>Col1</th>\n",
       "      <th>Col2</th>\n",
       "      <th>Col3</th>\n",
       "      <th>Col4</th>\n",
       "      <th>Col5</th>\n",
       "      <th>Col6</th>\n",
       "      <th>Col7</th>\n",
       "      <th>Col8</th>\n",
       "      <th>Col9</th>\n",
       "      <th>Col10</th>\n",
       "      <th>Col11</th>\n",
       "      <th>Col12</th>\n",
       "    </tr>\n",
       "  </thead>\n",
       "  <tbody>\n",
       "    <tr>\n",
       "      <th>count</th>\n",
       "      <td>310.000000</td>\n",
       "      <td>310.000000</td>\n",
       "      <td>310.000000</td>\n",
       "      <td>310.000000</td>\n",
       "      <td>310.000000</td>\n",
       "      <td>310.000000</td>\n",
       "      <td>310.000000</td>\n",
       "      <td>310.000000</td>\n",
       "      <td>310.000000</td>\n",
       "      <td>310.000000</td>\n",
       "      <td>310.000000</td>\n",
       "      <td>310.000000</td>\n",
       "    </tr>\n",
       "    <tr>\n",
       "      <th>mean</th>\n",
       "      <td>60.496653</td>\n",
       "      <td>17.542822</td>\n",
       "      <td>51.930930</td>\n",
       "      <td>42.953831</td>\n",
       "      <td>117.920655</td>\n",
       "      <td>26.296694</td>\n",
       "      <td>0.472979</td>\n",
       "      <td>21.321526</td>\n",
       "      <td>13.064511</td>\n",
       "      <td>11.933317</td>\n",
       "      <td>-14.053139</td>\n",
       "      <td>25.645981</td>\n",
       "    </tr>\n",
       "    <tr>\n",
       "      <th>std</th>\n",
       "      <td>17.236520</td>\n",
       "      <td>10.008330</td>\n",
       "      <td>18.554064</td>\n",
       "      <td>13.423102</td>\n",
       "      <td>13.317377</td>\n",
       "      <td>37.559027</td>\n",
       "      <td>0.285787</td>\n",
       "      <td>8.639423</td>\n",
       "      <td>3.399713</td>\n",
       "      <td>2.893265</td>\n",
       "      <td>12.225582</td>\n",
       "      <td>10.450558</td>\n",
       "    </tr>\n",
       "    <tr>\n",
       "      <th>min</th>\n",
       "      <td>26.147921</td>\n",
       "      <td>-6.554948</td>\n",
       "      <td>14.000000</td>\n",
       "      <td>13.366931</td>\n",
       "      <td>70.082575</td>\n",
       "      <td>-11.058179</td>\n",
       "      <td>0.003220</td>\n",
       "      <td>7.027000</td>\n",
       "      <td>7.037800</td>\n",
       "      <td>7.030600</td>\n",
       "      <td>-35.287375</td>\n",
       "      <td>7.007900</td>\n",
       "    </tr>\n",
       "    <tr>\n",
       "      <th>25%</th>\n",
       "      <td>46.430294</td>\n",
       "      <td>10.667069</td>\n",
       "      <td>37.000000</td>\n",
       "      <td>33.347122</td>\n",
       "      <td>110.709196</td>\n",
       "      <td>1.603727</td>\n",
       "      <td>0.224367</td>\n",
       "      <td>13.054400</td>\n",
       "      <td>10.417800</td>\n",
       "      <td>9.541140</td>\n",
       "      <td>-24.289522</td>\n",
       "      <td>17.189075</td>\n",
       "    </tr>\n",
       "    <tr>\n",
       "      <th>50%</th>\n",
       "      <td>58.691038</td>\n",
       "      <td>16.357689</td>\n",
       "      <td>49.562398</td>\n",
       "      <td>42.404912</td>\n",
       "      <td>118.268178</td>\n",
       "      <td>11.767934</td>\n",
       "      <td>0.475989</td>\n",
       "      <td>21.907150</td>\n",
       "      <td>12.938450</td>\n",
       "      <td>11.953835</td>\n",
       "      <td>-14.622856</td>\n",
       "      <td>24.931950</td>\n",
       "    </tr>\n",
       "    <tr>\n",
       "      <th>75%</th>\n",
       "      <td>72.877696</td>\n",
       "      <td>22.120395</td>\n",
       "      <td>63.000000</td>\n",
       "      <td>52.695888</td>\n",
       "      <td>125.467674</td>\n",
       "      <td>41.287352</td>\n",
       "      <td>0.704846</td>\n",
       "      <td>28.954075</td>\n",
       "      <td>15.889525</td>\n",
       "      <td>14.371810</td>\n",
       "      <td>-3.497094</td>\n",
       "      <td>33.979600</td>\n",
       "    </tr>\n",
       "    <tr>\n",
       "      <th>max</th>\n",
       "      <td>129.834041</td>\n",
       "      <td>49.431864</td>\n",
       "      <td>125.742385</td>\n",
       "      <td>121.429566</td>\n",
       "      <td>163.071041</td>\n",
       "      <td>418.543082</td>\n",
       "      <td>0.998827</td>\n",
       "      <td>36.743900</td>\n",
       "      <td>19.324000</td>\n",
       "      <td>16.821080</td>\n",
       "      <td>6.972071</td>\n",
       "      <td>44.341200</td>\n",
       "    </tr>\n",
       "  </tbody>\n",
       "</table>\n",
       "</div>"
      ],
      "text/plain": [
       "             Col1        Col2        Col3        Col4        Col5        Col6  \\\n",
       "count  310.000000  310.000000  310.000000  310.000000  310.000000  310.000000   \n",
       "mean    60.496653   17.542822   51.930930   42.953831  117.920655   26.296694   \n",
       "std     17.236520   10.008330   18.554064   13.423102   13.317377   37.559027   \n",
       "min     26.147921   -6.554948   14.000000   13.366931   70.082575  -11.058179   \n",
       "25%     46.430294   10.667069   37.000000   33.347122  110.709196    1.603727   \n",
       "50%     58.691038   16.357689   49.562398   42.404912  118.268178   11.767934   \n",
       "75%     72.877696   22.120395   63.000000   52.695888  125.467674   41.287352   \n",
       "max    129.834041   49.431864  125.742385  121.429566  163.071041  418.543082   \n",
       "\n",
       "             Col7        Col8        Col9       Col10       Col11       Col12  \n",
       "count  310.000000  310.000000  310.000000  310.000000  310.000000  310.000000  \n",
       "mean     0.472979   21.321526   13.064511   11.933317  -14.053139   25.645981  \n",
       "std      0.285787    8.639423    3.399713    2.893265   12.225582   10.450558  \n",
       "min      0.003220    7.027000    7.037800    7.030600  -35.287375    7.007900  \n",
       "25%      0.224367   13.054400   10.417800    9.541140  -24.289522   17.189075  \n",
       "50%      0.475989   21.907150   12.938450   11.953835  -14.622856   24.931950  \n",
       "75%      0.704846   28.954075   15.889525   14.371810   -3.497094   33.979600  \n",
       "max      0.998827   36.743900   19.324000   16.821080    6.972071   44.341200  "
      ]
     },
     "execution_count": 30,
     "metadata": {},
     "output_type": "execute_result"
    }
   ],
   "source": [
    "dataset_spine.describe()"
   ]
  },
  {
   "cell_type": "markdown",
   "id": "c4dfc256",
   "metadata": {},
   "source": [
    "### Preparing data for train-test"
   ]
  },
  {
   "cell_type": "code",
   "execution_count": 7,
   "id": "781c9852",
   "metadata": {},
   "outputs": [],
   "source": [
    "y = dataset_spine['Class_att']\n",
    "x =dataset_spine.drop(['Class_att'], axis = 1)\n",
    "\n",
    "x_train, x_test, y_train, y_test = train_test_split(x, y, test_size = 0.2, random_state = 13)"
   ]
  },
  {
   "cell_type": "markdown",
   "id": "7f6cb599",
   "metadata": {},
   "source": [
    "### Preparing MODEL"
   ]
  },
  {
   "cell_type": "code",
   "execution_count": 8,
   "id": "3144181e",
   "metadata": {},
   "outputs": [
    {
     "data": {
      "text/plain": [
       "{'activation': 'relu',\n",
       " 'alpha': 0.0001,\n",
       " 'batch_size': 'auto',\n",
       " 'beta_1': 0.9,\n",
       " 'beta_2': 0.999,\n",
       " 'early_stopping': False,\n",
       " 'epsilon': 1e-08,\n",
       " 'hidden_layer_sizes': (100,),\n",
       " 'learning_rate': 'constant',\n",
       " 'learning_rate_init': 0.001,\n",
       " 'max_fun': 15000,\n",
       " 'max_iter': 200,\n",
       " 'momentum': 0.9,\n",
       " 'n_iter_no_change': 10,\n",
       " 'nesterovs_momentum': True,\n",
       " 'power_t': 0.5,\n",
       " 'random_state': 13,\n",
       " 'shuffle': True,\n",
       " 'solver': 'adam',\n",
       " 'tol': 0.0001,\n",
       " 'validation_fraction': 0.1,\n",
       " 'verbose': False,\n",
       " 'warm_start': False}"
      ]
     },
     "execution_count": 8,
     "metadata": {},
     "output_type": "execute_result"
    }
   ],
   "source": [
    "MultiLayerPer_classifier = MLPClassifier(random_state = 13, verbose = False)\n",
    "MultiLayerPer_classifier.get_params()"
   ]
  },
  {
   "cell_type": "markdown",
   "id": "aed58327",
   "metadata": {},
   "source": [
    "### FITTING TRAINING DATA"
   ]
  },
  {
   "cell_type": "code",
   "execution_count": 9,
   "id": "b4296bb1",
   "metadata": {},
   "outputs": [
    {
     "data": {
      "text/plain": [
       "MLPClassifier(random_state=13)"
      ]
     },
     "execution_count": 9,
     "metadata": {},
     "output_type": "execute_result"
    }
   ],
   "source": [
    "MultiLayerPer_classifier.fit(x_train, y_train)"
   ]
  },
  {
   "cell_type": "markdown",
   "id": "cf39cd1d",
   "metadata": {},
   "source": [
    "### Getting accuracy score"
   ]
  },
  {
   "cell_type": "code",
   "execution_count": 10,
   "id": "c6f2ce39",
   "metadata": {},
   "outputs": [
    {
     "data": {
      "text/plain": [
       "0.8387096774193549"
      ]
     },
     "execution_count": 10,
     "metadata": {},
     "output_type": "execute_result"
    }
   ],
   "source": [
    "y_pred =MultiLayerPer_classifier.predict(x_test)\n",
    "MultiLayerPer_classifier.score(x_test, y_test)"
   ]
  },
  {
   "cell_type": "markdown",
   "id": "e9382bc0",
   "metadata": {},
   "source": [
    "###  precision ,recall, f1-score and  support"
   ]
  },
  {
   "cell_type": "code",
   "execution_count": 11,
   "id": "29b56d26",
   "metadata": {},
   "outputs": [
    {
     "name": "stdout",
     "output_type": "stream",
     "text": [
      "              precision    recall  f1-score   support\n",
      "\n",
      "    Abnormal       0.92      0.83      0.88        42\n",
      "      Normal       0.71      0.85      0.77        20\n",
      "\n",
      "    accuracy                           0.84        62\n",
      "   macro avg       0.81      0.84      0.82        62\n",
      "weighted avg       0.85      0.84      0.84        62\n",
      "\n"
     ]
    }
   ],
   "source": [
    "MAT = classification_report(y_test, y_pred)\n",
    "print(MAT)"
   ]
  },
  {
   "cell_type": "markdown",
   "id": "487a4de6",
   "metadata": {},
   "source": [
    "### Chosing Identity,logistic,tanh as ACTIVATION FUNCTION and generating models"
   ]
  },
  {
   "cell_type": "code",
   "execution_count": 12,
   "id": "d1720dc3",
   "metadata": {},
   "outputs": [],
   "source": [
    "MultiLayerPer_classifier_ID = MLPClassifier(activation = 'identity', max_iter = 500,random_state = 13, verbose = False)"
   ]
  },
  {
   "cell_type": "code",
   "execution_count": 13,
   "id": "da7b3686",
   "metadata": {},
   "outputs": [],
   "source": [
    "MultiLayerPer_classifier_LG = MLPClassifier(activation = 'logistic', max_iter = 500,random_state = 13, verbose = False)"
   ]
  },
  {
   "cell_type": "code",
   "execution_count": 14,
   "id": "49418536",
   "metadata": {},
   "outputs": [],
   "source": [
    "MultiLayerPer_classifier_TH = MLPClassifier(activation = 'tanh', max_iter = 500,random_state = 13, verbose = False)"
   ]
  },
  {
   "cell_type": "code",
   "execution_count": 15,
   "id": "2479e10e",
   "metadata": {},
   "outputs": [
    {
     "data": {
      "text/plain": [
       "MLPClassifier(activation='identity', max_iter=500, random_state=13)"
      ]
     },
     "execution_count": 15,
     "metadata": {},
     "output_type": "execute_result"
    }
   ],
   "source": [
    "MultiLayerPer_classifier_ID.fit(x_train, y_train)"
   ]
  },
  {
   "cell_type": "code",
   "execution_count": 16,
   "id": "1827c302",
   "metadata": {},
   "outputs": [
    {
     "name": "stderr",
     "output_type": "stream",
     "text": [
      "C:\\Users\\saksh\\anaconda3\\lib\\site-packages\\sklearn\\neural_network\\_multilayer_perceptron.py:614: ConvergenceWarning: Stochastic Optimizer: Maximum iterations (500) reached and the optimization hasn't converged yet.\n",
      "  warnings.warn(\n"
     ]
    },
    {
     "data": {
      "text/plain": [
       "MLPClassifier(activation='logistic', max_iter=500, random_state=13)"
      ]
     },
     "execution_count": 16,
     "metadata": {},
     "output_type": "execute_result"
    }
   ],
   "source": [
    "MultiLayerPer_classifier_LG.fit(x_train, y_train)"
   ]
  },
  {
   "cell_type": "code",
   "execution_count": 17,
   "id": "698dbe78",
   "metadata": {},
   "outputs": [
    {
     "name": "stderr",
     "output_type": "stream",
     "text": [
      "C:\\Users\\saksh\\anaconda3\\lib\\site-packages\\sklearn\\neural_network\\_multilayer_perceptron.py:614: ConvergenceWarning: Stochastic Optimizer: Maximum iterations (500) reached and the optimization hasn't converged yet.\n",
      "  warnings.warn(\n"
     ]
    },
    {
     "data": {
      "text/plain": [
       "MLPClassifier(activation='tanh', max_iter=500, random_state=13)"
      ]
     },
     "execution_count": 17,
     "metadata": {},
     "output_type": "execute_result"
    }
   ],
   "source": [
    "MultiLayerPer_classifier_TH.fit(x_train, y_train)"
   ]
  },
  {
   "cell_type": "markdown",
   "id": "b3a21f4b",
   "metadata": {},
   "source": [
    "###  precision ,recall, f1-score and  support for Identity ACTIVATION"
   ]
  },
  {
   "cell_type": "code",
   "execution_count": 18,
   "id": "b60f4d46",
   "metadata": {},
   "outputs": [
    {
     "name": "stdout",
     "output_type": "stream",
     "text": [
      "0.8548387096774194\n",
      "MLPClassifier(activation='identity', max_iter=500, random_state=13)\n"
     ]
    }
   ],
   "source": [
    "y_pred =MultiLayerPer_classifier_ID.predict(x_test)\n",
    "print(MultiLayerPer_classifier_ID.score(x_test, y_test))\n",
    "MAT_ID = classification_report(y_test, y_pred)\n",
    "print(MultiLayerPer_classifier_ID)"
   ]
  },
  {
   "cell_type": "markdown",
   "id": "233f5bb3",
   "metadata": {},
   "source": [
    "###  precision ,recall, f1-score and  support for logistic ACTIVATION"
   ]
  },
  {
   "cell_type": "code",
   "execution_count": 19,
   "id": "89607db2",
   "metadata": {},
   "outputs": [
    {
     "name": "stdout",
     "output_type": "stream",
     "text": [
      "0.8387096774193549\n",
      "              precision    recall  f1-score   support\n",
      "\n",
      "    Abnormal       0.90      0.86      0.88        42\n",
      "      Normal       0.73      0.80      0.76        20\n",
      "\n",
      "    accuracy                           0.84        62\n",
      "   macro avg       0.81      0.83      0.82        62\n",
      "weighted avg       0.84      0.84      0.84        62\n",
      "\n"
     ]
    }
   ],
   "source": [
    "y_pred = MultiLayerPer_classifier_LG.predict(x_test)\n",
    "print(MultiLayerPer_classifier_LG.score(x_test, y_test))\n",
    "MAT_LG = classification_report(y_test, y_pred)\n",
    "print(MAT_LG)"
   ]
  },
  {
   "cell_type": "markdown",
   "id": "9994aecd",
   "metadata": {},
   "source": [
    "###  precision ,recall, f1-score and  support fortanh  ACTIVATION"
   ]
  },
  {
   "cell_type": "code",
   "execution_count": 20,
   "id": "a04b613d",
   "metadata": {},
   "outputs": [
    {
     "name": "stdout",
     "output_type": "stream",
     "text": [
      "0.8225806451612904\n",
      "              precision    recall  f1-score   support\n",
      "\n",
      "    Abnormal       0.90      0.83      0.86        42\n",
      "      Normal       0.70      0.80      0.74        20\n",
      "\n",
      "    accuracy                           0.82        62\n",
      "   macro avg       0.80      0.82      0.80        62\n",
      "weighted avg       0.83      0.82      0.83        62\n",
      "\n"
     ]
    }
   ],
   "source": [
    "y_pred = MultiLayerPer_classifier_TH.predict(x_test)\n",
    "print(MultiLayerPer_classifier_TH.score(x_test, y_test))\n",
    "MAT_TH = classification_report(y_test, y_pred)\n",
    "print(MAT_TH)"
   ]
  },
  {
   "cell_type": "code",
   "execution_count": null,
   "id": "1111f412",
   "metadata": {},
   "outputs": [],
   "source": []
  },
  {
   "cell_type": "code",
   "execution_count": 21,
   "id": "26099764",
   "metadata": {},
   "outputs": [
    {
     "data": {
      "text/plain": [
       "MLPClassifier(activation='logistic', hidden_layer_sizes=(100, 100, 100),\n",
       "              max_iter=1000, random_state=13)"
      ]
     },
     "execution_count": 21,
     "metadata": {},
     "output_type": "execute_result"
    }
   ],
   "source": [
    "MultiLayerPer_classifier_LG = MLPClassifier(hidden_layer_sizes = (100, 100, 100,),activation = 'logistic', max_iter = 1000,random_state = 13, verbose = False)\n",
    "MultiLayerPer_classifier_LG.fit(x_train, y_train)"
   ]
  },
  {
   "cell_type": "code",
   "execution_count": 22,
   "id": "c47ccfe6",
   "metadata": {},
   "outputs": [
    {
     "name": "stdout",
     "output_type": "stream",
     "text": [
      "0.7741935483870968\n",
      "              precision    recall  f1-score   support\n",
      "\n",
      "    Abnormal       0.83      0.83      0.83        42\n",
      "      Normal       0.65      0.65      0.65        20\n",
      "\n",
      "    accuracy                           0.77        62\n",
      "   macro avg       0.74      0.74      0.74        62\n",
      "weighted avg       0.77      0.77      0.77        62\n",
      "\n"
     ]
    }
   ],
   "source": [
    "y_pred = MultiLayerPer_classifier_LG.predict(x_test)\n",
    "print(MultiLayerPer_classifier_LG.score(x_test, y_test))\n",
    "MAT = classification_report(y_test, y_pred)\n",
    "print(MAT)"
   ]
  },
  {
   "cell_type": "code",
   "execution_count": 23,
   "id": "069ff98d",
   "metadata": {},
   "outputs": [
    {
     "data": {
      "image/png": "[encoded data removed]",
      "text/plain": [
       "<Figure size 432x288 with 1 Axes>"
      ]
     },
     "metadata": {
      "needs_background": "light"
     },
     "output_type": "display_data"
    }
   ],
   "source": [
    "from sklearn.ensemble import ExtraTreesClassifier\n",
    "import matplotlib.pyplot as plt\n",
    "modelExtraTreesClassifier = ExtraTreesClassifier()\n",
    "modelExtraTreesClassifier.fit(x,y)\n",
    "feat_importances = pd.Series(modelExtraTreesClassifier.feature_importances_, index=x.columns)\n",
    "feat_importances.nlargest(12).plot(kind='barh')\n",
    "plt.show()"
   ]
  },
  {
   "cell_type": "code",
   "execution_count": 24,
   "id": "f0136e72",
   "metadata": {},
   "outputs": [
    {
     "data": {
      "text/html": [
       "<div>\n",
       "<style scoped>\n",
       "    .dataframe tbody tr th:only-of-type {\n",
       "        vertical-align: middle;\n",
       "    }\n",
       "\n",
       "    .dataframe tbody tr th {\n",
       "        vertical-align: top;\n",
       "    }\n",
       "\n",
       "    .dataframe thead th {\n",
       "        text-align: right;\n",
       "    }\n",
       "</style>\n",
       "<table border=\"1\" class=\"dataframe\">\n",
       "  <thead>\n",
       "    <tr style=\"text-align: right;\">\n",
       "      <th></th>\n",
       "      <th>Col1</th>\n",
       "      <th>Col2</th>\n",
       "      <th>Col3</th>\n",
       "      <th>Col4</th>\n",
       "      <th>Col5</th>\n",
       "      <th>Col6</th>\n",
       "      <th>Class_att</th>\n",
       "    </tr>\n",
       "  </thead>\n",
       "  <tbody>\n",
       "    <tr>\n",
       "      <th>0</th>\n",
       "      <td>63.027817</td>\n",
       "      <td>22.552586</td>\n",
       "      <td>39.609117</td>\n",
       "      <td>40.475232</td>\n",
       "      <td>98.672917</td>\n",
       "      <td>-0.254400</td>\n",
       "      <td>Abnormal</td>\n",
       "    </tr>\n",
       "    <tr>\n",
       "      <th>1</th>\n",
       "      <td>39.056951</td>\n",
       "      <td>10.060991</td>\n",
       "      <td>25.015378</td>\n",
       "      <td>28.995960</td>\n",
       "      <td>114.405425</td>\n",
       "      <td>4.564259</td>\n",
       "      <td>Abnormal</td>\n",
       "    </tr>\n",
       "    <tr>\n",
       "      <th>2</th>\n",
       "      <td>68.832021</td>\n",
       "      <td>22.218482</td>\n",
       "      <td>50.092194</td>\n",
       "      <td>46.613539</td>\n",
       "      <td>105.985135</td>\n",
       "      <td>-3.530317</td>\n",
       "      <td>Abnormal</td>\n",
       "    </tr>\n",
       "    <tr>\n",
       "      <th>3</th>\n",
       "      <td>69.297008</td>\n",
       "      <td>24.652878</td>\n",
       "      <td>44.311238</td>\n",
       "      <td>44.644130</td>\n",
       "      <td>101.868495</td>\n",
       "      <td>11.211523</td>\n",
       "      <td>Abnormal</td>\n",
       "    </tr>\n",
       "    <tr>\n",
       "      <th>4</th>\n",
       "      <td>49.712859</td>\n",
       "      <td>9.652075</td>\n",
       "      <td>28.317406</td>\n",
       "      <td>40.060784</td>\n",
       "      <td>108.168725</td>\n",
       "      <td>7.918501</td>\n",
       "      <td>Abnormal</td>\n",
       "    </tr>\n",
       "  </tbody>\n",
       "</table>\n",
       "</div>"
      ],
      "text/plain": [
       "        Col1       Col2       Col3       Col4        Col5       Col6 Class_att\n",
       "0  63.027817  22.552586  39.609117  40.475232   98.672917  -0.254400  Abnormal\n",
       "1  39.056951  10.060991  25.015378  28.995960  114.405425   4.564259  Abnormal\n",
       "2  68.832021  22.218482  50.092194  46.613539  105.985135  -3.530317  Abnormal\n",
       "3  69.297008  24.652878  44.311238  44.644130  101.868495  11.211523  Abnormal\n",
       "4  49.712859   9.652075  28.317406  40.060784  108.168725   7.918501  Abnormal"
      ]
     },
     "execution_count": 24,
     "metadata": {},
     "output_type": "execute_result"
    }
   ],
   "source": [
    "data_Frame = pd.read_csv('Dataset_spine.csv')\n",
    "data_Frame = data_Frame.drop(['Col7','Col8','Col9','Col10','Col11','Col12'], axis=1)\n",
    "data_Frame.head()"
   ]
  },
  {
   "cell_type": "code",
   "execution_count": 25,
   "id": "904386ef",
   "metadata": {},
   "outputs": [],
   "source": [
    "y = data_Frame['Class_att']\n",
    "x = data_Frame.drop(['Class_att'], axis=1)\n",
    "\n",
    "x_train, x_test, y_train, y_test = train_test_split(x,y, test_size = 0.2, random_state = 13)"
   ]
  },
  {
   "cell_type": "code",
   "execution_count": 26,
   "id": "811a3854",
   "metadata": {},
   "outputs": [
    {
     "data": {
      "text/plain": [
       "MLPClassifier(activation='logistic', hidden_layer_sizes=(100, 100, 100),\n",
       "              random_state=13, validation_fraction=0.2)"
      ]
     },
     "execution_count": 26,
     "metadata": {},
     "output_type": "execute_result"
    }
   ],
   "source": [
    "MLPClassifierclf = MLPClassifier(hidden_layer_sizes = (100,100,100), random_state = 13, activation = 'logistic', verbose = False, validation_fraction = 0.2)                    \n",
    "MLPClassifierclf.fit(x_train, y_train)"
   ]
  },
  {
   "cell_type": "code",
   "execution_count": 27,
   "id": "a852125c",
   "metadata": {},
   "outputs": [
    {
     "data": {
      "text/plain": [
       "0.8064516129032258"
      ]
     },
     "execution_count": 27,
     "metadata": {},
     "output_type": "execute_result"
    }
   ],
   "source": [
    "y_pred = MLPClassifierclf.predict(x_test)\n",
    "MLPClassifierclf.score(x_test, y_test)"
   ]
  },
  {
   "cell_type": "code",
   "execution_count": 28,
   "id": "e636f56d",
   "metadata": {},
   "outputs": [
    {
     "name": "stdout",
     "output_type": "stream",
     "text": [
      "              precision    recall  f1-score   support\n",
      "\n",
      "    Abnormal       0.88      0.83      0.85        42\n",
      "      Normal       0.68      0.75      0.71        20\n",
      "\n",
      "    accuracy                           0.81        62\n",
      "   macro avg       0.78      0.79      0.78        62\n",
      "weighted avg       0.81      0.81      0.81        62\n",
      "\n"
     ]
    }
   ],
   "source": [
    "MAT = classification_report(y_test, y_pred)\n",
    "print(MAT)"
   ]
  },
  {
   "cell_type": "code",
   "execution_count": null,
   "id": "10d29fa1",
   "metadata": {},
   "outputs": [],
   "source": []
  },
  {
   "cell_type": "code",
   "execution_count": null,
   "id": "c09a2fe6",
   "metadata": {},
   "outputs": [],
   "source": []
  },
  {
   "cell_type": "code",
   "execution_count": null,
   "id": "67a611bd",
   "metadata": {},
   "outputs": [],
   "source": []
  }
 ],
 "metadata": {
  "kernelspec": {
   "display_name": "Python 3",
   "language": "python",
   "name": "python3"
  },
  "language_info": {
   "codemirror_mode": {
    "name": "ipython",
    "version": 3
   },
   "file_extension": ".py",
   "mimetype": "text/x-python",
   "name": "python",
   "nbconvert_exporter": "python",
   "pygments_lexer": "ipython3",
   "version": "3.8.8"
  }
 },
 "nbformat": 4,
 "nbformat_minor": 5
}
