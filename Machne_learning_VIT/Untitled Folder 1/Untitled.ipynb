{
 "cells": [
  {
   "cell_type": "markdown",
   "id": "c8090440",
   "metadata": {},
   "source": [
    "### Dataset source: \n",
    "* https://www.kaggle.com/c/fake-news/data?select=train.csv\n",
    "\n",
    "### Data Description\n",
    "train.csv: A full training dataset with the following attributes:\n",
    "\n",
    "* id: unique id for a news article\n",
    "* title: the title of a news article\n",
    "* author: author of the news article\n",
    "* text: the text of the article; could be incomplete\n",
    "* label: a label that marks the article as potentially unreliable\n",
    "\n",
    "1: unreliable\n",
    "0: reliable"
   ]
  },
  {
   "cell_type": "code",
   "execution_count": 1,
   "id": "700638ac",
   "metadata": {},
   "outputs": [],
   "source": [
    "import pandas as pd\n",
    "import numpy as np\n",
    "import seaborn as sns\n",
    "import matplotlib.pyplot as plt\n",
    "from sklearn.model_selection import train_test_split\n",
    "from sklearn.metrics import accuracy_score\n",
    "from sklearn.metrics import classification_report\n",
    "import re\n",
    "import string"
   ]
  },
  {
   "cell_type": "markdown",
   "id": "8305b281",
   "metadata": {},
   "source": [
    "### Importing Dataset"
   ]
  },
  {
   "cell_type": "code",
   "execution_count": 2,
   "id": "7ab1d8e5",
   "metadata": {},
   "outputs": [],
   "source": [
    "dataset_train = pd.read_csv(\"train.csv\")"
   ]
  },
  {
   "cell_type": "markdown",
   "id": "906df3aa",
   "metadata": {},
   "source": [
    "### Showing Data"
   ]
  },
  {
   "cell_type": "code",
   "execution_count": 3,
   "id": "67e6f45c",
   "metadata": {},
   "outputs": [
    {
     "data": {
      "text/html": [
       "<div>\n",
       "<style scoped>\n",
       "    .dataframe tbody tr th:only-of-type {\n",
       "        vertical-align: middle;\n",
       "    }\n",
       "\n",
       "    .dataframe tbody tr th {\n",
       "        vertical-align: top;\n",
       "    }\n",
       "\n",
       "    .dataframe thead th {\n",
       "        text-align: right;\n",
       "    }\n",
       "</style>\n",
       "<table border=\"1\" class=\"dataframe\">\n",
       "  <thead>\n",
       "    <tr style=\"text-align: right;\">\n",
       "      <th></th>\n",
       "      <th>id</th>\n",
       "      <th>title</th>\n",
       "      <th>author</th>\n",
       "      <th>text</th>\n",
       "      <th>label</th>\n",
       "    </tr>\n",
       "  </thead>\n",
       "  <tbody>\n",
       "    <tr>\n",
       "      <th>0</th>\n",
       "      <td>0</td>\n",
       "      <td>House Dem Aide: We Didn’t Even See Comey’s Let...</td>\n",
       "      <td>Darrell Lucus</td>\n",
       "      <td>House Dem Aide: We Didn’t Even See Comey’s Let...</td>\n",
       "      <td>1</td>\n",
       "    </tr>\n",
       "    <tr>\n",
       "      <th>1</th>\n",
       "      <td>1</td>\n",
       "      <td>FLYNN: Hillary Clinton, Big Woman on Campus - ...</td>\n",
       "      <td>Daniel J. Flynn</td>\n",
       "      <td>Ever get the feeling your life circles the rou...</td>\n",
       "      <td>0</td>\n",
       "    </tr>\n",
       "    <tr>\n",
       "      <th>2</th>\n",
       "      <td>2</td>\n",
       "      <td>Why the Truth Might Get You Fired</td>\n",
       "      <td>Consortiumnews.com</td>\n",
       "      <td>Why the Truth Might Get You Fired October 29, ...</td>\n",
       "      <td>1</td>\n",
       "    </tr>\n",
       "    <tr>\n",
       "      <th>3</th>\n",
       "      <td>3</td>\n",
       "      <td>15 Civilians Killed In Single US Airstrike Hav...</td>\n",
       "      <td>Jessica Purkiss</td>\n",
       "      <td>Videos 15 Civilians Killed In Single US Airstr...</td>\n",
       "      <td>1</td>\n",
       "    </tr>\n",
       "    <tr>\n",
       "      <th>4</th>\n",
       "      <td>4</td>\n",
       "      <td>Iranian woman jailed for fictional unpublished...</td>\n",
       "      <td>Howard Portnoy</td>\n",
       "      <td>Print \\nAn Iranian woman has been sentenced to...</td>\n",
       "      <td>1</td>\n",
       "    </tr>\n",
       "  </tbody>\n",
       "</table>\n",
       "</div>"
      ],
      "text/plain": [
       "   id                                              title              author  \\\n",
       "0   0  House Dem Aide: We Didn’t Even See Comey’s Let...       Darrell Lucus   \n",
       "1   1  FLYNN: Hillary Clinton, Big Woman on Campus - ...     Daniel J. Flynn   \n",
       "2   2                  Why the Truth Might Get You Fired  Consortiumnews.com   \n",
       "3   3  15 Civilians Killed In Single US Airstrike Hav...     Jessica Purkiss   \n",
       "4   4  Iranian woman jailed for fictional unpublished...      Howard Portnoy   \n",
       "\n",
       "                                                text  label  \n",
       "0  House Dem Aide: We Didn’t Even See Comey’s Let...      1  \n",
       "1  Ever get the feeling your life circles the rou...      0  \n",
       "2  Why the Truth Might Get You Fired October 29, ...      1  \n",
       "3  Videos 15 Civilians Killed In Single US Airstr...      1  \n",
       "4  Print \\nAn Iranian woman has been sentenced to...      1  "
      ]
     },
     "execution_count": 3,
     "metadata": {},
     "output_type": "execute_result"
    }
   ],
   "source": [
    "dataset_train.head()"
   ]
  },
  {
   "cell_type": "markdown",
   "id": "282bdd25",
   "metadata": {},
   "source": [
    "### Getting info regarding Data"
   ]
  },
  {
   "cell_type": "code",
   "execution_count": 4,
   "id": "58c1c1b1",
   "metadata": {},
   "outputs": [
    {
     "name": "stdout",
     "output_type": "stream",
     "text": [
      "\n",
      "\n",
      "***********TRAIN************\n",
      "\n",
      "\n",
      "<class 'pandas.core.frame.DataFrame'>\n",
      "RangeIndex: 20800 entries, 0 to 20799\n",
      "Data columns (total 5 columns):\n",
      " #   Column  Non-Null Count  Dtype \n",
      "---  ------  --------------  ----- \n",
      " 0   id      20800 non-null  int64 \n",
      " 1   title   20242 non-null  object\n",
      " 2   author  18843 non-null  object\n",
      " 3   text    20761 non-null  object\n",
      " 4   label   20800 non-null  int64 \n",
      "dtypes: int64(2), object(3)\n",
      "memory usage: 812.6+ KB\n"
     ]
    }
   ],
   "source": [
    "print(\"\\n\\n***********TRAIN************\\n\\n\")\n",
    "dataset_train.info()"
   ]
  },
  {
   "cell_type": "code",
   "execution_count": 5,
   "id": "0ab1da56",
   "metadata": {},
   "outputs": [
    {
     "data": {
      "text/plain": [
       "(20800, 5)"
      ]
     },
     "execution_count": 5,
     "metadata": {},
     "output_type": "execute_result"
    }
   ],
   "source": [
    "dataset_train.shape"
   ]
  },
  {
   "cell_type": "markdown",
   "id": "fe33b198",
   "metadata": {},
   "source": [
    "### Finding null values"
   ]
  },
  {
   "cell_type": "code",
   "execution_count": 6,
   "id": "a24b9043",
   "metadata": {},
   "outputs": [
    {
     "data": {
      "text/plain": [
       "id           0\n",
       "title      558\n",
       "author    1957\n",
       "text        39\n",
       "label        0\n",
       "dtype: int64"
      ]
     },
     "execution_count": 6,
     "metadata": {},
     "output_type": "execute_result"
    }
   ],
   "source": [
    "dataset_train.isnull().sum()"
   ]
  },
  {
   "cell_type": "code",
   "execution_count": 7,
   "id": "11697569",
   "metadata": {},
   "outputs": [],
   "source": [
    "dataset_train['text'] = dataset_train['text'].str.strip()\n",
    "dataset_train['text'] = dataset_train['text'].replace(r'^\\s*$', np.nan, regex=True)\n",
    "\n",
    "dataset_train.dropna(subset=['text'], inplace=True)"
   ]
  },
  {
   "cell_type": "code",
   "execution_count": 8,
   "id": "750b0526",
   "metadata": {},
   "outputs": [
    {
     "data": {
      "text/plain": [
       "(20684, 5)"
      ]
     },
     "execution_count": 8,
     "metadata": {},
     "output_type": "execute_result"
    }
   ],
   "source": [
    "dataset_train.shape"
   ]
  },
  {
   "cell_type": "markdown",
   "id": "7601a895",
   "metadata": {},
   "source": [
    "### Checking duplicates"
   ]
  },
  {
   "cell_type": "code",
   "execution_count": 9,
   "id": "30242c02",
   "metadata": {},
   "outputs": [
    {
     "data": {
      "text/plain": [
       "False    20378\n",
       "True       306\n",
       "dtype: int64"
      ]
     },
     "execution_count": 9,
     "metadata": {},
     "output_type": "execute_result"
    }
   ],
   "source": [
    "dataset_train.duplicated(subset=[\"text\"]).value_counts()"
   ]
  },
  {
   "cell_type": "markdown",
   "id": "ae02b86b",
   "metadata": {},
   "source": [
    "### Droping duplicates"
   ]
  },
  {
   "cell_type": "code",
   "execution_count": 10,
   "id": "7625c541",
   "metadata": {},
   "outputs": [],
   "source": [
    "dataset_train = dataset_train.drop_duplicates(subset={\"text\"}, keep='first', inplace=False)"
   ]
  },
  {
   "cell_type": "markdown",
   "id": "17416636",
   "metadata": {},
   "source": [
    "### Dropping irrelavent columns"
   ]
  },
  {
   "cell_type": "code",
   "execution_count": 11,
   "id": "948f3751",
   "metadata": {},
   "outputs": [],
   "source": [
    "dataset_train = dataset_train.drop([\"id\",\"title\",\"author\"],axis=1)\n",
    "# Removed author as if I would have replaced author with truth ratio where truth ratio of each author saying truth wrt number \n",
    "# of times he/she has commented \n",
    "# But this would have made the set more biased wrt author as will include the ratio of those also who by mistake has commented \n",
    "#wrong news for the very first time"
   ]
  },
  {
   "cell_type": "markdown",
   "id": "04ecdbec",
   "metadata": {},
   "source": [
    "### Comparing the number of rows for fake and true news"
   ]
  },
  {
   "cell_type": "code",
   "execution_count": 12,
   "id": "45f4af84",
   "metadata": {},
   "outputs": [
    {
     "data": {
      "text/plain": [
       "((10387, 2), (9991, 2))"
      ]
     },
     "execution_count": 12,
     "metadata": {},
     "output_type": "execute_result"
    }
   ],
   "source": [
    "dataset_train[dataset_train.label==0].shape, dataset_train[dataset_train.label==1].shape"
   ]
  },
  {
   "cell_type": "markdown",
   "id": "bd1b614b",
   "metadata": {},
   "source": [
    "* as the shape/ number of rows are comparable hence the dataset is not baised"
   ]
  },
  {
   "cell_type": "code",
   "execution_count": 13,
   "id": "783ddbe4",
   "metadata": {},
   "outputs": [
    {
     "data": {
      "text/plain": [
       "Index(['text', 'label'], dtype='object')"
      ]
     },
     "execution_count": 13,
     "metadata": {},
     "output_type": "execute_result"
    }
   ],
   "source": [
    "dataset_train.columns"
   ]
  },
  {
   "cell_type": "markdown",
   "id": "f851df81",
   "metadata": {},
   "source": [
    "### Finding keywords"
   ]
  },
  {
   "cell_type": "code",
   "execution_count": 14,
   "id": "3440bbc0",
   "metadata": {},
   "outputs": [],
   "source": [
    "def keyword_selector(text):\n",
    "    text = text.lower()\n",
    "    text = re.sub('\\[.*?\\]', '', text)\n",
    "    text = re.sub(\"\\\\W\",\" \",text) \n",
    "    text = re.sub('https?://\\S+|www\\.\\S+', '', text)\n",
    "    text = re.sub('<.*?>+', '', text)\n",
    "    text = re.sub('[%s]' % re.escape(string.punctuation), '', text)\n",
    "    text = re.sub('\\n', '', text)\n",
    "    text = re.sub('\\w*\\d\\w*', '', text)    \n",
    "    return text"
   ]
  },
  {
   "cell_type": "code",
   "execution_count": 15,
   "id": "00ca83ab",
   "metadata": {},
   "outputs": [],
   "source": [
    "dataset_train[\"text\"] = dataset_train[\"text\"].apply(keyword_selector)"
   ]
  },
  {
   "cell_type": "code",
   "execution_count": null,
   "id": "2b9d76f8",
   "metadata": {},
   "outputs": [],
   "source": []
  },
  {
   "cell_type": "markdown",
   "id": "f452e283",
   "metadata": {},
   "source": [
    "# Models"
   ]
  },
  {
   "cell_type": "code",
   "execution_count": 16,
   "id": "eccd491d",
   "metadata": {},
   "outputs": [],
   "source": [
    "x_train, x_test, y_train, y_test = train_test_split(dataset_train[\"text\"],dataset_train[\"label\"], test_size=0.25)"
   ]
  },
  {
   "cell_type": "markdown",
   "id": "791918a4",
   "metadata": {},
   "source": [
    "### Vectorizarion"
   ]
  },
  {
   "cell_type": "code",
   "execution_count": 17,
   "id": "a503a00a",
   "metadata": {},
   "outputs": [],
   "source": [
    "from sklearn.feature_extraction.text import TfidfVectorizer\n",
    "\n",
    "vectorization = TfidfVectorizer()\n",
    "xv_train = vectorization.fit_transform(x_train)\n",
    "xv_test = vectorization.transform(x_test)"
   ]
  },
  {
   "cell_type": "code",
   "execution_count": 18,
   "id": "317ef180",
   "metadata": {},
   "outputs": [
    {
     "data": {
      "text/plain": [
       "LogisticRegression()"
      ]
     },
     "execution_count": 18,
     "metadata": {},
     "output_type": "execute_result"
    }
   ],
   "source": [
    "from sklearn.linear_model import LogisticRegression\n",
    "\n",
    "LogisticRegression = LogisticRegression()\n",
    "LogisticRegression.fit(xv_train,y_train)"
   ]
  },
  {
   "cell_type": "code",
   "execution_count": 19,
   "id": "a93c0254",
   "metadata": {},
   "outputs": [],
   "source": [
    "pred_LogisticRegression=LogisticRegression.predict(xv_test)"
   ]
  },
  {
   "cell_type": "code",
   "execution_count": 20,
   "id": "b37dcafc",
   "metadata": {},
   "outputs": [
    {
     "data": {
      "text/plain": [
       "0.9448478900883219"
      ]
     },
     "execution_count": 20,
     "metadata": {},
     "output_type": "execute_result"
    }
   ],
   "source": [
    "LogisticRegression.score(xv_test, y_test)"
   ]
  },
  {
   "cell_type": "code",
   "execution_count": 21,
   "id": "628f23f2",
   "metadata": {},
   "outputs": [
    {
     "data": {
      "text/plain": [
       "GradientBoostingClassifier(random_state=0)"
      ]
     },
     "execution_count": 21,
     "metadata": {},
     "output_type": "execute_result"
    }
   ],
   "source": [
    "from sklearn.ensemble import GradientBoostingClassifier\n",
    "\n",
    "GradientBoostingClassifier = GradientBoostingClassifier(random_state=0)\n",
    "GradientBoostingClassifier.fit(xv_train, y_train)"
   ]
  },
  {
   "cell_type": "code",
   "execution_count": 22,
   "id": "886bc827",
   "metadata": {},
   "outputs": [
    {
     "data": {
      "text/plain": [
       "0.9281648675171738"
      ]
     },
     "execution_count": 22,
     "metadata": {},
     "output_type": "execute_result"
    }
   ],
   "source": [
    "pred_GradientBoostingClassifier = GradientBoostingClassifier.predict(xv_test)\n",
    "GradientBoostingClassifier.score(xv_test, y_test)"
   ]
  },
  {
   "cell_type": "markdown",
   "id": "7e2cdc65",
   "metadata": {},
   "source": [
    "### Comparing the 2 models"
   ]
  },
  {
   "cell_type": "code",
   "execution_count": 25,
   "id": "402ea5b8",
   "metadata": {},
   "outputs": [
    {
     "name": "stdout",
     "output_type": "stream",
     "text": [
      "**********GradientBoostingClassifier*********\n",
      "Train Result:\n",
      "\n",
      "Accuracy Score: 92.82%\n",
      "Error rate: 0.07\n",
      "CLASSIFICATION REPORT:\n",
      "                     0            1  accuracy    macro avg  weighted avg\n",
      "precision     0.941452     0.914726  0.928165     0.928089      0.928511\n",
      "recall        0.917808     0.939197  0.928165     0.928503      0.928165\n",
      "f1-score      0.929480     0.926800  0.928165     0.928140      0.928182\n",
      "support    2628.000000  2467.000000  0.928165  5095.000000   5095.000000\n",
      "Confusion Matrix: \n",
      " [[2412  216]\n",
      " [ 150 2317]]\n",
      "\n",
      "**********LogisticRegression**********\n",
      "Train Result:\n",
      "\n",
      "Accuracy Score: 94.48%\n",
      "Error rate: 0.06\n",
      "CLASSIFICATION REPORT:\n",
      "                     0            1  accuracy    macro avg  weighted avg\n",
      "precision     0.950826     0.938604  0.944848     0.944715      0.944908\n",
      "recall        0.941781     0.948115  0.944848     0.944948      0.944848\n",
      "f1-score      0.946282     0.943335  0.944848     0.944809      0.944855\n",
      "support    2628.000000  2467.000000  0.944848  5095.000000   5095.000000\n",
      "Confusion Matrix: \n",
      " [[2475  153]\n",
      " [ 128 2339]]\n",
      "\n"
     ]
    }
   ],
   "source": [
    "from sklearn.metrics import accuracy_score, confusion_matrix, classification_report\n",
    "\n",
    "print(\"**********GradientBoostingClassifier*********\")\n",
    "\n",
    "clf_report = pd.DataFrame(classification_report(y_test, pred_GradientBoostingClassifier, output_dict=True))\n",
    "print(\"Train Result:\\n\")\n",
    "print(f\"Accuracy Score: {accuracy_score(y_test, pred_GradientBoostingClassifier) * 100:.2f}%\")\n",
    "print(f\"Error rate: {1-accuracy_score(y_test, pred_GradientBoostingClassifier):.2f}\") \n",
    "print(f\"CLASSIFICATION REPORT:\\n{clf_report}\")\n",
    "print(f\"Confusion Matrix: \\n {confusion_matrix(y_test, pred_GradientBoostingClassifier)}\\n\")        \n",
    "\n",
    "print(\"**********LogisticRegression**********\")\n",
    "\n",
    "clf_report = pd.DataFrame(classification_report(y_test, pred_LogisticRegression, output_dict=True))\n",
    "print(\"Train Result:\\n\")\n",
    "print(f\"Accuracy Score: {accuracy_score(y_test, pred_LogisticRegression) * 100:.2f}%\")\n",
    "print(f\"Error rate: {1-accuracy_score(y_test, pred_LogisticRegression):.2f}\") \n",
    "print(f\"CLASSIFICATION REPORT:\\n{clf_report}\")\n",
    "print(f\"Confusion Matrix: \\n {confusion_matrix(y_test, pred_LogisticRegression)}\\n\")        \n"
   ]
  },
  {
   "cell_type": "code",
   "execution_count": null,
   "id": "546e25d8",
   "metadata": {},
   "outputs": [],
   "source": []
  }
 ],
 "metadata": {
  "kernelspec": {
   "display_name": "Python 3",
   "language": "python",
   "name": "python3"
  },
  "language_info": {
   "codemirror_mode": {
    "name": "ipython",
    "version": 3
   },
   "file_extension": ".py",
   "mimetype": "text/x-python",
   "name": "python",
   "nbconvert_exporter": "python",
   "pygments_lexer": "ipython3",
   "version": "3.8.8"
  }
 },
 "nbformat": 4,
 "nbformat_minor": 5
}
