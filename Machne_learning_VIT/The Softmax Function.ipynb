{
 "cells": [
  {
   "cell_type": "markdown",
   "id": "61e9efad",
   "metadata": {},
   "source": [
    "### The Softmax Function\n",
    "* We compute the **exponential of the input vector** in order to **normalize** the **data set** into a **probabilistic distribution** with values that **sums to one**. \n",
    "* Good for multi-dimensional classification instead of binary classification."
   ]
  },
  {
   "cell_type": "code",
   "execution_count": null,
   "id": "2c3053a0",
   "metadata": {},
   "outputs": [],
   "source": []
  }
 ],
 "metadata": {
  "kernelspec": {
   "display_name": "Python 3",
   "language": "python",
   "name": "python3"
  },
  "language_info": {
   "codemirror_mode": {
    "name": "ipython",
    "version": 3
   },
   "file_extension": ".py",
   "mimetype": "text/x-python",
   "name": "python",
   "nbconvert_exporter": "python",
   "pygments_lexer": "ipython3",
   "version": "3.8.8"
  }
 },
 "nbformat": 4,
 "nbformat_minor": 5
}
