{
 "cells": [
  {
   "cell_type": "code",
   "execution_count": 5,
   "id": "65cea231",
   "metadata": {},
   "outputs": [
    {
     "name": "stdout",
     "output_type": "stream",
     "text": [
      "1\n",
      "<class 'int'>\n",
      "[1, 2]\n",
      "<class 'list'>\n",
      "2\n",
      "<class 'int'>\n",
      "3\n",
      "<class 'int'>\n",
      "4\n",
      "<class 'int'>\n"
     ]
    }
   ],
   "source": [
    "a = [1,[1,2],2,3,4]\n",
    "\n",
    "for x in a:\n",
    "    print(x)\n",
    "    print(type(x))"
   ]
  },
  {
   "cell_type": "code",
   "execution_count": 6,
   "id": "70a76c32",
   "metadata": {},
   "outputs": [],
   "source": [
    "# Different itterable object different types of object"
   ]
  },
  {
   "cell_type": "code",
   "execution_count": 4,
   "id": "7d2e9979",
   "metadata": {},
   "outputs": [
    {
     "name": "stdout",
     "output_type": "stream",
     "text": [
      "<class 'str'>\n",
      "S\n",
      "<class 'str'>\n",
      "a\n",
      "<class 'str'>\n",
      "k\n",
      "<class 'str'>\n",
      "s\n",
      "<class 'str'>\n",
      "h\n",
      "<class 'str'>\n",
      "a\n",
      "<class 'str'>\n",
      "m\n"
     ]
    }
   ],
   "source": [
    "name = \"Saksham\"\n",
    "for char in name:\n",
    "    print(type(char))\n",
    "    print(char)"
   ]
  },
  {
   "cell_type": "code",
   "execution_count": 7,
   "id": "78e15c3b",
   "metadata": {},
   "outputs": [
    {
     "name": "stdout",
     "output_type": "stream",
     "text": [
      "Line:\n",
      "Hello\n",
      "\n",
      "Line:\n",
      "my name\n",
      "\n",
      "Line:\n",
      "is\n",
      "\n",
      "Line:\n",
      "Saksham\n"
     ]
    }
   ],
   "source": [
    "for line in open(\"something.txt\",\"r\"):\n",
    "    print(\"Line:\")\n",
    "    print(line)\n",
    "    "
   ]
  },
  {
   "cell_type": "code",
   "execution_count": 13,
   "id": "25aeaef9",
   "metadata": {},
   "outputs": [
    {
     "data": {
      "text/plain": [
       "'a.b.c'"
      ]
     },
     "execution_count": 13,
     "metadata": {},
     "output_type": "execute_result"
    }
   ],
   "source": [
    "\".\".join((\"a\",\"b\",\"c\"))\n",
    "# a string is returned that is joined via use of \".\" in between every char"
   ]
  },
  {
   "cell_type": "code",
   "execution_count": 14,
   "id": "29329557",
   "metadata": {},
   "outputs": [
    {
     "name": "stdout",
     "output_type": "stream",
     "text": [
      "name\n",
      "lastname\n",
      "marks\n"
     ]
    }
   ],
   "source": [
    "d = {\"name\":\"jatin\",\"lastname\":\"katyal\",\"marks\":80}\n",
    "for keys in d:\n",
    "    print(keys)"
   ]
  },
  {
   "cell_type": "code",
   "execution_count": 15,
   "id": "061f91f5",
   "metadata": {},
   "outputs": [
    {
     "ename": "SyntaxError",
     "evalue": "invalid syntax (<ipython-input-15-b7fdfd8539f3>, line 1)",
     "output_type": "error",
     "traceback": [
      "\u001b[1;36m  File \u001b[1;32m\"<ipython-input-15-b7fdfd8539f3>\"\u001b[1;36m, line \u001b[1;32m1\u001b[0m\n\u001b[1;33m    \".\"join(d)\u001b[0m\n\u001b[1;37m       ^\u001b[0m\n\u001b[1;31mSyntaxError\u001b[0m\u001b[1;31m:\u001b[0m invalid syntax\n"
     ]
    }
   ],
   "source": [
    "# When we itterate over the dictionary it returns the key while returning the keys it joins the keys using \".\"\n",
    "\n",
    "\".\".join(d)\n"
   ]
  },
  {
   "cell_type": "code",
   "execution_count": 16,
   "id": "c45f1892",
   "metadata": {},
   "outputs": [],
   "source": [
    "a = list(\"jatin\")\n",
    "# here it itterates over the string and appends each element of this list and use it to form a list"
   ]
  },
  {
   "cell_type": "code",
   "execution_count": 17,
   "id": "646dd445",
   "metadata": {},
   "outputs": [
    {
     "data": {
      "text/plain": [
       "['j', 'a', 't', 'i', 'n']"
      ]
     },
     "execution_count": 17,
     "metadata": {},
     "output_type": "execute_result"
    }
   ],
   "source": [
    "a"
   ]
  },
  {
   "cell_type": "code",
   "execution_count": 18,
   "id": "49e9c41b",
   "metadata": {},
   "outputs": [
    {
     "data": {
      "text/plain": [
       "10"
      ]
     },
     "execution_count": 18,
     "metadata": {},
     "output_type": "execute_result"
    }
   ],
   "source": [
    "a = {1,2,3,4}\n",
    "sum(a)\n",
    "# it takes an itterable object itterate over it expect that each element\n",
    "# of that itterable is an int/float(or any numeral value) and sums over it"
   ]
  },
  {
   "cell_type": "code",
   "execution_count": 19,
   "id": "c8ee38b1",
   "metadata": {},
   "outputs": [
    {
     "data": {
      "text/plain": [
       "float"
      ]
     },
     "execution_count": 19,
     "metadata": {},
     "output_type": "execute_result"
    }
   ],
   "source": [
    "type(0.0)"
   ]
  },
  {
   "cell_type": "code",
   "execution_count": 20,
   "id": "615d5d62",
   "metadata": {},
   "outputs": [],
   "source": [
    "a={1,2,3,4.4}"
   ]
  },
  {
   "cell_type": "code",
   "execution_count": 21,
   "id": "7fdb349f",
   "metadata": {},
   "outputs": [
    {
     "data": {
      "text/plain": [
       "10.4"
      ]
     },
     "execution_count": 21,
     "metadata": {},
     "output_type": "execute_result"
    }
   ],
   "source": [
    "sum(a)"
   ]
  },
  {
   "cell_type": "code",
   "execution_count": 22,
   "id": "8fb2df82",
   "metadata": {},
   "outputs": [
    {
     "data": {
      "text/plain": [
       "6"
      ]
     },
     "execution_count": 22,
     "metadata": {},
     "output_type": "execute_result"
    }
   ],
   "source": [
    "#######Very important example#########\n",
    "b = {1:\"Machine\",2:\"Learning\",3:\"Coding Blocks\"}\n",
    "sum(b)\n",
    "# it's giving 6 as the output as on itteration of any dictionary it returns\n",
    "# all the keys of the dictionary and on adding them here it comes out to be 6"
   ]
  },
  {
   "cell_type": "code",
   "execution_count": 23,
   "id": "3dc106ff",
   "metadata": {},
   "outputs": [
    {
     "ename": "TypeError",
     "evalue": "unsupported operand type(s) for +: 'int' and 'str'",
     "output_type": "error",
     "traceback": [
      "\u001b[1;31m---------------------------------------------------------------------------\u001b[0m",
      "\u001b[1;31mTypeError\u001b[0m                                 Traceback (most recent call last)",
      "\u001b[1;32m<ipython-input-23-c7307b83f3cb>\u001b[0m in \u001b[0;36m<module>\u001b[1;34m\u001b[0m\n\u001b[0;32m      1\u001b[0m \u001b[0mlist_str\u001b[0m \u001b[1;33m=\u001b[0m\u001b[1;33m[\u001b[0m\u001b[1;34m\"Saksham\"\u001b[0m\u001b[1;33m,\u001b[0m\u001b[1;34m\"Verma\"\u001b[0m\u001b[1;33m]\u001b[0m\u001b[1;33m\u001b[0m\u001b[1;33m\u001b[0m\u001b[0m\n\u001b[1;32m----> 2\u001b[1;33m \u001b[0msum\u001b[0m\u001b[1;33m(\u001b[0m\u001b[0mlist_str\u001b[0m\u001b[1;33m)\u001b[0m\u001b[1;33m\u001b[0m\u001b[1;33m\u001b[0m\u001b[0m\n\u001b[0m",
      "\u001b[1;31mTypeError\u001b[0m: unsupported operand type(s) for +: 'int' and 'str'"
     ]
    }
   ],
   "source": [
    "list_str =[\"Saksham\",\"Verma\"]\n",
    "sum(list_str)\n",
    "# unsupported operand type(s) for +: 'int' and 'str'"
   ]
  },
  {
   "cell_type": "code",
   "execution_count": null,
   "id": "cb01c10a",
   "metadata": {},
   "outputs": [],
   "source": []
  }
 ],
 "metadata": {
  "kernelspec": {
   "display_name": "Python 3",
   "language": "python",
   "name": "python3"
  },
  "language_info": {
   "codemirror_mode": {
    "name": "ipython",
    "version": 3
   },
   "file_extension": ".py",
   "mimetype": "text/x-python",
   "name": "python",
   "nbconvert_exporter": "python",
   "pygments_lexer": "ipython3",
   "version": "3.8.8"
  }
 },
 "nbformat": 4,
 "nbformat_minor": 5
}
