{
 "cells": [
  {
   "cell_type": "code",
   "execution_count": 1,
   "id": "faf90818",
   "metadata": {},
   "outputs": [
    {
     "ename": "SyntaxError",
     "evalue": "invalid syntax (<ipython-input-1-bc6174e29c47>, line 4)",
     "output_type": "error",
     "traceback": [
      "\u001b[1;36m  File \u001b[1;32m\"<ipython-input-1-bc6174e29c47>\"\u001b[1;36m, line \u001b[1;32m4\u001b[0m\n\u001b[1;33m    header_string = ','join(column_titles)\u001b[0m\n\u001b[1;37m                          ^\u001b[0m\n\u001b[1;31mSyntaxError\u001b[0m\u001b[1;31m:\u001b[0m invalid syntax\n"
     ]
    }
   ],
   "source": [
    "filename = \"android_version_history.csv\"\n",
    "with open(filename,\"w\",encoding  = \"utf-8\") as f:\n",
    "    # write the header\n",
    "    header_string = ','join(column_titles)\n",
    "    header_string += '\\n'\n",
    "    \n",
    "    f.write(header_string)\n",
    "    \n",
    "    for row in table_rows:\n",
    "        row_string = \"\"\n",
    "        row_string = \",\".join(row)\n",
    "        row_string +=\"\\n\"\n",
    "        \n",
    "        f.write(row_string)"
   ]
  },
  {
   "cell_type": "code",
   "execution_count": 2,
   "id": "dd3517f0",
   "metadata": {},
   "outputs": [
    {
     "data": {
      "text/plain": [
       "'Saksham,Shubham,Prashant'"
      ]
     },
     "execution_count": 2,
     "metadata": {},
     "output_type": "execute_result"
    }
   ],
   "source": [
    "list_str=[\"Saksham\",\"Shubham\",\"Prashant\"]\n",
    "\",\".join(list_str)"
   ]
  },
  {
   "cell_type": "code",
   "execution_count": null,
   "id": "111b7748",
   "metadata": {},
   "outputs": [],
   "source": []
  }
 ],
 "metadata": {
  "kernelspec": {
   "display_name": "PracticeENV",
   "language": "python",
   "name": "practiceenv"
  },
  "language_info": {
   "codemirror_mode": {
    "name": "ipython",
    "version": 3
   },
   "file_extension": ".py",
   "mimetype": "text/x-python",
   "name": "python",
   "nbconvert_exporter": "python",
   "pygments_lexer": "ipython3",
   "version": "3.6.13"
  }
 },
 "nbformat": 4,
 "nbformat_minor": 5
}
