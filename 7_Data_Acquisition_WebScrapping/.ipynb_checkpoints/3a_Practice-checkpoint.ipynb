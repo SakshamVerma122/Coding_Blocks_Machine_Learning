{
 "cells": [
  {
   "cell_type": "markdown",
   "id": "c9be5330",
   "metadata": {},
   "source": [
    "### Writing and Reading CSV Files\n",
    "* CSV stands for Comma Seperated Files"
   ]
  },
  {
   "cell_type": "code",
   "execution_count": 71,
   "id": "85f83e4b",
   "metadata": {},
   "outputs": [],
   "source": [
    "# Header Files\n",
    "from urllib.request import urlopen\n",
    "from bs4 import BeautifulSoup as soup"
   ]
  },
  {
   "cell_type": "code",
   "execution_count": 72,
   "id": "355e46c6",
   "metadata": {},
   "outputs": [],
   "source": [
    "url = \"https://www.crummy.com/software/BeautifulSoup/bs4/doc/\"\n",
    "Androidhttp = urlopen(url)\n",
    "AndroidBytes = Androidhttp.read()"
   ]
  },
  {
   "cell_type": "code",
   "execution_count": 73,
   "id": "76c5896f",
   "metadata": {},
   "outputs": [],
   "source": [
    "# Using BeautifulSoup\n",
    "AndroidSoup = soup(AndroidBytes,'html.parser')"
   ]
  },
  {
   "cell_type": "code",
   "execution_count": 74,
   "id": "bc974c99",
   "metadata": {},
   "outputs": [],
   "source": [
    "ReqdTable = AndroidSoup.findAll(\"table\",{\"class\" : \"docutils align-default\"})"
   ]
  },
  {
   "cell_type": "markdown",
   "id": "dc23f59e",
   "metadata": {},
   "source": [
    "#### Result set is for the set/list"
   ]
  },
  {
   "cell_type": "code",
   "execution_count": 75,
   "id": "3ba9deb4",
   "metadata": {},
   "outputs": [
    {
     "data": {
      "text/plain": [
       "bs4.element.ResultSet"
      ]
     },
     "execution_count": 75,
     "metadata": {},
     "output_type": "execute_result"
    }
   ],
   "source": [
    "type(ReqdTable)"
   ]
  },
  {
   "cell_type": "markdown",
   "id": "b85c7b44",
   "metadata": {},
   "source": [
    "#### Tag is for an element of the list"
   ]
  },
  {
   "cell_type": "code",
   "execution_count": 76,
   "id": "3499a95e",
   "metadata": {},
   "outputs": [
    {
     "data": {
      "text/plain": [
       "bs4.element.Tag"
      ]
     },
     "execution_count": 76,
     "metadata": {},
     "output_type": "execute_result"
    }
   ],
   "source": [
    "type(ReqdTable[0])"
   ]
  },
  {
   "cell_type": "markdown",
   "id": "0e925e6d",
   "metadata": {},
   "source": [
    "### The below one gives information regarding the number of tables in the web"
   ]
  },
  {
   "cell_type": "code",
   "execution_count": 36,
   "id": "e0e65142",
   "metadata": {},
   "outputs": [
    {
     "data": {
      "text/plain": [
       "1"
      ]
     },
     "execution_count": 36,
     "metadata": {},
     "output_type": "execute_result"
    }
   ],
   "source": [
    "len(ReqdTable)"
   ]
  },
  {
   "cell_type": "markdown",
   "id": "87eb4113",
   "metadata": {},
   "source": [
    "### Finding Headers"
   ]
  },
  {
   "cell_type": "code",
   "execution_count": 44,
   "id": "0a041218",
   "metadata": {
    "collapsed": true
   },
   "outputs": [
    {
     "data": {
      "text/plain": [
       "[<tr class=\"row-odd\"><td><p>Parser</p></td>\n",
       " <td><p>Typical usage</p></td>\n",
       " <td><p>Advantages</p></td>\n",
       " <td><p>Disadvantages</p></td>\n",
       " </tr>,\n",
       " <tr class=\"row-odd\"><td><p>lxml’s HTML parser</p></td>\n",
       " <td><p><code class=\"docutils literal notranslate\"><span class=\"pre\">BeautifulSoup(markup,</span> <span class=\"pre\">\"lxml\")</span></code></p></td>\n",
       " <td><ul class=\"simple\">\n",
       " <li><p>Very fast</p></li>\n",
       " <li><p>Lenient</p></li>\n",
       " </ul>\n",
       " </td>\n",
       " <td><ul class=\"simple\">\n",
       " <li><p>External C dependency</p></li>\n",
       " </ul>\n",
       " </td>\n",
       " </tr>,\n",
       " <tr class=\"row-odd\"><td><p>html5lib</p></td>\n",
       " <td><p><code class=\"docutils literal notranslate\"><span class=\"pre\">BeautifulSoup(markup,</span> <span class=\"pre\">\"html5lib\")</span></code></p></td>\n",
       " <td><ul class=\"simple\">\n",
       " <li><p>Extremely lenient</p></li>\n",
       " <li><p>Parses pages the same way a\n",
       " web browser does</p></li>\n",
       " <li><p>Creates valid HTML5</p></li>\n",
       " </ul>\n",
       " </td>\n",
       " <td><ul class=\"simple\">\n",
       " <li><p>Very slow</p></li>\n",
       " <li><p>External Python\n",
       " dependency</p></li>\n",
       " </ul>\n",
       " </td>\n",
       " </tr>]"
      ]
     },
     "execution_count": 44,
     "metadata": {},
     "output_type": "execute_result"
    }
   ],
   "source": [
    "# Important can't do ReqdTable.findAll('th') as ReqdTable is a list where as we only \n",
    "# want a certain element of the list\n",
    "TRwithrowodd = ReqdTable[0].findAll('tr',{\"class\":\"row-odd\"})\n",
    "TRwithrowodd"
   ]
  },
  {
   "cell_type": "code",
   "execution_count": 46,
   "id": "dd035e86",
   "metadata": {},
   "outputs": [
    {
     "data": {
      "text/plain": [
       "3"
      ]
     },
     "execution_count": 46,
     "metadata": {},
     "output_type": "execute_result"
    }
   ],
   "source": [
    "len(TRwithrowodd)"
   ]
  },
  {
   "cell_type": "code",
   "execution_count": 43,
   "id": "4d1404ab",
   "metadata": {},
   "outputs": [],
   "source": [
    "# As the length is three and we are concerned with only one of them and that too \n",
    "# only the first element of the list"
   ]
  },
  {
   "cell_type": "code",
   "execution_count": 55,
   "id": "d5ce1c45",
   "metadata": {},
   "outputs": [],
   "source": [
    "tdVal = TRwithrowodd[0].findAll(\"td\",{})"
   ]
  },
  {
   "cell_type": "code",
   "execution_count": 69,
   "id": "18973f7d",
   "metadata": {},
   "outputs": [],
   "source": [
    "Header = []\n",
    "for i in tdVal:\n",
    "    Header.append(str(i.findAll('p'))[4:-5])"
   ]
  },
  {
   "cell_type": "code",
   "execution_count": 70,
   "id": "3774343f",
   "metadata": {},
   "outputs": [
    {
     "data": {
      "text/plain": [
       "['Parser', 'Typical usage', 'Advantages', 'Disadvantages']"
      ]
     },
     "execution_count": 70,
     "metadata": {},
     "output_type": "execute_result"
    }
   ],
   "source": [
    "Header"
   ]
  }
 ],
 "metadata": {
  "kernelspec": {
   "display_name": "Python 3 (ipykernel)",
   "language": "python",
   "name": "python3"
  },
  "language_info": {
   "codemirror_mode": {
    "name": "ipython",
    "version": 3
   },
   "file_extension": ".py",
   "mimetype": "text/x-python",
   "name": "python",
   "nbconvert_exporter": "python",
   "pygments_lexer": "ipython3",
   "version": "3.9.12"
  }
 },
 "nbformat": 4,
 "nbformat_minor": 5
}
