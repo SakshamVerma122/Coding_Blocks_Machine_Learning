{
 "cells": [
  {
   "cell_type": "markdown",
   "id": "c9be5330",
   "metadata": {},
   "source": [
    "### Writing and Reading CSV Files\n",
    "* CSV stands for Comma Seperated Files"
   ]
  },
  {
   "cell_type": "code",
   "execution_count": null,
   "id": "dcc0670b",
   "metadata": {},
   "outputs": [],
   "source": [
    "filename = \"android_version_history.csv\"\n",
    "with open(filename,\"w\") as f:\n",
    "    # write the header\n",
    "    header_string = ','join(column_titles)\n",
    "    header_string += '\\n'\n",
    "    \n",
    "    f.write(header_string)\n",
    "    \n",
    "    for row in table_rows:\n",
    "        row_string = \"\"\n",
    "        row_string = \",\".join(row)\n",
    "        row_string +=\"\\n\"\n",
    "        \n",
    "        f.write(row_string)"
   ]
  },
  {
   "cell_type": "code",
   "execution_count": 1,
   "id": "3f4ef376",
   "metadata": {},
   "outputs": [
    {
     "data": {
      "text/plain": [
       "'Saksham.Shubham.Prashant'"
      ]
     },
     "execution_count": 1,
     "metadata": {},
     "output_type": "execute_result"
    }
   ],
   "source": [
    "list_str=[\"Saksham\",\"Shubham\",\"Prashant\"]\n",
    "\",\".join(list_str)"
   ]
  },
  {
   "cell_type": "code",
   "execution_count": null,
   "id": "55d7a324",
   "metadata": {},
   "outputs": [],
   "source": []
  }
 ],
 "metadata": {
  "kernelspec": {
   "display_name": "Python 3",
   "language": "python",
   "name": "python3"
  },
  "language_info": {
   "codemirror_mode": {
    "name": "ipython",
    "version": 3
   },
   "file_extension": ".py",
   "mimetype": "text/x-python",
   "name": "python",
   "nbconvert_exporter": "python",
   "pygments_lexer": "ipython3",
   "version": "3.8.8"
  }
 },
 "nbformat": 4,
 "nbformat_minor": 5
}
