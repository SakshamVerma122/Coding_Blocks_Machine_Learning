{
 "cells": [
  {
   "cell_type": "markdown",
   "id": "2cc05f5a",
   "metadata": {},
   "source": [
    "### File Accesss Modes\n",
    "> Access modes **govern** the **type of operations** possible in the opened file. It refers to how the file will be used once its opened .These modes also **define the location of the File Handles** in the file.**File handle is like a cursor**, which **defines** from where the **data has to be read or written** in the file there are 6 access modes in python.\n",
    "\n",
    "* **Read Only('r')**:\n",
    "  * Open text file for `reading` .\n",
    "  * The `handle` is positoned at the `begining of the file` .\n",
    "  * If the file doesn't exist raises `I/O error`.\n",
    "  * This is also the `default mode` in which `file` is `opened`.\n",
    "\n",
    "* **Read and Write('r+')**: \n",
    "  * Open the file for `reading` and `writing`.\n",
    "  * The `handle` is positoned at the `begining of the file`.\n",
    "  * Raises `I/O error` if the `file doesn't exists`.\n",
    "\n",
    "* **Write Only('w')**:\n",
    "  * Open the file for `reading` and `writing` .\n",
    "  * For `existing file`,`data` is `truncated` and `over-written`.\n",
    "  * The `handle` is positioned at the `begining of the file`.\n",
    "  * `Creates` the `file` if the `file doesn't exists`.\n",
    "\n",
    "* **Write and Read('w+')**:\n",
    "  * Open the file for `reading` and `writing` .\n",
    "  * For `exisiting file` ,`data` is `truncated` and `over-written`. \n",
    "  * The `handle` is `positioned` at the `beginning of the file`\n",
    "\n",
    "* **Append Only('a')**:\n",
    "  * Open the file for `writting`. \n",
    "  * The `file` is `created` if it `doesn't exist`. \n",
    "  * The `handle` is positioned at the `end of the file`. \n",
    "  * The data being written will be inserted at the end ,after the exisiting data.\n",
    "\n",
    "* **Append and Read('a+')**:\n",
    "  * Open the file for `reading` and `writing`. \n",
    "  * The `file` is `created` if it `doesn't exist`. \n",
    "  * The `handle` is positioned at the `end of the file`. \n",
    "  * The data being written will be inserted at the end ,after the existing data.\n",
    "\n",
    "* **Append and Read('a+')**: \n",
    "  * Open the file for reading and writing. \n",
    "  * The file is created if doesn't exist. \n",
    "  * The handle is positioned at the end of the file. \n",
    "  * The data being written will be inserted at the end, after the existing data."
   ]
  },
  {
   "cell_type": "markdown",
   "id": "2e9e4670",
   "metadata": {},
   "source": [
    "### 1 Text files"
   ]
  },
  {
   "cell_type": "markdown",
   "id": "cf748398",
   "metadata": {},
   "source": [
    "#### Opening a file"
   ]
  },
  {
   "cell_type": "code",
   "execution_count": 8,
   "id": "62329301",
   "metadata": {},
   "outputs": [],
   "source": [
    "file = open(\"hello.txt\",\"r\")"
   ]
  },
  {
   "cell_type": "code",
   "execution_count": 9,
   "id": "d043b038",
   "metadata": {},
   "outputs": [
    {
     "data": {
      "text/plain": [
       "'Hell'"
      ]
     },
     "execution_count": 9,
     "metadata": {},
     "output_type": "execute_result"
    }
   ],
   "source": [
    "file.read(4) # read first 4 bytes"
   ]
  },
  {
   "cell_type": "markdown",
   "id": "c2a562f8",
   "metadata": {},
   "source": [
    "#### Closing a file"
   ]
  },
  {
   "cell_type": "code",
   "execution_count": 6,
   "id": "8a518cfd",
   "metadata": {},
   "outputs": [],
   "source": [
    "file.close()"
   ]
  },
  {
   "cell_type": "markdown",
   "id": "1a4aaf24",
   "metadata": {},
   "source": [
    "#### Writing to a file"
   ]
  },
  {
   "cell_type": "code",
   "execution_count": 10,
   "id": "e3cda150",
   "metadata": {},
   "outputs": [],
   "source": [
    "file = open(\"something.txt\",\"w\")"
   ]
  },
  {
   "cell_type": "code",
   "execution_count": 11,
   "id": "7db4d9b2",
   "metadata": {},
   "outputs": [
    {
     "data": {
      "text/plain": [
       "25"
      ]
     },
     "execution_count": 11,
     "metadata": {},
     "output_type": "execute_result"
    }
   ],
   "source": [
    "file.write(\"Hello Saksham this side!!\")\n",
    "# returns number of bytes written in the file"
   ]
  },
  {
   "cell_type": "markdown",
   "id": "3ea74059",
   "metadata": {},
   "source": [
    "#### Reading to a file\n",
    "* read\n",
    "* readline\n",
    "* readlines"
   ]
  },
  {
   "cell_type": "code",
   "execution_count": 21,
   "id": "2720058e",
   "metadata": {},
   "outputs": [],
   "source": [
    "file = open(\"hello.txt\",\"r\")"
   ]
  },
  {
   "cell_type": "code",
   "execution_count": 22,
   "id": "e856c21e",
   "metadata": {},
   "outputs": [
    {
     "data": {
      "text/plain": [
       "'Hello World\\n'"
      ]
     },
     "execution_count": 22,
     "metadata": {},
     "output_type": "execute_result"
    }
   ],
   "source": [
    "file.readline()\n",
    "# reads line by line"
   ]
  },
  {
   "cell_type": "code",
   "execution_count": 23,
   "id": "b87ce577",
   "metadata": {},
   "outputs": [
    {
     "data": {
      "text/plain": [
       "'Hello again\\n'"
      ]
     },
     "execution_count": 23,
     "metadata": {},
     "output_type": "execute_result"
    }
   ],
   "source": [
    "file.readline()\n",
    "# reads line by line"
   ]
  },
  {
   "cell_type": "code",
   "execution_count": 24,
   "id": "6fdf9f5b",
   "metadata": {},
   "outputs": [
    {
     "data": {
      "text/plain": [
       "'Hello bhaiya\\n'"
      ]
     },
     "execution_count": 24,
     "metadata": {},
     "output_type": "execute_result"
    }
   ],
   "source": [
    "file.readline()\n",
    "# reads line by line"
   ]
  },
  {
   "cell_type": "code",
   "execution_count": 25,
   "id": "479ab497",
   "metadata": {},
   "outputs": [
    {
     "data": {
      "text/plain": [
       "'kecho'"
      ]
     },
     "execution_count": 25,
     "metadata": {},
     "output_type": "execute_result"
    }
   ],
   "source": [
    "file.readline()\n",
    "# reads line by line"
   ]
  },
  {
   "cell_type": "code",
   "execution_count": 26,
   "id": "ade24fca",
   "metadata": {},
   "outputs": [
    {
     "data": {
      "text/plain": [
       "''"
      ]
     },
     "execution_count": 26,
     "metadata": {},
     "output_type": "execute_result"
    }
   ],
   "source": [
    "file.readline()\n",
    "# Here it has reached the end of file"
   ]
  },
  {
   "cell_type": "code",
   "execution_count": 27,
   "id": "f7fb1917",
   "metadata": {},
   "outputs": [
    {
     "data": {
      "text/plain": [
       "[]"
      ]
     },
     "execution_count": 27,
     "metadata": {},
     "output_type": "execute_result"
    }
   ],
   "source": [
    "file.readlines()\n",
    "# As it is at the end of the file hence it's giving [] "
   ]
  },
  {
   "cell_type": "code",
   "execution_count": 28,
   "id": "e963625d",
   "metadata": {},
   "outputs": [],
   "source": [
    "file = open(\"hello.txt\",\"r\")"
   ]
  },
  {
   "cell_type": "code",
   "execution_count": 29,
   "id": "70c38eac",
   "metadata": {},
   "outputs": [
    {
     "data": {
      "text/plain": [
       "['Hello World\\n', 'Hello again\\n', 'Hello bhaiya\\n', 'kecho']"
      ]
     },
     "execution_count": 29,
     "metadata": {},
     "output_type": "execute_result"
    }
   ],
   "source": [
    "file.readlines()\n",
    "# It gives list of lines where each element of this list is a seperate line\n",
    "### This funcn can be called only once as reads till the end ###"
   ]
  },
  {
   "cell_type": "code",
   "execution_count": 32,
   "id": "d0a37c27",
   "metadata": {},
   "outputs": [
    {
     "name": "stdout",
     "output_type": "stream",
     "text": [
      "Hello World\n",
      "\n",
      "['Hello again\\n', 'Hello bhaiya\\n', 'kecho']\n"
     ]
    }
   ],
   "source": [
    "file = open(\"hello.txt\",\"r\")\n",
    "print(file.readline())\n",
    "# reads line by line\n",
    "print(file.readlines())"
   ]
  },
  {
   "cell_type": "code",
   "execution_count": 33,
   "id": "ecc9b0c5",
   "metadata": {},
   "outputs": [],
   "source": [
    "file.close()"
   ]
  },
  {
   "cell_type": "code",
   "execution_count": null,
   "id": "ad99b9eb",
   "metadata": {},
   "outputs": [],
   "source": []
  },
  {
   "cell_type": "markdown",
   "id": "023ec3b8",
   "metadata": {},
   "source": [
    "#### Moving the cursor\n",
    "* seek(n) : takes the file handle to the nth byte frm the begining."
   ]
  },
  {
   "cell_type": "code",
   "execution_count": 34,
   "id": "1814adff",
   "metadata": {},
   "outputs": [],
   "source": [
    "file = open(\"hello.txt\",\"r\")"
   ]
  },
  {
   "cell_type": "code",
   "execution_count": 35,
   "id": "9e668835",
   "metadata": {},
   "outputs": [
    {
     "data": {
      "text/plain": [
       "'Hello'"
      ]
     },
     "execution_count": 35,
     "metadata": {},
     "output_type": "execute_result"
    }
   ],
   "source": [
    "file.read(5)"
   ]
  },
  {
   "cell_type": "code",
   "execution_count": null,
   "id": "5e00e308",
   "metadata": {},
   "outputs": [],
   "source": []
  },
  {
   "cell_type": "markdown",
   "id": "eeeeeabf",
   "metadata": {},
   "source": [
    "#### Smarter way of opening files...\n",
    "* With the \"with\" statement, you get better syntax and exceptions handling.\n",
    "* The with statement simplifies exception handling by encapsulating common preparation and clean-up tasks. "
   ]
  },
  {
   "cell_type": "code",
   "execution_count": null,
   "id": "7f00e2c4",
   "metadata": {},
   "outputs": [],
   "source": []
  }
 ],
 "metadata": {
  "kernelspec": {
   "display_name": "Python 3",
   "language": "python",
   "name": "python3"
  },
  "language_info": {
   "codemirror_mode": {
    "name": "ipython",
    "version": 3
   },
   "file_extension": ".py",
   "mimetype": "text/x-python",
   "name": "python",
   "nbconvert_exporter": "python",
   "pygments_lexer": "ipython3",
   "version": "3.8.8"
  }
 },
 "nbformat": 4,
 "nbformat_minor": 5
}
