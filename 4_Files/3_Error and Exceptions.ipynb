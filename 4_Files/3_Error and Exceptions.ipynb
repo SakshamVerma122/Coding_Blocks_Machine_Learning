{
 "cells": [
  {
   "cell_type": "markdown",
   "id": "8bd25862",
   "metadata": {},
   "source": [
    "### Error and Exceptions\n",
    "* Exceptions : Errors detected during execution are called exceptions and are not un-conditional fatal\n",
    "* Error is something wrong in your code"
   ]
  },
  {
   "cell_type": "code",
   "execution_count": null,
   "id": "b56da2c5",
   "metadata": {},
   "outputs": [],
   "source": [
    "####### This is an error #######\n",
    "fore i in range(10):\n",
    "    print(i)"
   ]
  },
  {
   "cell_type": "code",
   "execution_count": null,
   "id": "54b31213",
   "metadata": {},
   "outputs": [],
   "source": [
    "####### This is an exception #######\n",
    "print(\"Hello\")\n",
    "print(10/0)\n",
    "print(\"world\")"
   ]
  },
  {
   "cell_type": "markdown",
   "id": "7edfa225",
   "metadata": {},
   "source": [
    "- try\n",
    "- except"
   ]
  },
  {
   "cell_type": "code",
   "execution_count": 5,
   "id": "34907cab",
   "metadata": {},
   "outputs": [],
   "source": [
    "def div(a,b):\n",
    "    try:\n",
    "        print(a/b)\n",
    "    except:\n",
    "        print(\"error\")\n",
    "    print(\"hello\")"
   ]
  },
  {
   "cell_type": "code",
   "execution_count": 6,
   "id": "8a036467",
   "metadata": {},
   "outputs": [
    {
     "name": "stdout",
     "output_type": "stream",
     "text": [
      "error\n",
      "hello\n"
     ]
    }
   ],
   "source": [
    "div(0,0)"
   ]
  },
  {
   "cell_type": "code",
   "execution_count": 7,
   "id": "2ca17d9a",
   "metadata": {},
   "outputs": [
    {
     "ename": "ZeroDivisionError",
     "evalue": "division by zero",
     "output_type": "error",
     "traceback": [
      "\u001b[1;31m---------------------------------------------------------------------------\u001b[0m",
      "\u001b[1;31mZeroDivisionError\u001b[0m                         Traceback (most recent call last)",
      "\u001b[1;32m<ipython-input-7-1babb3b33639>\u001b[0m in \u001b[0;36m<module>\u001b[1;34m\u001b[0m\n\u001b[1;32m----> 1\u001b[1;33m \u001b[0mprint\u001b[0m\u001b[1;33m(\u001b[0m\u001b[1;36m0\u001b[0m\u001b[1;33m/\u001b[0m\u001b[1;36m0\u001b[0m\u001b[1;33m)\u001b[0m\u001b[1;33m\u001b[0m\u001b[1;33m\u001b[0m\u001b[0m\n\u001b[0m",
      "\u001b[1;31mZeroDivisionError\u001b[0m: division by zero"
     ]
    }
   ],
   "source": [
    "print(0/0)"
   ]
  },
  {
   "cell_type": "code",
   "execution_count": 8,
   "id": "15d7357e",
   "metadata": {},
   "outputs": [
    {
     "name": "stdout",
     "output_type": "stream",
     "text": [
      "ZeroDivisionError\n"
     ]
    }
   ],
   "source": [
    "try:\n",
    "    print(10/0)\n",
    "except ZeroDivisionError:\n",
    "    print(\"ZeroDivisionError\")"
   ]
  },
  {
   "cell_type": "code",
   "execution_count": null,
   "id": "b2f3a2b4",
   "metadata": {},
   "outputs": [],
   "source": []
  },
  {
   "cell_type": "markdown",
   "id": "3c94e581",
   "metadata": {},
   "source": [
    "* This piece of code throws exception especially for **ZeroDivisionError** for other type of exceptions it will not work"
   ]
  },
  {
   "cell_type": "code",
   "execution_count": 9,
   "id": "b3672a81",
   "metadata": {
    "collapsed": true
   },
   "outputs": [
    {
     "ename": "ValueError",
     "evalue": "invalid literal for int() with base 10: 'Saksham'",
     "output_type": "error",
     "traceback": [
      "\u001b[1;31m---------------------------------------------------------------------------\u001b[0m",
      "\u001b[1;31mValueError\u001b[0m                                Traceback (most recent call last)",
      "\u001b[1;32m<ipython-input-9-278d8ad68516>\u001b[0m in \u001b[0;36m<module>\u001b[1;34m\u001b[0m\n\u001b[0;32m      1\u001b[0m \u001b[1;32mtry\u001b[0m\u001b[1;33m:\u001b[0m\u001b[1;33m\u001b[0m\u001b[1;33m\u001b[0m\u001b[0m\n\u001b[1;32m----> 2\u001b[1;33m     \u001b[0ma\u001b[0m \u001b[1;33m=\u001b[0m \u001b[0mint\u001b[0m\u001b[1;33m(\u001b[0m\u001b[1;34m\"Saksham\"\u001b[0m\u001b[1;33m)\u001b[0m\u001b[1;33m\u001b[0m\u001b[1;33m\u001b[0m\u001b[0m\n\u001b[0m\u001b[0;32m      3\u001b[0m \u001b[1;32mexcept\u001b[0m \u001b[0mZeroDivisionError\u001b[0m\u001b[1;33m:\u001b[0m\u001b[1;33m\u001b[0m\u001b[1;33m\u001b[0m\u001b[0m\n\u001b[0;32m      4\u001b[0m     \u001b[0mprint\u001b[0m\u001b[1;33m(\u001b[0m\u001b[1;34m\"ZeroDivisionError\"\u001b[0m\u001b[1;33m)\u001b[0m\u001b[1;33m\u001b[0m\u001b[1;33m\u001b[0m\u001b[0m\n",
      "\u001b[1;31mValueError\u001b[0m: invalid literal for int() with base 10: 'Saksham'"
     ]
    }
   ],
   "source": [
    "try:\n",
    "    a = int(\"Saksham\")\n",
    "except ZeroDivisionError:\n",
    "    print(\"ZeroDivisionError\")"
   ]
  },
  {
   "cell_type": "code",
   "execution_count": 10,
   "id": "fa64a877",
   "metadata": {},
   "outputs": [
    {
     "name": "stdout",
     "output_type": "stream",
     "text": [
      "Some error occured\n"
     ]
    }
   ],
   "source": [
    "try:\n",
    "    a = int(\"Saksham\")\n",
    "except ZeroDivisionError:\n",
    "    print(\"ZeroDivisionError\")\n",
    "except:\n",
    "    print(\"Some error occured\")"
   ]
  },
  {
   "cell_type": "code",
   "execution_count": 11,
   "id": "af9ff00f",
   "metadata": {},
   "outputs": [
    {
     "name": "stdout",
     "output_type": "stream",
     "text": [
      "Value error occurred\n"
     ]
    }
   ],
   "source": [
    "try:\n",
    "    a = int(\"Saksham\")\n",
    "except ZeroDivisionError:\n",
    "    print(\"ZeroDivisionError\")\n",
    "except ValueError:\n",
    "    print(\"Value error occurred\")"
   ]
  },
  {
   "cell_type": "code",
   "execution_count": 12,
   "id": "8d44be95",
   "metadata": {},
   "outputs": [
    {
     "name": "stdout",
     "output_type": "stream",
     "text": [
      "invalid literal for int() with base 10: 'Saksham' type of Error occurred\n"
     ]
    }
   ],
   "source": [
    "try:\n",
    "    a = int(\"Saksham\")\n",
    "except Exception as e:\n",
    "    print(e ,\"type of Error occurred\")"
   ]
  },
  {
   "cell_type": "markdown",
   "id": "d3f398f8",
   "metadata": {},
   "source": [
    "**Exception** is the base class of all types of Exception"
   ]
  },
  {
   "cell_type": "markdown",
   "id": "b90d5daa",
   "metadata": {},
   "source": [
    "### Custom Exception\n",
    "- raise"
   ]
  },
  {
   "cell_type": "code",
   "execution_count": 4,
   "id": "f85f5a85",
   "metadata": {},
   "outputs": [
    {
     "name": "stdout",
     "output_type": "stream",
     "text": [
      "Some exception occurred\n"
     ]
    }
   ],
   "source": [
    "try :\n",
    "    raise Exception(\"Some exception occurred\")\n",
    "except Exception as e:\n",
    "    print(e)"
   ]
  },
  {
   "cell_type": "code",
   "execution_count": 5,
   "id": "d0277809",
   "metadata": {},
   "outputs": [
    {
     "name": "stdout",
     "output_type": "stream",
     "text": [
      "('Some exception occurred', 1, 2)\n"
     ]
    }
   ],
   "source": [
    "# prints all the arguements passed\n",
    "\n",
    "try :\n",
    "    raise Exception(\"Some exception occurred\",1,2)\n",
    "except Exception as e:\n",
    "    print(e)"
   ]
  },
  {
   "cell_type": "code",
   "execution_count": 7,
   "id": "28818a50",
   "metadata": {},
   "outputs": [
    {
     "name": "stdout",
     "output_type": "stream",
     "text": [
      "('Some exception occurred', 1, 2)\n"
     ]
    }
   ],
   "source": [
    "# prints all the arguements passed\n",
    "\n",
    "try :\n",
    "    raise Exception(\"Some exception occurred\",1,2)\n",
    "except Exception as e:\n",
    "    print(e.args)\n",
    "    #return a tuple"
   ]
  },
  {
   "cell_type": "markdown",
   "id": "1d93b36f",
   "metadata": {},
   "source": [
    "### Creating custom exception class"
   ]
  },
  {
   "cell_type": "code",
   "execution_count": 8,
   "id": "445d0987",
   "metadata": {},
   "outputs": [],
   "source": [
    "class MyException(Exception):\n",
    "    def __init__(self,message):\n",
    "        self.message = message\n",
    "        \n",
    "    def __string__(self):\n",
    "        return self.message"
   ]
  },
  {
   "cell_type": "code",
   "execution_count": 12,
   "id": "d8e0e673",
   "metadata": {},
   "outputs": [
    {
     "name": "stdout",
     "output_type": "stream",
     "text": [
      "Some exception occurred\n",
      "Some exception occurred\n",
      "<class '__main__.MyException'>\n"
     ]
    }
   ],
   "source": [
    "try :\n",
    "    raise MyException(\"Some exception occurred\")\n",
    "    # here MyException(\"Some exception occurred\") is an object\n",
    "except Exception as e:\n",
    "    print(e)\n",
    "    print(e.message)\n",
    "    print(type(e))\n",
    "    # print(e.str) error"
   ]
  },
  {
   "cell_type": "code",
   "execution_count": null,
   "id": "6f196be4",
   "metadata": {},
   "outputs": [],
   "source": []
  },
  {
   "cell_type": "markdown",
   "id": "85665da7",
   "metadata": {},
   "source": [
    "- **else** : \n",
    "  - always execute if the try block didn't threw any error\n",
    "  - whenever we need to perform something based on whether there is some exception or not\n",
    "- **finally**: \n",
    "    - will always execute\n",
    "    - clean up code\n",
    "   - Example : closing file-> trying to open a file but some error occured and my programme exitted but because that programme exitted I didn't got the chance to close that file that type of code goes into finally block"
   ]
  },
  {
   "cell_type": "code",
   "execution_count": null,
   "id": "3b56ca24",
   "metadata": {},
   "outputs": [],
   "source": [
    "try:\n",
    "    print(\"hello world\")\n",
    "except:\n",
    "    print(\"ok error occurred\")\n",
    "else:\n",
    "    print(\"woah\")\n",
    "finally:\n",
    "    print(\"bye bye world\")"
   ]
  },
  {
   "cell_type": "code",
   "execution_count": null,
   "id": "de0bb599",
   "metadata": {},
   "outputs": [],
   "source": []
  },
  {
   "cell_type": "code",
   "execution_count": 13,
   "id": "03d396a4",
   "metadata": {},
   "outputs": [],
   "source": [
    "def funcn():\n",
    "    try:\n",
    "        return(1)\n",
    "    except:\n",
    "        return(2)\n",
    "    else:\n",
    "        return(3)\n",
    "    finally:\n",
    "        return(4)\n",
    "    \n",
    "# No matter what finally block will always be executed"
   ]
  },
  {
   "cell_type": "code",
   "execution_count": 15,
   "id": "0d0f3b5c",
   "metadata": {},
   "outputs": [
    {
     "data": {
      "text/plain": [
       "4"
      ]
     },
     "execution_count": 15,
     "metadata": {},
     "output_type": "execute_result"
    }
   ],
   "source": [
    "funcn()\n",
    "# finally block truncates all the other retur statement as it's executed at the end\n",
    "# Here in the above first 2 will be returned and then 4"
   ]
  },
  {
   "cell_type": "code",
   "execution_count": null,
   "id": "00cbce5c",
   "metadata": {},
   "outputs": [],
   "source": []
  },
  {
   "cell_type": "markdown",
   "id": "09f098c3",
   "metadata": {},
   "source": [
    "### with statement cleanup pre-defined cleanup action"
   ]
  },
  {
   "cell_type": "code",
   "execution_count": 17,
   "id": "72e4fbab",
   "metadata": {},
   "outputs": [
    {
     "name": "stdout",
     "output_type": "stream",
     "text": [
      "Hello Saksham this side!!\n"
     ]
    }
   ],
   "source": [
    "try:\n",
    "    file = open(\"something.txt\",\"r\")\n",
    "    print(file.read())\n",
    "except Exception as e:\n",
    "    print(e)\n",
    "finally:\n",
    "    # if file has an exception\n",
    "    file.close()"
   ]
  },
  {
   "cell_type": "code",
   "execution_count": 19,
   "id": "4517dcff",
   "metadata": {},
   "outputs": [
    {
     "name": "stdout",
     "output_type": "stream",
     "text": [
      "Hello Saksham this side!!\n"
     ]
    }
   ],
   "source": [
    "with open(\"something.txt\",\"r\") as file:\n",
    "    print(file.read())\n",
    "# with block always handle these predefined cleanup actions\n",
    "# with block works with the object that has 2 dunders"
   ]
  },
  {
   "cell_type": "code",
   "execution_count": 16,
   "id": "226ec146",
   "metadata": {},
   "outputs": [],
   "source": [
    "class A:\n",
    "    def __init__(self,num):\n",
    "        self.num = num\n",
    "        \n",
    "    def __str__(self):\n",
    "        return str(self.num)\n",
    "    \n",
    "    def __enter__(self):\n",
    "        return self\n",
    "    \n",
    "    # The arguements in the __exit__ are thr exceptions/errors raised inside the with block\n",
    "    def __exit__(self,*args):\n",
    "        print(args)\n",
    "\n",
    "        return True\n",
    "        # if we return true exception is not raised for False reverse "
   ]
  },
  {
   "cell_type": "code",
   "execution_count": 19,
   "id": "a54fb837",
   "metadata": {},
   "outputs": [
    {
     "name": "stdout",
     "output_type": "stream",
     "text": [
      "5\n",
      "(<class 'ZeroDivisionError'>, ZeroDivisionError('division by zero'), <traceback object at 0x000001E3DC977EC0>)\n",
      "hello\n"
     ]
    }
   ],
   "source": [
    "with A(5) as a:\n",
    "    # with block starts the execution with__enter__\n",
    "    # __enter__ returns self which is stored inside a\n",
    "    # as soon as with block is executed __exit__ is called \n",
    "    # with some arguements\n",
    "    \n",
    "    print(a)\n",
    "    raise 10/0\n",
    "    \n",
    "print(\"hello\")\n",
    "    "
   ]
  },
  {
   "cell_type": "code",
   "execution_count": null,
   "id": "9c102bad",
   "metadata": {},
   "outputs": [],
   "source": []
  },
  {
   "cell_type": "code",
   "execution_count": null,
   "id": "36a18391",
   "metadata": {},
   "outputs": [],
   "source": []
  },
  {
   "cell_type": "code",
   "execution_count": null,
   "id": "938b8dd5",
   "metadata": {},
   "outputs": [],
   "source": []
  }
 ],
 "metadata": {
  "kernelspec": {
   "display_name": "Python 3 (ipykernel)",
   "language": "python",
   "name": "python3"
  },
  "language_info": {
   "codemirror_mode": {
    "name": "ipython",
    "version": 3
   },
   "file_extension": ".py",
   "mimetype": "text/x-python",
   "name": "python",
   "nbconvert_exporter": "python",
   "pygments_lexer": "ipython3",
   "version": "3.9.12"
  }
 },
 "nbformat": 4,
 "nbformat_minor": 5
}
