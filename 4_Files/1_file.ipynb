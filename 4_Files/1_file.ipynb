{
 "cells": [
  {
   "cell_type": "markdown",
   "id": "739fbad6",
   "metadata": {},
   "source": [
    "### File Accesss Modes\n",
    "> Access modes **govern** the **type of operations** possible in the opened file. It refers to how the file will be used once its opened .These modes also **define the location of the File Handles** in the file.**File handle is like a cursor**, which **defines** from where the **data has to be read or written** in the file there are 6 access modes in python.\n",
    "\n",
    "* **Read Only('r')**:\n",
    "  * Open text file for `reading` .\n",
    "  * The `handle` is positoned at the `begining of the file` .\n",
    "  * If the file doesn't exist raises `I/O error`.\n",
    "  * This is also the `default mode` in which `file` is `opened`.\n",
    "\n",
    "* **Read and Write('r+')**: \n",
    "  * Open the file for `reading` and `writing`.\n",
    "  * The `handle` is positoned at the `begining of the file`.\n",
    "  * Raises `I/O error` if the `file doesn't exists`.\n",
    "\n",
    "* **Write Only('w')**:\n",
    "  * Open the file for `reading` and `writing` .\n",
    "  * For `existing file`,`data` is `truncated` and `over-written`.\n",
    "  * The `handle` is positioned at the `begining of the file`.\n",
    "  * `Creates` the `file` if the `file doesn't exists`.\n",
    "\n",
    "* **Write and Read('w+')**:\n",
    "  * Open the file for `reading` and `writing` .\n",
    "  * For `exisiting file` ,`data` is `truncated` and `over-written`. \n",
    "  * The `handle` is `positioned` at the `beginning of the file`\n",
    "\n",
    "* **Append Only('a')**:\n",
    "  * Open the file for `writting`. \n",
    "  * The `file` is `created` if it `doesn't exist`. \n",
    "  * The `handle` is positioned at the `end of the file`. \n",
    "  * The data being written will be inserted at the end ,after the exisiting data.\n",
    "\n",
    "* **Append and Read('a+')**:\n",
    "  * Open the file for `reading` and `writing`. \n",
    "  * The `file` is `created` if it `doesn't exist`. \n",
    "  * The `handle` is positioned at the `end of the file`. \n",
    "  * The data being written will be inserted at the end ,after the existing data.\n",
    "\n",
    "* **Append and Read('a+')**: \n",
    "  * Open the file for reading and writing. \n",
    "  * The file is created if doesn't exist. \n",
    "  * The handle is positioned at the end of the file. \n",
    "  * The data being written will be inserted at the end, after the existing data."
   ]
  },
  {
   "cell_type": "markdown",
   "id": "6dd80fed",
   "metadata": {},
   "source": [
    "## 1 Text files"
   ]
  },
  {
   "cell_type": "markdown",
   "id": "63ca29b3",
   "metadata": {},
   "source": [
    "### Opening a file"
   ]
  },
  {
   "cell_type": "code",
   "execution_count": 4,
   "id": "1be33778",
   "metadata": {},
   "outputs": [],
   "source": [
    "file = open(\"hello.txt\",\"r\")"
   ]
  },
  {
   "cell_type": "code",
   "execution_count": 5,
   "id": "1b198a7e",
   "metadata": {},
   "outputs": [
    {
     "data": {
      "text/plain": [
       "'Hell'"
      ]
     },
     "execution_count": 5,
     "metadata": {},
     "output_type": "execute_result"
    }
   ],
   "source": [
    "file.read(4) # read first 4 bytes"
   ]
  },
  {
   "cell_type": "markdown",
   "id": "2aaca06b",
   "metadata": {},
   "source": [
    "### Opening File in a+ mode"
   ]
  },
  {
   "cell_type": "code",
   "execution_count": 1,
   "id": "e660acac",
   "metadata": {},
   "outputs": [
    {
     "data": {
      "text/plain": [
       "24"
      ]
     },
     "execution_count": 1,
     "metadata": {},
     "output_type": "execute_result"
    }
   ],
   "source": [
    "file = open(\"hello.txt\",\"a+\")\n",
    "file.write(\"Hello What are you doing\")"
   ]
  },
  {
   "cell_type": "code",
   "execution_count": 3,
   "id": "e7954662",
   "metadata": {},
   "outputs": [
    {
     "data": {
      "text/plain": [
       "['Hello World\\n',\n",
       " 'Hello again\\n',\n",
       " 'Hello bhaiya\\n',\n",
       " 'kechoHello What are you doing']"
      ]
     },
     "execution_count": 3,
     "metadata": {},
     "output_type": "execute_result"
    }
   ],
   "source": [
    "file.seek(0)\n",
    "file.readlines()"
   ]
  },
  {
   "cell_type": "code",
   "execution_count": 2,
   "id": "7e3a74fc",
   "metadata": {},
   "outputs": [
    {
     "data": {
      "text/plain": [
       "'Hell'"
      ]
     },
     "execution_count": 2,
     "metadata": {},
     "output_type": "execute_result"
    }
   ],
   "source": [
    "file.read(4) # read first 4 bytes"
   ]
  },
  {
   "cell_type": "markdown",
   "id": "78689d00",
   "metadata": {},
   "source": [
    "### Opening File in w+ mode"
   ]
  },
  {
   "cell_type": "code",
   "execution_count": 6,
   "id": "3d1e9e88",
   "metadata": {},
   "outputs": [],
   "source": [
    "file = open(\"hello2.txt\",\"w+\")"
   ]
  },
  {
   "cell_type": "code",
   "execution_count": 7,
   "id": "3bfd5bcd",
   "metadata": {},
   "outputs": [],
   "source": [
    "file.writelines(['Hello World\\n',\n",
    " 'Hello again\\n',\n",
    " 'Hello bhaiya\\n',\n",
    " 'kechoHello What are you doing'])"
   ]
  },
  {
   "cell_type": "code",
   "execution_count": 9,
   "id": "6fad67ba",
   "metadata": {},
   "outputs": [
    {
     "data": {
      "text/plain": [
       "'Hell'"
      ]
     },
     "execution_count": 9,
     "metadata": {},
     "output_type": "execute_result"
    }
   ],
   "source": [
    "file.seek(0)\n",
    "file.read(4)"
   ]
  },
  {
   "cell_type": "markdown",
   "id": "9f2bd595",
   "metadata": {},
   "source": [
    "##### Again opening the file to check whether the things will be deleted while using w+ mode --> YES"
   ]
  },
  {
   "cell_type": "code",
   "execution_count": 10,
   "id": "dfeeee6c",
   "metadata": {},
   "outputs": [],
   "source": [
    "file = open(\"hello2.txt\",\"w+\")"
   ]
  },
  {
   "cell_type": "code",
   "execution_count": 11,
   "id": "a8774962",
   "metadata": {},
   "outputs": [
    {
     "data": {
      "text/plain": [
       "''"
      ]
     },
     "execution_count": 11,
     "metadata": {},
     "output_type": "execute_result"
    }
   ],
   "source": [
    "file.seek(0)\n",
    "file.read(4)"
   ]
  },
  {
   "cell_type": "markdown",
   "id": "e7134080",
   "metadata": {},
   "source": [
    "### Opening File in r+ mode"
   ]
  },
  {
   "cell_type": "code",
   "execution_count": 12,
   "id": "d7ca71bf",
   "metadata": {},
   "outputs": [],
   "source": [
    "file = open(\"hello2.txt\",\"r+\")\n",
    "\n",
    "file.writelines(['Hello World\\n',\n",
    " 'Hello again\\n',\n",
    " 'Hello bhaiya\\n',\n",
    " 'kechoHello What are you doing'])"
   ]
  },
  {
   "cell_type": "code",
   "execution_count": 14,
   "id": "0d8d9a7f",
   "metadata": {},
   "outputs": [
    {
     "data": {
      "text/plain": [
       "['Hello World\\n',\n",
       " 'Hello again\\n',\n",
       " 'Hello bhaiya\\n',\n",
       " 'kechoHello What are you doing']"
      ]
     },
     "execution_count": 14,
     "metadata": {},
     "output_type": "execute_result"
    }
   ],
   "source": [
    "file.seek(0)\n",
    "file.readlines()"
   ]
  },
  {
   "cell_type": "markdown",
   "id": "ca61b4db",
   "metadata": {},
   "source": [
    "### Closing a file"
   ]
  },
  {
   "cell_type": "code",
   "execution_count": 3,
   "id": "6ccae8c4",
   "metadata": {},
   "outputs": [],
   "source": [
    "file.close()"
   ]
  },
  {
   "cell_type": "markdown",
   "id": "483b7caf",
   "metadata": {},
   "source": [
    "### Writing to a file"
   ]
  },
  {
   "cell_type": "code",
   "execution_count": 10,
   "id": "8e853fd3",
   "metadata": {},
   "outputs": [],
   "source": [
    "file = open(\"something.txt\",\"w\")"
   ]
  },
  {
   "cell_type": "code",
   "execution_count": 11,
   "id": "1b5177ff",
   "metadata": {},
   "outputs": [
    {
     "data": {
      "text/plain": [
       "25"
      ]
     },
     "execution_count": 11,
     "metadata": {},
     "output_type": "execute_result"
    }
   ],
   "source": [
    "file.write(\"Hello Saksham this side!!\")\n",
    "# returns number of bytes written in the file"
   ]
  },
  {
   "cell_type": "markdown",
   "id": "51ca3a00",
   "metadata": {},
   "source": [
    "### Reading to a file\n",
    "* read\n",
    "* readline\n",
    "* readlines"
   ]
  },
  {
   "cell_type": "code",
   "execution_count": 4,
   "id": "e3c85003",
   "metadata": {},
   "outputs": [],
   "source": [
    "file = open(\"hello.txt\",\"r\")"
   ]
  },
  {
   "cell_type": "code",
   "execution_count": 5,
   "id": "b7f04703",
   "metadata": {},
   "outputs": [
    {
     "data": {
      "text/plain": [
       "'Hello World\\n'"
      ]
     },
     "execution_count": 5,
     "metadata": {},
     "output_type": "execute_result"
    }
   ],
   "source": [
    "file.readline()\n",
    "# reads line by line"
   ]
  },
  {
   "cell_type": "code",
   "execution_count": 6,
   "id": "587db71a",
   "metadata": {},
   "outputs": [
    {
     "data": {
      "text/plain": [
       "'Hello again\\n'"
      ]
     },
     "execution_count": 6,
     "metadata": {},
     "output_type": "execute_result"
    }
   ],
   "source": [
    "file.readline()\n",
    "# reads line by line"
   ]
  },
  {
   "cell_type": "code",
   "execution_count": 7,
   "id": "421c988b",
   "metadata": {},
   "outputs": [
    {
     "data": {
      "text/plain": [
       "'Hello bhaiya\\n'"
      ]
     },
     "execution_count": 7,
     "metadata": {},
     "output_type": "execute_result"
    }
   ],
   "source": [
    "file.readline()\n",
    "# reads line by line"
   ]
  },
  {
   "cell_type": "code",
   "execution_count": 8,
   "id": "3adefded",
   "metadata": {},
   "outputs": [
    {
     "data": {
      "text/plain": [
       "'kecho'"
      ]
     },
     "execution_count": 8,
     "metadata": {},
     "output_type": "execute_result"
    }
   ],
   "source": [
    "file.readline()\n",
    "# reads line by line"
   ]
  },
  {
   "cell_type": "code",
   "execution_count": 9,
   "id": "6ab3e301",
   "metadata": {},
   "outputs": [
    {
     "data": {
      "text/plain": [
       "''"
      ]
     },
     "execution_count": 9,
     "metadata": {},
     "output_type": "execute_result"
    }
   ],
   "source": [
    "file.readline()\n",
    "# Here it has reached the end of file"
   ]
  },
  {
   "cell_type": "code",
   "execution_count": 10,
   "id": "fd953937",
   "metadata": {},
   "outputs": [
    {
     "data": {
      "text/plain": [
       "[]"
      ]
     },
     "execution_count": 10,
     "metadata": {},
     "output_type": "execute_result"
    }
   ],
   "source": [
    "file.readlines()\n",
    "# As it is at the end of the file hence it's giving [] "
   ]
  },
  {
   "cell_type": "code",
   "execution_count": 16,
   "id": "0d0be43a",
   "metadata": {},
   "outputs": [],
   "source": [
    "file = open(\"hello.txt\",\"r\")"
   ]
  },
  {
   "cell_type": "code",
   "execution_count": 17,
   "id": "9ca9f308",
   "metadata": {},
   "outputs": [],
   "source": [
    "lines = file.readlines()\n",
    "# It gives list of lines where each element of this list is a seperate line\n",
    "### This funcn can be called only once as reads till the end ###"
   ]
  },
  {
   "cell_type": "code",
   "execution_count": 21,
   "id": "903f5853",
   "metadata": {},
   "outputs": [
    {
     "data": {
      "text/plain": [
       "['Hello World', 'Hello again', 'Hello bhaiya', 'kech']"
      ]
     },
     "execution_count": 21,
     "metadata": {},
     "output_type": "execute_result"
    }
   ],
   "source": [
    "[i[:-1] for i in lines]"
   ]
  },
  {
   "cell_type": "code",
   "execution_count": 22,
   "id": "e6f7d8b9",
   "metadata": {},
   "outputs": [
    {
     "name": "stdout",
     "output_type": "stream",
     "text": [
      "Hello World\n",
      "\n",
      "['Hello again\\n', 'Hello bhaiya\\n', 'kecho']\n"
     ]
    }
   ],
   "source": [
    "file = open(\"hello.txt\",\"r\")\n",
    "print(file.readline())\n",
    "# reads line by line\n",
    "print(file.readlines())"
   ]
  },
  {
   "cell_type": "code",
   "execution_count": 23,
   "id": "db778923",
   "metadata": {},
   "outputs": [],
   "source": [
    "file.close()"
   ]
  },
  {
   "cell_type": "code",
   "execution_count": null,
   "id": "d0d55d27",
   "metadata": {},
   "outputs": [],
   "source": []
  },
  {
   "cell_type": "markdown",
   "id": "bfee7d55",
   "metadata": {},
   "source": [
    "### Moving the cursor\n",
    "* seek(n) : takes the file handle to the nth byte from the begining."
   ]
  },
  {
   "cell_type": "code",
   "execution_count": 33,
   "id": "529690b4",
   "metadata": {},
   "outputs": [],
   "source": [
    "file = open(\"hello.txt\",\"r\")"
   ]
  },
  {
   "cell_type": "code",
   "execution_count": 25,
   "id": "1215a669",
   "metadata": {},
   "outputs": [
    {
     "data": {
      "text/plain": [
       "'Hello'"
      ]
     },
     "execution_count": 25,
     "metadata": {},
     "output_type": "execute_result"
    }
   ],
   "source": [
    "file.read(5)"
   ]
  },
  {
   "cell_type": "code",
   "execution_count": 26,
   "id": "d33ec1b4",
   "metadata": {},
   "outputs": [
    {
     "data": {
      "text/plain": [
       "0"
      ]
     },
     "execution_count": 26,
     "metadata": {},
     "output_type": "execute_result"
    }
   ],
   "source": [
    "file.seek(0)\n",
    "# seek it to 0th position"
   ]
  },
  {
   "cell_type": "code",
   "execution_count": 27,
   "id": "eceb6795",
   "metadata": {},
   "outputs": [
    {
     "data": {
      "text/plain": [
       "'Hello Worl'"
      ]
     },
     "execution_count": 27,
     "metadata": {},
     "output_type": "execute_result"
    }
   ],
   "source": [
    "file.read(10)"
   ]
  },
  {
   "cell_type": "code",
   "execution_count": 28,
   "id": "710ebfb8",
   "metadata": {},
   "outputs": [
    {
     "data": {
      "text/plain": [
       "'d\\nHel'"
      ]
     },
     "execution_count": 28,
     "metadata": {},
     "output_type": "execute_result"
    }
   ],
   "source": [
    "file.read(5)"
   ]
  },
  {
   "cell_type": "code",
   "execution_count": 34,
   "id": "9042f962",
   "metadata": {},
   "outputs": [
    {
     "data": {
      "text/plain": [
       "'H'"
      ]
     },
     "execution_count": 34,
     "metadata": {},
     "output_type": "execute_result"
    }
   ],
   "source": [
    "file.read(1)"
   ]
  },
  {
   "cell_type": "markdown",
   "id": "929b4494",
   "metadata": {},
   "source": [
    "### Smarter way of opening files...\n",
    "* With the \"with\" statement, you get better syntax and exceptions handling.\n",
    "* The with statement simplifies exception handling by encapsulating common preparation and clean-up tasks. "
   ]
  },
  {
   "cell_type": "code",
   "execution_count": 40,
   "id": "388b9441",
   "metadata": {},
   "outputs": [
    {
     "name": "stdout",
     "output_type": "stream",
     "text": [
      "Hello World\n",
      "Hello again\n",
      "Hello bhaiya\n",
      "kecho\n",
      " World\n",
      "Hello again\n",
      "Hello bhaiya\n",
      "kecho\n"
     ]
    }
   ],
   "source": [
    "with open(\"hello.txt\",\"r\") as file:\n",
    "    print(file.read())\n",
    "    \n",
    "    file.seek(5)\n",
    "    print(file.read())"
   ]
  },
  {
   "cell_type": "code",
   "execution_count": 47,
   "id": "00c55444",
   "metadata": {},
   "outputs": [
    {
     "data": {
      "text/plain": [
       "'ello World\\nHello again\\nHello bhaiya\\nkecho'"
      ]
     },
     "execution_count": 47,
     "metadata": {},
     "output_type": "execute_result"
    }
   ],
   "source": [
    "# Throws an error if using file outside with block\n",
    "file.read()"
   ]
  },
  {
   "cell_type": "markdown",
   "id": "ac915b32",
   "metadata": {},
   "source": [
    "### File flush() method in Python\n",
    "[Geeks for Geeks](https://www.geeksforgeeks.org/file-flush-method-in-python/#:~:text=The%20flush()%20method%20in,using%20the%20flush()%20method.&text=This%20method%20does%20not%20require,it%20does%20not%20return%20anything.)\n",
    "\n",
    "[Stackover flow internal buffer](https://stackoverflow.com/questions/7127075/what-exactly-is-file-flush-doing#:~:text=The%20internal%20buffers%20are%20buffers,system%20calls%20for%20every%20write.)\n",
    "\n",
    "[System calls](https://www.youtube.com/watch?v=lhToWeuWWfw)\n",
    "\n",
    "* The internal buffers are buffers created by the runtime/library/language that you're programming against and is meant to speed things up by avoiding system calls for every write. Instead, when you write to a file object, you write into its buffer, and whenever the buffer fills up, the data is written to the actual file using system calls.\n",
    "* So flush may clear the previously entered things which still remains in the buffer as to not disort the actual what a user want to enter now"
   ]
  },
  {
   "cell_type": "code",
   "execution_count": 2,
   "id": "0953bb5c",
   "metadata": {},
   "outputs": [
    {
     "data": {
      "text/plain": [
       "0"
      ]
     },
     "execution_count": 2,
     "metadata": {},
     "output_type": "execute_result"
    }
   ],
   "source": [
    "import os\n",
    "os.system('cmd /c \"{}\"'.format(\"jupyter-nbconvert --to html {}\".format(r\"C:\\Users\\saksh\\OneDrive\\Desktop\\github\\Coding_Blocks_Machine_Learning\\1_functions\\Functions_1.ipynb\")))"
   ]
  },
  {
   "cell_type": "code",
   "execution_count": 3,
   "id": "40d66398",
   "metadata": {},
   "outputs": [
    {
     "data": {
      "text/plain": [
       "'jupyter-nbconvert --to html C:\\\\Users\\\\saksh\\\\OneDrive\\\\Desktop\\\\github\\\\Coding_Blocks_Machine_Learning\\\\1_functions\\\\Functions_1.ipynb'"
      ]
     },
     "execution_count": 3,
     "metadata": {},
     "output_type": "execute_result"
    }
   ],
   "source": [
    "\"jupyter-nbconvert --to html {}\".format(r\"C:\\Users\\saksh\\OneDrive\\Desktop\\github\\Coding_Blocks_Machine_Learning\\1_functions\\Functions_1.ipynb\")"
   ]
  },
  {
   "cell_type": "code",
   "execution_count": null,
   "id": "cc97cff8",
   "metadata": {},
   "outputs": [],
   "source": []
  }
 ],
 "metadata": {
  "kernelspec": {
   "display_name": "Python 3 (ipykernel)",
   "language": "python",
   "name": "python3"
  },
  "language_info": {
   "codemirror_mode": {
    "name": "ipython",
    "version": 3
   },
   "file_extension": ".py",
   "mimetype": "text/x-python",
   "name": "python",
   "nbconvert_exporter": "python",
   "pygments_lexer": "ipython3",
   "version": "3.9.12"
  }
 },
 "nbformat": 4,
 "nbformat_minor": 5
}
