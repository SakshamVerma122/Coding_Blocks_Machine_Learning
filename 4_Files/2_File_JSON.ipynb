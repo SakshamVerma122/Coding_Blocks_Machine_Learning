{
 "cells": [
  {
   "cell_type": "markdown",
   "id": "6eed9a01",
   "metadata": {},
   "source": [
    "## 2.JSON files\n",
    "> **Javascript Object Notation** abbreviated as **JSON**  is a `light-weight data interchange format`. It Encode Python objects as JSON strings, and decode JSON strings into Python objects.\n",
    "\n",
    "* **json.dump(obj,fileObj):** Serializes obj as JSON formatted stream to fileObj.\n",
    "* **json.dumps(Obj):** Serializes obj as JSON formatted string.\n",
    "* **json.load(JSONfile):** De-serializes JSONfile to a Python object.\n",
    "* **json.loads(JSONfile):**De-serializes JSONfile(type:string) to a Python object."
   ]
  },
  {
   "cell_type": "code",
   "execution_count": 2,
   "id": "a0ff6861",
   "metadata": {},
   "outputs": [],
   "source": [
    "import json"
   ]
  },
  {
   "cell_type": "code",
   "execution_count": 3,
   "id": "944021d4",
   "metadata": {},
   "outputs": [
    {
     "name": "stdout",
     "output_type": "stream",
     "text": [
      "Saksham\n",
      "90\n",
      "['English', 'maths']\n"
     ]
    }
   ],
   "source": [
    "with open (\"data.json\",\"r\") as file:\n",
    "    d = json.load(file)\n",
    "    print(d[\"name\"])\n",
    "    print(d[\"marks\"])\n",
    "    print(d[\"subjects\"])"
   ]
  },
  {
   "cell_type": "code",
   "execution_count": 4,
   "id": "de012372",
   "metadata": {},
   "outputs": [
    {
     "name": "stdout",
     "output_type": "stream",
     "text": [
      "{\n",
      "    \"name\" : \"Saksham\",\n",
      "    \"marks\" : 90,\n",
      "    \"subjects\" : [\"English\",\"maths\"]\n",
      "}\n"
     ]
    }
   ],
   "source": [
    "with open (\"data.json\",\"r\") as file:\n",
    "    print(file.read())"
   ]
  },
  {
   "cell_type": "code",
   "execution_count": 6,
   "id": "983a6e48",
   "metadata": {},
   "outputs": [
    {
     "name": "stdout",
     "output_type": "stream",
     "text": [
      "{\n",
      "    \"name\" : \"Saksham\",\n",
      "    \"marks\" : 90,\n",
      "    \"subjects\" : [\"English\",\"maths\"]\n",
      "}\n",
      "data type: <class 'str'>\n",
      "{'name': 'Saksham', 'marks': 90, 'subjects': ['English', 'maths']}\n"
     ]
    }
   ],
   "source": [
    "with open (\"data.json\",\"r\") as file:\n",
    "    data = file.read()\n",
    "    print(data)\n",
    "    print(\"data type:\" ,type(data))\n",
    "    d = json.loads(data)\n",
    "    print(d)"
   ]
  },
  {
   "cell_type": "markdown",
   "id": "169f8e54",
   "metadata": {},
   "source": [
    "### Converting dictionary into json str"
   ]
  },
  {
   "cell_type": "code",
   "execution_count": 8,
   "id": "c3a9d447",
   "metadata": {},
   "outputs": [],
   "source": [
    "string = json.dumps(d)\n",
    "string"
   ]
  },
  {
   "cell_type": "code",
   "execution_count": 10,
   "id": "9119ad40",
   "metadata": {},
   "outputs": [
    {
     "data": {
      "text/plain": [
       "str"
      ]
     },
     "execution_count": 10,
     "metadata": {},
     "output_type": "execute_result"
    }
   ],
   "source": [
    "type(string)"
   ]
  },
  {
   "cell_type": "markdown",
   "id": "dd613df0",
   "metadata": {},
   "source": [
    "### Creating a JSON file using dictionary as input..."
   ]
  },
  {
   "cell_type": "code",
   "execution_count": 11,
   "id": "c8fd633f",
   "metadata": {},
   "outputs": [],
   "source": [
    "with open(\"data2.json\",\"w\") as file:\n",
    "    json.dump(d,file)"
   ]
  },
  {
   "cell_type": "code",
   "execution_count": null,
   "id": "1b4c9b03",
   "metadata": {},
   "outputs": [],
   "source": []
  },
  {
   "cell_type": "code",
   "execution_count": null,
   "id": "0ee261ce",
   "metadata": {},
   "outputs": [],
   "source": []
  },
  {
   "cell_type": "code",
   "execution_count": null,
   "id": "892e2b74",
   "metadata": {},
   "outputs": [],
   "source": []
  }
 ],
 "metadata": {
  "kernelspec": {
   "display_name": "Python 3",
   "language": "python",
   "name": "python3"
  },
  "language_info": {
   "codemirror_mode": {
    "name": "ipython",
    "version": 3
   },
   "file_extension": ".py",
   "mimetype": "text/x-python",
   "name": "python",
   "nbconvert_exporter": "python",
   "pygments_lexer": "ipython3",
   "version": "3.8.8"
  }
 },
 "nbformat": 4,
 "nbformat_minor": 5
}
