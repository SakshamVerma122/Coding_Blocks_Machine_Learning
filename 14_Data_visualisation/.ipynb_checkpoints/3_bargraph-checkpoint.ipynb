{
 "cells": [
  {
   "cell_type": "markdown",
   "id": "7688db76",
   "metadata": {},
   "source": [
    "### Bar-graph"
   ]
  },
  {
   "cell_type": "code",
   "execution_count": 9,
   "id": "281813df",
   "metadata": {},
   "outputs": [],
   "source": [
    "import matplotlib.pyplot as plt\n",
    "import numpy as np"
   ]
  },
  {
   "cell_type": "code",
   "execution_count": 10,
   "id": "d1dd91d4",
   "metadata": {},
   "outputs": [],
   "source": [
    "plt.bar?"
   ]
  },
  {
   "cell_type": "code",
   "execution_count": 11,
   "id": "bdfc2fa3",
   "metadata": {},
   "outputs": [
    {
     "data": {
      "text/plain": [
       "<BarContainer object of 3 artists>"
      ]
     },
     "execution_count": 11,
     "metadata": {},
     "output_type": "execute_result"
    },
    {
     "data": {
      "image/png": "[encoded data removed]",
      "text/plain": [
       "<Figure size 432x288 with 1 Axes>"
      ]
     },
     "metadata": {
      "needs_background": "light"
     },
     "output_type": "display_data"
    }
   ],
   "source": [
    "# align='edge' -> Center the base on the *x* positions.\n",
    "# align='center' -> Align the left edges of the bars with the *x* positions.\n",
    "plt.bar([0,1,2],[10,20,15],align='edge')\n"
   ]
  },
  {
   "cell_type": "code",
   "execution_count": 18,
   "id": "093b38e0",
   "metadata": {},
   "outputs": [
    {
     "data": {
      "text/plain": [
       "<BarContainer object of 3 artists>"
      ]
     },
     "execution_count": 18,
     "metadata": {},
     "output_type": "execute_result"
    },
    {
     "data": {
      "image/png": "[encoded data removed]",
      "text/plain": [
       "<Figure size 432x288 with 1 Axes>"
      ]
     },
     "metadata": {
      "needs_background": "light"
     },
     "output_type": "display_data"
    }
   ],
   "source": [
    "x_coordinates = np.array([0,1,2])\n",
    "\n",
    "plt.bar(x_coordinates,[10,20,15],width=0.25)\n",
    "plt.bar(x_coordinates+0.25,[20,10,12],width=0.25)\n",
    "\n",
    "# important by default the width of each bar graph is 1"
   ]
  },
  {
   "cell_type": "code",
   "execution_count": 31,
   "id": "06b80d7d",
   "metadata": {},
   "outputs": [
    {
     "data": {
      "text/plain": [
       "(0.0, 40.0)"
      ]
     },
     "execution_count": 31,
     "metadata": {},
     "output_type": "execute_result"
    },
    {
     "data": {
      "image/png": "[encoded data removed]",
      "text/plain": [
       "<Figure size 432x288 with 1 Axes>"
      ]
     },
     "metadata": {},
     "output_type": "display_data"
    }
   ],
   "source": [
    "plt.style.use(\"dark_background\")\n",
    "x_coordinates = np.array([0,1,2])*2\n",
    "\n",
    "plt.bar(x_coordinates,[10,20,15],width=0.5,label=\"Current_year\",tick_label=[\"Gold\",\"Platinum\",\"Silver\"])\n",
    "plt.bar(x_coordinates+0.5,[20,10,12],width=0.5,label=\"Next_year\",color = \"red\")\n",
    "\n",
    "plt.title(\"Metal price comparison\")\n",
    "\n",
    "plt.xlabel(\"Metals\")\n",
    "plt.ylabel(\"Price\")\n",
    "\n",
    "plt.legend()\n",
    "# important by default the width of each bar graph is 1\n",
    "\n",
    "# adding limit to y_axis\n",
    "plt.ylim(0,40)"
   ]
  },
  {
   "cell_type": "code",
   "execution_count": 26,
   "id": "1c09693a",
   "metadata": {
    "collapsed": true
   },
   "outputs": [
    {
     "data": {
      "text/plain": [
       "['Solarize_Light2',\n",
       " '_classic_test_patch',\n",
       " 'bmh',\n",
       " 'classic',\n",
       " 'dark_background',\n",
       " 'fast',\n",
       " 'fivethirtyeight',\n",
       " 'ggplot',\n",
       " 'grayscale',\n",
       " 'seaborn',\n",
       " 'seaborn-bright',\n",
       " 'seaborn-colorblind',\n",
       " 'seaborn-dark',\n",
       " 'seaborn-dark-palette',\n",
       " 'seaborn-darkgrid',\n",
       " 'seaborn-deep',\n",
       " 'seaborn-muted',\n",
       " 'seaborn-notebook',\n",
       " 'seaborn-paper',\n",
       " 'seaborn-pastel',\n",
       " 'seaborn-poster',\n",
       " 'seaborn-talk',\n",
       " 'seaborn-ticks',\n",
       " 'seaborn-white',\n",
       " 'seaborn-whitegrid',\n",
       " 'tableau-colorblind10']"
      ]
     },
     "execution_count": 26,
     "metadata": {},
     "output_type": "execute_result"
    }
   ],
   "source": [
    "plt.style.available"
   ]
  },
  {
   "cell_type": "code",
   "execution_count": null,
   "id": "743fe09b",
   "metadata": {},
   "outputs": [],
   "source": []
  }
 ],
 "metadata": {
  "kernelspec": {
   "display_name": "Python 3",
   "language": "python",
   "name": "python3"
  },
  "language_info": {
   "codemirror_mode": {
    "name": "ipython",
    "version": 3
   },
   "file_extension": ".py",
   "mimetype": "text/x-python",
   "name": "python",
   "nbconvert_exporter": "python",
   "pygments_lexer": "ipython3",
   "version": "3.8.8"
  }
 },
 "nbformat": 4,
 "nbformat_minor": 5
}
