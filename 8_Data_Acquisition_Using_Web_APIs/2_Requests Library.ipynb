{
 "cells": [
  {
   "cell_type": "markdown",
   "id": "5e0c2e7f",
   "metadata": {},
   "source": [
    "### Requests Library\n",
    "* Most Popular Python Library\n",
    "* Wrapper over Urllib\n",
    "* Works well with Python 3"
   ]
  },
  {
   "cell_type": "markdown",
   "id": "224d45ca",
   "metadata": {},
   "source": [
    "### Links I used to learn it...\n",
    "* [How to Write Python Scripts to Analyze JSON APIs and Sort Results](https://www.youtube.com/watch?v=1lxrb_ezP-g&list=RDCMUCCezIgC97PvUuR4_gbFUs5g&index=10)\n",
    "* [Python Tutorial: Web Scraping with Requests-HTML](https://www.youtube.com/watch?v=a6fIbtFB46g&list=RDCMUCCezIgC97PvUuR4_gbFUs5g&index=11)\n",
    "* [Python Requests Tutorial: Request Web Pages, Download Images, POST Data, Read JSON, and More](https://www.youtube.com/watch?v=tb8gHvYlCFs&list=RDCMUCCezIgC97PvUuR4_gbFUs5g&start_radio=1&rv=tb8gHvYlCFs&t=35)"
   ]
  },
  {
   "cell_type": "code",
   "execution_count": null,
   "id": "f4e10bf4",
   "metadata": {},
   "outputs": [],
   "source": []
  },
  {
   "cell_type": "code",
   "execution_count": null,
   "id": "01e6ce16",
   "metadata": {},
   "outputs": [],
   "source": []
  },
  {
   "cell_type": "code",
   "execution_count": null,
   "id": "d2e1085a",
   "metadata": {},
   "outputs": [],
   "source": []
  },
  {
   "cell_type": "code",
   "execution_count": null,
   "id": "fb763514",
   "metadata": {},
   "outputs": [],
   "source": []
  },
  {
   "cell_type": "code",
   "execution_count": null,
   "id": "cfcffdb3",
   "metadata": {},
   "outputs": [],
   "source": []
  }
 ],
 "metadata": {
  "kernelspec": {
   "display_name": "Python 3 (ipykernel)",
   "language": "python",
   "name": "python3"
  },
  "language_info": {
   "codemirror_mode": {
    "name": "ipython",
    "version": 3
   },
   "file_extension": ".py",
   "mimetype": "text/x-python",
   "name": "python",
   "nbconvert_exporter": "python",
   "pygments_lexer": "ipython3",
   "version": "3.9.12"
  }
 },
 "nbformat": 4,
 "nbformat_minor": 5
}
