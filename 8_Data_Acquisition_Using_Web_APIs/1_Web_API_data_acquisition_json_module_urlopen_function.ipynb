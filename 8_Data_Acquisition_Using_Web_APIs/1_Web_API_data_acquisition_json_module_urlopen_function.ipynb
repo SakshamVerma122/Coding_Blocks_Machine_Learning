{
 "cells": [
  {
   "cell_type": "markdown",
   "id": "feb352a6",
   "metadata": {},
   "source": [
    "### Data Acquisition - API's\n",
    "* Application Programming Interface - Set of routines running over web server.\n",
    "* Connects Application and Database\n",
    "* Specify Data with URL\n",
    "* Retrieve Data and Parse it\n",
    "* API may return data in JSON,XML data format's\n",
    "\n",
    "### JSON\n",
    "* JavaScript Object Notation\n",
    "* Dictionary Like Data-structure:key value pairs\n",
    "* Keys are strings, values can be anything\n",
    "* Easy to read and write\n",
    "\n",
    "### XML\n",
    "* eXtensible Markup Language\n",
    "* Structure similar XML\n",
    "* Custom Tags\n",
    "* No Style\n",
    "\n",
    "### Types of Requests\n",
    "* GET\n",
    "* POST\n",
    "* DELETE\n",
    "* PUT\n",
    "* PATCH\n",
    "\n",
    "* Urllib\n",
    "* Requests"
   ]
  },
  {
   "cell_type": "code",
   "execution_count": null,
   "id": "f7c392f8",
   "metadata": {},
   "outputs": [],
   "source": []
  },
  {
   "cell_type": "code",
   "execution_count": 4,
   "id": "76ec207d",
   "metadata": {},
   "outputs": [],
   "source": [
    "from urllib.request import urlopen"
   ]
  },
  {
   "cell_type": "code",
   "execution_count": 24,
   "id": "8095a269",
   "metadata": {},
   "outputs": [],
   "source": [
    "api_url = \"https://api.openweathermap.org/data/2.5/weather?q=vellore,india&appid=2117059f58a0163207b391f9db408948\""
   ]
  },
  {
   "cell_type": "code",
   "execution_count": 25,
   "id": "b8924030",
   "metadata": {},
   "outputs": [
    {
     "name": "stdout",
     "output_type": "stream",
     "text": [
      "<class 'bytes'>\n"
     ]
    }
   ],
   "source": [
    "url_result = urlopen(api_url)\n",
    "data = url_result.read()\n",
    "print(type(data))"
   ]
  },
  {
   "cell_type": "code",
   "execution_count": 26,
   "id": "f9ae7738",
   "metadata": {},
   "outputs": [
    {
     "data": {
      "text/plain": [
       "b'{\"coord\":{\"lon\":79.1333,\"lat\":12.9333},\"weather\":[{\"id\":803,\"main\":\"Clouds\",\"description\":\"broken clouds\",\"icon\":\"04n\"}],\"base\":\"stations\",\"main\":{\"temp\":301.28,\"feels_like\":303.4,\"temp_min\":301.28,\"temp_max\":301.28,\"pressure\":1007,\"humidity\":65,\"sea_level\":1007,\"grnd_level\":984},\"visibility\":10000,\"wind\":{\"speed\":1.31,\"deg\":187,\"gust\":2.08},\"clouds\":{\"all\":82},\"dt\":1629828866,\"sys\":{\"country\":\"IN\",\"sunrise\":1629765136,\"sunset\":1629809994},\"timezone\":19800,\"id\":1253286,\"name\":\"Vellore\",\"cod\":200}'"
      ]
     },
     "execution_count": 26,
     "metadata": {},
     "output_type": "execute_result"
    }
   ],
   "source": [
    "data"
   ]
  },
  {
   "cell_type": "code",
   "execution_count": 27,
   "id": "e4b29ad7",
   "metadata": {},
   "outputs": [],
   "source": [
    "import json\n",
    "\n",
    "# to convert bytes to json type data\n",
    "json_data = json.loads(data)"
   ]
  },
  {
   "cell_type": "code",
   "execution_count": 28,
   "id": "a09e271d",
   "metadata": {},
   "outputs": [
    {
     "name": "stdout",
     "output_type": "stream",
     "text": [
      "{'coord': {'lon': 79.1333, 'lat': 12.9333}, 'weather': [{'id': 803, 'main': 'Clouds', 'description': 'broken clouds', 'icon': '04n'}], 'base': 'stations', 'main': {'temp': 301.28, 'feels_like': 303.4, 'temp_min': 301.28, 'temp_max': 301.28, 'pressure': 1007, 'humidity': 65, 'sea_level': 1007, 'grnd_level': 984}, 'visibility': 10000, 'wind': {'speed': 1.31, 'deg': 187, 'gust': 2.08}, 'clouds': {'all': 82}, 'dt': 1629828866, 'sys': {'country': 'IN', 'sunrise': 1629765136, 'sunset': 1629809994}, 'timezone': 19800, 'id': 1253286, 'name': 'Vellore', 'cod': 200}\n"
     ]
    }
   ],
   "source": [
    "print(json_data)"
   ]
  },
  {
   "cell_type": "code",
   "execution_count": 29,
   "id": "bf873e0e",
   "metadata": {},
   "outputs": [
    {
     "data": {
      "text/plain": [
       "'Vellore'"
      ]
     },
     "execution_count": 29,
     "metadata": {},
     "output_type": "execute_result"
    }
   ],
   "source": [
    "json_data['name']"
   ]
  },
  {
   "cell_type": "code",
   "execution_count": 30,
   "id": "c91334c4",
   "metadata": {},
   "outputs": [
    {
     "name": "stdout",
     "output_type": "stream",
     "text": [
      "{\"coord\": {\"lon\": 79.1333, \"lat\": 12.9333}, \"weather\": [{\"id\": 803, \"main\": \"Clouds\", \"description\": \"broken clouds\", \"icon\": \"04n\"}], \"base\": \"stations\", \"main\": {\"temp\": 301.28, \"feels_like\": 303.4, \"temp_min\": 301.28, \"temp_max\": 301.28, \"pressure\": 1007, \"humidity\": 65, \"sea_level\": 1007, \"grnd_level\": 984}, \"visibility\": 10000, \"wind\": {\"speed\": 1.31, \"deg\": 187, \"gust\": 2.08}, \"clouds\": {\"all\": 82}, \"dt\": 1629828866, \"sys\": {\"country\": \"IN\", \"sunrise\": 1629765136, \"sunset\": 1629809994}, \"timezone\": 19800, \"id\": 1253286, \"name\": \"Vellore\", \"cod\": 200}\n",
      "<class 'str'>\n"
     ]
    }
   ],
   "source": [
    "# This thing converts it to string\n",
    "json_string = json.dumps(json_data)\n",
    "print(json_string)\n",
    "print(type(json_string))"
   ]
  },
  {
   "cell_type": "code",
   "execution_count": null,
   "id": "a8df06eb",
   "metadata": {},
   "outputs": [],
   "source": []
  }
 ],
 "metadata": {
  "kernelspec": {
   "display_name": "Python 3",
   "language": "python",
   "name": "python3"
  },
  "language_info": {
   "codemirror_mode": {
    "name": "ipython",
    "version": 3
   },
   "file_extension": ".py",
   "mimetype": "text/x-python",
   "name": "python",
   "nbconvert_exporter": "python",
   "pygments_lexer": "ipython3",
   "version": "3.8.8"
  }
 },
 "nbformat": 4,
 "nbformat_minor": 5
}
